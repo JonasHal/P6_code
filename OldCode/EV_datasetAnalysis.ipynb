{
 "cells": [
  {
   "cell_type": "code",
   "execution_count": 6,
   "metadata": {
    "collapsed": true
   },
   "outputs": [],
   "source": [
    "import pandas as pd\n",
    "from pathlib import Path\n",
    "import plotly.express as px\n",
    "import plotly.graph_objects as go\n",
    "from P6_code.FinishedCode.importData import ImportEV, ImportWeather"
   ]
  },
  {
   "cell_type": "code",
   "execution_count": 8,
   "outputs": [
    {
     "data": {
      "text/plain": "                            _id clusterID            connectionTime  \\\n270    5bc9160af9af8b0dad3c0690      0039 2018-05-01 06:23:18+00:00   \n271    5bc9160af9af8b0dad3c0691      0039 2018-05-01 06:54:34+00:00   \n272    5bc9160af9af8b0dad3c0692      0039 2018-05-01 07:46:04+00:00   \n273    5bc9160af9af8b0dad3c0693      0039 2018-05-01 07:56:29+00:00   \n274    5bc9160af9af8b0dad3c0694      0039 2018-05-01 08:14:50+00:00   \n...                         ...       ...                       ...   \n13108  5c2e8550f9af8b13dab074d9      0039 2018-10-31 21:53:58+00:00   \n13109  5c2e8550f9af8b13dab074da      0039 2018-10-31 22:32:47+00:00   \n13110  5c2e8550f9af8b13dab074db      0039 2018-10-31 22:40:49+00:00   \n13111  5c2e8550f9af8b13dab074dc      0039 2018-10-31 22:53:48+00:00   \n13112  5c2e8550f9af8b13dab074dd      0039 2018-10-31 23:25:56+00:00   \n\n                 disconnectTime          doneChargingTime  kWhDelivered  \\\n270   2018-05-01 18:53:41+00:00 2018-05-01 10:17:07+00:00     13.410000   \n271   2018-05-01 16:15:35+00:00 2018-05-01 08:35:39+00:00      8.618000   \n272   2018-05-01 17:54:07+00:00 2018-05-01 16:57:02+00:00     13.969000   \n273   2018-05-01 14:52:45+00:00 2018-05-01 09:07:56+00:00      6.914000   \n274   2018-05-01 15:51:30+00:00 2018-05-01 13:18:12+00:00     13.785000   \n...                         ...                       ...           ...   \n13108 2018-10-31 22:32:43+00:00 2018-10-31 22:33:42+00:00      3.372000   \n13109 2018-10-31 22:53:40+00:00 2018-10-31 22:53:00+00:00      1.389000   \n13110 2018-11-01 00:57:28+00:00 2018-11-01 00:27:00+00:00      1.225597   \n13111 2018-10-31 23:24:48+00:00 2018-10-31 23:24:16+00:00      0.962000   \n13112 2018-10-31 23:57:35+00:00 2018-10-31 23:56:24+00:00      0.980000   \n\n                                    sessionID siteID spaceID    stationID  \\\n270     2_39_95_27_2018-05-01 13:23:18.374684   0002  CA-319   2-39-95-27   \n271    2_39_79_380_2018-05-01 13:54:33.599590   0002  CA-489  2-39-79-380   \n272    2_39_139_28_2018-05-01 14:46:04.441389   0002  CA-303  2-39-139-28   \n273    2_39_79_378_2018-05-01 14:56:28.908623   0002  CA-326  2-39-79-378   \n274     2_39_88_24_2018-05-01 15:14:50.443137   0002  CA-314   2-39-88-24   \n...                                       ...    ...     ...          ...   \n13108   2_39_90_26_2018-11-01 04:53:58.292201   0002  CA-316   2-39-90-26   \n13109   2_39_90_26_2018-11-01 05:32:47.339653   0002  CA-316   2-39-90-26   \n13110  2_39_78_365_2018-11-01 05:40:48.678916   0002  CA-321  2-39-78-365   \n13111  2_39_90_440_2018-11-01 05:53:48.467907   0002  CA-500  2-39-90-440   \n13112  2_39_131_30_2018-11-01 06:25:55.685229   0002  CA-305  2-39-131-30   \n\n                  timezone userID userInputs  \n270    America/Los_Angeles   None       None  \n271    America/Los_Angeles   None       None  \n272    America/Los_Angeles   None       None  \n273    America/Los_Angeles   None       None  \n274    America/Los_Angeles   None       None  \n...                    ...    ...        ...  \n13108  America/Los_Angeles   None       None  \n13109  America/Los_Angeles   None       None  \n13110  America/Los_Angeles   None       None  \n13111  America/Los_Angeles   None       None  \n13112  America/Los_Angeles   None       None  \n\n[12843 rows x 13 columns]",
      "text/html": "<div>\n<style scoped>\n    .dataframe tbody tr th:only-of-type {\n        vertical-align: middle;\n    }\n\n    .dataframe tbody tr th {\n        vertical-align: top;\n    }\n\n    .dataframe thead th {\n        text-align: right;\n    }\n</style>\n<table border=\"1\" class=\"dataframe\">\n  <thead>\n    <tr style=\"text-align: right;\">\n      <th></th>\n      <th>_id</th>\n      <th>clusterID</th>\n      <th>connectionTime</th>\n      <th>disconnectTime</th>\n      <th>doneChargingTime</th>\n      <th>kWhDelivered</th>\n      <th>sessionID</th>\n      <th>siteID</th>\n      <th>spaceID</th>\n      <th>stationID</th>\n      <th>timezone</th>\n      <th>userID</th>\n      <th>userInputs</th>\n    </tr>\n  </thead>\n  <tbody>\n    <tr>\n      <th>270</th>\n      <td>5bc9160af9af8b0dad3c0690</td>\n      <td>0039</td>\n      <td>2018-05-01 06:23:18+00:00</td>\n      <td>2018-05-01 18:53:41+00:00</td>\n      <td>2018-05-01 10:17:07+00:00</td>\n      <td>13.410000</td>\n      <td>2_39_95_27_2018-05-01 13:23:18.374684</td>\n      <td>0002</td>\n      <td>CA-319</td>\n      <td>2-39-95-27</td>\n      <td>America/Los_Angeles</td>\n      <td>None</td>\n      <td>None</td>\n    </tr>\n    <tr>\n      <th>271</th>\n      <td>5bc9160af9af8b0dad3c0691</td>\n      <td>0039</td>\n      <td>2018-05-01 06:54:34+00:00</td>\n      <td>2018-05-01 16:15:35+00:00</td>\n      <td>2018-05-01 08:35:39+00:00</td>\n      <td>8.618000</td>\n      <td>2_39_79_380_2018-05-01 13:54:33.599590</td>\n      <td>0002</td>\n      <td>CA-489</td>\n      <td>2-39-79-380</td>\n      <td>America/Los_Angeles</td>\n      <td>None</td>\n      <td>None</td>\n    </tr>\n    <tr>\n      <th>272</th>\n      <td>5bc9160af9af8b0dad3c0692</td>\n      <td>0039</td>\n      <td>2018-05-01 07:46:04+00:00</td>\n      <td>2018-05-01 17:54:07+00:00</td>\n      <td>2018-05-01 16:57:02+00:00</td>\n      <td>13.969000</td>\n      <td>2_39_139_28_2018-05-01 14:46:04.441389</td>\n      <td>0002</td>\n      <td>CA-303</td>\n      <td>2-39-139-28</td>\n      <td>America/Los_Angeles</td>\n      <td>None</td>\n      <td>None</td>\n    </tr>\n    <tr>\n      <th>273</th>\n      <td>5bc9160af9af8b0dad3c0693</td>\n      <td>0039</td>\n      <td>2018-05-01 07:56:29+00:00</td>\n      <td>2018-05-01 14:52:45+00:00</td>\n      <td>2018-05-01 09:07:56+00:00</td>\n      <td>6.914000</td>\n      <td>2_39_79_378_2018-05-01 14:56:28.908623</td>\n      <td>0002</td>\n      <td>CA-326</td>\n      <td>2-39-79-378</td>\n      <td>America/Los_Angeles</td>\n      <td>None</td>\n      <td>None</td>\n    </tr>\n    <tr>\n      <th>274</th>\n      <td>5bc9160af9af8b0dad3c0694</td>\n      <td>0039</td>\n      <td>2018-05-01 08:14:50+00:00</td>\n      <td>2018-05-01 15:51:30+00:00</td>\n      <td>2018-05-01 13:18:12+00:00</td>\n      <td>13.785000</td>\n      <td>2_39_88_24_2018-05-01 15:14:50.443137</td>\n      <td>0002</td>\n      <td>CA-314</td>\n      <td>2-39-88-24</td>\n      <td>America/Los_Angeles</td>\n      <td>None</td>\n      <td>None</td>\n    </tr>\n    <tr>\n      <th>...</th>\n      <td>...</td>\n      <td>...</td>\n      <td>...</td>\n      <td>...</td>\n      <td>...</td>\n      <td>...</td>\n      <td>...</td>\n      <td>...</td>\n      <td>...</td>\n      <td>...</td>\n      <td>...</td>\n      <td>...</td>\n      <td>...</td>\n    </tr>\n    <tr>\n      <th>13108</th>\n      <td>5c2e8550f9af8b13dab074d9</td>\n      <td>0039</td>\n      <td>2018-10-31 21:53:58+00:00</td>\n      <td>2018-10-31 22:32:43+00:00</td>\n      <td>2018-10-31 22:33:42+00:00</td>\n      <td>3.372000</td>\n      <td>2_39_90_26_2018-11-01 04:53:58.292201</td>\n      <td>0002</td>\n      <td>CA-316</td>\n      <td>2-39-90-26</td>\n      <td>America/Los_Angeles</td>\n      <td>None</td>\n      <td>None</td>\n    </tr>\n    <tr>\n      <th>13109</th>\n      <td>5c2e8550f9af8b13dab074da</td>\n      <td>0039</td>\n      <td>2018-10-31 22:32:47+00:00</td>\n      <td>2018-10-31 22:53:40+00:00</td>\n      <td>2018-10-31 22:53:00+00:00</td>\n      <td>1.389000</td>\n      <td>2_39_90_26_2018-11-01 05:32:47.339653</td>\n      <td>0002</td>\n      <td>CA-316</td>\n      <td>2-39-90-26</td>\n      <td>America/Los_Angeles</td>\n      <td>None</td>\n      <td>None</td>\n    </tr>\n    <tr>\n      <th>13110</th>\n      <td>5c2e8550f9af8b13dab074db</td>\n      <td>0039</td>\n      <td>2018-10-31 22:40:49+00:00</td>\n      <td>2018-11-01 00:57:28+00:00</td>\n      <td>2018-11-01 00:27:00+00:00</td>\n      <td>1.225597</td>\n      <td>2_39_78_365_2018-11-01 05:40:48.678916</td>\n      <td>0002</td>\n      <td>CA-321</td>\n      <td>2-39-78-365</td>\n      <td>America/Los_Angeles</td>\n      <td>None</td>\n      <td>None</td>\n    </tr>\n    <tr>\n      <th>13111</th>\n      <td>5c2e8550f9af8b13dab074dc</td>\n      <td>0039</td>\n      <td>2018-10-31 22:53:48+00:00</td>\n      <td>2018-10-31 23:24:48+00:00</td>\n      <td>2018-10-31 23:24:16+00:00</td>\n      <td>0.962000</td>\n      <td>2_39_90_440_2018-11-01 05:53:48.467907</td>\n      <td>0002</td>\n      <td>CA-500</td>\n      <td>2-39-90-440</td>\n      <td>America/Los_Angeles</td>\n      <td>None</td>\n      <td>None</td>\n    </tr>\n    <tr>\n      <th>13112</th>\n      <td>5c2e8550f9af8b13dab074dd</td>\n      <td>0039</td>\n      <td>2018-10-31 23:25:56+00:00</td>\n      <td>2018-10-31 23:57:35+00:00</td>\n      <td>2018-10-31 23:56:24+00:00</td>\n      <td>0.980000</td>\n      <td>2_39_131_30_2018-11-01 06:25:55.685229</td>\n      <td>0002</td>\n      <td>CA-305</td>\n      <td>2-39-131-30</td>\n      <td>America/Los_Angeles</td>\n      <td>None</td>\n      <td>None</td>\n    </tr>\n  </tbody>\n</table>\n<p>12843 rows × 13 columns</p>\n</div>"
     },
     "execution_count": 8,
     "metadata": {},
     "output_type": "execute_result"
    }
   ],
   "source": [
    "data = ImportEV().getCaltech('2018-05-01', '2018-11-01')\n",
    "data"
   ],
   "metadata": {
    "collapsed": false,
    "pycharm": {
     "name": "#%%\n"
    }
   }
  },
  {
   "cell_type": "code",
   "execution_count": null,
   "outputs": [],
   "source": [
    "data = data[(data.connectionTime > '2018-05-01') & (data.connectionTime < '2018-11-01')]\n",
    "data.reset_index(drop = True, inplace = True)\n",
    "data"
   ],
   "metadata": {
    "collapsed": false,
    "pycharm": {
     "name": "#%%\n"
    }
   }
  },
  {
   "cell_type": "markdown",
   "source": [
    "# Consumer Behavior"
   ],
   "metadata": {
    "collapsed": false
   }
  },
  {
   "cell_type": "code",
   "execution_count": null,
   "outputs": [],
   "source": [
    "ConnectionTime = pd.Series(range(len(data)), index=data[\"connectionTime\"]).resample(\"h\").count()\n",
    "ct_mean = ConnectionTime.groupby(ConnectionTime.index.hour).mean()\n",
    "ct_mean = ct_mean/sum(ct_mean)*100\n",
    "ct_mean"
   ],
   "metadata": {
    "collapsed": false,
    "pycharm": {
     "name": "#%%\n"
    }
   }
  },
  {
   "cell_type": "code",
   "execution_count": null,
   "outputs": [],
   "source": [
    "disconnectTime = pd.Series(range(len(data)), index=data[\"disconnectTime\"]).resample(\"h\").count()\n",
    "dt_mean = disconnectTime.groupby(disconnectTime.index.hour).mean()\n",
    "dt_mean = dt_mean/sum(dt_mean)*100\n",
    "dt_mean"
   ],
   "metadata": {
    "collapsed": false,
    "pycharm": {
     "name": "#%%\n"
    }
   }
  },
  {
   "cell_type": "code",
   "execution_count": null,
   "outputs": [],
   "source": [
    "ct_quartiles = ConnectionTime.groupby(ConnectionTime.index.hour).quantile([0.25, 0.50, 0.75])\n",
    "ct_quartiles"
   ],
   "metadata": {
    "collapsed": false,
    "pycharm": {
     "name": "#%%\n"
    }
   }
  },
  {
   "cell_type": "code",
   "execution_count": null,
   "outputs": [],
   "source": [
    "dt_quartiles = disconnectTime.groupby(disconnectTime.index.hour).quantile([0.25, 0.50, 0.75])\n",
    "dt_quartiles"
   ],
   "metadata": {
    "collapsed": false,
    "pycharm": {
     "name": "#%%\n"
    }
   }
  },
  {
   "cell_type": "code",
   "execution_count": null,
   "outputs": [],
   "source": [
    "dt_quartiles[0][0.50]"
   ],
   "metadata": {
    "collapsed": false,
    "pycharm": {
     "name": "#%%\n"
    }
   }
  },
  {
   "cell_type": "markdown",
   "source": [
    "# Charging Time Stuff"
   ],
   "metadata": {
    "collapsed": false
   }
  },
  {
   "cell_type": "code",
   "execution_count": null,
   "outputs": [],
   "source": [
    "data[\"chargingTime\"] = data[\"doneChargingTime\"] - data[\"connectionTime\"]\n",
    "data[\"chargingTime\"]"
   ],
   "metadata": {
    "collapsed": false,
    "pycharm": {
     "name": "#%%\n"
    }
   }
  },
  {
   "cell_type": "code",
   "execution_count": null,
   "outputs": [],
   "source": [
    "#data[\"spaceID\"].unique()\n",
    "data[\"userID\"].count()"
   ],
   "metadata": {
    "collapsed": false,
    "pycharm": {
     "name": "#%%\n"
    }
   }
  },
  {
   "cell_type": "code",
   "execution_count": null,
   "outputs": [],
   "source": [
    "len(pd.unique(data[\"userID\"]))"
   ],
   "metadata": {
    "collapsed": false,
    "pycharm": {
     "name": "#%%\n"
    }
   }
  },
  {
   "cell_type": "code",
   "execution_count": null,
   "outputs": [],
   "source": [
    "fig = go.Figure()\n",
    "fig.add_trace(go.Bar(x=ct_mean.index, y=ct_mean, error_y=dict(type='data', array=ct_quartiles.loc[:, 0.75] - ct_quartiles.loc[:, 0.50], arrayminus=ct_quartiles.loc[:, 0.50] - ct_quartiles.loc[:, 0.25]) ,name='Connection time'))\n",
    "fig.add_trace(go.Bar(x=dt_mean.index, y=(-1)*dt_mean, error_y=dict(type='data', array=dt_quartiles.loc[:, 0.75] - dt_quartiles.loc[:, 0.50], arrayminus=dt_quartiles.loc[:, 0.50] - dt_quartiles.loc[:, 0.25]), name='Disconnection time'))\n",
    "\n",
    "fig.update_layout(barmode='relative')\n",
    "fig.show()"
   ],
   "metadata": {
    "collapsed": false,
    "pycharm": {
     "name": "#%%\n"
    }
   }
  },
  {
   "cell_type": "code",
   "execution_count": null,
   "outputs": [],
   "source": [
    "data.describe()"
   ],
   "metadata": {
    "collapsed": false,
    "pycharm": {
     "name": "#%%\n"
    }
   }
  },
  {
   "cell_type": "code",
   "execution_count": null,
   "outputs": [],
   "source": [
    "min(data[\"chargingTime\"])"
   ],
   "metadata": {
    "collapsed": false,
    "pycharm": {
     "name": "#%%\n"
    }
   }
  },
  {
   "cell_type": "code",
   "execution_count": null,
   "outputs": [],
   "source": [
    "data.sort_values(by=\"chargingTime\")"
   ],
   "metadata": {
    "collapsed": false,
    "pycharm": {
     "name": "#%%\n"
    }
   }
  },
  {
   "cell_type": "code",
   "execution_count": null,
   "outputs": [],
   "source": [
    "data[\"clusterID\"] = len(data)*[39]\n",
    "data[\"clusterID\"].value_counts()"
   ],
   "metadata": {
    "collapsed": false,
    "pycharm": {
     "name": "#%%\n"
    }
   }
  },
  {
   "cell_type": "code",
   "execution_count": null,
   "outputs": [],
   "source": [
    "data.loc[\"siteID\"] = len(data) * [2]\n",
    "data[\"siteID\"].value_counts()"
   ],
   "metadata": {
    "collapsed": false,
    "pycharm": {
     "name": "#%%\n"
    }
   }
  },
  {
   "cell_type": "code",
   "execution_count": null,
   "outputs": [],
   "source": [
    "data[\"spaceID\"].value_counts()"
   ],
   "metadata": {
    "collapsed": false,
    "pycharm": {
     "name": "#%%\n"
    }
   }
  },
  {
   "cell_type": "code",
   "execution_count": null,
   "outputs": [],
   "source": [
    "data[data[\"spaceID\"] == 'CA-148']"
   ],
   "metadata": {
    "collapsed": false,
    "pycharm": {
     "name": "#%%\n"
    }
   }
  }
 ],
 "metadata": {
  "kernelspec": {
   "display_name": "Python 3",
   "language": "python",
   "name": "python3"
  },
  "language_info": {
   "codemirror_mode": {
    "name": "ipython",
    "version": 2
   },
   "file_extension": ".py",
   "mimetype": "text/x-python",
   "name": "python",
   "nbconvert_exporter": "python",
   "pygments_lexer": "ipython2",
   "version": "2.7.6"
  }
 },
 "nbformat": 4,
 "nbformat_minor": 0
}