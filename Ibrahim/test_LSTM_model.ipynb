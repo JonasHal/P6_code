{
 "cells": [
  {
   "cell_type": "code",
   "execution_count": 41,
   "outputs": [],
   "source": [
    "import pandas as pd\n",
    "import numpy as np\n",
    "import matplotlib.pyplot as plt\n",
    "import math\n",
    "from FinishedCode.importData import ImportEV\n",
    "from FinishedCode.dataTransformation import createUser\n",
    "from keras.models import Sequential\n",
    "from keras.layers import Dense\n",
    "from keras.layers import LSTM\n",
    "from sklearn.model_selection import train_test_split\n",
    "from keras.layers import Dropout\n",
    "from sklearn.metrics import mean_squared_error\n",
    "from sklearn.preprocessing import StandardScaler, MinMaxScaler"
   ],
   "metadata": {
    "collapsed": false,
    "pycharm": {
     "name": "#%%\n"
    }
   }
  },
  {
   "cell_type": "code",
   "execution_count": 42,
   "outputs": [
    {
     "data": {
      "text/plain": "                            _id clusterID            connectionTime  \\\n3074   5bc92374f9af8b0dc677c276      0039 2018-06-18 07:33:04+00:00   \n3143   5bc923c7f9af8b0dc677c2bb      0039 2018-06-19 07:30:27+00:00   \n3941   5bc92770f9af8b0dc677c5d9      0039 2018-07-02 06:52:23+00:00   \n4367   5bc92926f9af8b0dc677c783      0039 2018-07-09 13:07:37+00:00   \n5923   5bc92f69f9af8b0dc677cd97      0039 2018-07-31 16:54:07+00:00   \n...                         ...       ...                       ...   \n13462  5c2e86e4f9af8b13dab0763b      0039 2018-11-08 08:05:51+00:00   \n13466  5c2e86e4f9af8b13dab0763f      0039 2018-11-08 08:50:18+00:00   \n13479  5c2e86e4f9af8b13dab0764c      0039 2018-11-08 09:41:48+00:00   \n13480  5c2e86e4f9af8b13dab0764d      0039 2018-11-08 09:46:08+00:00   \n13485  5c2e86e4f9af8b13dab07652      0039 2018-11-08 10:22:44+00:00   \n\n                 disconnectTime          doneChargingTime  kWhDelivered  \\\n3074  2018-06-18 17:53:28+00:00 2018-06-18 17:22:40+00:00        19.900   \n3143  2018-06-19 17:40:44+00:00 2018-06-19 14:44:19+00:00        24.048   \n3941  2018-07-02 16:05:39+00:00 2018-07-02 12:25:06+00:00        10.411   \n4367  2018-07-09 19:08:23+00:00 2018-07-09 15:46:45+00:00        17.077   \n5923  2018-07-31 18:36:47+00:00 2018-07-31 18:36:34+00:00         8.928   \n...                         ...                       ...           ...   \n13462 2018-11-08 12:40:50+00:00 2018-11-08 09:21:49+00:00         5.478   \n13466 2018-11-08 17:48:58+00:00 2018-11-08 14:00:52+00:00        21.283   \n13479 2018-11-08 18:32:10+00:00 2018-11-08 11:41:28+00:00         6.717   \n13480 2018-11-08 20:54:21+00:00 2018-11-08 10:44:59+00:00         1.898   \n13485 2018-11-08 15:43:03+00:00 2018-11-08 12:14:48+00:00         7.247   \n\n                                     sessionID siteID spaceID     stationID  \\\n3074    2_39_138_29_2018-06-18 14:33:03.983186   0002  CA-304   2-39-138-29   \n3143    2_39_138_29_2018-06-19 14:30:26.698782   0002  CA-304   2-39-138-29   \n3941    2_39_79_380_2018-07-02 13:52:22.922710   0002  CA-489   2-39-79-380   \n4367   2_39_123_557_2018-07-09 20:07:36.746469   0002  CA-503  2-39-123-557   \n5923    2_39_131_30_2018-07-31 23:54:07.294444   0002  CA-305   2-39-131-30   \n...                                        ...    ...     ...           ...   \n13462   2_39_79_380_2018-11-08 15:05:50.914103   0002  CA-489   2-39-79-380   \n13466   2_39_79_376_2018-11-08 15:50:17.561029   0002  CA-324   2-39-79-376   \n13479   2_39_138_29_2018-11-08 16:41:47.968540   0002  CA-304   2-39-138-29   \n13480   2_39_92_436_2018-11-08 16:46:08.414528   0002  CA-318   2-39-92-436   \n13485   2_39_126_20_2018-11-08 17:22:44.174963   0002  CA-310   2-39-126-20   \n\n                  timezone     userID  \\\n3074   America/Los_Angeles  000000061   \n3143   America/Los_Angeles  000000061   \n3941   America/Los_Angeles  000000066   \n4367   America/Los_Angeles  000000022   \n5923   America/Los_Angeles  000000216   \n...                    ...        ...   \n13462  America/Los_Angeles  000000066   \n13466  America/Los_Angeles  000000234   \n13479  America/Los_Angeles  000000559   \n13480  America/Los_Angeles  000000324   \n13485  America/Los_Angeles  000000068   \n\n                                              userInputs  \n3074   [{'WhPerMile': 250, 'kWhRequested': 5.0, 'mile...  \n3143   [{'WhPerMile': 250, 'kWhRequested': 25.0, 'mil...  \n3941   [{'WhPerMile': 400, 'kWhRequested': 28.0, 'mil...  \n4367   [{'WhPerMile': 350, 'kWhRequested': 21.0, 'mil...  \n5923   [{'WhPerMile': 250, 'kWhRequested': 25.0, 'mil...  \n...                                                  ...  \n13462  [{'WhPerMile': 313, 'kWhRequested': 12.52, 'mi...  \n13466  [{'WhPerMile': 250, 'kWhRequested': 25.0, 'mil...  \n13479  [{'WhPerMile': 313, 'kWhRequested': 9.39, 'mil...  \n13480  [{'WhPerMile': 400, 'kWhRequested': 6.0, 'mile...  \n13485  [{'WhPerMile': 250, 'kWhRequested': 7.5, 'mile...  \n\n[396 rows x 13 columns]",
      "text/html": "<div>\n<style scoped>\n    .dataframe tbody tr th:only-of-type {\n        vertical-align: middle;\n    }\n\n    .dataframe tbody tr th {\n        vertical-align: top;\n    }\n\n    .dataframe thead th {\n        text-align: right;\n    }\n</style>\n<table border=\"1\" class=\"dataframe\">\n  <thead>\n    <tr style=\"text-align: right;\">\n      <th></th>\n      <th>_id</th>\n      <th>clusterID</th>\n      <th>connectionTime</th>\n      <th>disconnectTime</th>\n      <th>doneChargingTime</th>\n      <th>kWhDelivered</th>\n      <th>sessionID</th>\n      <th>siteID</th>\n      <th>spaceID</th>\n      <th>stationID</th>\n      <th>timezone</th>\n      <th>userID</th>\n      <th>userInputs</th>\n    </tr>\n  </thead>\n  <tbody>\n    <tr>\n      <th>3074</th>\n      <td>5bc92374f9af8b0dc677c276</td>\n      <td>0039</td>\n      <td>2018-06-18 07:33:04+00:00</td>\n      <td>2018-06-18 17:53:28+00:00</td>\n      <td>2018-06-18 17:22:40+00:00</td>\n      <td>19.900</td>\n      <td>2_39_138_29_2018-06-18 14:33:03.983186</td>\n      <td>0002</td>\n      <td>CA-304</td>\n      <td>2-39-138-29</td>\n      <td>America/Los_Angeles</td>\n      <td>000000061</td>\n      <td>[{'WhPerMile': 250, 'kWhRequested': 5.0, 'mile...</td>\n    </tr>\n    <tr>\n      <th>3143</th>\n      <td>5bc923c7f9af8b0dc677c2bb</td>\n      <td>0039</td>\n      <td>2018-06-19 07:30:27+00:00</td>\n      <td>2018-06-19 17:40:44+00:00</td>\n      <td>2018-06-19 14:44:19+00:00</td>\n      <td>24.048</td>\n      <td>2_39_138_29_2018-06-19 14:30:26.698782</td>\n      <td>0002</td>\n      <td>CA-304</td>\n      <td>2-39-138-29</td>\n      <td>America/Los_Angeles</td>\n      <td>000000061</td>\n      <td>[{'WhPerMile': 250, 'kWhRequested': 25.0, 'mil...</td>\n    </tr>\n    <tr>\n      <th>3941</th>\n      <td>5bc92770f9af8b0dc677c5d9</td>\n      <td>0039</td>\n      <td>2018-07-02 06:52:23+00:00</td>\n      <td>2018-07-02 16:05:39+00:00</td>\n      <td>2018-07-02 12:25:06+00:00</td>\n      <td>10.411</td>\n      <td>2_39_79_380_2018-07-02 13:52:22.922710</td>\n      <td>0002</td>\n      <td>CA-489</td>\n      <td>2-39-79-380</td>\n      <td>America/Los_Angeles</td>\n      <td>000000066</td>\n      <td>[{'WhPerMile': 400, 'kWhRequested': 28.0, 'mil...</td>\n    </tr>\n    <tr>\n      <th>4367</th>\n      <td>5bc92926f9af8b0dc677c783</td>\n      <td>0039</td>\n      <td>2018-07-09 13:07:37+00:00</td>\n      <td>2018-07-09 19:08:23+00:00</td>\n      <td>2018-07-09 15:46:45+00:00</td>\n      <td>17.077</td>\n      <td>2_39_123_557_2018-07-09 20:07:36.746469</td>\n      <td>0002</td>\n      <td>CA-503</td>\n      <td>2-39-123-557</td>\n      <td>America/Los_Angeles</td>\n      <td>000000022</td>\n      <td>[{'WhPerMile': 350, 'kWhRequested': 21.0, 'mil...</td>\n    </tr>\n    <tr>\n      <th>5923</th>\n      <td>5bc92f69f9af8b0dc677cd97</td>\n      <td>0039</td>\n      <td>2018-07-31 16:54:07+00:00</td>\n      <td>2018-07-31 18:36:47+00:00</td>\n      <td>2018-07-31 18:36:34+00:00</td>\n      <td>8.928</td>\n      <td>2_39_131_30_2018-07-31 23:54:07.294444</td>\n      <td>0002</td>\n      <td>CA-305</td>\n      <td>2-39-131-30</td>\n      <td>America/Los_Angeles</td>\n      <td>000000216</td>\n      <td>[{'WhPerMile': 250, 'kWhRequested': 25.0, 'mil...</td>\n    </tr>\n    <tr>\n      <th>...</th>\n      <td>...</td>\n      <td>...</td>\n      <td>...</td>\n      <td>...</td>\n      <td>...</td>\n      <td>...</td>\n      <td>...</td>\n      <td>...</td>\n      <td>...</td>\n      <td>...</td>\n      <td>...</td>\n      <td>...</td>\n      <td>...</td>\n    </tr>\n    <tr>\n      <th>13462</th>\n      <td>5c2e86e4f9af8b13dab0763b</td>\n      <td>0039</td>\n      <td>2018-11-08 08:05:51+00:00</td>\n      <td>2018-11-08 12:40:50+00:00</td>\n      <td>2018-11-08 09:21:49+00:00</td>\n      <td>5.478</td>\n      <td>2_39_79_380_2018-11-08 15:05:50.914103</td>\n      <td>0002</td>\n      <td>CA-489</td>\n      <td>2-39-79-380</td>\n      <td>America/Los_Angeles</td>\n      <td>000000066</td>\n      <td>[{'WhPerMile': 313, 'kWhRequested': 12.52, 'mi...</td>\n    </tr>\n    <tr>\n      <th>13466</th>\n      <td>5c2e86e4f9af8b13dab0763f</td>\n      <td>0039</td>\n      <td>2018-11-08 08:50:18+00:00</td>\n      <td>2018-11-08 17:48:58+00:00</td>\n      <td>2018-11-08 14:00:52+00:00</td>\n      <td>21.283</td>\n      <td>2_39_79_376_2018-11-08 15:50:17.561029</td>\n      <td>0002</td>\n      <td>CA-324</td>\n      <td>2-39-79-376</td>\n      <td>America/Los_Angeles</td>\n      <td>000000234</td>\n      <td>[{'WhPerMile': 250, 'kWhRequested': 25.0, 'mil...</td>\n    </tr>\n    <tr>\n      <th>13479</th>\n      <td>5c2e86e4f9af8b13dab0764c</td>\n      <td>0039</td>\n      <td>2018-11-08 09:41:48+00:00</td>\n      <td>2018-11-08 18:32:10+00:00</td>\n      <td>2018-11-08 11:41:28+00:00</td>\n      <td>6.717</td>\n      <td>2_39_138_29_2018-11-08 16:41:47.968540</td>\n      <td>0002</td>\n      <td>CA-304</td>\n      <td>2-39-138-29</td>\n      <td>America/Los_Angeles</td>\n      <td>000000559</td>\n      <td>[{'WhPerMile': 313, 'kWhRequested': 9.39, 'mil...</td>\n    </tr>\n    <tr>\n      <th>13480</th>\n      <td>5c2e86e4f9af8b13dab0764d</td>\n      <td>0039</td>\n      <td>2018-11-08 09:46:08+00:00</td>\n      <td>2018-11-08 20:54:21+00:00</td>\n      <td>2018-11-08 10:44:59+00:00</td>\n      <td>1.898</td>\n      <td>2_39_92_436_2018-11-08 16:46:08.414528</td>\n      <td>0002</td>\n      <td>CA-318</td>\n      <td>2-39-92-436</td>\n      <td>America/Los_Angeles</td>\n      <td>000000324</td>\n      <td>[{'WhPerMile': 400, 'kWhRequested': 6.0, 'mile...</td>\n    </tr>\n    <tr>\n      <th>13485</th>\n      <td>5c2e86e4f9af8b13dab07652</td>\n      <td>0039</td>\n      <td>2018-11-08 10:22:44+00:00</td>\n      <td>2018-11-08 15:43:03+00:00</td>\n      <td>2018-11-08 12:14:48+00:00</td>\n      <td>7.247</td>\n      <td>2_39_126_20_2018-11-08 17:22:44.174963</td>\n      <td>0002</td>\n      <td>CA-310</td>\n      <td>2-39-126-20</td>\n      <td>America/Los_Angeles</td>\n      <td>000000068</td>\n      <td>[{'WhPerMile': 250, 'kWhRequested': 7.5, 'mile...</td>\n    </tr>\n  </tbody>\n</table>\n<p>396 rows × 13 columns</p>\n</div>"
     },
     "execution_count": 42,
     "metadata": {},
     "output_type": "execute_result"
    }
   ],
   "source": [
    "start, end = \"2018-06-01\", \"2018-11-09\"\n",
    "df_train = ImportEV().getCaltech(start_date=start, end_date=end, removeUsers=True, userSampleLimit=25)"
   ],
   "metadata": {
    "collapsed": false,
    "pycharm": {
     "name": "#%%\n"
    }
   }
  },
  {
   "cell_type": "code",
   "execution_count": 43,
   "outputs": [
    {
     "data": {
      "text/plain": "                            _id clusterID            connectionTime  \\\n10172  5bc94053f9af8b0dc677de30      0039 2018-09-24 12:57:01+00:00   \n10237  5bc940b4f9af8b0dc677de71      0039 2018-09-25 08:22:59+00:00   \n10273  5bc940b4f9af8b0dc677de95      0039 2018-09-25 13:07:08+00:00   \n10346  5bc94120f9af8b0dc677dede      0039 2018-09-26 08:53:08+00:00   \n10440  5bc94185f9af8b0dc677df3c      0039 2018-09-27 08:49:04+00:00   \n10531  5bc941ddf9af8b0dc677df97      0039 2018-09-28 08:46:15+00:00   \n10726  5be2fafef9af8b2b0edf9ea7        39 2018-10-01 08:48:12+00:00   \n10751  5be2fafef9af8b2b0edf9ec0        39 2018-10-01 13:50:50+00:00   \n10811  5be2fb55f9af8b2b0edf9efc        39 2018-10-02 08:43:04+00:00   \n10913  5be2fba6f9af8b2b0edf9f62        39 2018-10-03 08:37:38+00:00   \n11002  5be2fbf8f9af8b2b0edf9fbb        39 2018-10-04 08:39:31+00:00   \n11084  5be2fc47f9af8b2b0edfa00d        39 2018-10-05 08:07:19+00:00   \n11274  5be2fcd7f9af8b2b0edfa0cb        39 2018-10-08 08:14:49+00:00   \n11315  5be2fcd7f9af8b2b0edfa0f4        39 2018-10-08 13:40:39+00:00   \n11380  5be2fd24f9af8b2b0edfa135        39 2018-10-09 08:45:24+00:00   \n11460  5be2fd71f9af8b2b0edfa185        39 2018-10-10 08:33:00+00:00   \n11541  5be2fdcaf9af8b2b0edfa1d6        39 2018-10-11 08:28:18+00:00   \n11822  5be2febbf9af8b2b0edfa2ef        39 2018-10-15 08:40:54+00:00   \n11892  5be2fef3f9af8b2b0edfa335        39 2018-10-16 08:38:25+00:00   \n11975  5be2ff38f9af8b2b0edfa388        39 2018-10-17 08:39:34+00:00   \n12054  5be2ff7df9af8b2b0edfa3d7        39 2018-10-18 08:43:44+00:00   \n12140  5be2ffcbf9af8b2b0edfa42d        39 2018-10-19 08:38:59+00:00   \n12164  5be2ffcbf9af8b2b0edfa445        39 2018-10-19 13:42:31+00:00   \n12309  5be3006cf9af8b2b0edfa4d6        39 2018-10-22 08:45:24+00:00   \n12395  5be300b7f9af8b2b0edfa52c        39 2018-10-23 08:45:28+00:00   \n12424  5be300b7f9af8b2b0edfa549        39 2018-10-23 13:55:39+00:00   \n12579  5be4e347f9af8b3175206d6c        39 2018-10-25 08:43:13+00:00   \n12659  5be634cdf9af8b34ee236847        39 2018-10-26 08:39:43+00:00   \n13141  5c2e858ef9af8b13dab074fa      0039 2018-11-01 09:12:39+00:00   \n13191  5c2e85bef9af8b13dab0752c      0039 2018-11-02 08:37:35+00:00   \n13216  5c2e85bef9af8b13dab07545      0039 2018-11-02 13:10:56+00:00   \n13298  5c2e8629f9af8b13dab07597      0039 2018-11-05 09:32:11+00:00   \n13378  5c2e8674f9af8b13dab075e7      0039 2018-11-06 10:09:03+00:00   \n13400  5c2e8674f9af8b13dab075fd      0039 2018-11-06 15:18:40+00:00   \n\n                 disconnectTime          doneChargingTime  kWhDelivered  \\\n10172 2018-09-24 17:41:43+00:00 2018-09-24 13:48:34+00:00      1.464000   \n10237 2018-09-25 12:06:01+00:00 2018-09-25 10:34:59+00:00      4.647000   \n10273 2018-09-25 19:52:16+00:00 2018-09-25 13:46:48+00:00      2.492660   \n10346 2018-09-26 12:56:29+00:00 2018-09-26 11:10:40+00:00      4.434000   \n10440 2018-09-27 18:52:55+00:00 2018-09-27 11:01:12+00:00      4.744000   \n10531 2018-09-28 18:21:16+00:00 2018-09-28 10:50:46+00:00      5.370000   \n10726 2018-10-01 12:48:54+00:00 2018-10-01 11:09:12+00:00      4.906000   \n10751 2018-10-01 18:01:13+00:00 2018-10-01 14:36:32+00:00      1.572000   \n10811 2018-10-02 12:33:53+00:00 2018-10-02 10:31:37+00:00      5.025000   \n10913 2018-10-03 19:11:58+00:00 2018-10-03 10:20:25+00:00      4.880000   \n11002 2018-10-04 12:13:14+00:00 2018-10-04 10:26:50+00:00      4.844000   \n11084 2018-10-05 12:24:11+00:00 2018-10-05 09:41:11+00:00      4.813000   \n11274 2018-10-08 12:31:52+00:00 2018-10-08 10:02:31+00:00      5.455000   \n11315 2018-10-08 18:14:12+00:00 2018-10-08 14:18:30+00:00      1.495000   \n11380 2018-10-09 11:52:33+00:00 2018-10-09 11:34:25+00:00      5.778728   \n11460 2018-10-10 19:30:39+00:00 2018-10-10 10:20:26+00:00      4.900000   \n11541 2018-10-11 18:38:51+00:00 2018-10-11 10:16:16+00:00      4.898000   \n11822 2018-10-15 18:37:32+00:00 2018-10-15 10:17:58+00:00      4.700000   \n11892 2018-10-16 12:46:45+00:00 2018-10-16 09:40:56+00:00      5.381000   \n11975 2018-10-17 12:12:19+00:00 2018-10-17 10:22:45+00:00      4.778000   \n12054 2018-10-18 18:34:04+00:00 2018-10-18 10:30:00+00:00      4.995000   \n12140 2018-10-19 12:37:16+00:00 2018-10-19 10:19:09+00:00      4.954000   \n12164 2018-10-19 18:15:24+00:00 2018-10-19 14:23:25+00:00      1.763000   \n12309 2018-10-22 12:45:23+00:00 2018-10-22 10:18:14+00:00      4.837000   \n12395 2018-10-23 12:54:51+00:00 2018-10-23 10:42:45+00:00      4.970000   \n12424 2018-10-23 21:26:40+00:00 2018-10-23 14:25:27+00:00      1.414000   \n12579 2018-10-25 12:56:17+00:00 2018-10-25 10:30:09+00:00      4.810000   \n12659 2018-10-26 13:06:26+00:00 2018-10-26 10:30:10+00:00      5.368000   \n13141 2018-11-01 19:15:08+00:00 2018-11-01 10:49:23+00:00      5.102000   \n13191 2018-11-02 12:07:34+00:00 2018-11-02 10:14:11+00:00      5.070000   \n13216 2018-11-02 18:30:24+00:00 2018-11-02 14:02:09+00:00      1.601000   \n13298 2018-11-05 13:22:55+00:00 2018-11-05 11:02:10+00:00      4.502000   \n13378 2018-11-06 14:12:19+00:00 2018-11-06 11:46:50+00:00      4.977000   \n13400 2018-11-06 19:48:48+00:00 2018-11-06 15:50:15+00:00      1.503000   \n\n                                    sessionID siteID spaceID    stationID  \\\n10172  2_39_79_378_2018-09-24 19:57:00.517293   0002  CA-326  2-39-79-378   \n10237  2_39_131_30_2018-09-25 15:22:58.731565   0002  CA-305  2-39-131-30   \n10273  2_39_78_361_2018-09-25 20:07:07.556648   0002  CA-493  2-39-78-361   \n10346  2_39_124_22_2018-09-26 15:53:08.396167   0002  CA-312  2-39-124-22   \n10440  2_39_124_22_2018-09-27 15:49:04.309550   0002  CA-312  2-39-124-22   \n10531  2_39_124_22_2018-09-28 15:46:15.424408   0002  CA-312  2-39-124-22   \n10726  2_39_89_439_2018-10-01 15:48:11.826083      2  CA-501  2-39-89-439   \n10751   2_39_95_27_2018-10-01 20:50:49.827112      2  CA-319   2-39-95-27   \n10811  2_39_123_23_2018-10-02 15:43:04.061352      2  CA-313  2-39-123-23   \n10913  2_39_138_29_2018-10-03 15:37:38.338676      2  CA-304  2-39-138-29   \n11002  2_39_131_30_2018-10-04 15:39:31.198299      2  CA-305  2-39-131-30   \n11084  2_39_127_19_2018-10-05 15:07:19.049388      2  CA-309  2-39-127-19   \n11274  2_39_129_17_2018-10-08 15:14:48.548313      2  CA-307  2-39-129-17   \n11315  2_39_79_383_2018-10-08 20:40:38.967405      2  CA-492  2-39-79-383   \n11380  2_39_78_363_2018-10-09 15:45:24.072882      2  CA-320  2-39-78-363   \n11460  2_39_127_19_2018-10-10 15:32:59.883045      2  CA-309  2-39-127-19   \n11541  2_39_139_28_2018-10-11 15:28:18.131873      2  CA-303  2-39-139-28   \n11822  2_39_130_31_2018-10-15 15:40:54.456572      2  CA-306  2-39-130-31   \n11892  2_39_130_31_2018-10-16 15:38:25.370564      2  CA-306  2-39-130-31   \n11975  2_39_126_20_2018-10-17 15:39:34.336009      2  CA-310  2-39-126-20   \n12054  2_39_126_20_2018-10-18 15:43:44.379380      2  CA-310  2-39-126-20   \n12140   2_39_88_24_2018-10-19 15:38:58.888600      2  CA-314   2-39-88-24   \n12164  2_39_90_440_2018-10-19 20:42:30.822566      2  CA-500  2-39-90-440   \n12309  2_39_131_30_2018-10-22 15:45:23.942220      2  CA-305  2-39-131-30   \n12395  2_39_126_20_2018-10-23 15:45:27.859176      2  CA-310  2-39-126-20   \n12424  2_39_91_437_2018-10-23 20:55:38.866483      2  CA-317  2-39-91-437   \n12579  2_39_126_20_2018-10-25 15:43:13.379956      2  CA-310  2-39-126-20   \n12659  2_39_126_20_2018-10-26 15:39:42.519703      2  CA-310  2-39-126-20   \n13141  2_39_129_17_2018-11-01 16:12:39.127222   0002  CA-307  2-39-129-17   \n13191  2_39_129_17_2018-11-02 15:37:34.937166   0002  CA-307  2-39-129-17   \n13216  2_39_92_442_2018-11-02 20:10:56.159158   0002  CA-498  2-39-92-442   \n13298  2_39_130_31_2018-11-05 16:32:11.226682   0002  CA-306  2-39-130-31   \n13378  2_39_139_28_2018-11-06 17:09:03.209593   0002  CA-303  2-39-139-28   \n13400  2_39_89_439_2018-11-06 22:18:39.857486   0002  CA-501  2-39-89-439   \n\n                  timezone     userID  \\\n10172  America/Los_Angeles  000000562   \n10237  America/Los_Angeles  000000562   \n10273  America/Los_Angeles  000000562   \n10346  America/Los_Angeles  000000562   \n10440  America/Los_Angeles  000000562   \n10531  America/Los_Angeles  000000562   \n10726  America/Los_Angeles  000000562   \n10751  America/Los_Angeles  000000562   \n10811  America/Los_Angeles  000000562   \n10913  America/Los_Angeles  000000562   \n11002  America/Los_Angeles  000000562   \n11084  America/Los_Angeles  000000562   \n11274  America/Los_Angeles  000000562   \n11315  America/Los_Angeles  000000562   \n11380  America/Los_Angeles  000000562   \n11460  America/Los_Angeles  000000562   \n11541  America/Los_Angeles  000000562   \n11822  America/Los_Angeles  000000562   \n11892  America/Los_Angeles  000000562   \n11975  America/Los_Angeles  000000562   \n12054  America/Los_Angeles  000000562   \n12140  America/Los_Angeles  000000562   \n12164  America/Los_Angeles  000000562   \n12309  America/Los_Angeles  000000562   \n12395  America/Los_Angeles  000000562   \n12424  America/Los_Angeles  000000562   \n12579  America/Los_Angeles  000000562   \n12659  America/Los_Angeles  000000562   \n13141  America/Los_Angeles  000000562   \n13191  America/Los_Angeles  000000562   \n13216  America/Los_Angeles  000000562   \n13298  America/Los_Angeles  000000562   \n13378  America/Los_Angeles  000000562   \n13400  America/Los_Angeles  000000562   \n\n                                              userInputs  \n10172  [{'WhPerMile': 333, 'kWhRequested': 6.66, 'mil...  \n10237  [{'WhPerMile': 333, 'kWhRequested': 6.66, 'mil...  \n10273  [{'WhPerMile': 227, 'kWhRequested': 2.27, 'mil...  \n10346  [{'WhPerMile': 227, 'kWhRequested': 6.81, 'mil...  \n10440  [{'WhPerMile': 227, 'kWhRequested': 6.81, 'mil...  \n10531  [{'WhPerMile': 227, 'kWhRequested': 6.81, 'mil...  \n10726  [{'WhPerMile': 227, 'kWhRequested': 6.81, 'mil...  \n10751  [{'WhPerMile': 227, 'kWhRequested': 4.54, 'mil...  \n10811  [{'WhPerMile': 227, 'kWhRequested': 4.54, 'mil...  \n10913  [{'WhPerMile': 227, 'kWhRequested': 6.81, 'mil...  \n11002  [{'WhPerMile': 227, 'kWhRequested': 6.81, 'mil...  \n11084  [{'WhPerMile': 227, 'kWhRequested': 6.81, 'mil...  \n11274  [{'WhPerMile': 227, 'kWhRequested': 6.81, 'mil...  \n11315  [{'WhPerMile': 227, 'kWhRequested': 2.27, 'mil...  \n11380  [{'WhPerMile': 227, 'kWhRequested': 6.81, 'mil...  \n11460  [{'WhPerMile': 227, 'kWhRequested': 6.81, 'mil...  \n11541  [{'WhPerMile': 227, 'kWhRequested': 6.81, 'mil...  \n11822  [{'WhPerMile': 227, 'kWhRequested': 6.81, 'mil...  \n11892  [{'WhPerMile': 227, 'kWhRequested': 6.81, 'mil...  \n11975  [{'WhPerMile': 300, 'kWhRequested': 6.0, 'mile...  \n12054  [{'WhPerMile': 300, 'kWhRequested': 6.0, 'mile...  \n12140  [{'WhPerMile': 300, 'kWhRequested': 6.0, 'mile...  \n12164  [{'WhPerMile': 300, 'kWhRequested': 6.0, 'mile...  \n12309  [{'WhPerMile': 300, 'kWhRequested': 6.0, 'mile...  \n12395  [{'WhPerMile': 300, 'kWhRequested': 6.0, 'mile...  \n12424  [{'WhPerMile': 300, 'kWhRequested': 6.0, 'mile...  \n12579  [{'WhPerMile': 300, 'kWhRequested': 6.0, 'mile...  \n12659  [{'WhPerMile': 300, 'kWhRequested': 6.0, 'mile...  \n13141  [{'WhPerMile': 300, 'kWhRequested': 6.0, 'mile...  \n13191  [{'WhPerMile': 300, 'kWhRequested': 6.0, 'mile...  \n13216  [{'WhPerMile': 300, 'kWhRequested': 6.0, 'mile...  \n13298  [{'WhPerMile': 300, 'kWhRequested': 6.0, 'mile...  \n13378  [{'WhPerMile': 300, 'kWhRequested': 6.0, 'mile...  \n13400  [{'WhPerMile': 300, 'kWhRequested': 6.0, 'mile...  ",
      "text/html": "<div>\n<style scoped>\n    .dataframe tbody tr th:only-of-type {\n        vertical-align: middle;\n    }\n\n    .dataframe tbody tr th {\n        vertical-align: top;\n    }\n\n    .dataframe thead th {\n        text-align: right;\n    }\n</style>\n<table border=\"1\" class=\"dataframe\">\n  <thead>\n    <tr style=\"text-align: right;\">\n      <th></th>\n      <th>_id</th>\n      <th>clusterID</th>\n      <th>connectionTime</th>\n      <th>disconnectTime</th>\n      <th>doneChargingTime</th>\n      <th>kWhDelivered</th>\n      <th>sessionID</th>\n      <th>siteID</th>\n      <th>spaceID</th>\n      <th>stationID</th>\n      <th>timezone</th>\n      <th>userID</th>\n      <th>userInputs</th>\n    </tr>\n  </thead>\n  <tbody>\n    <tr>\n      <th>10172</th>\n      <td>5bc94053f9af8b0dc677de30</td>\n      <td>0039</td>\n      <td>2018-09-24 12:57:01+00:00</td>\n      <td>2018-09-24 17:41:43+00:00</td>\n      <td>2018-09-24 13:48:34+00:00</td>\n      <td>1.464000</td>\n      <td>2_39_79_378_2018-09-24 19:57:00.517293</td>\n      <td>0002</td>\n      <td>CA-326</td>\n      <td>2-39-79-378</td>\n      <td>America/Los_Angeles</td>\n      <td>000000562</td>\n      <td>[{'WhPerMile': 333, 'kWhRequested': 6.66, 'mil...</td>\n    </tr>\n    <tr>\n      <th>10237</th>\n      <td>5bc940b4f9af8b0dc677de71</td>\n      <td>0039</td>\n      <td>2018-09-25 08:22:59+00:00</td>\n      <td>2018-09-25 12:06:01+00:00</td>\n      <td>2018-09-25 10:34:59+00:00</td>\n      <td>4.647000</td>\n      <td>2_39_131_30_2018-09-25 15:22:58.731565</td>\n      <td>0002</td>\n      <td>CA-305</td>\n      <td>2-39-131-30</td>\n      <td>America/Los_Angeles</td>\n      <td>000000562</td>\n      <td>[{'WhPerMile': 333, 'kWhRequested': 6.66, 'mil...</td>\n    </tr>\n    <tr>\n      <th>10273</th>\n      <td>5bc940b4f9af8b0dc677de95</td>\n      <td>0039</td>\n      <td>2018-09-25 13:07:08+00:00</td>\n      <td>2018-09-25 19:52:16+00:00</td>\n      <td>2018-09-25 13:46:48+00:00</td>\n      <td>2.492660</td>\n      <td>2_39_78_361_2018-09-25 20:07:07.556648</td>\n      <td>0002</td>\n      <td>CA-493</td>\n      <td>2-39-78-361</td>\n      <td>America/Los_Angeles</td>\n      <td>000000562</td>\n      <td>[{'WhPerMile': 227, 'kWhRequested': 2.27, 'mil...</td>\n    </tr>\n    <tr>\n      <th>10346</th>\n      <td>5bc94120f9af8b0dc677dede</td>\n      <td>0039</td>\n      <td>2018-09-26 08:53:08+00:00</td>\n      <td>2018-09-26 12:56:29+00:00</td>\n      <td>2018-09-26 11:10:40+00:00</td>\n      <td>4.434000</td>\n      <td>2_39_124_22_2018-09-26 15:53:08.396167</td>\n      <td>0002</td>\n      <td>CA-312</td>\n      <td>2-39-124-22</td>\n      <td>America/Los_Angeles</td>\n      <td>000000562</td>\n      <td>[{'WhPerMile': 227, 'kWhRequested': 6.81, 'mil...</td>\n    </tr>\n    <tr>\n      <th>10440</th>\n      <td>5bc94185f9af8b0dc677df3c</td>\n      <td>0039</td>\n      <td>2018-09-27 08:49:04+00:00</td>\n      <td>2018-09-27 18:52:55+00:00</td>\n      <td>2018-09-27 11:01:12+00:00</td>\n      <td>4.744000</td>\n      <td>2_39_124_22_2018-09-27 15:49:04.309550</td>\n      <td>0002</td>\n      <td>CA-312</td>\n      <td>2-39-124-22</td>\n      <td>America/Los_Angeles</td>\n      <td>000000562</td>\n      <td>[{'WhPerMile': 227, 'kWhRequested': 6.81, 'mil...</td>\n    </tr>\n    <tr>\n      <th>10531</th>\n      <td>5bc941ddf9af8b0dc677df97</td>\n      <td>0039</td>\n      <td>2018-09-28 08:46:15+00:00</td>\n      <td>2018-09-28 18:21:16+00:00</td>\n      <td>2018-09-28 10:50:46+00:00</td>\n      <td>5.370000</td>\n      <td>2_39_124_22_2018-09-28 15:46:15.424408</td>\n      <td>0002</td>\n      <td>CA-312</td>\n      <td>2-39-124-22</td>\n      <td>America/Los_Angeles</td>\n      <td>000000562</td>\n      <td>[{'WhPerMile': 227, 'kWhRequested': 6.81, 'mil...</td>\n    </tr>\n    <tr>\n      <th>10726</th>\n      <td>5be2fafef9af8b2b0edf9ea7</td>\n      <td>39</td>\n      <td>2018-10-01 08:48:12+00:00</td>\n      <td>2018-10-01 12:48:54+00:00</td>\n      <td>2018-10-01 11:09:12+00:00</td>\n      <td>4.906000</td>\n      <td>2_39_89_439_2018-10-01 15:48:11.826083</td>\n      <td>2</td>\n      <td>CA-501</td>\n      <td>2-39-89-439</td>\n      <td>America/Los_Angeles</td>\n      <td>000000562</td>\n      <td>[{'WhPerMile': 227, 'kWhRequested': 6.81, 'mil...</td>\n    </tr>\n    <tr>\n      <th>10751</th>\n      <td>5be2fafef9af8b2b0edf9ec0</td>\n      <td>39</td>\n      <td>2018-10-01 13:50:50+00:00</td>\n      <td>2018-10-01 18:01:13+00:00</td>\n      <td>2018-10-01 14:36:32+00:00</td>\n      <td>1.572000</td>\n      <td>2_39_95_27_2018-10-01 20:50:49.827112</td>\n      <td>2</td>\n      <td>CA-319</td>\n      <td>2-39-95-27</td>\n      <td>America/Los_Angeles</td>\n      <td>000000562</td>\n      <td>[{'WhPerMile': 227, 'kWhRequested': 4.54, 'mil...</td>\n    </tr>\n    <tr>\n      <th>10811</th>\n      <td>5be2fb55f9af8b2b0edf9efc</td>\n      <td>39</td>\n      <td>2018-10-02 08:43:04+00:00</td>\n      <td>2018-10-02 12:33:53+00:00</td>\n      <td>2018-10-02 10:31:37+00:00</td>\n      <td>5.025000</td>\n      <td>2_39_123_23_2018-10-02 15:43:04.061352</td>\n      <td>2</td>\n      <td>CA-313</td>\n      <td>2-39-123-23</td>\n      <td>America/Los_Angeles</td>\n      <td>000000562</td>\n      <td>[{'WhPerMile': 227, 'kWhRequested': 4.54, 'mil...</td>\n    </tr>\n    <tr>\n      <th>10913</th>\n      <td>5be2fba6f9af8b2b0edf9f62</td>\n      <td>39</td>\n      <td>2018-10-03 08:37:38+00:00</td>\n      <td>2018-10-03 19:11:58+00:00</td>\n      <td>2018-10-03 10:20:25+00:00</td>\n      <td>4.880000</td>\n      <td>2_39_138_29_2018-10-03 15:37:38.338676</td>\n      <td>2</td>\n      <td>CA-304</td>\n      <td>2-39-138-29</td>\n      <td>America/Los_Angeles</td>\n      <td>000000562</td>\n      <td>[{'WhPerMile': 227, 'kWhRequested': 6.81, 'mil...</td>\n    </tr>\n    <tr>\n      <th>11002</th>\n      <td>5be2fbf8f9af8b2b0edf9fbb</td>\n      <td>39</td>\n      <td>2018-10-04 08:39:31+00:00</td>\n      <td>2018-10-04 12:13:14+00:00</td>\n      <td>2018-10-04 10:26:50+00:00</td>\n      <td>4.844000</td>\n      <td>2_39_131_30_2018-10-04 15:39:31.198299</td>\n      <td>2</td>\n      <td>CA-305</td>\n      <td>2-39-131-30</td>\n      <td>America/Los_Angeles</td>\n      <td>000000562</td>\n      <td>[{'WhPerMile': 227, 'kWhRequested': 6.81, 'mil...</td>\n    </tr>\n    <tr>\n      <th>11084</th>\n      <td>5be2fc47f9af8b2b0edfa00d</td>\n      <td>39</td>\n      <td>2018-10-05 08:07:19+00:00</td>\n      <td>2018-10-05 12:24:11+00:00</td>\n      <td>2018-10-05 09:41:11+00:00</td>\n      <td>4.813000</td>\n      <td>2_39_127_19_2018-10-05 15:07:19.049388</td>\n      <td>2</td>\n      <td>CA-309</td>\n      <td>2-39-127-19</td>\n      <td>America/Los_Angeles</td>\n      <td>000000562</td>\n      <td>[{'WhPerMile': 227, 'kWhRequested': 6.81, 'mil...</td>\n    </tr>\n    <tr>\n      <th>11274</th>\n      <td>5be2fcd7f9af8b2b0edfa0cb</td>\n      <td>39</td>\n      <td>2018-10-08 08:14:49+00:00</td>\n      <td>2018-10-08 12:31:52+00:00</td>\n      <td>2018-10-08 10:02:31+00:00</td>\n      <td>5.455000</td>\n      <td>2_39_129_17_2018-10-08 15:14:48.548313</td>\n      <td>2</td>\n      <td>CA-307</td>\n      <td>2-39-129-17</td>\n      <td>America/Los_Angeles</td>\n      <td>000000562</td>\n      <td>[{'WhPerMile': 227, 'kWhRequested': 6.81, 'mil...</td>\n    </tr>\n    <tr>\n      <th>11315</th>\n      <td>5be2fcd7f9af8b2b0edfa0f4</td>\n      <td>39</td>\n      <td>2018-10-08 13:40:39+00:00</td>\n      <td>2018-10-08 18:14:12+00:00</td>\n      <td>2018-10-08 14:18:30+00:00</td>\n      <td>1.495000</td>\n      <td>2_39_79_383_2018-10-08 20:40:38.967405</td>\n      <td>2</td>\n      <td>CA-492</td>\n      <td>2-39-79-383</td>\n      <td>America/Los_Angeles</td>\n      <td>000000562</td>\n      <td>[{'WhPerMile': 227, 'kWhRequested': 2.27, 'mil...</td>\n    </tr>\n    <tr>\n      <th>11380</th>\n      <td>5be2fd24f9af8b2b0edfa135</td>\n      <td>39</td>\n      <td>2018-10-09 08:45:24+00:00</td>\n      <td>2018-10-09 11:52:33+00:00</td>\n      <td>2018-10-09 11:34:25+00:00</td>\n      <td>5.778728</td>\n      <td>2_39_78_363_2018-10-09 15:45:24.072882</td>\n      <td>2</td>\n      <td>CA-320</td>\n      <td>2-39-78-363</td>\n      <td>America/Los_Angeles</td>\n      <td>000000562</td>\n      <td>[{'WhPerMile': 227, 'kWhRequested': 6.81, 'mil...</td>\n    </tr>\n    <tr>\n      <th>11460</th>\n      <td>5be2fd71f9af8b2b0edfa185</td>\n      <td>39</td>\n      <td>2018-10-10 08:33:00+00:00</td>\n      <td>2018-10-10 19:30:39+00:00</td>\n      <td>2018-10-10 10:20:26+00:00</td>\n      <td>4.900000</td>\n      <td>2_39_127_19_2018-10-10 15:32:59.883045</td>\n      <td>2</td>\n      <td>CA-309</td>\n      <td>2-39-127-19</td>\n      <td>America/Los_Angeles</td>\n      <td>000000562</td>\n      <td>[{'WhPerMile': 227, 'kWhRequested': 6.81, 'mil...</td>\n    </tr>\n    <tr>\n      <th>11541</th>\n      <td>5be2fdcaf9af8b2b0edfa1d6</td>\n      <td>39</td>\n      <td>2018-10-11 08:28:18+00:00</td>\n      <td>2018-10-11 18:38:51+00:00</td>\n      <td>2018-10-11 10:16:16+00:00</td>\n      <td>4.898000</td>\n      <td>2_39_139_28_2018-10-11 15:28:18.131873</td>\n      <td>2</td>\n      <td>CA-303</td>\n      <td>2-39-139-28</td>\n      <td>America/Los_Angeles</td>\n      <td>000000562</td>\n      <td>[{'WhPerMile': 227, 'kWhRequested': 6.81, 'mil...</td>\n    </tr>\n    <tr>\n      <th>11822</th>\n      <td>5be2febbf9af8b2b0edfa2ef</td>\n      <td>39</td>\n      <td>2018-10-15 08:40:54+00:00</td>\n      <td>2018-10-15 18:37:32+00:00</td>\n      <td>2018-10-15 10:17:58+00:00</td>\n      <td>4.700000</td>\n      <td>2_39_130_31_2018-10-15 15:40:54.456572</td>\n      <td>2</td>\n      <td>CA-306</td>\n      <td>2-39-130-31</td>\n      <td>America/Los_Angeles</td>\n      <td>000000562</td>\n      <td>[{'WhPerMile': 227, 'kWhRequested': 6.81, 'mil...</td>\n    </tr>\n    <tr>\n      <th>11892</th>\n      <td>5be2fef3f9af8b2b0edfa335</td>\n      <td>39</td>\n      <td>2018-10-16 08:38:25+00:00</td>\n      <td>2018-10-16 12:46:45+00:00</td>\n      <td>2018-10-16 09:40:56+00:00</td>\n      <td>5.381000</td>\n      <td>2_39_130_31_2018-10-16 15:38:25.370564</td>\n      <td>2</td>\n      <td>CA-306</td>\n      <td>2-39-130-31</td>\n      <td>America/Los_Angeles</td>\n      <td>000000562</td>\n      <td>[{'WhPerMile': 227, 'kWhRequested': 6.81, 'mil...</td>\n    </tr>\n    <tr>\n      <th>11975</th>\n      <td>5be2ff38f9af8b2b0edfa388</td>\n      <td>39</td>\n      <td>2018-10-17 08:39:34+00:00</td>\n      <td>2018-10-17 12:12:19+00:00</td>\n      <td>2018-10-17 10:22:45+00:00</td>\n      <td>4.778000</td>\n      <td>2_39_126_20_2018-10-17 15:39:34.336009</td>\n      <td>2</td>\n      <td>CA-310</td>\n      <td>2-39-126-20</td>\n      <td>America/Los_Angeles</td>\n      <td>000000562</td>\n      <td>[{'WhPerMile': 300, 'kWhRequested': 6.0, 'mile...</td>\n    </tr>\n    <tr>\n      <th>12054</th>\n      <td>5be2ff7df9af8b2b0edfa3d7</td>\n      <td>39</td>\n      <td>2018-10-18 08:43:44+00:00</td>\n      <td>2018-10-18 18:34:04+00:00</td>\n      <td>2018-10-18 10:30:00+00:00</td>\n      <td>4.995000</td>\n      <td>2_39_126_20_2018-10-18 15:43:44.379380</td>\n      <td>2</td>\n      <td>CA-310</td>\n      <td>2-39-126-20</td>\n      <td>America/Los_Angeles</td>\n      <td>000000562</td>\n      <td>[{'WhPerMile': 300, 'kWhRequested': 6.0, 'mile...</td>\n    </tr>\n    <tr>\n      <th>12140</th>\n      <td>5be2ffcbf9af8b2b0edfa42d</td>\n      <td>39</td>\n      <td>2018-10-19 08:38:59+00:00</td>\n      <td>2018-10-19 12:37:16+00:00</td>\n      <td>2018-10-19 10:19:09+00:00</td>\n      <td>4.954000</td>\n      <td>2_39_88_24_2018-10-19 15:38:58.888600</td>\n      <td>2</td>\n      <td>CA-314</td>\n      <td>2-39-88-24</td>\n      <td>America/Los_Angeles</td>\n      <td>000000562</td>\n      <td>[{'WhPerMile': 300, 'kWhRequested': 6.0, 'mile...</td>\n    </tr>\n    <tr>\n      <th>12164</th>\n      <td>5be2ffcbf9af8b2b0edfa445</td>\n      <td>39</td>\n      <td>2018-10-19 13:42:31+00:00</td>\n      <td>2018-10-19 18:15:24+00:00</td>\n      <td>2018-10-19 14:23:25+00:00</td>\n      <td>1.763000</td>\n      <td>2_39_90_440_2018-10-19 20:42:30.822566</td>\n      <td>2</td>\n      <td>CA-500</td>\n      <td>2-39-90-440</td>\n      <td>America/Los_Angeles</td>\n      <td>000000562</td>\n      <td>[{'WhPerMile': 300, 'kWhRequested': 6.0, 'mile...</td>\n    </tr>\n    <tr>\n      <th>12309</th>\n      <td>5be3006cf9af8b2b0edfa4d6</td>\n      <td>39</td>\n      <td>2018-10-22 08:45:24+00:00</td>\n      <td>2018-10-22 12:45:23+00:00</td>\n      <td>2018-10-22 10:18:14+00:00</td>\n      <td>4.837000</td>\n      <td>2_39_131_30_2018-10-22 15:45:23.942220</td>\n      <td>2</td>\n      <td>CA-305</td>\n      <td>2-39-131-30</td>\n      <td>America/Los_Angeles</td>\n      <td>000000562</td>\n      <td>[{'WhPerMile': 300, 'kWhRequested': 6.0, 'mile...</td>\n    </tr>\n    <tr>\n      <th>12395</th>\n      <td>5be300b7f9af8b2b0edfa52c</td>\n      <td>39</td>\n      <td>2018-10-23 08:45:28+00:00</td>\n      <td>2018-10-23 12:54:51+00:00</td>\n      <td>2018-10-23 10:42:45+00:00</td>\n      <td>4.970000</td>\n      <td>2_39_126_20_2018-10-23 15:45:27.859176</td>\n      <td>2</td>\n      <td>CA-310</td>\n      <td>2-39-126-20</td>\n      <td>America/Los_Angeles</td>\n      <td>000000562</td>\n      <td>[{'WhPerMile': 300, 'kWhRequested': 6.0, 'mile...</td>\n    </tr>\n    <tr>\n      <th>12424</th>\n      <td>5be300b7f9af8b2b0edfa549</td>\n      <td>39</td>\n      <td>2018-10-23 13:55:39+00:00</td>\n      <td>2018-10-23 21:26:40+00:00</td>\n      <td>2018-10-23 14:25:27+00:00</td>\n      <td>1.414000</td>\n      <td>2_39_91_437_2018-10-23 20:55:38.866483</td>\n      <td>2</td>\n      <td>CA-317</td>\n      <td>2-39-91-437</td>\n      <td>America/Los_Angeles</td>\n      <td>000000562</td>\n      <td>[{'WhPerMile': 300, 'kWhRequested': 6.0, 'mile...</td>\n    </tr>\n    <tr>\n      <th>12579</th>\n      <td>5be4e347f9af8b3175206d6c</td>\n      <td>39</td>\n      <td>2018-10-25 08:43:13+00:00</td>\n      <td>2018-10-25 12:56:17+00:00</td>\n      <td>2018-10-25 10:30:09+00:00</td>\n      <td>4.810000</td>\n      <td>2_39_126_20_2018-10-25 15:43:13.379956</td>\n      <td>2</td>\n      <td>CA-310</td>\n      <td>2-39-126-20</td>\n      <td>America/Los_Angeles</td>\n      <td>000000562</td>\n      <td>[{'WhPerMile': 300, 'kWhRequested': 6.0, 'mile...</td>\n    </tr>\n    <tr>\n      <th>12659</th>\n      <td>5be634cdf9af8b34ee236847</td>\n      <td>39</td>\n      <td>2018-10-26 08:39:43+00:00</td>\n      <td>2018-10-26 13:06:26+00:00</td>\n      <td>2018-10-26 10:30:10+00:00</td>\n      <td>5.368000</td>\n      <td>2_39_126_20_2018-10-26 15:39:42.519703</td>\n      <td>2</td>\n      <td>CA-310</td>\n      <td>2-39-126-20</td>\n      <td>America/Los_Angeles</td>\n      <td>000000562</td>\n      <td>[{'WhPerMile': 300, 'kWhRequested': 6.0, 'mile...</td>\n    </tr>\n    <tr>\n      <th>13141</th>\n      <td>5c2e858ef9af8b13dab074fa</td>\n      <td>0039</td>\n      <td>2018-11-01 09:12:39+00:00</td>\n      <td>2018-11-01 19:15:08+00:00</td>\n      <td>2018-11-01 10:49:23+00:00</td>\n      <td>5.102000</td>\n      <td>2_39_129_17_2018-11-01 16:12:39.127222</td>\n      <td>0002</td>\n      <td>CA-307</td>\n      <td>2-39-129-17</td>\n      <td>America/Los_Angeles</td>\n      <td>000000562</td>\n      <td>[{'WhPerMile': 300, 'kWhRequested': 6.0, 'mile...</td>\n    </tr>\n    <tr>\n      <th>13191</th>\n      <td>5c2e85bef9af8b13dab0752c</td>\n      <td>0039</td>\n      <td>2018-11-02 08:37:35+00:00</td>\n      <td>2018-11-02 12:07:34+00:00</td>\n      <td>2018-11-02 10:14:11+00:00</td>\n      <td>5.070000</td>\n      <td>2_39_129_17_2018-11-02 15:37:34.937166</td>\n      <td>0002</td>\n      <td>CA-307</td>\n      <td>2-39-129-17</td>\n      <td>America/Los_Angeles</td>\n      <td>000000562</td>\n      <td>[{'WhPerMile': 300, 'kWhRequested': 6.0, 'mile...</td>\n    </tr>\n    <tr>\n      <th>13216</th>\n      <td>5c2e85bef9af8b13dab07545</td>\n      <td>0039</td>\n      <td>2018-11-02 13:10:56+00:00</td>\n      <td>2018-11-02 18:30:24+00:00</td>\n      <td>2018-11-02 14:02:09+00:00</td>\n      <td>1.601000</td>\n      <td>2_39_92_442_2018-11-02 20:10:56.159158</td>\n      <td>0002</td>\n      <td>CA-498</td>\n      <td>2-39-92-442</td>\n      <td>America/Los_Angeles</td>\n      <td>000000562</td>\n      <td>[{'WhPerMile': 300, 'kWhRequested': 6.0, 'mile...</td>\n    </tr>\n    <tr>\n      <th>13298</th>\n      <td>5c2e8629f9af8b13dab07597</td>\n      <td>0039</td>\n      <td>2018-11-05 09:32:11+00:00</td>\n      <td>2018-11-05 13:22:55+00:00</td>\n      <td>2018-11-05 11:02:10+00:00</td>\n      <td>4.502000</td>\n      <td>2_39_130_31_2018-11-05 16:32:11.226682</td>\n      <td>0002</td>\n      <td>CA-306</td>\n      <td>2-39-130-31</td>\n      <td>America/Los_Angeles</td>\n      <td>000000562</td>\n      <td>[{'WhPerMile': 300, 'kWhRequested': 6.0, 'mile...</td>\n    </tr>\n    <tr>\n      <th>13378</th>\n      <td>5c2e8674f9af8b13dab075e7</td>\n      <td>0039</td>\n      <td>2018-11-06 10:09:03+00:00</td>\n      <td>2018-11-06 14:12:19+00:00</td>\n      <td>2018-11-06 11:46:50+00:00</td>\n      <td>4.977000</td>\n      <td>2_39_139_28_2018-11-06 17:09:03.209593</td>\n      <td>0002</td>\n      <td>CA-303</td>\n      <td>2-39-139-28</td>\n      <td>America/Los_Angeles</td>\n      <td>000000562</td>\n      <td>[{'WhPerMile': 300, 'kWhRequested': 6.0, 'mile...</td>\n    </tr>\n    <tr>\n      <th>13400</th>\n      <td>5c2e8674f9af8b13dab075fd</td>\n      <td>0039</td>\n      <td>2018-11-06 15:18:40+00:00</td>\n      <td>2018-11-06 19:48:48+00:00</td>\n      <td>2018-11-06 15:50:15+00:00</td>\n      <td>1.503000</td>\n      <td>2_39_89_439_2018-11-06 22:18:39.857486</td>\n      <td>0002</td>\n      <td>CA-501</td>\n      <td>2-39-89-439</td>\n      <td>America/Los_Angeles</td>\n      <td>000000562</td>\n      <td>[{'WhPerMile': 300, 'kWhRequested': 6.0, 'mile...</td>\n    </tr>\n  </tbody>\n</table>\n</div>"
     },
     "execution_count": 43,
     "metadata": {},
     "output_type": "execute_result"
    }
   ],
   "source": [
    "df[df['userID'] == '000000562']\n"
   ],
   "metadata": {
    "collapsed": false,
    "pycharm": {
     "name": "#%%\n"
    }
   }
  },
  {
   "cell_type": "code",
   "execution_count": 17,
   "outputs": [
    {
     "data": {
      "text/plain": "     chargingTime  kWhDelivered  Year Month Day  Weekday\n0             0.0           0.0  2018    06  01        4\n1             0.0           0.0  2018    06  02        5\n2             0.0           0.0  2018    06  03        6\n3             0.0           0.0  2018    06  04        0\n4             0.0           0.0  2018    06  05        1\n..            ...           ...   ...   ...  ..      ...\n156           0.0           0.0  2018    11  04        6\n157           0.0           0.0  2018    11  05        0\n158           0.0           0.0  2018    11  06        1\n159           0.0           0.0  2018    11  07        2\n160           0.0           0.0  2018    11  08        3\n\n[161 rows x 6 columns]",
      "text/html": "<div>\n<style scoped>\n    .dataframe tbody tr th:only-of-type {\n        vertical-align: middle;\n    }\n\n    .dataframe tbody tr th {\n        vertical-align: top;\n    }\n\n    .dataframe thead th {\n        text-align: right;\n    }\n</style>\n<table border=\"1\" class=\"dataframe\">\n  <thead>\n    <tr style=\"text-align: right;\">\n      <th></th>\n      <th>chargingTime</th>\n      <th>kWhDelivered</th>\n      <th>Year</th>\n      <th>Month</th>\n      <th>Day</th>\n      <th>Weekday</th>\n    </tr>\n  </thead>\n  <tbody>\n    <tr>\n      <th>0</th>\n      <td>0.0</td>\n      <td>0.0</td>\n      <td>2018</td>\n      <td>06</td>\n      <td>01</td>\n      <td>4</td>\n    </tr>\n    <tr>\n      <th>1</th>\n      <td>0.0</td>\n      <td>0.0</td>\n      <td>2018</td>\n      <td>06</td>\n      <td>02</td>\n      <td>5</td>\n    </tr>\n    <tr>\n      <th>2</th>\n      <td>0.0</td>\n      <td>0.0</td>\n      <td>2018</td>\n      <td>06</td>\n      <td>03</td>\n      <td>6</td>\n    </tr>\n    <tr>\n      <th>3</th>\n      <td>0.0</td>\n      <td>0.0</td>\n      <td>2018</td>\n      <td>06</td>\n      <td>04</td>\n      <td>0</td>\n    </tr>\n    <tr>\n      <th>4</th>\n      <td>0.0</td>\n      <td>0.0</td>\n      <td>2018</td>\n      <td>06</td>\n      <td>05</td>\n      <td>1</td>\n    </tr>\n    <tr>\n      <th>...</th>\n      <td>...</td>\n      <td>...</td>\n      <td>...</td>\n      <td>...</td>\n      <td>...</td>\n      <td>...</td>\n    </tr>\n    <tr>\n      <th>156</th>\n      <td>0.0</td>\n      <td>0.0</td>\n      <td>2018</td>\n      <td>11</td>\n      <td>04</td>\n      <td>6</td>\n    </tr>\n    <tr>\n      <th>157</th>\n      <td>0.0</td>\n      <td>0.0</td>\n      <td>2018</td>\n      <td>11</td>\n      <td>05</td>\n      <td>0</td>\n    </tr>\n    <tr>\n      <th>158</th>\n      <td>0.0</td>\n      <td>0.0</td>\n      <td>2018</td>\n      <td>11</td>\n      <td>06</td>\n      <td>1</td>\n    </tr>\n    <tr>\n      <th>159</th>\n      <td>0.0</td>\n      <td>0.0</td>\n      <td>2018</td>\n      <td>11</td>\n      <td>07</td>\n      <td>2</td>\n    </tr>\n    <tr>\n      <th>160</th>\n      <td>0.0</td>\n      <td>0.0</td>\n      <td>2018</td>\n      <td>11</td>\n      <td>08</td>\n      <td>3</td>\n    </tr>\n  </tbody>\n</table>\n<p>161 rows × 6 columns</p>\n</div>"
     },
     "execution_count": 17,
     "metadata": {},
     "output_type": "execute_result"
    }
   ],
   "source": [
    "users = createUser(df_train, start, end)\n",
    "userID = Users.data.userID.unique()\n",
    "User_df = []\n",
    "\n",
    "for user in userID:\n",
    "    User_df.append(users.getUserData(user=user))\n",
    "\n",
    "print(User_df[1])"
   ],
   "metadata": {
    "collapsed": false,
    "pycharm": {
     "name": "#%%\n"
    }
   }
  },
  {
   "cell_type": "code",
   "execution_count": null,
   "outputs": [],
   "source": [],
   "metadata": {
    "collapsed": false,
    "pycharm": {
     "name": "#%%\n"
    }
   }
  },
  {
   "cell_type": "code",
   "execution_count": null,
   "outputs": [],
   "source": [
    "\n",
    "\n",
    "df.userID.duplicated()"
   ],
   "metadata": {
    "collapsed": false,
    "pycharm": {
     "name": "#%%\n"
    }
   }
  },
  {
   "cell_type": "code",
   "execution_count": 26,
   "outputs": [],
   "source": [
    "from sklearn.preprocessing import MinMaxScaler\n",
    "sc = MinMaxScaler(feature_range = (0,1))\n",
    "df_scaler = sc.fit_transform(user_61[['chargingTime', 'kWhDelivered']])"
   ],
   "metadata": {
    "collapsed": false,
    "pycharm": {
     "name": "#%%\n"
    }
   }
  },
  {
   "cell_type": "code",
   "execution_count": 28,
   "outputs": [
    {
     "data": {
      "text/plain": "array([[0.0, '2018', '06', '01', 4],\n       [0.0, '2018', '06', '02', 5],\n       [0.0, '2018', '06', '03', 6],\n       [0.0, '2018', '06', '04', 0],\n       [0.0, '2018', '06', '05', 1],\n       [0.0, '2018', '06', '06', 2],\n       [0.0, '2018', '06', '07', 3],\n       [0.0, '2018', '06', '08', 4],\n       [0.0, '2018', '06', '09', 5],\n       [0.0, '2018', '06', '10', 6],\n       [0.0, '2018', '06', '11', 0],\n       [0.0, '2018', '06', '12', 1],\n       [0.0, '2018', '06', '13', 2],\n       [0.0, '2018', '06', '14', 3],\n       [0.0, '2018', '06', '15', 4],\n       [0.0, '2018', '06', '16', 5],\n       [0.0, '2018', '06', '17', 6],\n       [35376.0, '2018', '06', '18', 0],\n       [26032.0, '2018', '06', '19', 1],\n       [0.0, '2018', '06', '20', 2],\n       [0.0, '2018', '06', '21', 3],\n       [0.0, '2018', '06', '22', 4],\n       [0.0, '2018', '06', '23', 5],\n       [0.0, '2018', '06', '24', 6],\n       [0.0, '2018', '06', '25', 0],\n       [0.0, '2018', '06', '26', 1],\n       [0.0, '2018', '06', '27', 2],\n       [0.0, '2018', '06', '28', 3],\n       [0.0, '2018', '06', '29', 4],\n       [0.0, '2018', '06', '30', 5],\n       [0.0, '2018', '07', '01', 6],\n       [0.0, '2018', '07', '02', 0],\n       [0.0, '2018', '07', '03', 1],\n       [0.0, '2018', '07', '04', 2],\n       [0.0, '2018', '07', '05', 3],\n       [0.0, '2018', '07', '06', 4],\n       [0.0, '2018', '07', '07', 5],\n       [0.0, '2018', '07', '08', 6],\n       [0.0, '2018', '07', '09', 0],\n       [0.0, '2018', '07', '10', 1],\n       [0.0, '2018', '07', '11', 2],\n       [0.0, '2018', '07', '12', 3],\n       [0.0, '2018', '07', '13', 4],\n       [0.0, '2018', '07', '14', 5],\n       [0.0, '2018', '07', '15', 6],\n       [0.0, '2018', '07', '16', 0],\n       [0.0, '2018', '07', '17', 1],\n       [0.0, '2018', '07', '18', 2],\n       [0.0, '2018', '07', '19', 3],\n       [0.0, '2018', '07', '20', 4],\n       [0.0, '2018', '07', '21', 5],\n       [0.0, '2018', '07', '22', 6],\n       [0.0, '2018', '07', '23', 0],\n       [0.0, '2018', '07', '24', 1],\n       [0.0, '2018', '07', '25', 2],\n       [0.0, '2018', '07', '26', 3],\n       [0.0, '2018', '07', '27', 4],\n       [0.0, '2018', '07', '28', 5],\n       [0.0, '2018', '07', '29', 6],\n       [0.0, '2018', '07', '30', 0],\n       [0.0, '2018', '07', '31', 1],\n       [0.0, '2018', '08', '01', 2],\n       [0.0, '2018', '08', '02', 3],\n       [0.0, '2018', '08', '03', 4],\n       [0.0, '2018', '08', '04', 5],\n       [0.0, '2018', '08', '05', 6],\n       [0.0, '2018', '08', '06', 0],\n       [0.0, '2018', '08', '07', 1],\n       [0.0, '2018', '08', '08', 2],\n       [0.0, '2018', '08', '09', 3],\n       [0.0, '2018', '08', '10', 4],\n       [0.0, '2018', '08', '11', 5],\n       [0.0, '2018', '08', '12', 6],\n       [0.0, '2018', '08', '13', 0],\n       [0.0, '2018', '08', '14', 1],\n       [0.0, '2018', '08', '15', 2],\n       [0.0, '2018', '08', '16', 3],\n       [0.0, '2018', '08', '17', 4],\n       [0.0, '2018', '08', '18', 5],\n       [0.0, '2018', '08', '19', 6],\n       [0.0, '2018', '08', '20', 0],\n       [0.0, '2018', '08', '21', 1],\n       [0.0, '2018', '08', '22', 2],\n       [0.0, '2018', '08', '23', 3],\n       [0.0, '2018', '08', '24', 4],\n       [0.0, '2018', '08', '25', 5],\n       [0.0, '2018', '08', '26', 6],\n       [0.0, '2018', '08', '27', 0],\n       [0.0, '2018', '08', '28', 1],\n       [0.0, '2018', '08', '29', 2],\n       [0.0, '2018', '08', '30', 3],\n       [0.0, '2018', '08', '31', 4],\n       [0.0, '2018', '09', '01', 5],\n       [0.0, '2018', '09', '02', 6],\n       [0.0, '2018', '09', '03', 0],\n       [0.0, '2018', '09', '04', 1],\n       [0.0, '2018', '09', '05', 2],\n       [0.0, '2018', '09', '06', 3],\n       [35256.0, '2018', '09', '07', 4],\n       [0.0, '2018', '09', '08', 5],\n       [0.0, '2018', '09', '09', 6],\n       [7514.0, '2018', '09', '10', 0],\n       [35016.0, '2018', '09', '11', 1],\n       [0.0, '2018', '09', '12', 2],\n       [38638.0, '2018', '09', '13', 3],\n       [0.0, '2018', '09', '14', 4],\n       [0.0, '2018', '09', '15', 5],\n       [0.0, '2018', '09', '16', 6],\n       [34753.0, '2018', '09', '17', 0],\n       [34969.0, '2018', '09', '18', 1],\n       [34559.0, '2018', '09', '19', 2],\n       [34571.0, '2018', '09', '20', 3],\n       [35135.0, '2018', '09', '21', 4],\n       [0.0, '2018', '09', '22', 5],\n       [0.0, '2018', '09', '23', 6],\n       [34070.0, '2018', '09', '24', 0],\n       [33693.0, '2018', '09', '25', 1],\n       [34011.0, '2018', '09', '26', 2],\n       [2565.0, '2018', '09', '27', 3],\n       [34844.0, '2018', '09', '28', 4],\n       [0.0, '2018', '09', '29', 5],\n       [0.0, '2018', '09', '30', 6],\n       [35084.0, '2018', '10', '01', 0],\n       [34237.0, '2018', '10', '02', 1],\n       [34661.0, '2018', '10', '03', 2],\n       [7869.0, '2018', '10', '04', 3],\n       [0.0, '2018', '10', '05', 4],\n       [0.0, '2018', '10', '06', 5],\n       [0.0, '2018', '10', '07', 6],\n       [35198.0, '2018', '10', '08', 0],\n       [34485.0, '2018', '10', '09', 1],\n       [34763.0, '2018', '10', '10', 2],\n       [31569.0, '2018', '10', '11', 3],\n       [34835.0, '2018', '10', '12', 4],\n       [0.0, '2018', '10', '13', 5],\n       [0.0, '2018', '10', '14', 6],\n       [4821.0, '2018', '10', '15', 0],\n       [35399.0, '2018', '10', '16', 1],\n       [34725.0, '2018', '10', '17', 2],\n       [8176.0, '2018', '10', '18', 3],\n       [35132.0, '2018', '10', '19', 4],\n       [0.0, '2018', '10', '20', 5],\n       [0.0, '2018', '10', '21', 6],\n       [34874.0, '2018', '10', '22', 0],\n       [34818.0, '2018', '10', '23', 1],\n       [34933.0, '2018', '10', '24', 2],\n       [34800.0, '2018', '10', '25', 3],\n       [35088.0, '2018', '10', '26', 4],\n       [0.0, '2018', '10', '27', 5],\n       [0.0, '2018', '10', '28', 6],\n       [34110.0, '2018', '10', '29', 0],\n       [33965.0, '2018', '10', '30', 1],\n       [33988.0, '2018', '10', '31', 2],\n       [33677.0, '2018', '11', '01', 3],\n       [0.0, '2018', '11', '02', 4],\n       [0.0, '2018', '11', '03', 5],\n       [0.0, '2018', '11', '04', 6],\n       [0.0, '2018', '11', '05', 0],\n       [0.0, '2018', '11', '06', 1],\n       [0.0, '2018', '11', '07', 2],\n       [0.0, '2018', '11', '08', 3]], dtype=object)"
     },
     "execution_count": 28,
     "metadata": {},
     "output_type": "execute_result"
    }
   ],
   "source": [
    "x = user_61.drop(columns = ['kWhDelivered']).values\n",
    "y = user_61['kWhDelivered'].values\n",
    "x"
   ],
   "metadata": {
    "collapsed": false,
    "pycharm": {
     "name": "#%%\n"
    }
   }
  },
  {
   "cell_type": "code",
   "execution_count": 20,
   "outputs": [],
   "source": [
    "x_train, x_rem, y_train, y_rem = train_test_split(x, y, train_size=0.8)"
   ],
   "metadata": {
    "collapsed": false,
    "pycharm": {
     "name": "#%%\n"
    }
   }
  },
  {
   "cell_type": "code",
   "execution_count": 21,
   "outputs": [],
   "source": [
    "x_valid, x_test, y_valid, y_test = train_test_split(x_rem, y_rem, test_size=0.5)"
   ],
   "metadata": {
    "collapsed": false,
    "pycharm": {
     "name": "#%%\n"
    }
   }
  },
  {
   "cell_type": "code",
   "execution_count": 29,
   "outputs": [
    {
     "name": "stdout",
     "output_type": "stream",
     "text": [
      "(161, 5)\n",
      "(161,)\n"
     ]
    },
    {
     "data": {
      "text/plain": "(None, None)"
     },
     "execution_count": 29,
     "metadata": {},
     "output_type": "execute_result"
    }
   ],
   "source": [
    " print(x.shape), print(y.shape)"
   ],
   "metadata": {
    "collapsed": false,
    "pycharm": {
     "name": "#%%\n"
    }
   }
  },
  {
   "cell_type": "code",
   "execution_count": 36,
   "outputs": [
    {
     "name": "stdout",
     "output_type": "stream",
     "text": [
      "(161, 5, 1)\n"
     ]
    }
   ],
   "source": [
    "#reshape\n",
    "\n",
    "x = x.reshape((x.shape[0], x.shape[1], 1))\n",
    "#x.value.reshape(-1,1)\n",
    "print(x.shape)"
   ],
   "metadata": {
    "collapsed": false,
    "pycharm": {
     "name": "#%%\n"
    }
   }
  },
  {
   "cell_type": "code",
   "execution_count": null,
   "outputs": [],
   "source": [],
   "metadata": {
    "collapsed": false,
    "pycharm": {
     "name": "#%%\n"
    }
   }
  },
  {
   "cell_type": "code",
   "execution_count": 39,
   "outputs": [],
   "source": [
    "model = Sequential()\n",
    "model.add(LSTM(50, activation='relu', return_sequences=True, input_shape=(5,1))) # todo: add inputs steps\n",
    "model.add(LSTM(50, activation='relu'))\n",
    "model.add(Dense(1))\n",
    "model.compile(optimizer='adam', loss='mse')\n",
    "\n"
   ],
   "metadata": {
    "collapsed": false,
    "pycharm": {
     "name": "#%%\n"
    }
   }
  },
  {
   "cell_type": "code",
   "execution_count": 40,
   "outputs": [
    {
     "ename": "ValueError",
     "evalue": "Failed to convert a NumPy array to a Tensor (Unsupported object type float).",
     "output_type": "error",
     "traceback": [
      "\u001B[0;31m---------------------------------------------------------------------------\u001B[0m",
      "\u001B[0;31mValueError\u001B[0m                                Traceback (most recent call last)",
      "Input \u001B[0;32mIn [40]\u001B[0m, in \u001B[0;36m<module>\u001B[0;34m\u001B[0m\n\u001B[0;32m----> 1\u001B[0m \u001B[43mmodel\u001B[49m\u001B[38;5;241;43m.\u001B[39;49m\u001B[43mfit\u001B[49m\u001B[43m(\u001B[49m\u001B[43mx_train\u001B[49m\u001B[43m,\u001B[49m\u001B[43m \u001B[49m\u001B[43my_train\u001B[49m\u001B[43m,\u001B[49m\u001B[43m \u001B[49m\u001B[43mepochs\u001B[49m\u001B[38;5;241;43m=\u001B[39;49m\u001B[38;5;241;43m100\u001B[39;49m\u001B[43m,\u001B[49m\u001B[43m \u001B[49m\u001B[43mverbose\u001B[49m\u001B[38;5;241;43m=\u001B[39;49m\u001B[38;5;241;43m0\u001B[39;49m\u001B[43m)\u001B[49m\n",
      "File \u001B[0;32m~/Documents/GitHub/P6_code/venv/lib/python3.9/site-packages/keras/utils/traceback_utils.py:67\u001B[0m, in \u001B[0;36mfilter_traceback.<locals>.error_handler\u001B[0;34m(*args, **kwargs)\u001B[0m\n\u001B[1;32m     65\u001B[0m \u001B[38;5;28;01mexcept\u001B[39;00m \u001B[38;5;167;01mException\u001B[39;00m \u001B[38;5;28;01mas\u001B[39;00m e:  \u001B[38;5;66;03m# pylint: disable=broad-except\u001B[39;00m\n\u001B[1;32m     66\u001B[0m   filtered_tb \u001B[38;5;241m=\u001B[39m _process_traceback_frames(e\u001B[38;5;241m.\u001B[39m__traceback__)\n\u001B[0;32m---> 67\u001B[0m   \u001B[38;5;28;01mraise\u001B[39;00m e\u001B[38;5;241m.\u001B[39mwith_traceback(filtered_tb) \u001B[38;5;28;01mfrom\u001B[39;00m \u001B[38;5;28mNone\u001B[39m\n\u001B[1;32m     68\u001B[0m \u001B[38;5;28;01mfinally\u001B[39;00m:\n\u001B[1;32m     69\u001B[0m   \u001B[38;5;28;01mdel\u001B[39;00m filtered_tb\n",
      "File \u001B[0;32m~/Documents/GitHub/P6_code/venv/lib/python3.9/site-packages/tensorflow/python/framework/constant_op.py:102\u001B[0m, in \u001B[0;36mconvert_to_eager_tensor\u001B[0;34m(value, ctx, dtype)\u001B[0m\n\u001B[1;32m    100\u001B[0m     dtype \u001B[38;5;241m=\u001B[39m dtypes\u001B[38;5;241m.\u001B[39mas_dtype(dtype)\u001B[38;5;241m.\u001B[39mas_datatype_enum\n\u001B[1;32m    101\u001B[0m ctx\u001B[38;5;241m.\u001B[39mensure_initialized()\n\u001B[0;32m--> 102\u001B[0m \u001B[38;5;28;01mreturn\u001B[39;00m \u001B[43mops\u001B[49m\u001B[38;5;241;43m.\u001B[39;49m\u001B[43mEagerTensor\u001B[49m\u001B[43m(\u001B[49m\u001B[43mvalue\u001B[49m\u001B[43m,\u001B[49m\u001B[43m \u001B[49m\u001B[43mctx\u001B[49m\u001B[38;5;241;43m.\u001B[39;49m\u001B[43mdevice_name\u001B[49m\u001B[43m,\u001B[49m\u001B[43m \u001B[49m\u001B[43mdtype\u001B[49m\u001B[43m)\u001B[49m\n",
      "\u001B[0;31mValueError\u001B[0m: Failed to convert a NumPy array to a Tensor (Unsupported object type float)."
     ]
    }
   ],
   "source": [
    "model.fit(x_train, y_train, epochs=100, verbose=0)"
   ],
   "metadata": {
    "collapsed": false,
    "pycharm": {
     "name": "#%%\n"
    }
   }
  },
  {
   "cell_type": "code",
   "execution_count": null,
   "outputs": [],
   "source": [],
   "metadata": {
    "collapsed": false,
    "pycharm": {
     "name": "#%%\n"
    }
   }
  }
 ],
 "metadata": {
  "kernelspec": {
   "display_name": "Python 3",
   "language": "python",
   "name": "python3"
  },
  "language_info": {
   "codemirror_mode": {
    "name": "ipython",
    "version": 2
   },
   "file_extension": ".py",
   "mimetype": "text/x-python",
   "name": "python",
   "nbconvert_exporter": "python",
   "pygments_lexer": "ipython2",
   "version": "2.7.6"
  }
 },
 "nbformat": 4,
 "nbformat_minor": 0
}