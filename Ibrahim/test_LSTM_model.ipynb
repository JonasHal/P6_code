{
 "cells": [
  {
   "cell_type": "code",
   "execution_count": 1,
   "outputs": [],
   "source": [
    "import pandas as pd\n",
    "import numpy as np\n",
    "import matplotlib.pyplot as plt\n",
    "import math\n",
    "from P6_code.FinishedCode.importData import ImportEV\n",
    "from P6_code.FinishedCode.dataTransformation import createUsers\n",
    "from P6_code.FinishedCode.functions import split_sequences\n",
    "from keras.models import Sequential\n",
    "from keras.layers import Dense\n",
    "from keras.layers import LSTM\n",
    "from keras.layers import Dropout\n",
    "from sklearn.metrics import mean_squared_error\n",
    "from sklearn.preprocessing import StandardScaler, MinMaxScaler"
   ],
   "metadata": {
    "collapsed": false,
    "pycharm": {
     "name": "#%%\n"
    }
   }
  },
  {
   "cell_type": "code",
   "execution_count": 2,
   "outputs": [],
   "source": [
    "start, end = \"2018-06-01\", \"2018-11-09\"\n",
    "df_train = ImportEV().getCaltech(start_date=start, end_date=end, removeUsers=True, userSampleLimit=25)"
   ],
   "metadata": {
    "collapsed": false,
    "pycharm": {
     "name": "#%%\n"
    }
   }
  },
  {
   "cell_type": "code",
   "execution_count": 3,
   "outputs": [
    {
     "name": "stdout",
     "output_type": "stream",
     "text": [
      "      chargingTime  kWhDelivered  Year Month Day  Weekday Hour\n",
      "0              0.0           0.0  2018    06  01        4   00\n",
      "1              0.0           0.0  2018    06  01        4   01\n",
      "2              0.0           0.0  2018    06  01        4   02\n",
      "3              0.0           0.0  2018    06  01        4   03\n",
      "4              0.0           0.0  2018    06  01        4   04\n",
      "...            ...           ...   ...   ...  ..      ...  ...\n",
      "3859           0.0           0.0  2018    11  08        3   19\n",
      "3860           0.0           0.0  2018    11  08        3   20\n",
      "3861           0.0           0.0  2018    11  08        3   21\n",
      "3862           0.0           0.0  2018    11  08        3   22\n",
      "3863           0.0           0.0  2018    11  08        3   23\n",
      "\n",
      "[3864 rows x 7 columns]\n"
     ]
    }
   ],
   "source": [
    "users = createUsers(df_train, start, end)\n",
    "userID = users.data.userID.unique()\n",
    "user_df = []\n",
    "\n",
    "for user in userID:\n",
    "    user_df.append(users.getUserData(user=user))\n",
    "\n",
    "print(user_df[2])"
   ],
   "metadata": {
    "collapsed": false,
    "pycharm": {
     "name": "#%%\n"
    }
   }
  },
  {
   "cell_type": "code",
   "execution_count": 4,
   "outputs": [],
   "source": [
    "max_kWh = max([user[\"kWhDelivered\"][i] for user in user_df for i in range(len(user))])"
   ],
   "metadata": {
    "collapsed": false,
    "pycharm": {
     "name": "#%%\n"
    }
   }
  },
  {
   "cell_type": "code",
   "source": [
    "max_charging = max([user[\"chargingTime\"][i] for user in user_df for i in range(len(user))])"
   ],
   "metadata": {
    "collapsed": false,
    "pycharm": {
     "name": "#%%\n"
    }
   },
   "execution_count": 5,
   "outputs": []
  },
  {
   "cell_type": "code",
   "execution_count": 6,
   "outputs": [
    {
     "data": {
      "text/plain": "[      chargingTime  kWhDelivered\n 0              0.0           0.0\n 1              0.0           0.0\n 2              0.0           0.0\n 3              0.0           0.0\n 4              0.0           0.0\n ...            ...           ...\n 3859           0.0           0.0\n 3860           0.0           0.0\n 3861           0.0           0.0\n 3862           0.0           0.0\n 3863           0.0           0.0\n \n [3864 rows x 2 columns],\n       chargingTime  kWhDelivered\n 0              0.0           0.0\n 1              0.0           0.0\n 2              0.0           0.0\n 3              0.0           0.0\n 4              0.0           0.0\n ...            ...           ...\n 3859           0.0           0.0\n 3860           0.0           0.0\n 3861           0.0           0.0\n 3862           0.0           0.0\n 3863           0.0           0.0\n \n [3864 rows x 2 columns],\n       chargingTime  kWhDelivered\n 0              0.0           0.0\n 1              0.0           0.0\n 2              0.0           0.0\n 3              0.0           0.0\n 4              0.0           0.0\n ...            ...           ...\n 3859           0.0           0.0\n 3860           0.0           0.0\n 3861           0.0           0.0\n 3862           0.0           0.0\n 3863           0.0           0.0\n \n [3864 rows x 2 columns],\n       chargingTime  kWhDelivered\n 0              0.0           0.0\n 1              0.0           0.0\n 2              0.0           0.0\n 3              0.0           0.0\n 4              0.0           0.0\n ...            ...           ...\n 3859           0.0           0.0\n 3860           0.0           0.0\n 3861           0.0           0.0\n 3862           0.0           0.0\n 3863           0.0           0.0\n \n [3864 rows x 2 columns],\n       chargingTime  kWhDelivered\n 0              0.0           0.0\n 1              0.0           0.0\n 2              0.0           0.0\n 3              0.0           0.0\n 4              0.0           0.0\n ...            ...           ...\n 3859           0.0           0.0\n 3860           0.0           0.0\n 3861           0.0           0.0\n 3862           0.0           0.0\n 3863           0.0           0.0\n \n [3864 rows x 2 columns],\n       chargingTime  kWhDelivered\n 0              0.0           0.0\n 1              0.0           0.0\n 2              0.0           0.0\n 3              0.0           0.0\n 4              0.0           0.0\n ...            ...           ...\n 3859           0.0           0.0\n 3860           0.0           0.0\n 3861           0.0           0.0\n 3862           0.0           0.0\n 3863           0.0           0.0\n \n [3864 rows x 2 columns],\n       chargingTime  kWhDelivered\n 0              0.0           0.0\n 1              0.0           0.0\n 2              0.0           0.0\n 3              0.0           0.0\n 4              0.0           0.0\n ...            ...           ...\n 3859           0.0           0.0\n 3860           0.0           0.0\n 3861           0.0           0.0\n 3862           0.0           0.0\n 3863           0.0           0.0\n \n [3864 rows x 2 columns],\n       chargingTime  kWhDelivered\n 0              0.0           0.0\n 1              0.0           0.0\n 2              0.0           0.0\n 3              0.0           0.0\n 4              0.0           0.0\n ...            ...           ...\n 3859           0.0           0.0\n 3860           0.0           0.0\n 3861           0.0           0.0\n 3862           0.0           0.0\n 3863           0.0           0.0\n \n [3864 rows x 2 columns],\n       chargingTime  kWhDelivered\n 0              0.0           0.0\n 1              0.0           0.0\n 2              0.0           0.0\n 3              0.0           0.0\n 4              0.0           0.0\n ...            ...           ...\n 3859           0.0           0.0\n 3860           0.0           0.0\n 3861           0.0           0.0\n 3862           0.0           0.0\n 3863           0.0           0.0\n \n [3864 rows x 2 columns],\n       chargingTime  kWhDelivered\n 0              0.0           0.0\n 1              0.0           0.0\n 2              0.0           0.0\n 3              0.0           0.0\n 4              0.0           0.0\n ...            ...           ...\n 3859           0.0           0.0\n 3860           0.0           0.0\n 3861           0.0           0.0\n 3862           0.0           0.0\n 3863           0.0           0.0\n \n [3864 rows x 2 columns],\n       chargingTime  kWhDelivered\n 0              0.0           0.0\n 1              0.0           0.0\n 2              0.0           0.0\n 3              0.0           0.0\n 4              0.0           0.0\n ...            ...           ...\n 3859           0.0           0.0\n 3860           0.0           0.0\n 3861           0.0           0.0\n 3862           0.0           0.0\n 3863           0.0           0.0\n \n [3864 rows x 2 columns],\n       chargingTime  kWhDelivered\n 0              0.0           0.0\n 1              0.0           0.0\n 2              0.0           0.0\n 3              0.0           0.0\n 4              0.0           0.0\n ...            ...           ...\n 3859           0.0           0.0\n 3860           0.0           0.0\n 3861           0.0           0.0\n 3862           0.0           0.0\n 3863           0.0           0.0\n \n [3864 rows x 2 columns]]"
     },
     "execution_count": 6,
     "metadata": {},
     "output_type": "execute_result"
    }
   ],
   "source": [
    "X, Y = [], []\n",
    "\n",
    "\n",
    "for user in user_df:\n",
    "    Y.append(user[['chargingTime', 'kWhDelivered']])\n",
    "    X.append(user.drop(columns=['chargingTime', 'kWhDelivered']))\n",
    "Y"
   ],
   "metadata": {
    "collapsed": false,
    "pycharm": {
     "name": "#%%\n"
    }
   }
  },
  {
   "cell_type": "code",
   "execution_count": 14,
   "outputs": [],
   "source": [
    "ss = StandardScaler()\n",
    "\n",
    "for user in X:\n",
    "    ss.fit(user)\n",
    "\n",
    "X_scaled = []\n",
    "\n",
    "for user in X:\n",
    "    X_scaled.append(ss.transform(user))\n"
   ],
   "metadata": {
    "collapsed": false,
    "pycharm": {
     "name": "#%%\n"
    }
   }
  },
  {
   "cell_type": "code",
   "execution_count": 15,
   "outputs": [
    {
     "data": {
      "text/plain": "[array([[0., 0.],\n        [0., 0.],\n        [0., 0.],\n        ...,\n        [0., 0.],\n        [0., 0.],\n        [0., 0.]]),\n array([[0., 0.],\n        [0., 0.],\n        [0., 0.],\n        ...,\n        [0., 0.],\n        [0., 0.],\n        [0., 0.]]),\n array([[0., 0.],\n        [0., 0.],\n        [0., 0.],\n        ...,\n        [0., 0.],\n        [0., 0.],\n        [0., 0.]]),\n array([[0., 0.],\n        [0., 0.],\n        [0., 0.],\n        ...,\n        [0., 0.],\n        [0., 0.],\n        [0., 0.]]),\n array([[0., 0.],\n        [0., 0.],\n        [0., 0.],\n        ...,\n        [0., 0.],\n        [0., 0.],\n        [0., 0.]]),\n array([[0., 0.],\n        [0., 0.],\n        [0., 0.],\n        ...,\n        [0., 0.],\n        [0., 0.],\n        [0., 0.]]),\n array([[0., 0.],\n        [0., 0.],\n        [0., 0.],\n        ...,\n        [0., 0.],\n        [0., 0.],\n        [0., 0.]]),\n array([[0., 0.],\n        [0., 0.],\n        [0., 0.],\n        ...,\n        [0., 0.],\n        [0., 0.],\n        [0., 0.]]),\n array([[0., 0.],\n        [0., 0.],\n        [0., 0.],\n        ...,\n        [0., 0.],\n        [0., 0.],\n        [0., 0.]]),\n array([[0., 0.],\n        [0., 0.],\n        [0., 0.],\n        ...,\n        [0., 0.],\n        [0., 0.],\n        [0., 0.]]),\n array([[0., 0.],\n        [0., 0.],\n        [0., 0.],\n        ...,\n        [0., 0.],\n        [0., 0.],\n        [0., 0.]]),\n array([[0., 0.],\n        [0., 0.],\n        [0., 0.],\n        ...,\n        [0., 0.],\n        [0., 0.],\n        [0., 0.]])]"
     },
     "execution_count": 15,
     "metadata": {},
     "output_type": "execute_result"
    }
   ],
   "source": [
    "sc = MinMaxScaler(feature_range = (0,1))\n",
    "\n",
    "for user in Y:\n",
    "    sc.fit(user[['chargingTime', 'kWhDelivered']])\n",
    "\n",
    "user_df_scaled = []\n",
    "\n",
    "for user in Y:\n",
    "    user_df_scaled.append(sc.transform(user[['chargingTime', 'kWhDelivered']]))\n",
    "\n",
    "user_df_scaled"
   ],
   "metadata": {
    "collapsed": false,
    "pycharm": {
     "name": "#%%\n"
    }
   }
  },
  {
   "cell_type": "code",
   "execution_count": 16,
   "outputs": [],
   "source": [
    "total_samples = len(X[0])\n",
    "train_test_cutoff = round(0.2 * total_samples)"
   ],
   "metadata": {
    "collapsed": false,
    "pycharm": {
     "name": "#%%\n"
    }
   }
  },
  {
   "cell_type": "code",
   "execution_count": 18,
   "outputs": [],
   "source": [
    "X_train, X_val = [], []\n",
    "Y_train,Y_val = [], []\n",
    "\n",
    "for user in range(len(user_df_scaled)):\n",
    "    user_X, user_Y = split_sequences(X_scaled[user], user_df_scaled[user], 10, 5)\n",
    "\n",
    "    X_train.append(user_X[:-train_test_cutoff])\n",
    "    X_val.append(user_X[-train_test_cutoff:])\n",
    "\n",
    "    Y_train.append(user_Y[:-train_test_cutoff])\n",
    "    Y_val.append(user_Y[-train_test_cutoff:])"
   ],
   "metadata": {
    "collapsed": false,
    "pycharm": {
     "name": "#%%\n"
    }
   }
  },
  {
   "cell_type": "code",
   "execution_count": 19,
   "outputs": [],
   "source": [
    "model = Sequential()\n",
    "model.add(LSTM(4, activation='relu', return_sequences=True, input_shape=(10,5))) # todo: add inputs steps\n",
    "model.add(Dense(1))\n",
    "model.compile(optimizer='adam', loss='mse')"
   ],
   "metadata": {
    "collapsed": false,
    "pycharm": {
     "name": "#%%\n"
    }
   }
  },
  {
   "cell_type": "code",
   "execution_count": 41,
   "outputs": [
    {
     "ename": "AttributeError",
     "evalue": "'list' object has no attribute 'values'",
     "output_type": "error",
     "traceback": [
      "\u001B[1;31m---------------------------------------------------------------------------\u001B[0m",
      "\u001B[1;31mAttributeError\u001B[0m                            Traceback (most recent call last)",
      "\u001B[1;32m~\\AppData\\Local\\Temp\\ipykernel_7060\\2445671463.py\u001B[0m in \u001B[0;36m<module>\u001B[1;34m\u001B[0m\n\u001B[0;32m      2\u001B[0m \u001B[1;31m#train_Y = np.stack(Y_train, axis=1)\u001B[0m\u001B[1;33m\u001B[0m\u001B[1;33m\u001B[0m\u001B[0m\n\u001B[0;32m      3\u001B[0m \u001B[1;33m\u001B[0m\u001B[0m\n\u001B[1;32m----> 4\u001B[1;33m \u001B[0mmodel\u001B[0m\u001B[1;33m.\u001B[0m\u001B[0mfit\u001B[0m\u001B[1;33m(\u001B[0m\u001B[0mX_train\u001B[0m\u001B[1;33m.\u001B[0m\u001B[0mvalues\u001B[0m\u001B[1;33m,\u001B[0m \u001B[0mY_train\u001B[0m\u001B[1;33m,\u001B[0m \u001B[0mepochs\u001B[0m\u001B[1;33m=\u001B[0m\u001B[1;36m30\u001B[0m\u001B[1;33m,\u001B[0m \u001B[0mverbose\u001B[0m\u001B[1;33m=\u001B[0m\u001B[1;36m0\u001B[0m\u001B[1;33m)\u001B[0m\u001B[1;33m\u001B[0m\u001B[1;33m\u001B[0m\u001B[0m\n\u001B[0m",
      "\u001B[1;31mAttributeError\u001B[0m: 'list' object has no attribute 'values'"
     ]
    }
   ],
   "source": [
    "#train_X = np.stack(X_train, axis=1)\n",
    "#train_Y = np.stack(Y_train, axis=1)\n",
    "\n",
    "model.fit(X_train.values, Y_train, epochs=30, verbose=0)"
   ],
   "metadata": {
    "collapsed": false,
    "pycharm": {
     "name": "#%%\n"
    }
   }
  },
  {
   "cell_type": "code",
   "execution_count": 32,
   "outputs": [
    {
     "name": "stdout",
     "output_type": "stream",
     "text": [
      "(3078, 5)\n",
      "(3078, 5)\n",
      "(3078, 5)\n",
      "(3078, 5)\n",
      "(3078, 5)\n",
      "(3078, 5)\n",
      "(3078, 5)\n",
      "(3078, 5)\n",
      "(3078, 5)\n",
      "(3078, 5)\n",
      "(3078, 5)\n",
      "(3078, 5)\n"
     ]
    }
   ],
   "source": [
    "for i in range(len(Y_train)):\n",
    "    print(Y_train[i].shape)"
   ],
   "metadata": {
    "collapsed": false,
    "pycharm": {
     "name": "#%%\n"
    }
   }
  }
 ],
 "metadata": {
  "kernelspec": {
   "display_name": "Python 3",
   "language": "python",
   "name": "python3"
  },
  "language_info": {
   "codemirror_mode": {
    "name": "ipython",
    "version": 2
   },
   "file_extension": ".py",
   "mimetype": "text/x-python",
   "name": "python",
   "nbconvert_exporter": "python",
   "pygments_lexer": "ipython2",
   "version": "2.7.6"
  }
 },
 "nbformat": 4,
 "nbformat_minor": 0
}