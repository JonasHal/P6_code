{
 "cells": [
  {
   "cell_type": "code",
   "execution_count": 63,
   "outputs": [],
   "source": [
    "import pandas as pd\n",
    "import numpy as np\n",
    "import matplotlib.pyplot as plt\n",
    "import math\n",
    "from P6_code.FinishedCode.importData import ImportEV\n",
    "from P6_code.FinishedCode.dataTransformation import createUsers\n",
    "from P6_code.FinishedCode.functions import split_sequences\n",
    "from keras.models import Sequential\n",
    "from keras.layers import Dense\n",
    "from keras.layers import LSTM\n",
    "from keras.layers import Dropout\n",
    "from sklearn.metrics import mean_squared_error, mean_absolute_percentage_error, mean_absolute_error\n",
    "from sklearn.preprocessing import StandardScaler, MinMaxScaler\n",
    "from itertools import chain"
   ],
   "metadata": {
    "collapsed": false,
    "pycharm": {
     "name": "#%%\n"
    }
   }
  },
  {
   "cell_type": "code",
   "execution_count": 2,
   "outputs": [],
   "source": [
    "start, end = \"2018-06-01\", \"2018-11-09\"\n",
    "df_train = ImportEV().getCaltech(start_date=start, end_date=end, removeUsers=True, userSampleLimit=25)"
   ],
   "metadata": {
    "collapsed": false,
    "pycharm": {
     "name": "#%%\n"
    }
   }
  },
  {
   "cell_type": "code",
   "execution_count": 3,
   "outputs": [
    {
     "name": "stdout",
     "output_type": "stream",
     "text": [
      "      chargingTime  kWhDelivered  Year Month Day  Weekday Hour\n",
      "0              0.0           0.0  2018    06  01        4   00\n",
      "1              0.0           0.0  2018    06  01        4   01\n",
      "2              0.0           0.0  2018    06  01        4   02\n",
      "3              0.0           0.0  2018    06  01        4   03\n",
      "4              0.0           0.0  2018    06  01        4   04\n",
      "...            ...           ...   ...   ...  ..      ...  ...\n",
      "3859           0.0           0.0  2018    11  08        3   19\n",
      "3860           0.0           0.0  2018    11  08        3   20\n",
      "3861           0.0           0.0  2018    11  08        3   21\n",
      "3862           0.0           0.0  2018    11  08        3   22\n",
      "3863           0.0           0.0  2018    11  08        3   23\n",
      "\n",
      "[3864 rows x 7 columns]\n"
     ]
    }
   ],
   "source": [
    "users = createUsers(df_train, start, end)\n",
    "userID = users.data.userID.unique()\n",
    "user_df = []\n",
    "\n",
    "for user in userID:\n",
    "    user_df.append(users.getUserData(user=user))\n",
    "\n",
    "print(user_df[2])"
   ],
   "metadata": {
    "collapsed": false,
    "pycharm": {
     "name": "#%%\n"
    }
   }
  },
  {
   "cell_type": "code",
   "execution_count": 4,
   "outputs": [],
   "source": [
    "max_kWh = max([user[\"kWhDelivered\"][i] for user in user_df for i in range(len(user))])"
   ],
   "metadata": {
    "collapsed": false,
    "pycharm": {
     "name": "#%%\n"
    }
   }
  },
  {
   "cell_type": "code",
   "source": [
    "max_charging = max([user[\"chargingTime\"][i] for user in user_df for i in range(len(user))])"
   ],
   "metadata": {
    "collapsed": false,
    "pycharm": {
     "name": "#%%\n"
    }
   },
   "execution_count": 5,
   "outputs": []
  },
  {
   "cell_type": "code",
   "execution_count": 6,
   "outputs": [
    {
     "data": {
      "text/plain": "[0       0.0\n 1       0.0\n 2       0.0\n 3       0.0\n 4       0.0\n        ... \n 3859    0.0\n 3860    0.0\n 3861    0.0\n 3862    0.0\n 3863    0.0\n Name: chargingTime, Length: 3864, dtype: float64,\n 0       0.0\n 1       0.0\n 2       0.0\n 3       0.0\n 4       0.0\n        ... \n 3859    0.0\n 3860    0.0\n 3861    0.0\n 3862    0.0\n 3863    0.0\n Name: chargingTime, Length: 3864, dtype: float64,\n 0       0.0\n 1       0.0\n 2       0.0\n 3       0.0\n 4       0.0\n        ... \n 3859    0.0\n 3860    0.0\n 3861    0.0\n 3862    0.0\n 3863    0.0\n Name: chargingTime, Length: 3864, dtype: float64,\n 0       0.0\n 1       0.0\n 2       0.0\n 3       0.0\n 4       0.0\n        ... \n 3859    0.0\n 3860    0.0\n 3861    0.0\n 3862    0.0\n 3863    0.0\n Name: chargingTime, Length: 3864, dtype: float64,\n 0       0.0\n 1       0.0\n 2       0.0\n 3       0.0\n 4       0.0\n        ... \n 3859    0.0\n 3860    0.0\n 3861    0.0\n 3862    0.0\n 3863    0.0\n Name: chargingTime, Length: 3864, dtype: float64,\n 0       0.0\n 1       0.0\n 2       0.0\n 3       0.0\n 4       0.0\n        ... \n 3859    0.0\n 3860    0.0\n 3861    0.0\n 3862    0.0\n 3863    0.0\n Name: chargingTime, Length: 3864, dtype: float64,\n 0       0.0\n 1       0.0\n 2       0.0\n 3       0.0\n 4       0.0\n        ... \n 3859    0.0\n 3860    0.0\n 3861    0.0\n 3862    0.0\n 3863    0.0\n Name: chargingTime, Length: 3864, dtype: float64,\n 0       0.0\n 1       0.0\n 2       0.0\n 3       0.0\n 4       0.0\n        ... \n 3859    0.0\n 3860    0.0\n 3861    0.0\n 3862    0.0\n 3863    0.0\n Name: chargingTime, Length: 3864, dtype: float64,\n 0       0.0\n 1       0.0\n 2       0.0\n 3       0.0\n 4       0.0\n        ... \n 3859    0.0\n 3860    0.0\n 3861    0.0\n 3862    0.0\n 3863    0.0\n Name: chargingTime, Length: 3864, dtype: float64,\n 0       0.0\n 1       0.0\n 2       0.0\n 3       0.0\n 4       0.0\n        ... \n 3859    0.0\n 3860    0.0\n 3861    0.0\n 3862    0.0\n 3863    0.0\n Name: chargingTime, Length: 3864, dtype: float64,\n 0       0.0\n 1       0.0\n 2       0.0\n 3       0.0\n 4       0.0\n        ... \n 3859    0.0\n 3860    0.0\n 3861    0.0\n 3862    0.0\n 3863    0.0\n Name: chargingTime, Length: 3864, dtype: float64,\n 0       0.0\n 1       0.0\n 2       0.0\n 3       0.0\n 4       0.0\n        ... \n 3859    0.0\n 3860    0.0\n 3861    0.0\n 3862    0.0\n 3863    0.0\n Name: chargingTime, Length: 3864, dtype: float64]"
     },
     "execution_count": 6,
     "metadata": {},
     "output_type": "execute_result"
    }
   ],
   "source": [
    "X, Y = [], []\n",
    "\n",
    "\n",
    "for user in user_df:\n",
    "    Y.append(user.chargingTime)\n",
    "    X.append(user.drop(columns=['chargingTime']))\n",
    "Y"
   ],
   "metadata": {
    "collapsed": false,
    "pycharm": {
     "name": "#%%\n"
    }
   }
  },
  {
   "cell_type": "code",
   "execution_count": 7,
   "outputs": [],
   "source": [
    "ss = StandardScaler()\n",
    "\n",
    "for user in X:\n",
    "    ss.fit(user)\n",
    "\n",
    "X_scaled = []\n",
    "\n",
    "for user in X:\n",
    "    X_scaled.append(ss.transform(user))\n"
   ],
   "metadata": {
    "collapsed": false,
    "pycharm": {
     "name": "#%%\n"
    }
   }
  },
  {
   "cell_type": "code",
   "execution_count": 8,
   "outputs": [
    {
     "data": {
      "text/plain": "[array([[0.],\n        [0.],\n        [0.],\n        ...,\n        [0.],\n        [0.],\n        [0.]]),\n array([[0.],\n        [0.],\n        [0.],\n        ...,\n        [0.],\n        [0.],\n        [0.]]),\n array([[0.],\n        [0.],\n        [0.],\n        ...,\n        [0.],\n        [0.],\n        [0.]]),\n array([[0.],\n        [0.],\n        [0.],\n        ...,\n        [0.],\n        [0.],\n        [0.]]),\n array([[0.],\n        [0.],\n        [0.],\n        ...,\n        [0.],\n        [0.],\n        [0.]]),\n array([[0.],\n        [0.],\n        [0.],\n        ...,\n        [0.],\n        [0.],\n        [0.]]),\n array([[0.],\n        [0.],\n        [0.],\n        ...,\n        [0.],\n        [0.],\n        [0.]]),\n array([[0.],\n        [0.],\n        [0.],\n        ...,\n        [0.],\n        [0.],\n        [0.]]),\n array([[0.],\n        [0.],\n        [0.],\n        ...,\n        [0.],\n        [0.],\n        [0.]]),\n array([[0.],\n        [0.],\n        [0.],\n        ...,\n        [0.],\n        [0.],\n        [0.]]),\n array([[0.],\n        [0.],\n        [0.],\n        ...,\n        [0.],\n        [0.],\n        [0.]]),\n array([[0.],\n        [0.],\n        [0.],\n        ...,\n        [0.],\n        [0.],\n        [0.]])]"
     },
     "execution_count": 8,
     "metadata": {},
     "output_type": "execute_result"
    }
   ],
   "source": [
    "sc = MinMaxScaler(feature_range = (0,1))\n",
    "\n",
    "for user in Y:\n",
    "    sc.fit(user.values.reshape(-1, 1))\n",
    "\n",
    "user_df_scaled = []\n",
    "\n",
    "for user in Y:\n",
    "    user_df_scaled.append(sc.transform(user.values.reshape(-1, 1)))\n",
    "\n",
    "user_df_scaled"
   ],
   "metadata": {
    "collapsed": false,
    "pycharm": {
     "name": "#%%\n"
    }
   }
  },
  {
   "cell_type": "code",
   "execution_count": 9,
   "outputs": [],
   "source": [
    "total_samples = len(X[0])\n",
    "train_test_cutoff = round(0.2 * total_samples)"
   ],
   "metadata": {
    "collapsed": false,
    "pycharm": {
     "name": "#%%\n"
    }
   }
  },
  {
   "cell_type": "code",
   "execution_count": 10,
   "outputs": [],
   "source": [
    "X_train, X_val = [], []\n",
    "Y_train,Y_val = [], []\n",
    "\n",
    "for user in range(len(user_df_scaled)):\n",
    "    user_X, user_Y = split_sequences(X_scaled[user], user_df_scaled[user], 10, 6)\n",
    "\n",
    "    X_train.append(user_X[:-train_test_cutoff])\n",
    "    X_val.append(user_X[-train_test_cutoff:])\n",
    "\n",
    "    Y_train.append(user_Y[:-train_test_cutoff])\n",
    "    Y_val.append(user_Y[-train_test_cutoff:])"
   ],
   "metadata": {
    "collapsed": false,
    "pycharm": {
     "name": "#%%\n"
    }
   }
  },
  {
   "cell_type": "code",
   "execution_count": 11,
   "outputs": [],
   "source": [
    "model = Sequential()\n",
    "model.add(LSTM(4, input_shape=(10, 6))) # todo: add inputs steps\n",
    "model.add(Dense(1))\n",
    "model.compile(optimizer='adam', loss='mse')"
   ],
   "metadata": {
    "collapsed": false,
    "pycharm": {
     "name": "#%%\n"
    }
   }
  },
  {
   "cell_type": "code",
   "execution_count": 12,
   "outputs": [],
   "source": [
    "compiled_X = np.array([])\n",
    "for sublist in X_train:\n",
    "    compiled_X = np.append(compiled_X, sublist)\n",
    "\n",
    "compiled_Y = np.array([])\n",
    "for sublist in Y_train:\n",
    "    compiled_Y = np.append(compiled_Y, sublist)"
   ],
   "metadata": {
    "collapsed": false,
    "pycharm": {
     "name": "#%%\n"
    }
   }
  },
  {
   "cell_type": "code",
   "execution_count": 13,
   "outputs": [
    {
     "data": {
      "text/plain": "((3077, 10, 6), (3077, 6))"
     },
     "execution_count": 13,
     "metadata": {},
     "output_type": "execute_result"
    }
   ],
   "source": [
    "X_train[0].shape, Y_train[0].shape"
   ],
   "metadata": {
    "collapsed": false,
    "pycharm": {
     "name": "#%%\n"
    }
   }
  },
  {
   "cell_type": "code",
   "execution_count": 14,
   "outputs": [
    {
     "name": "stdout",
     "output_type": "stream",
     "text": [
      "Epoch 1/30\n",
      "154/154 - 3s - loss: 0.0629 - 3s/epoch - 17ms/step\n",
      "Epoch 2/30\n",
      "154/154 - 0s - loss: 0.0135 - 417ms/epoch - 3ms/step\n",
      "Epoch 3/30\n",
      "154/154 - 0s - loss: 0.0080 - 420ms/epoch - 3ms/step\n",
      "Epoch 4/30\n",
      "154/154 - 0s - loss: 0.0071 - 399ms/epoch - 3ms/step\n",
      "Epoch 5/30\n",
      "154/154 - 1s - loss: 0.0068 - 534ms/epoch - 3ms/step\n",
      "Epoch 6/30\n",
      "154/154 - 0s - loss: 0.0067 - 436ms/epoch - 3ms/step\n",
      "Epoch 7/30\n",
      "154/154 - 0s - loss: 0.0066 - 439ms/epoch - 3ms/step\n",
      "Epoch 8/30\n",
      "154/154 - 0s - loss: 0.0065 - 384ms/epoch - 2ms/step\n",
      "Epoch 9/30\n",
      "154/154 - 0s - loss: 0.0065 - 388ms/epoch - 3ms/step\n",
      "Epoch 10/30\n",
      "154/154 - 0s - loss: 0.0065 - 397ms/epoch - 3ms/step\n",
      "Epoch 11/30\n",
      "154/154 - 0s - loss: 0.0064 - 435ms/epoch - 3ms/step\n",
      "Epoch 12/30\n",
      "154/154 - 0s - loss: 0.0064 - 380ms/epoch - 2ms/step\n",
      "Epoch 13/30\n",
      "154/154 - 0s - loss: 0.0064 - 390ms/epoch - 3ms/step\n",
      "Epoch 14/30\n",
      "154/154 - 0s - loss: 0.0063 - 386ms/epoch - 3ms/step\n",
      "Epoch 15/30\n",
      "154/154 - 0s - loss: 0.0063 - 391ms/epoch - 3ms/step\n",
      "Epoch 16/30\n",
      "154/154 - 0s - loss: 0.0063 - 381ms/epoch - 2ms/step\n",
      "Epoch 17/30\n",
      "154/154 - 1s - loss: 0.0063 - 554ms/epoch - 4ms/step\n",
      "Epoch 18/30\n",
      "154/154 - 0s - loss: 0.0062 - 387ms/epoch - 3ms/step\n",
      "Epoch 19/30\n",
      "154/154 - 0s - loss: 0.0062 - 386ms/epoch - 3ms/step\n",
      "Epoch 20/30\n",
      "154/154 - 0s - loss: 0.0062 - 381ms/epoch - 2ms/step\n",
      "Epoch 21/30\n",
      "154/154 - 0s - loss: 0.0062 - 398ms/epoch - 3ms/step\n",
      "Epoch 22/30\n",
      "154/154 - 1s - loss: 0.0062 - 548ms/epoch - 4ms/step\n",
      "Epoch 23/30\n",
      "154/154 - 1s - loss: 0.0062 - 512ms/epoch - 3ms/step\n",
      "Epoch 24/30\n",
      "154/154 - 1s - loss: 0.0062 - 557ms/epoch - 4ms/step\n",
      "Epoch 25/30\n",
      "154/154 - 0s - loss: 0.0061 - 458ms/epoch - 3ms/step\n",
      "Epoch 26/30\n",
      "154/154 - 0s - loss: 0.0061 - 447ms/epoch - 3ms/step\n",
      "Epoch 27/30\n",
      "154/154 - 0s - loss: 0.0061 - 394ms/epoch - 3ms/step\n",
      "Epoch 28/30\n",
      "154/154 - 0s - loss: 0.0061 - 476ms/epoch - 3ms/step\n",
      "Epoch 29/30\n",
      "154/154 - 0s - loss: 0.0061 - 389ms/epoch - 3ms/step\n",
      "Epoch 30/30\n",
      "154/154 - 0s - loss: 0.0061 - 449ms/epoch - 3ms/step\n",
      "Epoch 1/30\n",
      "154/154 - 0s - loss: 5.6989e-04 - 467ms/epoch - 3ms/step\n",
      "Epoch 2/30\n",
      "154/154 - 0s - loss: 4.8073e-04 - 434ms/epoch - 3ms/step\n",
      "Epoch 3/30\n",
      "154/154 - 0s - loss: 4.5507e-04 - 431ms/epoch - 3ms/step\n",
      "Epoch 4/30\n",
      "154/154 - 1s - loss: 4.4207e-04 - 521ms/epoch - 3ms/step\n",
      "Epoch 5/30\n",
      "154/154 - 1s - loss: 4.3533e-04 - 521ms/epoch - 3ms/step\n",
      "Epoch 6/30\n",
      "154/154 - 1s - loss: 4.3041e-04 - 633ms/epoch - 4ms/step\n",
      "Epoch 7/30\n",
      "154/154 - 1s - loss: 4.2798e-04 - 558ms/epoch - 4ms/step\n",
      "Epoch 8/30\n",
      "154/154 - 1s - loss: 4.2555e-04 - 522ms/epoch - 3ms/step\n",
      "Epoch 9/30\n",
      "154/154 - 1s - loss: 4.2520e-04 - 506ms/epoch - 3ms/step\n",
      "Epoch 10/30\n",
      "154/154 - 0s - loss: 4.2266e-04 - 399ms/epoch - 3ms/step\n",
      "Epoch 11/30\n",
      "154/154 - 0s - loss: 4.2204e-04 - 407ms/epoch - 3ms/step\n",
      "Epoch 12/30\n",
      "154/154 - 0s - loss: 4.2169e-04 - 411ms/epoch - 3ms/step\n",
      "Epoch 13/30\n",
      "154/154 - 0s - loss: 4.1944e-04 - 402ms/epoch - 3ms/step\n",
      "Epoch 14/30\n",
      "154/154 - 0s - loss: 4.1879e-04 - 471ms/epoch - 3ms/step\n",
      "Epoch 15/30\n",
      "154/154 - 0s - loss: 4.1786e-04 - 398ms/epoch - 3ms/step\n",
      "Epoch 16/30\n",
      "154/154 - 0s - loss: 4.1763e-04 - 491ms/epoch - 3ms/step\n",
      "Epoch 17/30\n",
      "154/154 - 0s - loss: 4.1626e-04 - 470ms/epoch - 3ms/step\n",
      "Epoch 18/30\n",
      "154/154 - 0s - loss: 4.1517e-04 - 406ms/epoch - 3ms/step\n",
      "Epoch 19/30\n",
      "154/154 - 0s - loss: 4.1552e-04 - 443ms/epoch - 3ms/step\n",
      "Epoch 20/30\n",
      "154/154 - 0s - loss: 4.1467e-04 - 473ms/epoch - 3ms/step\n",
      "Epoch 21/30\n",
      "154/154 - 0s - loss: 4.1469e-04 - 429ms/epoch - 3ms/step\n",
      "Epoch 22/30\n",
      "154/154 - 1s - loss: 4.1412e-04 - 606ms/epoch - 4ms/step\n",
      "Epoch 23/30\n",
      "154/154 - 0s - loss: 4.1377e-04 - 458ms/epoch - 3ms/step\n",
      "Epoch 24/30\n",
      "154/154 - 0s - loss: 4.1256e-04 - 487ms/epoch - 3ms/step\n",
      "Epoch 25/30\n",
      "154/154 - 1s - loss: 4.1118e-04 - 566ms/epoch - 4ms/step\n",
      "Epoch 26/30\n",
      "154/154 - 0s - loss: 4.1079e-04 - 487ms/epoch - 3ms/step\n",
      "Epoch 27/30\n",
      "154/154 - 1s - loss: 4.1036e-04 - 517ms/epoch - 3ms/step\n",
      "Epoch 28/30\n",
      "154/154 - 1s - loss: 4.1148e-04 - 544ms/epoch - 4ms/step\n",
      "Epoch 29/30\n",
      "154/154 - 1s - loss: 4.1061e-04 - 694ms/epoch - 5ms/step\n",
      "Epoch 30/30\n",
      "154/154 - 0s - loss: 4.1083e-04 - 474ms/epoch - 3ms/step\n",
      "Epoch 1/30\n",
      "154/154 - 0s - loss: 0.0013 - 398ms/epoch - 3ms/step\n",
      "Epoch 2/30\n",
      "154/154 - 0s - loss: 0.0013 - 440ms/epoch - 3ms/step\n",
      "Epoch 3/30\n",
      "154/154 - 0s - loss: 0.0013 - 395ms/epoch - 3ms/step\n",
      "Epoch 4/30\n",
      "154/154 - 0s - loss: 0.0013 - 396ms/epoch - 3ms/step\n",
      "Epoch 5/30\n",
      "154/154 - 0s - loss: 0.0012 - 399ms/epoch - 3ms/step\n",
      "Epoch 6/30\n",
      "154/154 - 0s - loss: 0.0012 - 397ms/epoch - 3ms/step\n",
      "Epoch 7/30\n",
      "154/154 - 0s - loss: 0.0012 - 406ms/epoch - 3ms/step\n",
      "Epoch 8/30\n",
      "154/154 - 0s - loss: 0.0012 - 403ms/epoch - 3ms/step\n",
      "Epoch 9/30\n",
      "154/154 - 0s - loss: 0.0012 - 416ms/epoch - 3ms/step\n",
      "Epoch 10/30\n",
      "154/154 - 0s - loss: 0.0012 - 475ms/epoch - 3ms/step\n",
      "Epoch 11/30\n",
      "154/154 - 0s - loss: 0.0012 - 401ms/epoch - 3ms/step\n",
      "Epoch 12/30\n",
      "154/154 - 0s - loss: 0.0012 - 409ms/epoch - 3ms/step\n",
      "Epoch 13/30\n",
      "154/154 - 0s - loss: 0.0012 - 407ms/epoch - 3ms/step\n",
      "Epoch 14/30\n",
      "154/154 - 0s - loss: 0.0012 - 403ms/epoch - 3ms/step\n",
      "Epoch 15/30\n",
      "154/154 - 0s - loss: 0.0012 - 417ms/epoch - 3ms/step\n",
      "Epoch 16/30\n",
      "154/154 - 0s - loss: 0.0012 - 446ms/epoch - 3ms/step\n",
      "Epoch 17/30\n",
      "154/154 - 1s - loss: 0.0012 - 519ms/epoch - 3ms/step\n",
      "Epoch 18/30\n",
      "154/154 - 1s - loss: 0.0012 - 687ms/epoch - 4ms/step\n",
      "Epoch 19/30\n",
      "154/154 - 1s - loss: 0.0012 - 685ms/epoch - 4ms/step\n",
      "Epoch 20/30\n",
      "154/154 - 1s - loss: 0.0012 - 591ms/epoch - 4ms/step\n",
      "Epoch 21/30\n",
      "154/154 - 0s - loss: 0.0012 - 390ms/epoch - 3ms/step\n",
      "Epoch 22/30\n",
      "154/154 - 0s - loss: 0.0012 - 395ms/epoch - 3ms/step\n",
      "Epoch 23/30\n",
      "154/154 - 0s - loss: 0.0012 - 388ms/epoch - 3ms/step\n",
      "Epoch 24/30\n",
      "154/154 - 0s - loss: 0.0012 - 390ms/epoch - 3ms/step\n",
      "Epoch 25/30\n",
      "154/154 - 0s - loss: 0.0012 - 407ms/epoch - 3ms/step\n",
      "Epoch 26/30\n",
      "154/154 - 0s - loss: 0.0012 - 397ms/epoch - 3ms/step\n",
      "Epoch 27/30\n",
      "154/154 - 0s - loss: 0.0012 - 396ms/epoch - 3ms/step\n",
      "Epoch 28/30\n",
      "154/154 - 0s - loss: 0.0012 - 411ms/epoch - 3ms/step\n",
      "Epoch 29/30\n",
      "154/154 - 0s - loss: 0.0012 - 393ms/epoch - 3ms/step\n",
      "Epoch 30/30\n",
      "154/154 - 0s - loss: 0.0012 - 396ms/epoch - 3ms/step\n",
      "Epoch 1/30\n",
      "154/154 - 0s - loss: 0.0030 - 395ms/epoch - 3ms/step\n",
      "Epoch 2/30\n",
      "154/154 - 0s - loss: 0.0030 - 390ms/epoch - 3ms/step\n",
      "Epoch 3/30\n",
      "154/154 - 0s - loss: 0.0030 - 401ms/epoch - 3ms/step\n",
      "Epoch 4/30\n",
      "154/154 - 0s - loss: 0.0030 - 395ms/epoch - 3ms/step\n",
      "Epoch 5/30\n",
      "154/154 - 0s - loss: 0.0030 - 393ms/epoch - 3ms/step\n",
      "Epoch 6/30\n",
      "154/154 - 0s - loss: 0.0030 - 395ms/epoch - 3ms/step\n",
      "Epoch 7/30\n",
      "154/154 - 0s - loss: 0.0030 - 397ms/epoch - 3ms/step\n",
      "Epoch 8/30\n",
      "154/154 - 1s - loss: 0.0030 - 583ms/epoch - 4ms/step\n",
      "Epoch 9/30\n",
      "154/154 - 0s - loss: 0.0030 - 421ms/epoch - 3ms/step\n",
      "Epoch 10/30\n",
      "154/154 - 0s - loss: 0.0030 - 396ms/epoch - 3ms/step\n",
      "Epoch 11/30\n",
      "154/154 - 0s - loss: 0.0030 - 395ms/epoch - 3ms/step\n",
      "Epoch 12/30\n",
      "154/154 - 0s - loss: 0.0030 - 396ms/epoch - 3ms/step\n",
      "Epoch 13/30\n",
      "154/154 - 0s - loss: 0.0030 - 401ms/epoch - 3ms/step\n",
      "Epoch 14/30\n",
      "154/154 - 0s - loss: 0.0030 - 391ms/epoch - 3ms/step\n",
      "Epoch 15/30\n",
      "154/154 - 0s - loss: 0.0030 - 394ms/epoch - 3ms/step\n",
      "Epoch 16/30\n",
      "154/154 - 0s - loss: 0.0030 - 392ms/epoch - 3ms/step\n",
      "Epoch 17/30\n",
      "154/154 - 0s - loss: 0.0030 - 393ms/epoch - 3ms/step\n",
      "Epoch 18/30\n",
      "154/154 - 0s - loss: 0.0030 - 392ms/epoch - 3ms/step\n",
      "Epoch 19/30\n",
      "154/154 - 0s - loss: 0.0029 - 417ms/epoch - 3ms/step\n",
      "Epoch 20/30\n",
      "154/154 - 0s - loss: 0.0029 - 392ms/epoch - 3ms/step\n",
      "Epoch 21/30\n",
      "154/154 - 0s - loss: 0.0029 - 390ms/epoch - 3ms/step\n",
      "Epoch 22/30\n",
      "154/154 - 0s - loss: 0.0029 - 395ms/epoch - 3ms/step\n",
      "Epoch 23/30\n",
      "154/154 - 0s - loss: 0.0029 - 391ms/epoch - 3ms/step\n",
      "Epoch 24/30\n",
      "154/154 - 0s - loss: 0.0029 - 453ms/epoch - 3ms/step\n",
      "Epoch 25/30\n",
      "154/154 - 0s - loss: 0.0029 - 493ms/epoch - 3ms/step\n",
      "Epoch 26/30\n",
      "154/154 - 0s - loss: 0.0029 - 392ms/epoch - 3ms/step\n",
      "Epoch 27/30\n",
      "154/154 - 0s - loss: 0.0029 - 390ms/epoch - 3ms/step\n",
      "Epoch 28/30\n",
      "154/154 - 0s - loss: 0.0029 - 389ms/epoch - 3ms/step\n",
      "Epoch 29/30\n",
      "154/154 - 0s - loss: 0.0029 - 416ms/epoch - 3ms/step\n",
      "Epoch 30/30\n",
      "154/154 - 0s - loss: 0.0029 - 403ms/epoch - 3ms/step\n",
      "Epoch 1/30\n",
      "154/154 - 0s - loss: 0.0014 - 398ms/epoch - 3ms/step\n",
      "Epoch 2/30\n",
      "154/154 - 0s - loss: 0.0014 - 396ms/epoch - 3ms/step\n",
      "Epoch 3/30\n",
      "154/154 - 0s - loss: 0.0014 - 391ms/epoch - 3ms/step\n",
      "Epoch 4/30\n",
      "154/154 - 0s - loss: 0.0014 - 400ms/epoch - 3ms/step\n",
      "Epoch 5/30\n",
      "154/154 - 0s - loss: 0.0014 - 395ms/epoch - 3ms/step\n",
      "Epoch 6/30\n",
      "154/154 - 0s - loss: 0.0014 - 441ms/epoch - 3ms/step\n",
      "Epoch 7/30\n",
      "154/154 - 0s - loss: 0.0014 - 409ms/epoch - 3ms/step\n",
      "Epoch 8/30\n",
      "154/154 - 0s - loss: 0.0014 - 408ms/epoch - 3ms/step\n",
      "Epoch 9/30\n",
      "154/154 - 0s - loss: 0.0014 - 477ms/epoch - 3ms/step\n",
      "Epoch 10/30\n",
      "154/154 - 0s - loss: 0.0014 - 452ms/epoch - 3ms/step\n",
      "Epoch 11/30\n",
      "154/154 - 0s - loss: 0.0014 - 411ms/epoch - 3ms/step\n",
      "Epoch 12/30\n",
      "154/154 - 0s - loss: 0.0014 - 396ms/epoch - 3ms/step\n",
      "Epoch 13/30\n",
      "154/154 - 0s - loss: 0.0014 - 392ms/epoch - 3ms/step\n",
      "Epoch 14/30\n",
      "154/154 - 0s - loss: 0.0014 - 396ms/epoch - 3ms/step\n",
      "Epoch 15/30\n",
      "154/154 - 0s - loss: 0.0014 - 389ms/epoch - 3ms/step\n",
      "Epoch 16/30\n",
      "154/154 - 0s - loss: 0.0014 - 393ms/epoch - 3ms/step\n",
      "Epoch 17/30\n",
      "154/154 - 0s - loss: 0.0014 - 391ms/epoch - 3ms/step\n",
      "Epoch 18/30\n",
      "154/154 - 0s - loss: 0.0014 - 398ms/epoch - 3ms/step\n",
      "Epoch 19/30\n",
      "154/154 - 0s - loss: 0.0014 - 407ms/epoch - 3ms/step\n",
      "Epoch 20/30\n",
      "154/154 - 0s - loss: 0.0014 - 390ms/epoch - 3ms/step\n",
      "Epoch 21/30\n",
      "154/154 - 0s - loss: 0.0014 - 400ms/epoch - 3ms/step\n",
      "Epoch 22/30\n",
      "154/154 - 0s - loss: 0.0014 - 413ms/epoch - 3ms/step\n",
      "Epoch 23/30\n",
      "154/154 - 0s - loss: 0.0014 - 394ms/epoch - 3ms/step\n",
      "Epoch 24/30\n",
      "154/154 - 0s - loss: 0.0013 - 396ms/epoch - 3ms/step\n",
      "Epoch 25/30\n",
      "154/154 - 0s - loss: 0.0014 - 390ms/epoch - 3ms/step\n",
      "Epoch 26/30\n",
      "154/154 - 0s - loss: 0.0013 - 390ms/epoch - 3ms/step\n",
      "Epoch 27/30\n",
      "154/154 - 0s - loss: 0.0013 - 394ms/epoch - 3ms/step\n",
      "Epoch 28/30\n",
      "154/154 - 0s - loss: 0.0013 - 397ms/epoch - 3ms/step\n",
      "Epoch 29/30\n",
      "154/154 - 0s - loss: 0.0014 - 394ms/epoch - 3ms/step\n",
      "Epoch 30/30\n",
      "154/154 - 0s - loss: 0.0013 - 395ms/epoch - 3ms/step\n",
      "Epoch 1/30\n",
      "154/154 - 0s - loss: 0.0020 - 406ms/epoch - 3ms/step\n",
      "Epoch 2/30\n",
      "154/154 - 0s - loss: 0.0020 - 400ms/epoch - 3ms/step\n",
      "Epoch 3/30\n",
      "154/154 - 0s - loss: 0.0020 - 392ms/epoch - 3ms/step\n",
      "Epoch 4/30\n",
      "154/154 - 0s - loss: 0.0020 - 396ms/epoch - 3ms/step\n",
      "Epoch 5/30\n",
      "154/154 - 0s - loss: 0.0020 - 464ms/epoch - 3ms/step\n",
      "Epoch 6/30\n",
      "154/154 - 0s - loss: 0.0020 - 490ms/epoch - 3ms/step\n",
      "Epoch 7/30\n",
      "154/154 - 0s - loss: 0.0020 - 412ms/epoch - 3ms/step\n",
      "Epoch 8/30\n",
      "154/154 - 0s - loss: 0.0020 - 393ms/epoch - 3ms/step\n",
      "Epoch 9/30\n",
      "154/154 - 0s - loss: 0.0020 - 404ms/epoch - 3ms/step\n",
      "Epoch 10/30\n",
      "154/154 - 0s - loss: 0.0020 - 402ms/epoch - 3ms/step\n",
      "Epoch 11/30\n",
      "154/154 - 0s - loss: 0.0020 - 396ms/epoch - 3ms/step\n",
      "Epoch 12/30\n",
      "154/154 - 0s - loss: 0.0020 - 395ms/epoch - 3ms/step\n",
      "Epoch 13/30\n",
      "154/154 - 0s - loss: 0.0020 - 398ms/epoch - 3ms/step\n",
      "Epoch 14/30\n",
      "154/154 - 0s - loss: 0.0020 - 397ms/epoch - 3ms/step\n",
      "Epoch 15/30\n",
      "154/154 - 0s - loss: 0.0020 - 391ms/epoch - 3ms/step\n",
      "Epoch 16/30\n",
      "154/154 - 0s - loss: 0.0020 - 392ms/epoch - 3ms/step\n",
      "Epoch 17/30\n",
      "154/154 - 0s - loss: 0.0020 - 394ms/epoch - 3ms/step\n",
      "Epoch 18/30\n",
      "154/154 - 0s - loss: 0.0020 - 396ms/epoch - 3ms/step\n",
      "Epoch 19/30\n",
      "154/154 - 0s - loss: 0.0020 - 487ms/epoch - 3ms/step\n",
      "Epoch 20/30\n",
      "154/154 - 0s - loss: 0.0020 - 467ms/epoch - 3ms/step\n",
      "Epoch 21/30\n",
      "154/154 - 0s - loss: 0.0020 - 490ms/epoch - 3ms/step\n",
      "Epoch 22/30\n",
      "154/154 - 0s - loss: 0.0020 - 401ms/epoch - 3ms/step\n",
      "Epoch 23/30\n",
      "154/154 - 0s - loss: 0.0020 - 438ms/epoch - 3ms/step\n",
      "Epoch 24/30\n",
      "154/154 - 0s - loss: 0.0020 - 415ms/epoch - 3ms/step\n",
      "Epoch 25/30\n",
      "154/154 - 1s - loss: 0.0020 - 650ms/epoch - 4ms/step\n",
      "Epoch 26/30\n",
      "154/154 - 0s - loss: 0.0020 - 409ms/epoch - 3ms/step\n",
      "Epoch 27/30\n",
      "154/154 - 0s - loss: 0.0020 - 456ms/epoch - 3ms/step\n",
      "Epoch 28/30\n",
      "154/154 - 1s - loss: 0.0020 - 631ms/epoch - 4ms/step\n",
      "Epoch 29/30\n",
      "154/154 - 1s - loss: 0.0020 - 565ms/epoch - 4ms/step\n",
      "Epoch 30/30\n",
      "154/154 - 1s - loss: 0.0020 - 533ms/epoch - 3ms/step\n",
      "Epoch 1/30\n",
      "154/154 - 1s - loss: 1.9899e-04 - 964ms/epoch - 6ms/step\n",
      "Epoch 2/30\n",
      "154/154 - 1s - loss: 1.6258e-04 - 711ms/epoch - 5ms/step\n",
      "Epoch 3/30\n",
      "154/154 - 0s - loss: 1.5861e-04 - 416ms/epoch - 3ms/step\n",
      "Epoch 4/30\n",
      "154/154 - 0s - loss: 1.5611e-04 - 397ms/epoch - 3ms/step\n",
      "Epoch 5/30\n",
      "154/154 - 0s - loss: 1.5499e-04 - 391ms/epoch - 3ms/step\n",
      "Epoch 6/30\n",
      "154/154 - 0s - loss: 1.5403e-04 - 397ms/epoch - 3ms/step\n",
      "Epoch 7/30\n",
      "154/154 - 1s - loss: 1.5365e-04 - 519ms/epoch - 3ms/step\n",
      "Epoch 8/30\n",
      "154/154 - 0s - loss: 1.5317e-04 - 450ms/epoch - 3ms/step\n",
      "Epoch 9/30\n",
      "154/154 - 0s - loss: 1.5343e-04 - 459ms/epoch - 3ms/step\n",
      "Epoch 10/30\n",
      "154/154 - 0s - loss: 1.5265e-04 - 445ms/epoch - 3ms/step\n",
      "Epoch 11/30\n",
      "154/154 - 0s - loss: 1.5242e-04 - 494ms/epoch - 3ms/step\n",
      "Epoch 12/30\n",
      "154/154 - 0s - loss: 1.5215e-04 - 454ms/epoch - 3ms/step\n",
      "Epoch 13/30\n",
      "154/154 - 0s - loss: 1.5211e-04 - 466ms/epoch - 3ms/step\n",
      "Epoch 14/30\n",
      "154/154 - 0s - loss: 1.5226e-04 - 451ms/epoch - 3ms/step\n",
      "Epoch 15/30\n",
      "154/154 - 0s - loss: 1.5202e-04 - 417ms/epoch - 3ms/step\n",
      "Epoch 16/30\n",
      "154/154 - 0s - loss: 1.5167e-04 - 397ms/epoch - 3ms/step\n",
      "Epoch 17/30\n",
      "154/154 - 0s - loss: 1.5220e-04 - 412ms/epoch - 3ms/step\n",
      "Epoch 18/30\n",
      "154/154 - 1s - loss: 1.5182e-04 - 528ms/epoch - 3ms/step\n",
      "Epoch 19/30\n",
      "154/154 - 0s - loss: 1.5194e-04 - 422ms/epoch - 3ms/step\n",
      "Epoch 20/30\n",
      "154/154 - 0s - loss: 1.5144e-04 - 398ms/epoch - 3ms/step\n",
      "Epoch 21/30\n",
      "154/154 - 0s - loss: 1.5176e-04 - 412ms/epoch - 3ms/step\n",
      "Epoch 22/30\n",
      "154/154 - 0s - loss: 1.5162e-04 - 445ms/epoch - 3ms/step\n",
      "Epoch 23/30\n",
      "154/154 - 0s - loss: 1.5158e-04 - 392ms/epoch - 3ms/step\n",
      "Epoch 24/30\n",
      "154/154 - 0s - loss: 1.5187e-04 - 414ms/epoch - 3ms/step\n",
      "Epoch 25/30\n",
      "154/154 - 0s - loss: 1.5144e-04 - 412ms/epoch - 3ms/step\n",
      "Epoch 26/30\n",
      "154/154 - 0s - loss: 1.5105e-04 - 435ms/epoch - 3ms/step\n",
      "Epoch 27/30\n",
      "154/154 - 0s - loss: 1.5081e-04 - 412ms/epoch - 3ms/step\n",
      "Epoch 28/30\n",
      "154/154 - 0s - loss: 1.5077e-04 - 398ms/epoch - 3ms/step\n",
      "Epoch 29/30\n",
      "154/154 - 0s - loss: 1.5079e-04 - 415ms/epoch - 3ms/step\n",
      "Epoch 30/30\n",
      "154/154 - 0s - loss: 1.5073e-04 - 401ms/epoch - 3ms/step\n",
      "Epoch 1/30\n",
      "154/154 - 0s - loss: 0.0017 - 404ms/epoch - 3ms/step\n",
      "Epoch 2/30\n",
      "154/154 - 0s - loss: 0.0016 - 399ms/epoch - 3ms/step\n",
      "Epoch 3/30\n",
      "154/154 - 0s - loss: 0.0016 - 405ms/epoch - 3ms/step\n",
      "Epoch 4/30\n",
      "154/154 - 0s - loss: 0.0016 - 436ms/epoch - 3ms/step\n",
      "Epoch 5/30\n",
      "154/154 - 0s - loss: 0.0016 - 463ms/epoch - 3ms/step\n",
      "Epoch 6/30\n",
      "154/154 - 1s - loss: 0.0016 - 546ms/epoch - 4ms/step\n",
      "Epoch 7/30\n",
      "154/154 - 0s - loss: 0.0016 - 399ms/epoch - 3ms/step\n",
      "Epoch 8/30\n",
      "154/154 - 0s - loss: 0.0016 - 397ms/epoch - 3ms/step\n",
      "Epoch 9/30\n",
      "154/154 - 0s - loss: 0.0016 - 393ms/epoch - 3ms/step\n",
      "Epoch 10/30\n",
      "154/154 - 0s - loss: 0.0016 - 395ms/epoch - 3ms/step\n",
      "Epoch 11/30\n",
      "154/154 - 0s - loss: 0.0016 - 391ms/epoch - 3ms/step\n",
      "Epoch 12/30\n",
      "154/154 - 0s - loss: 0.0016 - 395ms/epoch - 3ms/step\n",
      "Epoch 13/30\n",
      "154/154 - 0s - loss: 0.0016 - 396ms/epoch - 3ms/step\n",
      "Epoch 14/30\n",
      "154/154 - 0s - loss: 0.0016 - 393ms/epoch - 3ms/step\n",
      "Epoch 15/30\n",
      "154/154 - 0s - loss: 0.0016 - 398ms/epoch - 3ms/step\n",
      "Epoch 16/30\n",
      "154/154 - 0s - loss: 0.0016 - 395ms/epoch - 3ms/step\n",
      "Epoch 17/30\n",
      "154/154 - 0s - loss: 0.0016 - 399ms/epoch - 3ms/step\n",
      "Epoch 18/30\n",
      "154/154 - 0s - loss: 0.0016 - 394ms/epoch - 3ms/step\n",
      "Epoch 19/30\n",
      "154/154 - 0s - loss: 0.0015 - 391ms/epoch - 3ms/step\n",
      "Epoch 20/30\n",
      "154/154 - 0s - loss: 0.0015 - 397ms/epoch - 3ms/step\n",
      "Epoch 21/30\n",
      "154/154 - 0s - loss: 0.0015 - 393ms/epoch - 3ms/step\n",
      "Epoch 22/30\n",
      "154/154 - 0s - loss: 0.0015 - 401ms/epoch - 3ms/step\n",
      "Epoch 23/30\n",
      "154/154 - 0s - loss: 0.0015 - 474ms/epoch - 3ms/step\n",
      "Epoch 24/30\n",
      "154/154 - 0s - loss: 0.0015 - 449ms/epoch - 3ms/step\n",
      "Epoch 25/30\n",
      "154/154 - 0s - loss: 0.0015 - 418ms/epoch - 3ms/step\n",
      "Epoch 26/30\n",
      "154/154 - 0s - loss: 0.0015 - 400ms/epoch - 3ms/step\n",
      "Epoch 27/30\n",
      "154/154 - 0s - loss: 0.0015 - 413ms/epoch - 3ms/step\n",
      "Epoch 28/30\n",
      "154/154 - 0s - loss: 0.0015 - 393ms/epoch - 3ms/step\n",
      "Epoch 29/30\n",
      "154/154 - 0s - loss: 0.0015 - 397ms/epoch - 3ms/step\n",
      "Epoch 30/30\n",
      "154/154 - 0s - loss: 0.0015 - 395ms/epoch - 3ms/step\n",
      "Epoch 1/30\n",
      "154/154 - 0s - loss: 1.5335e-04 - 406ms/epoch - 3ms/step\n",
      "Epoch 2/30\n",
      "154/154 - 0s - loss: 1.4325e-04 - 407ms/epoch - 3ms/step\n",
      "Epoch 3/30\n",
      "154/154 - 0s - loss: 1.4174e-04 - 475ms/epoch - 3ms/step\n",
      "Epoch 4/30\n",
      "154/154 - 1s - loss: 1.4100e-04 - 534ms/epoch - 3ms/step\n",
      "Epoch 5/30\n",
      "154/154 - 0s - loss: 1.4050e-04 - 413ms/epoch - 3ms/step\n",
      "Epoch 6/30\n",
      "154/154 - 1s - loss: 1.4022e-04 - 573ms/epoch - 4ms/step\n",
      "Epoch 7/30\n",
      "154/154 - 0s - loss: 1.3995e-04 - 446ms/epoch - 3ms/step\n",
      "Epoch 8/30\n",
      "154/154 - 0s - loss: 1.3973e-04 - 400ms/epoch - 3ms/step\n",
      "Epoch 9/30\n",
      "154/154 - 1s - loss: 1.3971e-04 - 680ms/epoch - 4ms/step\n",
      "Epoch 10/30\n",
      "154/154 - 1s - loss: 1.3940e-04 - 541ms/epoch - 4ms/step\n",
      "Epoch 11/30\n",
      "154/154 - 1s - loss: 1.3943e-04 - 591ms/epoch - 4ms/step\n",
      "Epoch 12/30\n",
      "154/154 - 1s - loss: 1.3931e-04 - 597ms/epoch - 4ms/step\n",
      "Epoch 13/30\n",
      "154/154 - 1s - loss: 1.3914e-04 - 637ms/epoch - 4ms/step\n",
      "Epoch 14/30\n",
      "154/154 - 0s - loss: 1.3903e-04 - 388ms/epoch - 3ms/step\n",
      "Epoch 15/30\n",
      "154/154 - 0s - loss: 1.3906e-04 - 394ms/epoch - 3ms/step\n",
      "Epoch 16/30\n",
      "154/154 - 0s - loss: 1.3901e-04 - 411ms/epoch - 3ms/step\n",
      "Epoch 17/30\n",
      "154/154 - 1s - loss: 1.3934e-04 - 501ms/epoch - 3ms/step\n",
      "Epoch 18/30\n",
      "154/154 - 1s - loss: 1.3917e-04 - 634ms/epoch - 4ms/step\n",
      "Epoch 19/30\n",
      "154/154 - 0s - loss: 1.3890e-04 - 389ms/epoch - 3ms/step\n",
      "Epoch 20/30\n",
      "154/154 - 0s - loss: 1.3879e-04 - 403ms/epoch - 3ms/step\n",
      "Epoch 21/30\n",
      "154/154 - 0s - loss: 1.3872e-04 - 392ms/epoch - 3ms/step\n",
      "Epoch 22/30\n",
      "154/154 - 0s - loss: 1.3884e-04 - 399ms/epoch - 3ms/step\n",
      "Epoch 23/30\n",
      "154/154 - 0s - loss: 1.3887e-04 - 414ms/epoch - 3ms/step\n",
      "Epoch 24/30\n",
      "154/154 - 0s - loss: 1.3865e-04 - 401ms/epoch - 3ms/step\n",
      "Epoch 25/30\n",
      "154/154 - 0s - loss: 1.3868e-04 - 404ms/epoch - 3ms/step\n",
      "Epoch 26/30\n",
      "154/154 - 0s - loss: 1.3872e-04 - 401ms/epoch - 3ms/step\n",
      "Epoch 27/30\n",
      "154/154 - 0s - loss: 1.3933e-04 - 401ms/epoch - 3ms/step\n",
      "Epoch 28/30\n",
      "154/154 - 0s - loss: 1.3878e-04 - 391ms/epoch - 3ms/step\n",
      "Epoch 29/30\n",
      "154/154 - 0s - loss: 1.3861e-04 - 396ms/epoch - 3ms/step\n",
      "Epoch 30/30\n",
      "154/154 - 0s - loss: 1.3843e-04 - 397ms/epoch - 3ms/step\n",
      "Epoch 1/30\n",
      "154/154 - 0s - loss: 3.3339e-04 - 400ms/epoch - 3ms/step\n",
      "Epoch 2/30\n",
      "154/154 - 0s - loss: 3.2947e-04 - 397ms/epoch - 3ms/step\n",
      "Epoch 3/30\n",
      "154/154 - 0s - loss: 3.2732e-04 - 409ms/epoch - 3ms/step\n",
      "Epoch 4/30\n",
      "154/154 - 1s - loss: 3.2812e-04 - 525ms/epoch - 3ms/step\n",
      "Epoch 5/30\n",
      "154/154 - 0s - loss: 3.2617e-04 - 416ms/epoch - 3ms/step\n",
      "Epoch 6/30\n",
      "154/154 - 0s - loss: 3.2517e-04 - 397ms/epoch - 3ms/step\n",
      "Epoch 7/30\n",
      "154/154 - 0s - loss: 3.2500e-04 - 406ms/epoch - 3ms/step\n",
      "Epoch 8/30\n",
      "154/154 - 0s - loss: 3.2545e-04 - 398ms/epoch - 3ms/step\n",
      "Epoch 9/30\n",
      "154/154 - 0s - loss: 3.2511e-04 - 401ms/epoch - 3ms/step\n",
      "Epoch 10/30\n",
      "154/154 - 0s - loss: 3.2447e-04 - 399ms/epoch - 3ms/step\n",
      "Epoch 11/30\n",
      "154/154 - 0s - loss: 3.2475e-04 - 483ms/epoch - 3ms/step\n",
      "Epoch 12/30\n",
      "154/154 - 0s - loss: 3.2429e-04 - 493ms/epoch - 3ms/step\n",
      "Epoch 13/30\n",
      "154/154 - 0s - loss: 3.2494e-04 - 394ms/epoch - 3ms/step\n",
      "Epoch 14/30\n",
      "154/154 - 0s - loss: 3.2454e-04 - 438ms/epoch - 3ms/step\n",
      "Epoch 15/30\n",
      "154/154 - 1s - loss: 3.2422e-04 - 505ms/epoch - 3ms/step\n",
      "Epoch 16/30\n",
      "154/154 - 1s - loss: 3.2394e-04 - 820ms/epoch - 5ms/step\n",
      "Epoch 17/30\n",
      "154/154 - 1s - loss: 3.2546e-04 - 902ms/epoch - 6ms/step\n",
      "Epoch 18/30\n",
      "154/154 - 0s - loss: 3.2402e-04 - 441ms/epoch - 3ms/step\n",
      "Epoch 19/30\n",
      "154/154 - 0s - loss: 3.2380e-04 - 477ms/epoch - 3ms/step\n",
      "Epoch 20/30\n",
      "154/154 - 0s - loss: 3.2380e-04 - 458ms/epoch - 3ms/step\n",
      "Epoch 21/30\n",
      "154/154 - 1s - loss: 3.2335e-04 - 559ms/epoch - 4ms/step\n",
      "Epoch 22/30\n",
      "154/154 - 1s - loss: 3.2434e-04 - 616ms/epoch - 4ms/step\n",
      "Epoch 23/30\n",
      "154/154 - 1s - loss: 3.2453e-04 - 614ms/epoch - 4ms/step\n",
      "Epoch 24/30\n",
      "154/154 - 0s - loss: 3.2361e-04 - 399ms/epoch - 3ms/step\n",
      "Epoch 25/30\n",
      "154/154 - 1s - loss: 3.2379e-04 - 581ms/epoch - 4ms/step\n",
      "Epoch 26/30\n",
      "154/154 - 0s - loss: 3.2288e-04 - 478ms/epoch - 3ms/step\n",
      "Epoch 27/30\n",
      "154/154 - 0s - loss: 3.2422e-04 - 406ms/epoch - 3ms/step\n",
      "Epoch 28/30\n",
      "154/154 - 0s - loss: 3.2440e-04 - 451ms/epoch - 3ms/step\n",
      "Epoch 29/30\n",
      "154/154 - 0s - loss: 3.2320e-04 - 411ms/epoch - 3ms/step\n",
      "Epoch 30/30\n",
      "154/154 - 1s - loss: 3.2319e-04 - 546ms/epoch - 4ms/step\n",
      "Epoch 1/30\n",
      "154/154 - 0s - loss: 8.3217e-05 - 402ms/epoch - 3ms/step\n",
      "Epoch 2/30\n",
      "154/154 - 0s - loss: 7.6434e-05 - 423ms/epoch - 3ms/step\n",
      "Epoch 3/30\n",
      "154/154 - 1s - loss: 7.4147e-05 - 563ms/epoch - 4ms/step\n",
      "Epoch 4/30\n",
      "154/154 - 0s - loss: 7.5992e-05 - 488ms/epoch - 3ms/step\n",
      "Epoch 5/30\n",
      "154/154 - 0s - loss: 7.2672e-05 - 431ms/epoch - 3ms/step\n",
      "Epoch 6/30\n",
      "154/154 - 0s - loss: 7.3671e-05 - 405ms/epoch - 3ms/step\n",
      "Epoch 7/30\n",
      "154/154 - 0s - loss: 7.3819e-05 - 398ms/epoch - 3ms/step\n",
      "Epoch 8/30\n",
      "154/154 - 0s - loss: 7.3027e-05 - 482ms/epoch - 3ms/step\n",
      "Epoch 9/30\n",
      "154/154 - 0s - loss: 7.2176e-05 - 491ms/epoch - 3ms/step\n",
      "Epoch 10/30\n",
      "154/154 - 0s - loss: 7.2399e-05 - 482ms/epoch - 3ms/step\n",
      "Epoch 11/30\n",
      "154/154 - 0s - loss: 7.2042e-05 - 465ms/epoch - 3ms/step\n",
      "Epoch 12/30\n",
      "154/154 - 0s - loss: 7.1593e-05 - 430ms/epoch - 3ms/step\n",
      "Epoch 13/30\n",
      "154/154 - 1s - loss: 7.3552e-05 - 602ms/epoch - 4ms/step\n",
      "Epoch 14/30\n",
      "154/154 - 1s - loss: 7.0458e-05 - 1s/epoch - 8ms/step\n",
      "Epoch 15/30\n",
      "154/154 - 1s - loss: 7.0703e-05 - 1s/epoch - 8ms/step\n",
      "Epoch 16/30\n",
      "154/154 - 1s - loss: 7.0470e-05 - 801ms/epoch - 5ms/step\n",
      "Epoch 17/30\n",
      "154/154 - 1s - loss: 7.0942e-05 - 927ms/epoch - 6ms/step\n",
      "Epoch 18/30\n",
      "154/154 - 1s - loss: 7.0392e-05 - 861ms/epoch - 6ms/step\n",
      "Epoch 19/30\n",
      "154/154 - 1s - loss: 7.1659e-05 - 850ms/epoch - 6ms/step\n",
      "Epoch 20/30\n",
      "154/154 - 1s - loss: 6.9674e-05 - 567ms/epoch - 4ms/step\n",
      "Epoch 21/30\n",
      "154/154 - 1s - loss: 6.9797e-05 - 823ms/epoch - 5ms/step\n",
      "Epoch 22/30\n",
      "154/154 - 1s - loss: 6.9979e-05 - 668ms/epoch - 4ms/step\n",
      "Epoch 23/30\n",
      "154/154 - 1s - loss: 6.9722e-05 - 566ms/epoch - 4ms/step\n",
      "Epoch 24/30\n",
      "154/154 - 0s - loss: 6.9595e-05 - 457ms/epoch - 3ms/step\n",
      "Epoch 25/30\n",
      "154/154 - 0s - loss: 6.9798e-05 - 412ms/epoch - 3ms/step\n",
      "Epoch 26/30\n",
      "154/154 - 0s - loss: 6.9368e-05 - 398ms/epoch - 3ms/step\n",
      "Epoch 27/30\n",
      "154/154 - 0s - loss: 6.9680e-05 - 407ms/epoch - 3ms/step\n",
      "Epoch 28/30\n",
      "154/154 - 1s - loss: 6.9421e-05 - 593ms/epoch - 4ms/step\n",
      "Epoch 29/30\n",
      "154/154 - 0s - loss: 6.9381e-05 - 494ms/epoch - 3ms/step\n",
      "Epoch 30/30\n",
      "154/154 - 0s - loss: 7.0492e-05 - 448ms/epoch - 3ms/step\n",
      "Epoch 1/30\n",
      "154/154 - 0s - loss: 2.0437e-05 - 494ms/epoch - 3ms/step\n",
      "Epoch 2/30\n",
      "154/154 - 0s - loss: 1.8934e-05 - 471ms/epoch - 3ms/step\n",
      "Epoch 3/30\n",
      "154/154 - 1s - loss: 1.8782e-05 - 501ms/epoch - 3ms/step\n",
      "Epoch 4/30\n",
      "154/154 - 0s - loss: 1.8639e-05 - 456ms/epoch - 3ms/step\n",
      "Epoch 5/30\n",
      "154/154 - 0s - loss: 1.8320e-05 - 430ms/epoch - 3ms/step\n",
      "Epoch 6/30\n",
      "154/154 - 1s - loss: 1.8089e-05 - 561ms/epoch - 4ms/step\n",
      "Epoch 7/30\n",
      "154/154 - 0s - loss: 1.7828e-05 - 465ms/epoch - 3ms/step\n",
      "Epoch 8/30\n",
      "154/154 - 1s - loss: 1.7679e-05 - 722ms/epoch - 5ms/step\n",
      "Epoch 9/30\n",
      "154/154 - 0s - loss: 1.7443e-05 - 499ms/epoch - 3ms/step\n",
      "Epoch 10/30\n",
      "154/154 - 0s - loss: 1.7318e-05 - 454ms/epoch - 3ms/step\n",
      "Epoch 11/30\n",
      "154/154 - 0s - loss: 1.7153e-05 - 441ms/epoch - 3ms/step\n",
      "Epoch 12/30\n",
      "154/154 - 0s - loss: 1.7211e-05 - 473ms/epoch - 3ms/step\n",
      "Epoch 13/30\n",
      "154/154 - 0s - loss: 1.7084e-05 - 435ms/epoch - 3ms/step\n",
      "Epoch 14/30\n",
      "154/154 - 0s - loss: 1.7207e-05 - 415ms/epoch - 3ms/step\n",
      "Epoch 15/30\n",
      "154/154 - 0s - loss: 1.7070e-05 - 401ms/epoch - 3ms/step\n",
      "Epoch 16/30\n",
      "154/154 - 0s - loss: 1.6984e-05 - 405ms/epoch - 3ms/step\n",
      "Epoch 17/30\n",
      "154/154 - 0s - loss: 1.6951e-05 - 402ms/epoch - 3ms/step\n",
      "Epoch 18/30\n",
      "154/154 - 0s - loss: 1.6844e-05 - 475ms/epoch - 3ms/step\n",
      "Epoch 19/30\n",
      "154/154 - 0s - loss: 1.6872e-05 - 462ms/epoch - 3ms/step\n",
      "Epoch 20/30\n",
      "154/154 - 0s - loss: 1.6958e-05 - 450ms/epoch - 3ms/step\n",
      "Epoch 21/30\n",
      "154/154 - 1s - loss: 1.7024e-05 - 679ms/epoch - 4ms/step\n",
      "Epoch 22/30\n",
      "154/154 - 1s - loss: 1.6818e-05 - 578ms/epoch - 4ms/step\n",
      "Epoch 23/30\n",
      "154/154 - 0s - loss: 1.7049e-05 - 426ms/epoch - 3ms/step\n",
      "Epoch 24/30\n",
      "154/154 - 1s - loss: 1.6928e-05 - 512ms/epoch - 3ms/step\n",
      "Epoch 25/30\n",
      "154/154 - 1s - loss: 1.6878e-05 - 630ms/epoch - 4ms/step\n",
      "Epoch 26/30\n",
      "154/154 - 0s - loss: 1.6688e-05 - 445ms/epoch - 3ms/step\n",
      "Epoch 27/30\n",
      "154/154 - 1s - loss: 1.6648e-05 - 550ms/epoch - 4ms/step\n",
      "Epoch 28/30\n",
      "154/154 - 0s - loss: 1.6943e-05 - 421ms/epoch - 3ms/step\n",
      "Epoch 29/30\n",
      "154/154 - 0s - loss: 1.6899e-05 - 446ms/epoch - 3ms/step\n",
      "Epoch 30/30\n",
      "154/154 - 0s - loss: 1.6881e-05 - 444ms/epoch - 3ms/step\n"
     ]
    }
   ],
   "source": [
    "for i in range(len(X_train)):\n",
    "    model.fit(x=X_train[i], y=Y_train[i], epochs=30, batch_size=20, verbose=2)"
   ],
   "metadata": {
    "collapsed": false,
    "pycharm": {
     "name": "#%%\n"
    }
   }
  },
  {
   "cell_type": "code",
   "execution_count": 15,
   "outputs": [],
   "source": [
    "test_start, test_end = \"2018-11-09\", \"2019-01-01\"\n",
    "df_test = ImportEV().getCaltech(start_date=test_start, end_date=test_end, removeUsers=True, userSampleLimit=15)"
   ],
   "metadata": {
    "collapsed": false,
    "pycharm": {
     "name": "#%%\n"
    }
   }
  },
  {
   "cell_type": "code",
   "execution_count": 16,
   "outputs": [
    {
     "data": {
      "text/plain": "array(['000000743', '000001092', '000000560', '000001097', '000000858',\n       '000000234', '000000559', '000000324', '000000567', '000000068',\n       '000000891', '000001083', '000000714', '000001135', '000001095',\n       '000001082', '000001124', '000000609', '000000632', '000000222',\n       '000000754', '000001161', '000001093', '000000777', '000001126',\n       '000000838', '000000569', '000000945', '000001102', '000001104',\n       '000000566', '000000637', '000000556', '000001001', '000000562',\n       '000000558', '000001366'], dtype=object)"
     },
     "execution_count": 16,
     "metadata": {},
     "output_type": "execute_result"
    }
   ],
   "source": [
    "users = createUsers(df_test, test_start, test_end)\n",
    "user_id = users.data.userID.unique()\n",
    "user_id"
   ],
   "metadata": {
    "collapsed": false,
    "pycharm": {
     "name": "#%%\n"
    }
   }
  },
  {
   "cell_type": "code",
   "execution_count": 17,
   "outputs": [],
   "source": [
    "user_df_test = []\n",
    "\n",
    "for user in user_id:\n",
    "    user_df_test.append(users.getUserData(user=user))"
   ],
   "metadata": {
    "collapsed": false,
    "pycharm": {
     "name": "#%%\n"
    }
   }
  },
  {
   "cell_type": "code",
   "execution_count": 18,
   "outputs": [],
   "source": [
    "X_test, Y_test = [], []\n",
    "\n",
    "for user in user_df_test:\n",
    "    Y_test.append(user.chargingTime)\n",
    "    X_test.append(user.drop(columns=['chargingTime']))"
   ],
   "metadata": {
    "collapsed": false,
    "pycharm": {
     "name": "#%%\n"
    }
   }
  },
  {
   "cell_type": "code",
   "execution_count": 19,
   "outputs": [],
   "source": [
    "X_test_scaled = []\n",
    "\n",
    "for user in X_test:\n",
    "    X_test_scaled.append(ss.transform(user))"
   ],
   "metadata": {
    "collapsed": false,
    "pycharm": {
     "name": "#%%\n"
    }
   }
  },
  {
   "cell_type": "code",
   "execution_count": 26,
   "outputs": [
    {
     "data": {
      "text/plain": "[array([[   0., 6289.,    0.,    0.,    0.,    0.],\n        [6289.,    0.,    0.,    0.,    0.,    0.],\n        [   0.,    0.,    0.,    0.,    0.,    0.],\n        ...,\n        [   0.,    0.,    0.,    0.,    0.,    0.],\n        [   0.,    0.,    0.,    0.,    0.,    0.],\n        [   0.,    0.,    0.,    0.,    0.,    0.]]),\n array([[0., 0., 0., 0., 0., 0.],\n        [0., 0., 0., 0., 0., 0.],\n        [0., 0., 0., 0., 0., 0.],\n        ...,\n        [0., 0., 0., 0., 0., 0.],\n        [0., 0., 0., 0., 0., 0.],\n        [0., 0., 0., 0., 0., 0.]]),\n array([[0., 0., 0., 0., 0., 0.],\n        [0., 0., 0., 0., 0., 0.],\n        [0., 0., 0., 0., 0., 0.],\n        ...,\n        [0., 0., 0., 0., 0., 0.],\n        [0., 0., 0., 0., 0., 0.],\n        [0., 0., 0., 0., 0., 0.]]),\n array([[0., 0., 0., 0., 0., 0.],\n        [0., 0., 0., 0., 0., 0.],\n        [0., 0., 0., 0., 0., 0.],\n        ...,\n        [0., 0., 0., 0., 0., 0.],\n        [0., 0., 0., 0., 0., 0.],\n        [0., 0., 0., 0., 0., 0.]]),\n array([[0., 0., 0., 0., 0., 0.],\n        [0., 0., 0., 0., 0., 0.],\n        [0., 0., 0., 0., 0., 0.],\n        ...,\n        [0., 0., 0., 0., 0., 0.],\n        [0., 0., 0., 0., 0., 0.],\n        [0., 0., 0., 0., 0., 0.]]),\n array([[10840.,     0.,     0.,     0.,     0.,     0.],\n        [    0.,     0.,     0.,     0.,     0.,     0.],\n        [    0.,     0.,     0.,     0.,     0.,     0.],\n        ...,\n        [    0.,     0.,     0.,     0.,     0.,     0.],\n        [    0.,     0.,     0.,     0.,     0.,     0.],\n        [    0.,     0.,     0.,     0.,     0.,     0.]]),\n array([[10474.,     0.,     0.,     0.,     0.,     0.],\n        [    0.,     0.,     0.,     0.,     0.,     0.],\n        [    0.,     0.,     0.,     0.,     0.,     0.],\n        ...,\n        [    0.,     0.,     0.,     0.,     0.,     0.],\n        [    0.,     0.,     0.,     0.,     0.,     0.],\n        [    0.,     0.,     0.,     0.,     0.,     0.]]),\n array([[4011.,    0.,    0.,    0.,    0.,    0.],\n        [   0.,    0.,    0.,    0.,    0.,    0.],\n        [   0.,    0.,    0.,    0.,    0.,    0.],\n        ...,\n        [   0.,    0.,    0.,    0.,    0.,    0.],\n        [   0.,    0.,    0.,    0.,    0.,    0.],\n        [   0.,    0.,    0.,    0.,    0.,    0.]]),\n array([[   0., 6856.,    0.,    0.,    0.,    0.],\n        [6856.,    0.,    0.,    0.,    0.,    0.],\n        [   0.,    0.,    0.,    0.,    0.,    0.],\n        ...,\n        [   0.,    0.,    0.,    0.,    0.,    0.],\n        [   0.,    0.,    0.,    0.,    0.,    0.],\n        [   0.,    0.,    0.,    0.,    0.,    0.]]),\n array([[    0., 15227.,     0.,     0.,     0.,     0.],\n        [15227.,     0.,     0.,     0.,     0.,     0.],\n        [    0.,     0.,     0.,     0.,     0.,     0.],\n        ...,\n        [    0.,     0.,     0.,     0.,     0.,     0.],\n        [    0.,     0.,     0.,     0.,     0.,     0.],\n        [    0.,     0.,     0.,     0.,     0.,     0.]]),\n array([[   0., 5358.,    0.,    0.,    0.,    0.],\n        [5358.,    0.,    0.,    0.,    0.,    0.],\n        [   0.,    0.,    0.,    0.,    0.,    0.],\n        ...,\n        [   0.,    0.,    0.,    0.,    0.,    0.],\n        [   0.,    0.,    0.,    0.,    0.,    0.],\n        [   0.,    0.,    0.,    0.,    0.,    0.]]),\n array([[   0., 5997.,    0.,    0.,    0.,    0.],\n        [5997.,    0.,    0.,    0.,    0.,    0.],\n        [   0.,    0.,    0.,    0.,    0.,    0.],\n        ...,\n        [   0.,    0.,    0.,    0.,    0.,    0.],\n        [   0.,    0.,    0.,    0.,    0.,    0.],\n        [   0.,    0.,    0.,    0.,    0.,    0.]]),\n array([[   0., 4306.,    0.,    0.,    0.,    0.],\n        [4306.,    0.,    0.,    0.,    0.,    0.],\n        [   0.,    0.,    0.,    0.,    0.,    0.],\n        ...,\n        [   0.,    0.,    0.,    0.,    0.,    0.],\n        [   0.,    0.,    0.,    0.,    0.,    0.],\n        [   0.,    0.,    0.,    0.,    0.,    0.]]),\n array([[    0.,     0., 12089.,     0.,     0.,     0.],\n        [    0., 12089.,     0.,     0.,     0.,     0.],\n        [12089.,     0.,     0.,     0.,     0.,     0.],\n        ...,\n        [    0.,     0.,     0.,     0.,     0.,     0.],\n        [    0.,     0.,     0.,     0.,     0.,     0.],\n        [    0.,     0.,     0.,     0.,     0.,     0.]]),\n array([[    0.,     0., 25142.,     0.,     0.,     0.],\n        [    0., 25142.,     0.,     0.,     0.,     0.],\n        [25142.,     0.,     0.,     0.,     0.,     0.],\n        ...,\n        [    0.,     0.,     0.,     0.,     0.,     0.],\n        [    0.,     0.,     0.,     0.,     0.,     0.],\n        [    0.,     0.,     0.,     0.,     0.,     0.]]),\n array([[   0.,    0.,    0.,    0., 4054.,    0.],\n        [   0.,    0.,    0., 4054.,    0.,    0.],\n        [   0.,    0., 4054.,    0.,    0.,    0.],\n        ...,\n        [   0.,    0.,    0.,    0.,    0.,    0.],\n        [   0.,    0.,    0.,    0.,    0.,    0.],\n        [   0.,    0.,    0.,    0.,    0.,    0.]]),\n array([[   0.,    0.,    0.,    0.,    0., 7355.],\n        [   0.,    0.,    0.,    0., 7355.,    0.],\n        [   0.,    0.,    0., 7355.,    0.,    0.],\n        ...,\n        [   0.,    0.,    0.,    0.,    0.,    0.],\n        [   0.,    0.,    0.,    0.,    0.,    0.],\n        [   0.,    0.,    0.,    0.,    0.,    0.]]),\n array([[   0.,    0.,    0.,    0.,    0.,    0.],\n        [   0.,    0.,    0.,    0.,    0.,    0.],\n        [   0.,    0.,    0.,    0.,    0., 5142.],\n        ...,\n        [   0.,    0.,    0.,    0.,    0.,    0.],\n        [   0.,    0.,    0.,    0.,    0.,    0.],\n        [   0.,    0.,    0.,    0.,    0.,    0.]]),\n array([[0., 0., 0., 0., 0., 0.],\n        [0., 0., 0., 0., 0., 0.],\n        [0., 0., 0., 0., 0., 0.],\n        ...,\n        [0., 0., 0., 0., 0., 0.],\n        [0., 0., 0., 0., 0., 0.],\n        [0., 0., 0., 0., 0., 0.]]),\n array([[0., 0., 0., 0., 0., 0.],\n        [0., 0., 0., 0., 0., 0.],\n        [0., 0., 0., 0., 0., 0.],\n        ...,\n        [0., 0., 0., 0., 0., 0.],\n        [0., 0., 0., 0., 0., 0.],\n        [0., 0., 0., 0., 0., 0.]]),\n array([[0., 0., 0., 0., 0., 0.],\n        [0., 0., 0., 0., 0., 0.],\n        [0., 0., 0., 0., 0., 0.],\n        ...,\n        [0., 0., 0., 0., 0., 0.],\n        [0., 0., 0., 0., 0., 0.],\n        [0., 0., 0., 0., 0., 0.]]),\n array([[0., 0., 0., 0., 0., 0.],\n        [0., 0., 0., 0., 0., 0.],\n        [0., 0., 0., 0., 0., 0.],\n        ...,\n        [0., 0., 0., 0., 0., 0.],\n        [0., 0., 0., 0., 0., 0.],\n        [0., 0., 0., 0., 0., 0.]]),\n array([[0., 0., 0., 0., 0., 0.],\n        [0., 0., 0., 0., 0., 0.],\n        [0., 0., 0., 0., 0., 0.],\n        ...,\n        [0., 0., 0., 0., 0., 0.],\n        [0., 0., 0., 0., 0., 0.],\n        [0., 0., 0., 0., 0., 0.]]),\n array([[0., 0., 0., 0., 0., 0.],\n        [0., 0., 0., 0., 0., 0.],\n        [0., 0., 0., 0., 0., 0.],\n        ...,\n        [0., 0., 0., 0., 0., 0.],\n        [0., 0., 0., 0., 0., 0.],\n        [0., 0., 0., 0., 0., 0.]]),\n array([[0., 0., 0., 0., 0., 0.],\n        [0., 0., 0., 0., 0., 0.],\n        [0., 0., 0., 0., 0., 0.],\n        ...,\n        [0., 0., 0., 0., 0., 0.],\n        [0., 0., 0., 0., 0., 0.],\n        [0., 0., 0., 0., 0., 0.]]),\n array([[0., 0., 0., 0., 0., 0.],\n        [0., 0., 0., 0., 0., 0.],\n        [0., 0., 0., 0., 0., 0.],\n        ...,\n        [0., 0., 0., 0., 0., 0.],\n        [0., 0., 0., 0., 0., 0.],\n        [0., 0., 0., 0., 0., 0.]]),\n array([[0., 0., 0., 0., 0., 0.],\n        [0., 0., 0., 0., 0., 0.],\n        [0., 0., 0., 0., 0., 0.],\n        ...,\n        [0., 0., 0., 0., 0., 0.],\n        [0., 0., 0., 0., 0., 0.],\n        [0., 0., 0., 0., 0., 0.]]),\n array([[0., 0., 0., 0., 0., 0.],\n        [0., 0., 0., 0., 0., 0.],\n        [0., 0., 0., 0., 0., 0.],\n        ...,\n        [0., 0., 0., 0., 0., 0.],\n        [0., 0., 0., 0., 0., 0.],\n        [0., 0., 0., 0., 0., 0.]]),\n array([[0., 0., 0., 0., 0., 0.],\n        [0., 0., 0., 0., 0., 0.],\n        [0., 0., 0., 0., 0., 0.],\n        ...,\n        [0., 0., 0., 0., 0., 0.],\n        [0., 0., 0., 0., 0., 0.],\n        [0., 0., 0., 0., 0., 0.]]),\n array([[0., 0., 0., 0., 0., 0.],\n        [0., 0., 0., 0., 0., 0.],\n        [0., 0., 0., 0., 0., 0.],\n        ...,\n        [0., 0., 0., 0., 0., 0.],\n        [0., 0., 0., 0., 0., 0.],\n        [0., 0., 0., 0., 0., 0.]]),\n array([[0., 0., 0., 0., 0., 0.],\n        [0., 0., 0., 0., 0., 0.],\n        [0., 0., 0., 0., 0., 0.],\n        ...,\n        [0., 0., 0., 0., 0., 0.],\n        [0., 0., 0., 0., 0., 0.],\n        [0., 0., 0., 0., 0., 0.]]),\n array([[0., 0., 0., 0., 0., 0.],\n        [0., 0., 0., 0., 0., 0.],\n        [0., 0., 0., 0., 0., 0.],\n        ...,\n        [0., 0., 0., 0., 0., 0.],\n        [0., 0., 0., 0., 0., 0.],\n        [0., 0., 0., 0., 0., 0.]]),\n array([[0., 0., 0., 0., 0., 0.],\n        [0., 0., 0., 0., 0., 0.],\n        [0., 0., 0., 0., 0., 0.],\n        ...,\n        [0., 0., 0., 0., 0., 0.],\n        [0., 0., 0., 0., 0., 0.],\n        [0., 0., 0., 0., 0., 0.]]),\n array([[0., 0., 0., 0., 0., 0.],\n        [0., 0., 0., 0., 0., 0.],\n        [0., 0., 0., 0., 0., 0.],\n        ...,\n        [0., 0., 0., 0., 0., 0.],\n        [0., 0., 0., 0., 0., 0.],\n        [0., 0., 0., 0., 0., 0.]]),\n array([[0., 0., 0., 0., 0., 0.],\n        [0., 0., 0., 0., 0., 0.],\n        [0., 0., 0., 0., 0., 0.],\n        ...,\n        [0., 0., 0., 0., 0., 0.],\n        [0., 0., 0., 0., 0., 0.],\n        [0., 0., 0., 0., 0., 0.]]),\n array([[0., 0., 0., 0., 0., 0.],\n        [0., 0., 0., 0., 0., 0.],\n        [0., 0., 0., 0., 0., 0.],\n        ...,\n        [0., 0., 0., 0., 0., 0.],\n        [0., 0., 0., 0., 0., 0.],\n        [0., 0., 0., 0., 0., 0.]]),\n array([[0., 0., 0., 0., 0., 0.],\n        [0., 0., 0., 0., 0., 0.],\n        [0., 0., 0., 0., 0., 0.],\n        ...,\n        [0., 0., 0., 0., 0., 0.],\n        [0., 0., 0., 0., 0., 0.],\n        [0., 0., 0., 0., 0., 0.]])]"
     },
     "execution_count": 26,
     "metadata": {},
     "output_type": "execute_result"
    }
   ],
   "source": [
    "users_test_X, users_test_Y = [], []\n",
    "\n",
    "for user in range(len(X_test_scaled)):\n",
    "    user_test_X, user_test_Y = split_sequences(X_test_scaled[user], np.array(Y_test[user]).reshape(-1, 1), 10, 6)\n",
    "    users_test_X.append(user_test_X)\n",
    "    users_test_Y.append(user_test_Y)"
   ],
   "metadata": {
    "collapsed": false,
    "pycharm": {
     "name": "#%%\n"
    }
   }
  },
  {
   "cell_type": "code",
   "execution_count": 27,
   "outputs": [],
   "source": [
    "test_predict, test_Y = [], []\n",
    "\n",
    "for i in range(len(users_test_X)):\n",
    "    test_predict.append(sc.inverse_transform(model.predict(users_test_X[i]).reshape(-1, 1)))"
   ],
   "metadata": {
    "collapsed": false,
    "pycharm": {
     "name": "#%%\n"
    }
   }
  },
  {
   "cell_type": "code",
   "execution_count": 33,
   "outputs": [
    {
     "data": {
      "text/plain": "[0       0.0\n 1       0.0\n 2       0.0\n 3       0.0\n 4       0.0\n        ... \n 1267    0.0\n 1268    0.0\n 1269    0.0\n 1270    0.0\n 1271    0.0\n Name: chargingTime, Length: 1272, dtype: float64,\n 0       0.0\n 1       0.0\n 2       0.0\n 3       0.0\n 4       0.0\n        ... \n 1267    0.0\n 1268    0.0\n 1269    0.0\n 1270    0.0\n 1271    0.0\n Name: chargingTime, Length: 1272, dtype: float64,\n 0       0.0\n 1       0.0\n 2       0.0\n 3       0.0\n 4       0.0\n        ... \n 1267    0.0\n 1268    0.0\n 1269    0.0\n 1270    0.0\n 1271    0.0\n Name: chargingTime, Length: 1272, dtype: float64,\n 0       0.0\n 1       0.0\n 2       0.0\n 3       0.0\n 4       0.0\n        ... \n 1267    0.0\n 1268    0.0\n 1269    0.0\n 1270    0.0\n 1271    0.0\n Name: chargingTime, Length: 1272, dtype: float64,\n 0       0.0\n 1       0.0\n 2       0.0\n 3       0.0\n 4       0.0\n        ... \n 1267    0.0\n 1268    0.0\n 1269    0.0\n 1270    0.0\n 1271    0.0\n Name: chargingTime, Length: 1272, dtype: float64,\n 0       0.0\n 1       0.0\n 2       0.0\n 3       0.0\n 4       0.0\n        ... \n 1267    0.0\n 1268    0.0\n 1269    0.0\n 1270    0.0\n 1271    0.0\n Name: chargingTime, Length: 1272, dtype: float64,\n 0       0.0\n 1       0.0\n 2       0.0\n 3       0.0\n 4       0.0\n        ... \n 1267    0.0\n 1268    0.0\n 1269    0.0\n 1270    0.0\n 1271    0.0\n Name: chargingTime, Length: 1272, dtype: float64,\n 0       0.0\n 1       0.0\n 2       0.0\n 3       0.0\n 4       0.0\n        ... \n 1267    0.0\n 1268    0.0\n 1269    0.0\n 1270    0.0\n 1271    0.0\n Name: chargingTime, Length: 1272, dtype: float64,\n 0       0.0\n 1       0.0\n 2       0.0\n 3       0.0\n 4       0.0\n        ... \n 1267    0.0\n 1268    0.0\n 1269    0.0\n 1270    0.0\n 1271    0.0\n Name: chargingTime, Length: 1272, dtype: float64,\n 0       0.0\n 1       0.0\n 2       0.0\n 3       0.0\n 4       0.0\n        ... \n 1267    0.0\n 1268    0.0\n 1269    0.0\n 1270    0.0\n 1271    0.0\n Name: chargingTime, Length: 1272, dtype: float64,\n 0       0.0\n 1       0.0\n 2       0.0\n 3       0.0\n 4       0.0\n        ... \n 1267    0.0\n 1268    0.0\n 1269    0.0\n 1270    0.0\n 1271    0.0\n Name: chargingTime, Length: 1272, dtype: float64,\n 0       0.0\n 1       0.0\n 2       0.0\n 3       0.0\n 4       0.0\n        ... \n 1267    0.0\n 1268    0.0\n 1269    0.0\n 1270    0.0\n 1271    0.0\n Name: chargingTime, Length: 1272, dtype: float64,\n 0       0.0\n 1       0.0\n 2       0.0\n 3       0.0\n 4       0.0\n        ... \n 1267    0.0\n 1268    0.0\n 1269    0.0\n 1270    0.0\n 1271    0.0\n Name: chargingTime, Length: 1272, dtype: float64,\n 0       0.0\n 1       0.0\n 2       0.0\n 3       0.0\n 4       0.0\n        ... \n 1267    0.0\n 1268    0.0\n 1269    0.0\n 1270    0.0\n 1271    0.0\n Name: chargingTime, Length: 1272, dtype: float64,\n 0       0.0\n 1       0.0\n 2       0.0\n 3       0.0\n 4       0.0\n        ... \n 1267    0.0\n 1268    0.0\n 1269    0.0\n 1270    0.0\n 1271    0.0\n Name: chargingTime, Length: 1272, dtype: float64,\n 0       0.0\n 1       0.0\n 2       0.0\n 3       0.0\n 4       0.0\n        ... \n 1267    0.0\n 1268    0.0\n 1269    0.0\n 1270    0.0\n 1271    0.0\n Name: chargingTime, Length: 1272, dtype: float64,\n 0       0.0\n 1       0.0\n 2       0.0\n 3       0.0\n 4       0.0\n        ... \n 1267    0.0\n 1268    0.0\n 1269    0.0\n 1270    0.0\n 1271    0.0\n Name: chargingTime, Length: 1272, dtype: float64,\n 0       0.0\n 1       0.0\n 2       0.0\n 3       0.0\n 4       0.0\n        ... \n 1267    0.0\n 1268    0.0\n 1269    0.0\n 1270    0.0\n 1271    0.0\n Name: chargingTime, Length: 1272, dtype: float64,\n 0       0.0\n 1       0.0\n 2       0.0\n 3       0.0\n 4       0.0\n        ... \n 1267    0.0\n 1268    0.0\n 1269    0.0\n 1270    0.0\n 1271    0.0\n Name: chargingTime, Length: 1272, dtype: float64,\n 0       0.0\n 1       0.0\n 2       0.0\n 3       0.0\n 4       0.0\n        ... \n 1267    0.0\n 1268    0.0\n 1269    0.0\n 1270    0.0\n 1271    0.0\n Name: chargingTime, Length: 1272, dtype: float64,\n 0       0.0\n 1       0.0\n 2       0.0\n 3       0.0\n 4       0.0\n        ... \n 1267    0.0\n 1268    0.0\n 1269    0.0\n 1270    0.0\n 1271    0.0\n Name: chargingTime, Length: 1272, dtype: float64,\n 0       0.0\n 1       0.0\n 2       0.0\n 3       0.0\n 4       0.0\n        ... \n 1267    0.0\n 1268    0.0\n 1269    0.0\n 1270    0.0\n 1271    0.0\n Name: chargingTime, Length: 1272, dtype: float64,\n 0       0.0\n 1       0.0\n 2       0.0\n 3       0.0\n 4       0.0\n        ... \n 1267    0.0\n 1268    0.0\n 1269    0.0\n 1270    0.0\n 1271    0.0\n Name: chargingTime, Length: 1272, dtype: float64,\n 0       0.0\n 1       0.0\n 2       0.0\n 3       0.0\n 4       0.0\n        ... \n 1267    0.0\n 1268    0.0\n 1269    0.0\n 1270    0.0\n 1271    0.0\n Name: chargingTime, Length: 1272, dtype: float64,\n 0       0.0\n 1       0.0\n 2       0.0\n 3       0.0\n 4       0.0\n        ... \n 1267    0.0\n 1268    0.0\n 1269    0.0\n 1270    0.0\n 1271    0.0\n Name: chargingTime, Length: 1272, dtype: float64,\n 0       0.0\n 1       0.0\n 2       0.0\n 3       0.0\n 4       0.0\n        ... \n 1267    0.0\n 1268    0.0\n 1269    0.0\n 1270    0.0\n 1271    0.0\n Name: chargingTime, Length: 1272, dtype: float64,\n 0       0.0\n 1       0.0\n 2       0.0\n 3       0.0\n 4       0.0\n        ... \n 1267    0.0\n 1268    0.0\n 1269    0.0\n 1270    0.0\n 1271    0.0\n Name: chargingTime, Length: 1272, dtype: float64,\n 0       0.0\n 1       0.0\n 2       0.0\n 3       0.0\n 4       0.0\n        ... \n 1267    0.0\n 1268    0.0\n 1269    0.0\n 1270    0.0\n 1271    0.0\n Name: chargingTime, Length: 1272, dtype: float64,\n 0       0.0\n 1       0.0\n 2       0.0\n 3       0.0\n 4       0.0\n        ... \n 1267    0.0\n 1268    0.0\n 1269    0.0\n 1270    0.0\n 1271    0.0\n Name: chargingTime, Length: 1272, dtype: float64,\n 0       0.0\n 1       0.0\n 2       0.0\n 3       0.0\n 4       0.0\n        ... \n 1267    0.0\n 1268    0.0\n 1269    0.0\n 1270    0.0\n 1271    0.0\n Name: chargingTime, Length: 1272, dtype: float64,\n 0       0.0\n 1       0.0\n 2       0.0\n 3       0.0\n 4       0.0\n        ... \n 1267    0.0\n 1268    0.0\n 1269    0.0\n 1270    0.0\n 1271    0.0\n Name: chargingTime, Length: 1272, dtype: float64,\n 0       0.0\n 1       0.0\n 2       0.0\n 3       0.0\n 4       0.0\n        ... \n 1267    0.0\n 1268    0.0\n 1269    0.0\n 1270    0.0\n 1271    0.0\n Name: chargingTime, Length: 1272, dtype: float64,\n 0       0.0\n 1       0.0\n 2       0.0\n 3       0.0\n 4       0.0\n        ... \n 1267    0.0\n 1268    0.0\n 1269    0.0\n 1270    0.0\n 1271    0.0\n Name: chargingTime, Length: 1272, dtype: float64,\n 0       0.0\n 1       0.0\n 2       0.0\n 3       0.0\n 4       0.0\n        ... \n 1267    0.0\n 1268    0.0\n 1269    0.0\n 1270    0.0\n 1271    0.0\n Name: chargingTime, Length: 1272, dtype: float64,\n 0       0.0\n 1       0.0\n 2       0.0\n 3       0.0\n 4       0.0\n        ... \n 1267    0.0\n 1268    0.0\n 1269    0.0\n 1270    0.0\n 1271    0.0\n Name: chargingTime, Length: 1272, dtype: float64,\n 0       0.0\n 1       0.0\n 2       0.0\n 3       0.0\n 4       0.0\n        ... \n 1267    0.0\n 1268    0.0\n 1269    0.0\n 1270    0.0\n 1271    0.0\n Name: chargingTime, Length: 1272, dtype: float64,\n 0       0.0\n 1       0.0\n 2       0.0\n 3       0.0\n 4       0.0\n        ... \n 1267    0.0\n 1268    0.0\n 1269    0.0\n 1270    0.0\n 1271    0.0\n Name: chargingTime, Length: 1272, dtype: float64]"
     },
     "execution_count": 33,
     "metadata": {},
     "output_type": "execute_result"
    }
   ],
   "source": [
    "Y_test"
   ],
   "metadata": {
    "collapsed": false,
    "pycharm": {
     "name": "#%%\n"
    }
   }
  },
  {
   "cell_type": "code",
   "execution_count": 61,
   "outputs": [
    {
     "data": {
      "text/plain": "1221712.7209544787"
     },
     "execution_count": 61,
     "metadata": {},
     "output_type": "execute_result"
    }
   ],
   "source": [
    "mean_squared_error(test_predict[0], users_test_Y[0][:,0])"
   ],
   "metadata": {
    "collapsed": false,
    "pycharm": {
     "name": "#%%\n"
    }
   }
  },
  {
   "cell_type": "code",
   "execution_count": 64,
   "outputs": [
    {
     "data": {
      "text/plain": "2.252805580357705"
     },
     "execution_count": 64,
     "metadata": {},
     "output_type": "execute_result"
    }
   ],
   "source": [
    "mean_absolute_percentage_error(test_predict[0], users_test_Y[0][:,0])"
   ],
   "metadata": {
    "collapsed": false,
    "pycharm": {
     "name": "#%%\n"
    }
   }
  },
  {
   "cell_type": "code",
   "execution_count": 65,
   "outputs": [
    {
     "data": {
      "text/plain": "506.30943466265745"
     },
     "execution_count": 65,
     "metadata": {},
     "output_type": "execute_result"
    }
   ],
   "source": [
    "mean_absolute_error(test_predict[0], users_test_Y[0][:,0])"
   ],
   "metadata": {
    "collapsed": false,
    "pycharm": {
     "name": "#%%\n"
    }
   }
  },
  {
   "cell_type": "code",
   "execution_count": 70,
   "outputs": [
    {
     "name": "stdout",
     "output_type": "stream",
     "text": [
      "40/40 - 0s - loss: 1027532.6250 - 85ms/epoch - 2ms/step\n"
     ]
    },
    {
     "data": {
      "text/plain": "1027532.625"
     },
     "execution_count": 70,
     "metadata": {},
     "output_type": "execute_result"
    }
   ],
   "source": [
    "model.evaluate(users_test_X[0], users_test_Y[0], verbose=2)"
   ],
   "metadata": {
    "collapsed": false,
    "pycharm": {
     "name": "#%%\n"
    }
   }
  },
  {
   "cell_type": "code",
   "execution_count": 60,
   "outputs": [
    {
     "data": {
      "text/plain": "array([   0., 6289.,    0., ...,    0.,    0.,    0.])"
     },
     "execution_count": 60,
     "metadata": {},
     "output_type": "execute_result"
    }
   ],
   "source": [
    "users_test_Y[0][:,0]"
   ],
   "metadata": {
    "collapsed": false,
    "pycharm": {
     "name": "#%%\n"
    }
   }
  },
  {
   "cell_type": "code",
   "execution_count": 57,
   "outputs": [
    {
     "data": {
      "text/plain": "[array([[   0., 6289.,    0.,    0.,    0.,    0.],\n        [6289.,    0.,    0.,    0.,    0.,    0.],\n        [   0.,    0.,    0.,    0.,    0.,    0.],\n        ...,\n        [   0.,    0.,    0.,    0.,    0.,    0.],\n        [   0.,    0.,    0.,    0.,    0.,    0.],\n        [   0.,    0.,    0.,    0.,    0.,    0.]]),\n array([[0., 0., 0., 0., 0., 0.],\n        [0., 0., 0., 0., 0., 0.],\n        [0., 0., 0., 0., 0., 0.],\n        ...,\n        [0., 0., 0., 0., 0., 0.],\n        [0., 0., 0., 0., 0., 0.],\n        [0., 0., 0., 0., 0., 0.]]),\n array([[0., 0., 0., 0., 0., 0.],\n        [0., 0., 0., 0., 0., 0.],\n        [0., 0., 0., 0., 0., 0.],\n        ...,\n        [0., 0., 0., 0., 0., 0.],\n        [0., 0., 0., 0., 0., 0.],\n        [0., 0., 0., 0., 0., 0.]]),\n array([[0., 0., 0., 0., 0., 0.],\n        [0., 0., 0., 0., 0., 0.],\n        [0., 0., 0., 0., 0., 0.],\n        ...,\n        [0., 0., 0., 0., 0., 0.],\n        [0., 0., 0., 0., 0., 0.],\n        [0., 0., 0., 0., 0., 0.]]),\n array([[0., 0., 0., 0., 0., 0.],\n        [0., 0., 0., 0., 0., 0.],\n        [0., 0., 0., 0., 0., 0.],\n        ...,\n        [0., 0., 0., 0., 0., 0.],\n        [0., 0., 0., 0., 0., 0.],\n        [0., 0., 0., 0., 0., 0.]]),\n array([[10840.,     0.,     0.,     0.,     0.,     0.],\n        [    0.,     0.,     0.,     0.,     0.,     0.],\n        [    0.,     0.,     0.,     0.,     0.,     0.],\n        ...,\n        [    0.,     0.,     0.,     0.,     0.,     0.],\n        [    0.,     0.,     0.,     0.,     0.,     0.],\n        [    0.,     0.,     0.,     0.,     0.,     0.]]),\n array([[10474.,     0.,     0.,     0.,     0.,     0.],\n        [    0.,     0.,     0.,     0.,     0.,     0.],\n        [    0.,     0.,     0.,     0.,     0.,     0.],\n        ...,\n        [    0.,     0.,     0.,     0.,     0.,     0.],\n        [    0.,     0.,     0.,     0.,     0.,     0.],\n        [    0.,     0.,     0.,     0.,     0.,     0.]]),\n array([[4011.,    0.,    0.,    0.,    0.,    0.],\n        [   0.,    0.,    0.,    0.,    0.,    0.],\n        [   0.,    0.,    0.,    0.,    0.,    0.],\n        ...,\n        [   0.,    0.,    0.,    0.,    0.,    0.],\n        [   0.,    0.,    0.,    0.,    0.,    0.],\n        [   0.,    0.,    0.,    0.,    0.,    0.]]),\n array([[   0., 6856.,    0.,    0.,    0.,    0.],\n        [6856.,    0.,    0.,    0.,    0.,    0.],\n        [   0.,    0.,    0.,    0.,    0.,    0.],\n        ...,\n        [   0.,    0.,    0.,    0.,    0.,    0.],\n        [   0.,    0.,    0.,    0.,    0.,    0.],\n        [   0.,    0.,    0.,    0.,    0.,    0.]]),\n array([[    0., 15227.,     0.,     0.,     0.,     0.],\n        [15227.,     0.,     0.,     0.,     0.,     0.],\n        [    0.,     0.,     0.,     0.,     0.,     0.],\n        ...,\n        [    0.,     0.,     0.,     0.,     0.,     0.],\n        [    0.,     0.,     0.,     0.,     0.,     0.],\n        [    0.,     0.,     0.,     0.,     0.,     0.]]),\n array([[   0., 5358.,    0.,    0.,    0.,    0.],\n        [5358.,    0.,    0.,    0.,    0.,    0.],\n        [   0.,    0.,    0.,    0.,    0.,    0.],\n        ...,\n        [   0.,    0.,    0.,    0.,    0.,    0.],\n        [   0.,    0.,    0.,    0.,    0.,    0.],\n        [   0.,    0.,    0.,    0.,    0.,    0.]]),\n array([[   0., 5997.,    0.,    0.,    0.,    0.],\n        [5997.,    0.,    0.,    0.,    0.,    0.],\n        [   0.,    0.,    0.,    0.,    0.,    0.],\n        ...,\n        [   0.,    0.,    0.,    0.,    0.,    0.],\n        [   0.,    0.,    0.,    0.,    0.,    0.],\n        [   0.,    0.,    0.,    0.,    0.,    0.]]),\n array([[   0., 4306.,    0.,    0.,    0.,    0.],\n        [4306.,    0.,    0.,    0.,    0.,    0.],\n        [   0.,    0.,    0.,    0.,    0.,    0.],\n        ...,\n        [   0.,    0.,    0.,    0.,    0.,    0.],\n        [   0.,    0.,    0.,    0.,    0.,    0.],\n        [   0.,    0.,    0.,    0.,    0.,    0.]]),\n array([[    0.,     0., 12089.,     0.,     0.,     0.],\n        [    0., 12089.,     0.,     0.,     0.,     0.],\n        [12089.,     0.,     0.,     0.,     0.,     0.],\n        ...,\n        [    0.,     0.,     0.,     0.,     0.,     0.],\n        [    0.,     0.,     0.,     0.,     0.,     0.],\n        [    0.,     0.,     0.,     0.,     0.,     0.]]),\n array([[    0.,     0., 25142.,     0.,     0.,     0.],\n        [    0., 25142.,     0.,     0.,     0.,     0.],\n        [25142.,     0.,     0.,     0.,     0.,     0.],\n        ...,\n        [    0.,     0.,     0.,     0.,     0.,     0.],\n        [    0.,     0.,     0.,     0.,     0.,     0.],\n        [    0.,     0.,     0.,     0.,     0.,     0.]]),\n array([[   0.,    0.,    0.,    0., 4054.,    0.],\n        [   0.,    0.,    0., 4054.,    0.,    0.],\n        [   0.,    0., 4054.,    0.,    0.,    0.],\n        ...,\n        [   0.,    0.,    0.,    0.,    0.,    0.],\n        [   0.,    0.,    0.,    0.,    0.,    0.],\n        [   0.,    0.,    0.,    0.,    0.,    0.]]),\n array([[   0.,    0.,    0.,    0.,    0., 7355.],\n        [   0.,    0.,    0.,    0., 7355.,    0.],\n        [   0.,    0.,    0., 7355.,    0.,    0.],\n        ...,\n        [   0.,    0.,    0.,    0.,    0.,    0.],\n        [   0.,    0.,    0.,    0.,    0.,    0.],\n        [   0.,    0.,    0.,    0.,    0.,    0.]]),\n array([[   0.,    0.,    0.,    0.,    0.,    0.],\n        [   0.,    0.,    0.,    0.,    0.,    0.],\n        [   0.,    0.,    0.,    0.,    0., 5142.],\n        ...,\n        [   0.,    0.,    0.,    0.,    0.,    0.],\n        [   0.,    0.,    0.,    0.,    0.,    0.],\n        [   0.,    0.,    0.,    0.,    0.,    0.]]),\n array([[0., 0., 0., 0., 0., 0.],\n        [0., 0., 0., 0., 0., 0.],\n        [0., 0., 0., 0., 0., 0.],\n        ...,\n        [0., 0., 0., 0., 0., 0.],\n        [0., 0., 0., 0., 0., 0.],\n        [0., 0., 0., 0., 0., 0.]]),\n array([[0., 0., 0., 0., 0., 0.],\n        [0., 0., 0., 0., 0., 0.],\n        [0., 0., 0., 0., 0., 0.],\n        ...,\n        [0., 0., 0., 0., 0., 0.],\n        [0., 0., 0., 0., 0., 0.],\n        [0., 0., 0., 0., 0., 0.]]),\n array([[0., 0., 0., 0., 0., 0.],\n        [0., 0., 0., 0., 0., 0.],\n        [0., 0., 0., 0., 0., 0.],\n        ...,\n        [0., 0., 0., 0., 0., 0.],\n        [0., 0., 0., 0., 0., 0.],\n        [0., 0., 0., 0., 0., 0.]]),\n array([[0., 0., 0., 0., 0., 0.],\n        [0., 0., 0., 0., 0., 0.],\n        [0., 0., 0., 0., 0., 0.],\n        ...,\n        [0., 0., 0., 0., 0., 0.],\n        [0., 0., 0., 0., 0., 0.],\n        [0., 0., 0., 0., 0., 0.]]),\n array([[0., 0., 0., 0., 0., 0.],\n        [0., 0., 0., 0., 0., 0.],\n        [0., 0., 0., 0., 0., 0.],\n        ...,\n        [0., 0., 0., 0., 0., 0.],\n        [0., 0., 0., 0., 0., 0.],\n        [0., 0., 0., 0., 0., 0.]]),\n array([[0., 0., 0., 0., 0., 0.],\n        [0., 0., 0., 0., 0., 0.],\n        [0., 0., 0., 0., 0., 0.],\n        ...,\n        [0., 0., 0., 0., 0., 0.],\n        [0., 0., 0., 0., 0., 0.],\n        [0., 0., 0., 0., 0., 0.]]),\n array([[0., 0., 0., 0., 0., 0.],\n        [0., 0., 0., 0., 0., 0.],\n        [0., 0., 0., 0., 0., 0.],\n        ...,\n        [0., 0., 0., 0., 0., 0.],\n        [0., 0., 0., 0., 0., 0.],\n        [0., 0., 0., 0., 0., 0.]]),\n array([[0., 0., 0., 0., 0., 0.],\n        [0., 0., 0., 0., 0., 0.],\n        [0., 0., 0., 0., 0., 0.],\n        ...,\n        [0., 0., 0., 0., 0., 0.],\n        [0., 0., 0., 0., 0., 0.],\n        [0., 0., 0., 0., 0., 0.]]),\n array([[0., 0., 0., 0., 0., 0.],\n        [0., 0., 0., 0., 0., 0.],\n        [0., 0., 0., 0., 0., 0.],\n        ...,\n        [0., 0., 0., 0., 0., 0.],\n        [0., 0., 0., 0., 0., 0.],\n        [0., 0., 0., 0., 0., 0.]]),\n array([[0., 0., 0., 0., 0., 0.],\n        [0., 0., 0., 0., 0., 0.],\n        [0., 0., 0., 0., 0., 0.],\n        ...,\n        [0., 0., 0., 0., 0., 0.],\n        [0., 0., 0., 0., 0., 0.],\n        [0., 0., 0., 0., 0., 0.]]),\n array([[0., 0., 0., 0., 0., 0.],\n        [0., 0., 0., 0., 0., 0.],\n        [0., 0., 0., 0., 0., 0.],\n        ...,\n        [0., 0., 0., 0., 0., 0.],\n        [0., 0., 0., 0., 0., 0.],\n        [0., 0., 0., 0., 0., 0.]]),\n array([[0., 0., 0., 0., 0., 0.],\n        [0., 0., 0., 0., 0., 0.],\n        [0., 0., 0., 0., 0., 0.],\n        ...,\n        [0., 0., 0., 0., 0., 0.],\n        [0., 0., 0., 0., 0., 0.],\n        [0., 0., 0., 0., 0., 0.]]),\n array([[0., 0., 0., 0., 0., 0.],\n        [0., 0., 0., 0., 0., 0.],\n        [0., 0., 0., 0., 0., 0.],\n        ...,\n        [0., 0., 0., 0., 0., 0.],\n        [0., 0., 0., 0., 0., 0.],\n        [0., 0., 0., 0., 0., 0.]]),\n array([[0., 0., 0., 0., 0., 0.],\n        [0., 0., 0., 0., 0., 0.],\n        [0., 0., 0., 0., 0., 0.],\n        ...,\n        [0., 0., 0., 0., 0., 0.],\n        [0., 0., 0., 0., 0., 0.],\n        [0., 0., 0., 0., 0., 0.]]),\n array([[0., 0., 0., 0., 0., 0.],\n        [0., 0., 0., 0., 0., 0.],\n        [0., 0., 0., 0., 0., 0.],\n        ...,\n        [0., 0., 0., 0., 0., 0.],\n        [0., 0., 0., 0., 0., 0.],\n        [0., 0., 0., 0., 0., 0.]]),\n array([[0., 0., 0., 0., 0., 0.],\n        [0., 0., 0., 0., 0., 0.],\n        [0., 0., 0., 0., 0., 0.],\n        ...,\n        [0., 0., 0., 0., 0., 0.],\n        [0., 0., 0., 0., 0., 0.],\n        [0., 0., 0., 0., 0., 0.]]),\n array([[0., 0., 0., 0., 0., 0.],\n        [0., 0., 0., 0., 0., 0.],\n        [0., 0., 0., 0., 0., 0.],\n        ...,\n        [0., 0., 0., 0., 0., 0.],\n        [0., 0., 0., 0., 0., 0.],\n        [0., 0., 0., 0., 0., 0.]]),\n array([[0., 0., 0., 0., 0., 0.],\n        [0., 0., 0., 0., 0., 0.],\n        [0., 0., 0., 0., 0., 0.],\n        ...,\n        [0., 0., 0., 0., 0., 0.],\n        [0., 0., 0., 0., 0., 0.],\n        [0., 0., 0., 0., 0., 0.]]),\n array([[0., 0., 0., 0., 0., 0.],\n        [0., 0., 0., 0., 0., 0.],\n        [0., 0., 0., 0., 0., 0.],\n        ...,\n        [0., 0., 0., 0., 0., 0.],\n        [0., 0., 0., 0., 0., 0.],\n        [0., 0., 0., 0., 0., 0.]])]"
     },
     "execution_count": 57,
     "metadata": {},
     "output_type": "execute_result"
    }
   ],
   "source": [
    "users_test_Y"
   ],
   "metadata": {
    "collapsed": false,
    "pycharm": {
     "name": "#%%\n"
    }
   }
  }
 ],
 "metadata": {
  "kernelspec": {
   "display_name": "Python 3",
   "language": "python",
   "name": "python3"
  },
  "language_info": {
   "codemirror_mode": {
    "name": "ipython",
    "version": 2
   },
   "file_extension": ".py",
   "mimetype": "text/x-python",
   "name": "python",
   "nbconvert_exporter": "python",
   "pygments_lexer": "ipython2",
   "version": "2.7.6"
  }
 },
 "nbformat": 4,
 "nbformat_minor": 0
}