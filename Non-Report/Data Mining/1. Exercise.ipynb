{
 "cells": [
  {
   "cell_type": "markdown",
   "source": [
    "Exercise 1.4)"
   ],
   "metadata": {
    "collapsed": false,
    "pycharm": {
     "name": "#%% md\n"
    }
   }
  },
  {
   "cell_type": "code",
   "source": [
    "import numpy as np\n",
    "from scipy import stats"
   ],
   "metadata": {
    "collapsed": false,
    "pycharm": {
     "name": "#%%\n"
    }
   },
   "execution_count": 10,
   "outputs": []
  },
  {
   "cell_type": "code",
   "execution_count": 3,
   "outputs": [
    {
     "name": "stdout",
     "output_type": "stream",
     "text": [
      "[5, 9, 7, 9] [10, 6, 8, 9]\n",
      "5.916079783099616\n",
      "9\n",
      "[5, 9, 7, 9] [6, 8, 8, 4]\n",
      "5.291502622129181\n",
      "8\n",
      "[5, 9, 7, 9] [5, 5, 9, 7]\n",
      "4.898979485566356\n",
      "8\n",
      "[10, 6, 8, 9] [5, 9, 7, 9]\n",
      "5.916079783099616\n",
      "9\n",
      "[10, 6, 8, 9] [6, 8, 8, 4]\n",
      "6.708203932499369\n",
      "11\n",
      "[10, 6, 8, 9] [5, 5, 9, 7]\n",
      "5.5677643628300215\n",
      "9\n",
      "[6, 8, 8, 4] [5, 9, 7, 9]\n",
      "5.291502622129181\n",
      "8\n",
      "[6, 8, 8, 4] [10, 6, 8, 9]\n",
      "6.708203932499369\n",
      "11\n",
      "[6, 8, 8, 4] [5, 5, 9, 7]\n",
      "4.47213595499958\n",
      "8\n",
      "[5, 5, 9, 7] [5, 9, 7, 9]\n",
      "4.898979485566356\n",
      "8\n",
      "[5, 5, 9, 7] [10, 6, 8, 9]\n",
      "5.5677643628300215\n",
      "9\n",
      "[5, 5, 9, 7] [6, 8, 8, 4]\n",
      "4.47213595499958\n",
      "8\n"
     ]
    }
   ],
   "source": [
    "#Exercise 1.4\n",
    "def euclid(a, b):\n",
    "    sum = 0\n",
    "    for i in range(len(a)):\n",
    "        sum += (a[i] - b[i])**2\n",
    "    return np.sqrt(sum)\n",
    "\n",
    "def manhattan(a, b):\n",
    "    sum = 0\n",
    "    for i in range(len(a)):\n",
    "        sum += abs(a[i] - b[i])\n",
    "    return sum\n",
    "\n",
    "lily = [5,9,7,9]\n",
    "john = [10,6,8,9]\n",
    "alice = [6,8,8,4]\n",
    "mia = [5,5,9,7]\n",
    "\n",
    "objects = [lily, john, alice, mia]\n",
    "\n",
    "for i in range(len(objects)):\n",
    "    for j in range(len(objects)):\n",
    "        if i != j:\n",
    "            print(objects[i], objects[j])\n",
    "            print(euclid(objects[i], objects[j]))\n",
    "            print(manhattan(objects[i], objects[j]))"
   ],
   "metadata": {
    "collapsed": false,
    "pycharm": {
     "name": "#%%\n"
    }
   }
  },
  {
   "cell_type": "markdown",
   "source": [
    "Exercise 1.5)"
   ],
   "metadata": {
    "collapsed": false
   }
  },
  {
   "cell_type": "code",
   "execution_count": 12,
   "outputs": [
    {
     "name": "stdout",
     "output_type": "stream",
     "text": [
      "17.136363636363637\n",
      "18.5\n",
      "[23]\n",
      "Data 2:\n",
      "17.695652173913043\n",
      "19.0\n",
      "[23]\n"
     ]
    }
   ],
   "source": [
    "data1 = [2, 5, 8, 9, 9, 9, 10, 14, 14, 17, 18, 19, 19, 23, 23, 23, 23, 23, 26, 27, 27, 29]\n",
    "data2 = data1 + [30]\n",
    "\n",
    "print(np.mean(data1))\n",
    "print(np.median(data1))\n",
    "print(stats.mode(data1)[0])\n",
    "\n",
    "print(\"Data 2:\")\n",
    "print(np.mean(data2))\n",
    "print(np.median(data2))\n",
    "print(stats.mode(data2)[0])\n"
   ],
   "metadata": {
    "collapsed": false,
    "pycharm": {
     "name": "#%%\n"
    }
   }
  }
 ],
 "metadata": {
  "kernelspec": {
   "display_name": "Python 3",
   "language": "python",
   "name": "python3"
  },
  "language_info": {
   "codemirror_mode": {
    "name": "ipython",
    "version": 2
   },
   "file_extension": ".py",
   "mimetype": "text/x-python",
   "name": "python",
   "nbconvert_exporter": "python",
   "pygments_lexer": "ipython2",
   "version": "2.7.6"
  }
 },
 "nbformat": 4,
 "nbformat_minor": 0
}