{
 "cells": [
  {
   "cell_type": "code",
   "execution_count": 1,
   "metadata": {
    "collapsed": true
   },
   "outputs": [],
   "source": [
    "import json\n",
    "import pandas as pd\n",
    "from pathlib import Path\n",
    "import plotly.express as px\n",
    "import plotly.graph_objects as go\n",
    "from datetime import timedelta"
   ]
  },
  {
   "cell_type": "code",
   "execution_count": 2,
   "outputs": [
    {
     "data": {
      "text/plain": "                            _id clusterID            connectionTime  \\\n0      5bc90cb9f9af8b0d7fe77cd2      0039 2018-04-25 04:08:04+00:00   \n1      5bc90cb9f9af8b0d7fe77cd3      0039 2018-04-25 06:45:10+00:00   \n2      5bc90cb9f9af8b0d7fe77cd4      0039 2018-04-25 06:45:50+00:00   \n3      5bc90cb9f9af8b0d7fe77cd5      0039 2018-04-25 07:37:06+00:00   \n4      5bc90cb9f9af8b0d7fe77cd6      0039 2018-04-25 07:40:34+00:00   \n...                         ...       ...                       ...   \n31419  61550519f9af8b76960e169a      0039 2021-09-13 14:12:53+00:00   \n31420  61550519f9af8b76960e169b      0039 2021-09-13 14:17:04+00:00   \n31421  61550519f9af8b76960e169c      0039 2021-09-13 15:33:07+00:00   \n31422  61550519f9af8b76960e169d      0039 2021-09-13 16:11:12+00:00   \n31423  61550519f9af8b76960e169e      0039 2021-09-13 18:52:37+00:00   \n\n                 disconnectTime          doneChargingTime  kWhDelivered  \\\n0     2018-04-25 06:20:10+00:00 2018-04-25 06:21:10+00:00         7.932   \n1     2018-04-25 17:56:16+00:00 2018-04-25 09:44:15+00:00        10.013   \n2     2018-04-25 16:04:45+00:00 2018-04-25 07:51:44+00:00         5.257   \n3     2018-04-25 16:55:34+00:00 2018-04-25 09:05:22+00:00         5.177   \n4     2018-04-25 16:03:12+00:00 2018-04-25 10:40:30+00:00        10.119   \n...                         ...                       ...           ...   \n31419 2021-09-13 17:25:36+00:00 2021-09-13 14:41:31+00:00         2.285   \n31420 2021-09-13 18:01:49+00:00 2021-09-13 16:18:07+00:00         6.715   \n31421 2021-09-13 16:06:55+00:00 2021-09-13 16:06:55+00:00        17.720   \n31422 2021-09-13 18:43:11+00:00 2021-09-13 17:13:35+00:00         2.018   \n31423 2021-09-13 20:05:10+00:00 2021-09-13 20:05:10+00:00        45.064   \n\n                                     sessionID siteID   spaceID     stationID  \\\n0       2_39_78_362_2018-04-25 11:08:04.400812   0002    CA-496   2-39-78-362   \n1        2_39_95_27_2018-04-25 13:45:09.617470   0002    CA-319    2-39-95-27   \n2       2_39_79_380_2018-04-25 13:45:49.962001   0002    CA-489   2-39-79-380   \n3       2_39_79_379_2018-04-25 14:37:06.460772   0002    CA-327   2-39-79-379   \n4       2_39_79_381_2018-04-25 14:40:33.638896   0002    CA-490   2-39-79-381   \n...                                        ...    ...       ...           ...   \n31419    2_39_89_25_2021-09-13 21:12:53.318460   0002    CA-315    2-39-89-25   \n31420   2_39_123_23_2021-09-13 21:16:44.026068   0002    CA-313   2-39-123-23   \n31421  2_39_81_4550_2021-09-13 22:33:04.543952   0002  11900388  2-39-81-4550   \n31422   2_39_91_437_2021-09-13 23:10:59.528292   0002    CA-317   2-39-91-437   \n31423  2_39_81_4550_2021-09-14 01:52:31.129163   0002  11900388  2-39-81-4550   \n\n                  timezone     userID  \\\n0      America/Los_Angeles       None   \n1      America/Los_Angeles       None   \n2      America/Los_Angeles       None   \n3      America/Los_Angeles       None   \n4      America/Los_Angeles       None   \n...                    ...        ...   \n31419  America/Los_Angeles  000000431   \n31420  America/Los_Angeles  000006481   \n31421  America/Los_Angeles  000003905   \n31422  America/Los_Angeles  000001082   \n31423  America/Los_Angeles  000019055   \n\n                                              userInputs  \n0                                                   None  \n1                                                   None  \n2                                                   None  \n3                                                   None  \n4                                                   None  \n...                                                  ...  \n31419  [{'WhPerMile': 286, 'kWhRequested': 28.6, 'mil...  \n31420  [{'WhPerMile': 460, 'kWhRequested': 11.5, 'mil...  \n31421  [{'WhPerMile': 300, 'kWhRequested': 30.0, 'mil...  \n31422  [{'WhPerMile': 290, 'kWhRequested': 5.8, 'mile...  \n31423  [{'WhPerMile': 286, 'kWhRequested': 28.6, 'mil...  \n\n[31424 rows x 13 columns]",
      "text/html": "<div>\n<style scoped>\n    .dataframe tbody tr th:only-of-type {\n        vertical-align: middle;\n    }\n\n    .dataframe tbody tr th {\n        vertical-align: top;\n    }\n\n    .dataframe thead th {\n        text-align: right;\n    }\n</style>\n<table border=\"1\" class=\"dataframe\">\n  <thead>\n    <tr style=\"text-align: right;\">\n      <th></th>\n      <th>_id</th>\n      <th>clusterID</th>\n      <th>connectionTime</th>\n      <th>disconnectTime</th>\n      <th>doneChargingTime</th>\n      <th>kWhDelivered</th>\n      <th>sessionID</th>\n      <th>siteID</th>\n      <th>spaceID</th>\n      <th>stationID</th>\n      <th>timezone</th>\n      <th>userID</th>\n      <th>userInputs</th>\n    </tr>\n  </thead>\n  <tbody>\n    <tr>\n      <th>0</th>\n      <td>5bc90cb9f9af8b0d7fe77cd2</td>\n      <td>0039</td>\n      <td>2018-04-25 04:08:04+00:00</td>\n      <td>2018-04-25 06:20:10+00:00</td>\n      <td>2018-04-25 06:21:10+00:00</td>\n      <td>7.932</td>\n      <td>2_39_78_362_2018-04-25 11:08:04.400812</td>\n      <td>0002</td>\n      <td>CA-496</td>\n      <td>2-39-78-362</td>\n      <td>America/Los_Angeles</td>\n      <td>None</td>\n      <td>None</td>\n    </tr>\n    <tr>\n      <th>1</th>\n      <td>5bc90cb9f9af8b0d7fe77cd3</td>\n      <td>0039</td>\n      <td>2018-04-25 06:45:10+00:00</td>\n      <td>2018-04-25 17:56:16+00:00</td>\n      <td>2018-04-25 09:44:15+00:00</td>\n      <td>10.013</td>\n      <td>2_39_95_27_2018-04-25 13:45:09.617470</td>\n      <td>0002</td>\n      <td>CA-319</td>\n      <td>2-39-95-27</td>\n      <td>America/Los_Angeles</td>\n      <td>None</td>\n      <td>None</td>\n    </tr>\n    <tr>\n      <th>2</th>\n      <td>5bc90cb9f9af8b0d7fe77cd4</td>\n      <td>0039</td>\n      <td>2018-04-25 06:45:50+00:00</td>\n      <td>2018-04-25 16:04:45+00:00</td>\n      <td>2018-04-25 07:51:44+00:00</td>\n      <td>5.257</td>\n      <td>2_39_79_380_2018-04-25 13:45:49.962001</td>\n      <td>0002</td>\n      <td>CA-489</td>\n      <td>2-39-79-380</td>\n      <td>America/Los_Angeles</td>\n      <td>None</td>\n      <td>None</td>\n    </tr>\n    <tr>\n      <th>3</th>\n      <td>5bc90cb9f9af8b0d7fe77cd5</td>\n      <td>0039</td>\n      <td>2018-04-25 07:37:06+00:00</td>\n      <td>2018-04-25 16:55:34+00:00</td>\n      <td>2018-04-25 09:05:22+00:00</td>\n      <td>5.177</td>\n      <td>2_39_79_379_2018-04-25 14:37:06.460772</td>\n      <td>0002</td>\n      <td>CA-327</td>\n      <td>2-39-79-379</td>\n      <td>America/Los_Angeles</td>\n      <td>None</td>\n      <td>None</td>\n    </tr>\n    <tr>\n      <th>4</th>\n      <td>5bc90cb9f9af8b0d7fe77cd6</td>\n      <td>0039</td>\n      <td>2018-04-25 07:40:34+00:00</td>\n      <td>2018-04-25 16:03:12+00:00</td>\n      <td>2018-04-25 10:40:30+00:00</td>\n      <td>10.119</td>\n      <td>2_39_79_381_2018-04-25 14:40:33.638896</td>\n      <td>0002</td>\n      <td>CA-490</td>\n      <td>2-39-79-381</td>\n      <td>America/Los_Angeles</td>\n      <td>None</td>\n      <td>None</td>\n    </tr>\n    <tr>\n      <th>...</th>\n      <td>...</td>\n      <td>...</td>\n      <td>...</td>\n      <td>...</td>\n      <td>...</td>\n      <td>...</td>\n      <td>...</td>\n      <td>...</td>\n      <td>...</td>\n      <td>...</td>\n      <td>...</td>\n      <td>...</td>\n      <td>...</td>\n    </tr>\n    <tr>\n      <th>31419</th>\n      <td>61550519f9af8b76960e169a</td>\n      <td>0039</td>\n      <td>2021-09-13 14:12:53+00:00</td>\n      <td>2021-09-13 17:25:36+00:00</td>\n      <td>2021-09-13 14:41:31+00:00</td>\n      <td>2.285</td>\n      <td>2_39_89_25_2021-09-13 21:12:53.318460</td>\n      <td>0002</td>\n      <td>CA-315</td>\n      <td>2-39-89-25</td>\n      <td>America/Los_Angeles</td>\n      <td>000000431</td>\n      <td>[{'WhPerMile': 286, 'kWhRequested': 28.6, 'mil...</td>\n    </tr>\n    <tr>\n      <th>31420</th>\n      <td>61550519f9af8b76960e169b</td>\n      <td>0039</td>\n      <td>2021-09-13 14:17:04+00:00</td>\n      <td>2021-09-13 18:01:49+00:00</td>\n      <td>2021-09-13 16:18:07+00:00</td>\n      <td>6.715</td>\n      <td>2_39_123_23_2021-09-13 21:16:44.026068</td>\n      <td>0002</td>\n      <td>CA-313</td>\n      <td>2-39-123-23</td>\n      <td>America/Los_Angeles</td>\n      <td>000006481</td>\n      <td>[{'WhPerMile': 460, 'kWhRequested': 11.5, 'mil...</td>\n    </tr>\n    <tr>\n      <th>31421</th>\n      <td>61550519f9af8b76960e169c</td>\n      <td>0039</td>\n      <td>2021-09-13 15:33:07+00:00</td>\n      <td>2021-09-13 16:06:55+00:00</td>\n      <td>2021-09-13 16:06:55+00:00</td>\n      <td>17.720</td>\n      <td>2_39_81_4550_2021-09-13 22:33:04.543952</td>\n      <td>0002</td>\n      <td>11900388</td>\n      <td>2-39-81-4550</td>\n      <td>America/Los_Angeles</td>\n      <td>000003905</td>\n      <td>[{'WhPerMile': 300, 'kWhRequested': 30.0, 'mil...</td>\n    </tr>\n    <tr>\n      <th>31422</th>\n      <td>61550519f9af8b76960e169d</td>\n      <td>0039</td>\n      <td>2021-09-13 16:11:12+00:00</td>\n      <td>2021-09-13 18:43:11+00:00</td>\n      <td>2021-09-13 17:13:35+00:00</td>\n      <td>2.018</td>\n      <td>2_39_91_437_2021-09-13 23:10:59.528292</td>\n      <td>0002</td>\n      <td>CA-317</td>\n      <td>2-39-91-437</td>\n      <td>America/Los_Angeles</td>\n      <td>000001082</td>\n      <td>[{'WhPerMile': 290, 'kWhRequested': 5.8, 'mile...</td>\n    </tr>\n    <tr>\n      <th>31423</th>\n      <td>61550519f9af8b76960e169e</td>\n      <td>0039</td>\n      <td>2021-09-13 18:52:37+00:00</td>\n      <td>2021-09-13 20:05:10+00:00</td>\n      <td>2021-09-13 20:05:10+00:00</td>\n      <td>45.064</td>\n      <td>2_39_81_4550_2021-09-14 01:52:31.129163</td>\n      <td>0002</td>\n      <td>11900388</td>\n      <td>2-39-81-4550</td>\n      <td>America/Los_Angeles</td>\n      <td>000019055</td>\n      <td>[{'WhPerMile': 286, 'kWhRequested': 28.6, 'mil...</td>\n    </tr>\n  </tbody>\n</table>\n<p>31424 rows × 13 columns</p>\n</div>"
     },
     "execution_count": 2,
     "metadata": {},
     "output_type": "execute_result"
    }
   ],
   "source": [
    "data = pd.DataFrame(json.load(open(Path('../Data/acn_caltech.json'), 'r'))['_items'])\n",
    "#Preprocessing doneChargingTime\n",
    "for i in range(len(data[\"doneChargingTime\"])):\n",
    "    if data[\"doneChargingTime\"][i] is None:\n",
    "        data.loc[i, \"doneChargingTime\"] = data[\"disconnectTime\"][i]\n",
    "\n",
    "data[\"connectionTime\"] = pd.to_datetime(data[\"connectionTime\"]) - timedelta(hours=7)\n",
    "data[\"disconnectTime\"] = pd.to_datetime(data[\"disconnectTime\"]) - timedelta(hours=7)\n",
    "data[\"doneChargingTime\"] = pd.to_datetime(data[\"doneChargingTime\"]) - timedelta(hours=7)\n",
    "data"
   ],
   "metadata": {
    "collapsed": false,
    "pycharm": {
     "name": "#%%\n"
    }
   }
  },
  {
   "cell_type": "code",
   "execution_count": 3,
   "outputs": [
    {
     "data": {
      "text/plain": "                            _id clusterID            connectionTime  \\\n0      5bc9160af9af8b0dad3c0690      0039 2018-05-01 06:23:18+00:00   \n1      5bc9160af9af8b0dad3c0691      0039 2018-05-01 06:54:34+00:00   \n2      5bc9160af9af8b0dad3c0692      0039 2018-05-01 07:46:04+00:00   \n3      5bc9160af9af8b0dad3c0693      0039 2018-05-01 07:56:29+00:00   \n4      5bc9160af9af8b0dad3c0694      0039 2018-05-01 08:14:50+00:00   \n...                         ...       ...                       ...   \n12838  5c2e8550f9af8b13dab074d9      0039 2018-10-31 21:53:58+00:00   \n12839  5c2e8550f9af8b13dab074da      0039 2018-10-31 22:32:47+00:00   \n12840  5c2e8550f9af8b13dab074db      0039 2018-10-31 22:40:49+00:00   \n12841  5c2e8550f9af8b13dab074dc      0039 2018-10-31 22:53:48+00:00   \n12842  5c2e8550f9af8b13dab074dd      0039 2018-10-31 23:25:56+00:00   \n\n                 disconnectTime          doneChargingTime  kWhDelivered  \\\n0     2018-05-01 18:53:41+00:00 2018-05-01 10:17:07+00:00     13.410000   \n1     2018-05-01 16:15:35+00:00 2018-05-01 08:35:39+00:00      8.618000   \n2     2018-05-01 17:54:07+00:00 2018-05-01 16:57:02+00:00     13.969000   \n3     2018-05-01 14:52:45+00:00 2018-05-01 09:07:56+00:00      6.914000   \n4     2018-05-01 15:51:30+00:00 2018-05-01 13:18:12+00:00     13.785000   \n...                         ...                       ...           ...   \n12838 2018-10-31 22:32:43+00:00 2018-10-31 22:33:42+00:00      3.372000   \n12839 2018-10-31 22:53:40+00:00 2018-10-31 22:53:00+00:00      1.389000   \n12840 2018-11-01 00:57:28+00:00 2018-11-01 00:27:00+00:00      1.225597   \n12841 2018-10-31 23:24:48+00:00 2018-10-31 23:24:16+00:00      0.962000   \n12842 2018-10-31 23:57:35+00:00 2018-10-31 23:56:24+00:00      0.980000   \n\n                                    sessionID siteID spaceID    stationID  \\\n0       2_39_95_27_2018-05-01 13:23:18.374684   0002  CA-319   2-39-95-27   \n1      2_39_79_380_2018-05-01 13:54:33.599590   0002  CA-489  2-39-79-380   \n2      2_39_139_28_2018-05-01 14:46:04.441389   0002  CA-303  2-39-139-28   \n3      2_39_79_378_2018-05-01 14:56:28.908623   0002  CA-326  2-39-79-378   \n4       2_39_88_24_2018-05-01 15:14:50.443137   0002  CA-314   2-39-88-24   \n...                                       ...    ...     ...          ...   \n12838   2_39_90_26_2018-11-01 04:53:58.292201   0002  CA-316   2-39-90-26   \n12839   2_39_90_26_2018-11-01 05:32:47.339653   0002  CA-316   2-39-90-26   \n12840  2_39_78_365_2018-11-01 05:40:48.678916   0002  CA-321  2-39-78-365   \n12841  2_39_90_440_2018-11-01 05:53:48.467907   0002  CA-500  2-39-90-440   \n12842  2_39_131_30_2018-11-01 06:25:55.685229   0002  CA-305  2-39-131-30   \n\n                  timezone userID userInputs  \n0      America/Los_Angeles   None       None  \n1      America/Los_Angeles   None       None  \n2      America/Los_Angeles   None       None  \n3      America/Los_Angeles   None       None  \n4      America/Los_Angeles   None       None  \n...                    ...    ...        ...  \n12838  America/Los_Angeles   None       None  \n12839  America/Los_Angeles   None       None  \n12840  America/Los_Angeles   None       None  \n12841  America/Los_Angeles   None       None  \n12842  America/Los_Angeles   None       None  \n\n[12843 rows x 13 columns]",
      "text/html": "<div>\n<style scoped>\n    .dataframe tbody tr th:only-of-type {\n        vertical-align: middle;\n    }\n\n    .dataframe tbody tr th {\n        vertical-align: top;\n    }\n\n    .dataframe thead th {\n        text-align: right;\n    }\n</style>\n<table border=\"1\" class=\"dataframe\">\n  <thead>\n    <tr style=\"text-align: right;\">\n      <th></th>\n      <th>_id</th>\n      <th>clusterID</th>\n      <th>connectionTime</th>\n      <th>disconnectTime</th>\n      <th>doneChargingTime</th>\n      <th>kWhDelivered</th>\n      <th>sessionID</th>\n      <th>siteID</th>\n      <th>spaceID</th>\n      <th>stationID</th>\n      <th>timezone</th>\n      <th>userID</th>\n      <th>userInputs</th>\n    </tr>\n  </thead>\n  <tbody>\n    <tr>\n      <th>0</th>\n      <td>5bc9160af9af8b0dad3c0690</td>\n      <td>0039</td>\n      <td>2018-05-01 06:23:18+00:00</td>\n      <td>2018-05-01 18:53:41+00:00</td>\n      <td>2018-05-01 10:17:07+00:00</td>\n      <td>13.410000</td>\n      <td>2_39_95_27_2018-05-01 13:23:18.374684</td>\n      <td>0002</td>\n      <td>CA-319</td>\n      <td>2-39-95-27</td>\n      <td>America/Los_Angeles</td>\n      <td>None</td>\n      <td>None</td>\n    </tr>\n    <tr>\n      <th>1</th>\n      <td>5bc9160af9af8b0dad3c0691</td>\n      <td>0039</td>\n      <td>2018-05-01 06:54:34+00:00</td>\n      <td>2018-05-01 16:15:35+00:00</td>\n      <td>2018-05-01 08:35:39+00:00</td>\n      <td>8.618000</td>\n      <td>2_39_79_380_2018-05-01 13:54:33.599590</td>\n      <td>0002</td>\n      <td>CA-489</td>\n      <td>2-39-79-380</td>\n      <td>America/Los_Angeles</td>\n      <td>None</td>\n      <td>None</td>\n    </tr>\n    <tr>\n      <th>2</th>\n      <td>5bc9160af9af8b0dad3c0692</td>\n      <td>0039</td>\n      <td>2018-05-01 07:46:04+00:00</td>\n      <td>2018-05-01 17:54:07+00:00</td>\n      <td>2018-05-01 16:57:02+00:00</td>\n      <td>13.969000</td>\n      <td>2_39_139_28_2018-05-01 14:46:04.441389</td>\n      <td>0002</td>\n      <td>CA-303</td>\n      <td>2-39-139-28</td>\n      <td>America/Los_Angeles</td>\n      <td>None</td>\n      <td>None</td>\n    </tr>\n    <tr>\n      <th>3</th>\n      <td>5bc9160af9af8b0dad3c0693</td>\n      <td>0039</td>\n      <td>2018-05-01 07:56:29+00:00</td>\n      <td>2018-05-01 14:52:45+00:00</td>\n      <td>2018-05-01 09:07:56+00:00</td>\n      <td>6.914000</td>\n      <td>2_39_79_378_2018-05-01 14:56:28.908623</td>\n      <td>0002</td>\n      <td>CA-326</td>\n      <td>2-39-79-378</td>\n      <td>America/Los_Angeles</td>\n      <td>None</td>\n      <td>None</td>\n    </tr>\n    <tr>\n      <th>4</th>\n      <td>5bc9160af9af8b0dad3c0694</td>\n      <td>0039</td>\n      <td>2018-05-01 08:14:50+00:00</td>\n      <td>2018-05-01 15:51:30+00:00</td>\n      <td>2018-05-01 13:18:12+00:00</td>\n      <td>13.785000</td>\n      <td>2_39_88_24_2018-05-01 15:14:50.443137</td>\n      <td>0002</td>\n      <td>CA-314</td>\n      <td>2-39-88-24</td>\n      <td>America/Los_Angeles</td>\n      <td>None</td>\n      <td>None</td>\n    </tr>\n    <tr>\n      <th>...</th>\n      <td>...</td>\n      <td>...</td>\n      <td>...</td>\n      <td>...</td>\n      <td>...</td>\n      <td>...</td>\n      <td>...</td>\n      <td>...</td>\n      <td>...</td>\n      <td>...</td>\n      <td>...</td>\n      <td>...</td>\n      <td>...</td>\n    </tr>\n    <tr>\n      <th>12838</th>\n      <td>5c2e8550f9af8b13dab074d9</td>\n      <td>0039</td>\n      <td>2018-10-31 21:53:58+00:00</td>\n      <td>2018-10-31 22:32:43+00:00</td>\n      <td>2018-10-31 22:33:42+00:00</td>\n      <td>3.372000</td>\n      <td>2_39_90_26_2018-11-01 04:53:58.292201</td>\n      <td>0002</td>\n      <td>CA-316</td>\n      <td>2-39-90-26</td>\n      <td>America/Los_Angeles</td>\n      <td>None</td>\n      <td>None</td>\n    </tr>\n    <tr>\n      <th>12839</th>\n      <td>5c2e8550f9af8b13dab074da</td>\n      <td>0039</td>\n      <td>2018-10-31 22:32:47+00:00</td>\n      <td>2018-10-31 22:53:40+00:00</td>\n      <td>2018-10-31 22:53:00+00:00</td>\n      <td>1.389000</td>\n      <td>2_39_90_26_2018-11-01 05:32:47.339653</td>\n      <td>0002</td>\n      <td>CA-316</td>\n      <td>2-39-90-26</td>\n      <td>America/Los_Angeles</td>\n      <td>None</td>\n      <td>None</td>\n    </tr>\n    <tr>\n      <th>12840</th>\n      <td>5c2e8550f9af8b13dab074db</td>\n      <td>0039</td>\n      <td>2018-10-31 22:40:49+00:00</td>\n      <td>2018-11-01 00:57:28+00:00</td>\n      <td>2018-11-01 00:27:00+00:00</td>\n      <td>1.225597</td>\n      <td>2_39_78_365_2018-11-01 05:40:48.678916</td>\n      <td>0002</td>\n      <td>CA-321</td>\n      <td>2-39-78-365</td>\n      <td>America/Los_Angeles</td>\n      <td>None</td>\n      <td>None</td>\n    </tr>\n    <tr>\n      <th>12841</th>\n      <td>5c2e8550f9af8b13dab074dc</td>\n      <td>0039</td>\n      <td>2018-10-31 22:53:48+00:00</td>\n      <td>2018-10-31 23:24:48+00:00</td>\n      <td>2018-10-31 23:24:16+00:00</td>\n      <td>0.962000</td>\n      <td>2_39_90_440_2018-11-01 05:53:48.467907</td>\n      <td>0002</td>\n      <td>CA-500</td>\n      <td>2-39-90-440</td>\n      <td>America/Los_Angeles</td>\n      <td>None</td>\n      <td>None</td>\n    </tr>\n    <tr>\n      <th>12842</th>\n      <td>5c2e8550f9af8b13dab074dd</td>\n      <td>0039</td>\n      <td>2018-10-31 23:25:56+00:00</td>\n      <td>2018-10-31 23:57:35+00:00</td>\n      <td>2018-10-31 23:56:24+00:00</td>\n      <td>0.980000</td>\n      <td>2_39_131_30_2018-11-01 06:25:55.685229</td>\n      <td>0002</td>\n      <td>CA-305</td>\n      <td>2-39-131-30</td>\n      <td>America/Los_Angeles</td>\n      <td>None</td>\n      <td>None</td>\n    </tr>\n  </tbody>\n</table>\n<p>12843 rows × 13 columns</p>\n</div>"
     },
     "execution_count": 3,
     "metadata": {},
     "output_type": "execute_result"
    }
   ],
   "source": [
    "data = data[(data.connectionTime > '2018-05-01') & (data.connectionTime < '2018-11-01')]\n",
    "data.reset_index(drop = True, inplace = True)\n",
    "data"
   ],
   "metadata": {
    "collapsed": false,
    "pycharm": {
     "name": "#%%\n"
    }
   }
  },
  {
   "cell_type": "markdown",
   "source": [
    "# Consumer Behavior"
   ],
   "metadata": {
    "collapsed": false
   }
  },
  {
   "cell_type": "code",
   "execution_count": 5,
   "outputs": [
    {
     "data": {
      "text/plain": "connectionTime\n0      0.641862\n1      0.438345\n2      0.180035\n3      0.172207\n4      1.048897\n5      0.579242\n6      2.903823\n7      7.722767\n8     18.271507\n9     12.409366\n10     5.753150\n11     3.402066\n12     4.624318\n13     4.515328\n14     3.238580\n15     3.604477\n16     4.484187\n17     5.371683\n18     6.251393\n19     5.068066\n20     3.947019\n21     2.600206\n22     1.845056\n23     0.926421\ndtype: float64"
     },
     "execution_count": 5,
     "metadata": {},
     "output_type": "execute_result"
    }
   ],
   "source": [
    "ConnectionTime = pd.Series(range(len(data)), index=data[\"connectionTime\"]).resample(\"h\").count()\n",
    "ct_mean = ConnectionTime.groupby(ConnectionTime.index.hour).mean()\n",
    "ct_mean = ct_mean/sum(ct_mean)*100\n",
    "ct_mean"
   ],
   "metadata": {
    "collapsed": false,
    "pycharm": {
     "name": "#%%\n"
    }
   }
  },
  {
   "cell_type": "code",
   "execution_count": 6,
   "outputs": [
    {
     "data": {
      "text/plain": "disconnectTime\n0      0.849190\n1      0.475235\n2      0.303838\n3      0.373955\n4      0.327211\n5      0.545351\n6      2.103497\n7      1.854194\n8      1.908729\n9      2.672220\n10     2.394323\n11     3.843315\n12     4.130013\n13     4.440716\n14     4.012226\n15     5.741768\n16    11.210861\n17    14.911457\n18    11.740630\n19     8.343872\n20     6.692237\n21     4.884788\n22     4.269320\n23     1.971055\ndtype: float64"
     },
     "execution_count": 6,
     "metadata": {},
     "output_type": "execute_result"
    }
   ],
   "source": [
    "disconnectTime = pd.Series(range(len(data)), index=data[\"disconnectTime\"]).resample(\"h\").count()\n",
    "dt_mean = disconnectTime.groupby(disconnectTime.index.hour).mean()\n",
    "dt_mean = dt_mean/sum(dt_mean)*100\n",
    "dt_mean"
   ],
   "metadata": {
    "collapsed": false,
    "pycharm": {
     "name": "#%%\n"
    }
   }
  },
  {
   "cell_type": "code",
   "execution_count": 7,
   "outputs": [
    {
     "data": {
      "text/plain": "connectionTime      \n0               0.25    0.0\n                0.50    0.0\n                0.75    1.0\n1               0.25    0.0\n                0.50    0.0\n                       ... \n22              0.50    1.0\n                0.75    2.0\n23              0.25    0.0\n                0.50    0.0\n                0.75    1.0\nLength: 72, dtype: float64"
     },
     "execution_count": 7,
     "metadata": {},
     "output_type": "execute_result"
    }
   ],
   "source": [
    "ct_quartiles = ConnectionTime.groupby(ConnectionTime.index.hour).quantile([0.25, 0.50, 0.75])\n",
    "ct_quartiles"
   ],
   "metadata": {
    "collapsed": false,
    "pycharm": {
     "name": "#%%\n"
    }
   }
  },
  {
   "cell_type": "code",
   "execution_count": 8,
   "outputs": [
    {
     "data": {
      "text/plain": "disconnectTime      \n0               0.25    0.0\n                0.50    0.0\n                0.75    1.0\n1               0.25    0.0\n                0.50    0.0\n                       ... \n22              0.50    3.0\n                0.75    4.0\n23              0.25    1.0\n                0.50    1.0\n                0.75    2.0\nLength: 72, dtype: float64"
     },
     "execution_count": 8,
     "metadata": {},
     "output_type": "execute_result"
    }
   ],
   "source": [
    "dt_quartiles = disconnectTime.groupby(disconnectTime.index.hour).quantile([0.25, 0.50, 0.75])\n",
    "dt_quartiles"
   ],
   "metadata": {
    "collapsed": false,
    "pycharm": {
     "name": "#%%\n"
    }
   }
  },
  {
   "cell_type": "code",
   "execution_count": 9,
   "outputs": [
    {
     "data": {
      "text/plain": "0.0"
     },
     "execution_count": 9,
     "metadata": {},
     "output_type": "execute_result"
    }
   ],
   "source": [
    "dt_quartiles[0][0.50]"
   ],
   "metadata": {
    "collapsed": false,
    "pycharm": {
     "name": "#%%\n"
    }
   }
  },
  {
   "cell_type": "markdown",
   "source": [
    "# Charging Time Stuff"
   ],
   "metadata": {
    "collapsed": false
   }
  },
  {
   "cell_type": "code",
   "execution_count": 7,
   "outputs": [
    {
     "name": "stderr",
     "output_type": "stream",
     "text": [
      "C:\\Users\\Daniel\\AppData\\Local\\Temp\\ipykernel_11504\\4233251255.py:1: SettingWithCopyWarning: \n",
      "A value is trying to be set on a copy of a slice from a DataFrame.\n",
      "Try using .loc[row_indexer,col_indexer] = value instead\n",
      "\n",
      "See the caveats in the documentation: https://pandas.pydata.org/pandas-docs/stable/user_guide/indexing.html#returning-a-view-versus-a-copy\n",
      "  data[\"chargingTime\"] = data[\"doneChargingTime\"] - data[\"connectionTime\"]\n"
     ]
    },
    {
     "data": {
      "text/plain": "0       0 days 03:53:49\n1       0 days 01:41:05\n2       0 days 09:10:58\n3       0 days 01:11:27\n4       0 days 05:03:22\n              ...      \n12838   0 days 00:39:44\n12839   0 days 00:20:13\n12840   0 days 01:46:11\n12841   0 days 00:30:28\n12842   0 days 00:30:28\nName: chargingTime, Length: 12843, dtype: timedelta64[ns]"
     },
     "execution_count": 7,
     "metadata": {},
     "output_type": "execute_result"
    }
   ],
   "source": [
    "data[\"chargingTime\"] = data[\"doneChargingTime\"] - data[\"connectionTime\"]\n",
    "data[\"chargingTime\"]"
   ],
   "metadata": {
    "collapsed": false,
    "pycharm": {
     "name": "#%%\n"
    }
   }
  },
  {
   "cell_type": "code",
   "execution_count": 11,
   "outputs": [
    {
     "data": {
      "text/plain": "727"
     },
     "execution_count": 11,
     "metadata": {},
     "output_type": "execute_result"
    }
   ],
   "source": [
    "#data[\"spaceID\"].unique()\n",
    "data[\"userID\"].count()"
   ],
   "metadata": {
    "collapsed": false,
    "pycharm": {
     "name": "#%%\n"
    }
   }
  },
  {
   "cell_type": "code",
   "execution_count": 12,
   "outputs": [
    {
     "data": {
      "text/plain": "87"
     },
     "execution_count": 12,
     "metadata": {},
     "output_type": "execute_result"
    }
   ],
   "source": [
    "len(pd.unique(data[\"userID\"]))"
   ],
   "metadata": {
    "collapsed": false,
    "pycharm": {
     "name": "#%%\n"
    }
   }
  },
  {
   "cell_type": "code",
   "execution_count": 17,
   "outputs": [
    {
     "data": {
      "application/vnd.plotly.v1+json": {
       "data": [
        {
         "error_y": {
          "array": [
           1.0,
           1.0,
           0.0,
           0.0,
           0.0,
           1.0,
           1.0,
           1.0,
           4.0,
           3.0,
           2.0,
           1.0,
           2.0,
           1.0,
           1.0,
           1.0,
           1.0,
           1.0,
           2.0,
           2.0,
           1.0,
           1.0,
           1.0,
           1.0
          ],
          "arrayminus": [
           0.0,
           0.0,
           0.0,
           0.0,
           1.0,
           0.0,
           1.0,
           3.0,
           11.0,
           4.0,
           2.0,
           1.0,
           1.0,
           1.0,
           1.0,
           1.0,
           1.0,
           2.0,
           2.0,
           1.0,
           2.0,
           1.0,
           1.0,
           0.0
          ],
          "type": "data"
         },
         "name": "Connection time",
         "x": [
          0,
          1,
          2,
          3,
          4,
          5,
          6,
          7,
          8,
          9,
          10,
          11,
          12,
          13,
          14,
          15,
          16,
          17,
          18,
          19,
          20,
          21,
          22,
          23
         ],
         "y": [
          0.6418622854857785,
          0.43834497545370243,
          0.1800345434899135,
          0.17220695464252594,
          1.0488969055499306,
          0.5792415747066783,
          2.903822756162099,
          7.722767222822527,
          18.271506725770635,
          12.409365880220873,
          5.753150179098636,
          3.402065802795811,
          4.6243182765691335,
          4.5153276101180095,
          3.2385798031191237,
          3.6044770404907562,
          4.484187419703403,
          5.371682846519701,
          6.251393225732348,
          5.068065989977284,
          3.9470191350514328,
          2.6002058996196813,
          1.8450562820654628,
          0.9264206648345572
         ],
         "type": "bar"
        },
        {
         "error_y": {
          "array": [
           1.0,
           1.0,
           0.0,
           0.0,
           0.0,
           1.0,
           1.0,
           1.0,
           1.0,
           1.0,
           1.0,
           2.0,
           1.0,
           1.0,
           1.0,
           1.0,
           3.0,
           3.0,
           2.5,
           3.0,
           3.0,
           1.0,
           1.0,
           1.0
          ],
          "arrayminus": [
           0.0,
           0.0,
           0.0,
           0.0,
           0.0,
           0.0,
           1.0,
           1.0,
           1.0,
           1.0,
           0.0,
           1.0,
           1.0,
           1.0,
           1.0,
           1.0,
           3.0,
           5.0,
           3.5,
           1.0,
           1.0,
           1.0,
           1.0,
           0.0
          ],
          "type": "data"
         },
         "name": "Disconnection time",
         "x": [
          0,
          1,
          2,
          3,
          4,
          5,
          6,
          7,
          8,
          9,
          10,
          11,
          12,
          13,
          14,
          15,
          16,
          17,
          18,
          19,
          20,
          21,
          22,
          23
         ],
         "y": [
          -0.849189574571394,
          -0.475234532558303,
          -0.3038384716356364,
          -0.37395504201309093,
          -0.3272106617614545,
          -0.5453511029357576,
          -2.1034971113236365,
          -1.854193749981576,
          -1.9087288602751515,
          -2.6722204043852122,
          -2.39432295818652,
          -3.843314521878686,
          -4.130013387422055,
          -4.440716123905455,
          -4.012225971598788,
          -5.741768040909333,
          -11.21086053035079,
          -14.911457300272001,
          -11.740630173202666,
          -8.343871874917092,
          -6.6922371060259405,
          -4.884787736296,
          -4.269320062982787,
          -1.971054700610667
         ],
         "type": "bar"
        }
       ],
       "layout": {
        "template": {
         "data": {
          "bar": [
           {
            "error_x": {
             "color": "#2a3f5f"
            },
            "error_y": {
             "color": "#2a3f5f"
            },
            "marker": {
             "line": {
              "color": "#E5ECF6",
              "width": 0.5
             },
             "pattern": {
              "fillmode": "overlay",
              "size": 10,
              "solidity": 0.2
             }
            },
            "type": "bar"
           }
          ],
          "barpolar": [
           {
            "marker": {
             "line": {
              "color": "#E5ECF6",
              "width": 0.5
             },
             "pattern": {
              "fillmode": "overlay",
              "size": 10,
              "solidity": 0.2
             }
            },
            "type": "barpolar"
           }
          ],
          "carpet": [
           {
            "aaxis": {
             "endlinecolor": "#2a3f5f",
             "gridcolor": "white",
             "linecolor": "white",
             "minorgridcolor": "white",
             "startlinecolor": "#2a3f5f"
            },
            "baxis": {
             "endlinecolor": "#2a3f5f",
             "gridcolor": "white",
             "linecolor": "white",
             "minorgridcolor": "white",
             "startlinecolor": "#2a3f5f"
            },
            "type": "carpet"
           }
          ],
          "choropleth": [
           {
            "colorbar": {
             "outlinewidth": 0,
             "ticks": ""
            },
            "type": "choropleth"
           }
          ],
          "contour": [
           {
            "colorbar": {
             "outlinewidth": 0,
             "ticks": ""
            },
            "colorscale": [
             [
              0.0,
              "#0d0887"
             ],
             [
              0.1111111111111111,
              "#46039f"
             ],
             [
              0.2222222222222222,
              "#7201a8"
             ],
             [
              0.3333333333333333,
              "#9c179e"
             ],
             [
              0.4444444444444444,
              "#bd3786"
             ],
             [
              0.5555555555555556,
              "#d8576b"
             ],
             [
              0.6666666666666666,
              "#ed7953"
             ],
             [
              0.7777777777777778,
              "#fb9f3a"
             ],
             [
              0.8888888888888888,
              "#fdca26"
             ],
             [
              1.0,
              "#f0f921"
             ]
            ],
            "type": "contour"
           }
          ],
          "contourcarpet": [
           {
            "colorbar": {
             "outlinewidth": 0,
             "ticks": ""
            },
            "type": "contourcarpet"
           }
          ],
          "heatmap": [
           {
            "colorbar": {
             "outlinewidth": 0,
             "ticks": ""
            },
            "colorscale": [
             [
              0.0,
              "#0d0887"
             ],
             [
              0.1111111111111111,
              "#46039f"
             ],
             [
              0.2222222222222222,
              "#7201a8"
             ],
             [
              0.3333333333333333,
              "#9c179e"
             ],
             [
              0.4444444444444444,
              "#bd3786"
             ],
             [
              0.5555555555555556,
              "#d8576b"
             ],
             [
              0.6666666666666666,
              "#ed7953"
             ],
             [
              0.7777777777777778,
              "#fb9f3a"
             ],
             [
              0.8888888888888888,
              "#fdca26"
             ],
             [
              1.0,
              "#f0f921"
             ]
            ],
            "type": "heatmap"
           }
          ],
          "heatmapgl": [
           {
            "colorbar": {
             "outlinewidth": 0,
             "ticks": ""
            },
            "colorscale": [
             [
              0.0,
              "#0d0887"
             ],
             [
              0.1111111111111111,
              "#46039f"
             ],
             [
              0.2222222222222222,
              "#7201a8"
             ],
             [
              0.3333333333333333,
              "#9c179e"
             ],
             [
              0.4444444444444444,
              "#bd3786"
             ],
             [
              0.5555555555555556,
              "#d8576b"
             ],
             [
              0.6666666666666666,
              "#ed7953"
             ],
             [
              0.7777777777777778,
              "#fb9f3a"
             ],
             [
              0.8888888888888888,
              "#fdca26"
             ],
             [
              1.0,
              "#f0f921"
             ]
            ],
            "type": "heatmapgl"
           }
          ],
          "histogram": [
           {
            "marker": {
             "pattern": {
              "fillmode": "overlay",
              "size": 10,
              "solidity": 0.2
             }
            },
            "type": "histogram"
           }
          ],
          "histogram2d": [
           {
            "colorbar": {
             "outlinewidth": 0,
             "ticks": ""
            },
            "colorscale": [
             [
              0.0,
              "#0d0887"
             ],
             [
              0.1111111111111111,
              "#46039f"
             ],
             [
              0.2222222222222222,
              "#7201a8"
             ],
             [
              0.3333333333333333,
              "#9c179e"
             ],
             [
              0.4444444444444444,
              "#bd3786"
             ],
             [
              0.5555555555555556,
              "#d8576b"
             ],
             [
              0.6666666666666666,
              "#ed7953"
             ],
             [
              0.7777777777777778,
              "#fb9f3a"
             ],
             [
              0.8888888888888888,
              "#fdca26"
             ],
             [
              1.0,
              "#f0f921"
             ]
            ],
            "type": "histogram2d"
           }
          ],
          "histogram2dcontour": [
           {
            "colorbar": {
             "outlinewidth": 0,
             "ticks": ""
            },
            "colorscale": [
             [
              0.0,
              "#0d0887"
             ],
             [
              0.1111111111111111,
              "#46039f"
             ],
             [
              0.2222222222222222,
              "#7201a8"
             ],
             [
              0.3333333333333333,
              "#9c179e"
             ],
             [
              0.4444444444444444,
              "#bd3786"
             ],
             [
              0.5555555555555556,
              "#d8576b"
             ],
             [
              0.6666666666666666,
              "#ed7953"
             ],
             [
              0.7777777777777778,
              "#fb9f3a"
             ],
             [
              0.8888888888888888,
              "#fdca26"
             ],
             [
              1.0,
              "#f0f921"
             ]
            ],
            "type": "histogram2dcontour"
           }
          ],
          "mesh3d": [
           {
            "colorbar": {
             "outlinewidth": 0,
             "ticks": ""
            },
            "type": "mesh3d"
           }
          ],
          "parcoords": [
           {
            "line": {
             "colorbar": {
              "outlinewidth": 0,
              "ticks": ""
             }
            },
            "type": "parcoords"
           }
          ],
          "pie": [
           {
            "automargin": true,
            "type": "pie"
           }
          ],
          "scatter": [
           {
            "marker": {
             "colorbar": {
              "outlinewidth": 0,
              "ticks": ""
             }
            },
            "type": "scatter"
           }
          ],
          "scatter3d": [
           {
            "line": {
             "colorbar": {
              "outlinewidth": 0,
              "ticks": ""
             }
            },
            "marker": {
             "colorbar": {
              "outlinewidth": 0,
              "ticks": ""
             }
            },
            "type": "scatter3d"
           }
          ],
          "scattercarpet": [
           {
            "marker": {
             "colorbar": {
              "outlinewidth": 0,
              "ticks": ""
             }
            },
            "type": "scattercarpet"
           }
          ],
          "scattergeo": [
           {
            "marker": {
             "colorbar": {
              "outlinewidth": 0,
              "ticks": ""
             }
            },
            "type": "scattergeo"
           }
          ],
          "scattergl": [
           {
            "marker": {
             "colorbar": {
              "outlinewidth": 0,
              "ticks": ""
             }
            },
            "type": "scattergl"
           }
          ],
          "scattermapbox": [
           {
            "marker": {
             "colorbar": {
              "outlinewidth": 0,
              "ticks": ""
             }
            },
            "type": "scattermapbox"
           }
          ],
          "scatterpolar": [
           {
            "marker": {
             "colorbar": {
              "outlinewidth": 0,
              "ticks": ""
             }
            },
            "type": "scatterpolar"
           }
          ],
          "scatterpolargl": [
           {
            "marker": {
             "colorbar": {
              "outlinewidth": 0,
              "ticks": ""
             }
            },
            "type": "scatterpolargl"
           }
          ],
          "scatterternary": [
           {
            "marker": {
             "colorbar": {
              "outlinewidth": 0,
              "ticks": ""
             }
            },
            "type": "scatterternary"
           }
          ],
          "surface": [
           {
            "colorbar": {
             "outlinewidth": 0,
             "ticks": ""
            },
            "colorscale": [
             [
              0.0,
              "#0d0887"
             ],
             [
              0.1111111111111111,
              "#46039f"
             ],
             [
              0.2222222222222222,
              "#7201a8"
             ],
             [
              0.3333333333333333,
              "#9c179e"
             ],
             [
              0.4444444444444444,
              "#bd3786"
             ],
             [
              0.5555555555555556,
              "#d8576b"
             ],
             [
              0.6666666666666666,
              "#ed7953"
             ],
             [
              0.7777777777777778,
              "#fb9f3a"
             ],
             [
              0.8888888888888888,
              "#fdca26"
             ],
             [
              1.0,
              "#f0f921"
             ]
            ],
            "type": "surface"
           }
          ],
          "table": [
           {
            "cells": {
             "fill": {
              "color": "#EBF0F8"
             },
             "line": {
              "color": "white"
             }
            },
            "header": {
             "fill": {
              "color": "#C8D4E3"
             },
             "line": {
              "color": "white"
             }
            },
            "type": "table"
           }
          ]
         },
         "layout": {
          "annotationdefaults": {
           "arrowcolor": "#2a3f5f",
           "arrowhead": 0,
           "arrowwidth": 1
          },
          "autotypenumbers": "strict",
          "coloraxis": {
           "colorbar": {
            "outlinewidth": 0,
            "ticks": ""
           }
          },
          "colorscale": {
           "diverging": [
            [
             0,
             "#8e0152"
            ],
            [
             0.1,
             "#c51b7d"
            ],
            [
             0.2,
             "#de77ae"
            ],
            [
             0.3,
             "#f1b6da"
            ],
            [
             0.4,
             "#fde0ef"
            ],
            [
             0.5,
             "#f7f7f7"
            ],
            [
             0.6,
             "#e6f5d0"
            ],
            [
             0.7,
             "#b8e186"
            ],
            [
             0.8,
             "#7fbc41"
            ],
            [
             0.9,
             "#4d9221"
            ],
            [
             1,
             "#276419"
            ]
           ],
           "sequential": [
            [
             0.0,
             "#0d0887"
            ],
            [
             0.1111111111111111,
             "#46039f"
            ],
            [
             0.2222222222222222,
             "#7201a8"
            ],
            [
             0.3333333333333333,
             "#9c179e"
            ],
            [
             0.4444444444444444,
             "#bd3786"
            ],
            [
             0.5555555555555556,
             "#d8576b"
            ],
            [
             0.6666666666666666,
             "#ed7953"
            ],
            [
             0.7777777777777778,
             "#fb9f3a"
            ],
            [
             0.8888888888888888,
             "#fdca26"
            ],
            [
             1.0,
             "#f0f921"
            ]
           ],
           "sequentialminus": [
            [
             0.0,
             "#0d0887"
            ],
            [
             0.1111111111111111,
             "#46039f"
            ],
            [
             0.2222222222222222,
             "#7201a8"
            ],
            [
             0.3333333333333333,
             "#9c179e"
            ],
            [
             0.4444444444444444,
             "#bd3786"
            ],
            [
             0.5555555555555556,
             "#d8576b"
            ],
            [
             0.6666666666666666,
             "#ed7953"
            ],
            [
             0.7777777777777778,
             "#fb9f3a"
            ],
            [
             0.8888888888888888,
             "#fdca26"
            ],
            [
             1.0,
             "#f0f921"
            ]
           ]
          },
          "colorway": [
           "#636efa",
           "#EF553B",
           "#00cc96",
           "#ab63fa",
           "#FFA15A",
           "#19d3f3",
           "#FF6692",
           "#B6E880",
           "#FF97FF",
           "#FECB52"
          ],
          "font": {
           "color": "#2a3f5f"
          },
          "geo": {
           "bgcolor": "white",
           "lakecolor": "white",
           "landcolor": "#E5ECF6",
           "showlakes": true,
           "showland": true,
           "subunitcolor": "white"
          },
          "hoverlabel": {
           "align": "left"
          },
          "hovermode": "closest",
          "mapbox": {
           "style": "light"
          },
          "paper_bgcolor": "white",
          "plot_bgcolor": "#E5ECF6",
          "polar": {
           "angularaxis": {
            "gridcolor": "white",
            "linecolor": "white",
            "ticks": ""
           },
           "bgcolor": "#E5ECF6",
           "radialaxis": {
            "gridcolor": "white",
            "linecolor": "white",
            "ticks": ""
           }
          },
          "scene": {
           "xaxis": {
            "backgroundcolor": "#E5ECF6",
            "gridcolor": "white",
            "gridwidth": 2,
            "linecolor": "white",
            "showbackground": true,
            "ticks": "",
            "zerolinecolor": "white"
           },
           "yaxis": {
            "backgroundcolor": "#E5ECF6",
            "gridcolor": "white",
            "gridwidth": 2,
            "linecolor": "white",
            "showbackground": true,
            "ticks": "",
            "zerolinecolor": "white"
           },
           "zaxis": {
            "backgroundcolor": "#E5ECF6",
            "gridcolor": "white",
            "gridwidth": 2,
            "linecolor": "white",
            "showbackground": true,
            "ticks": "",
            "zerolinecolor": "white"
           }
          },
          "shapedefaults": {
           "line": {
            "color": "#2a3f5f"
           }
          },
          "ternary": {
           "aaxis": {
            "gridcolor": "white",
            "linecolor": "white",
            "ticks": ""
           },
           "baxis": {
            "gridcolor": "white",
            "linecolor": "white",
            "ticks": ""
           },
           "bgcolor": "#E5ECF6",
           "caxis": {
            "gridcolor": "white",
            "linecolor": "white",
            "ticks": ""
           }
          },
          "title": {
           "x": 0.05
          },
          "xaxis": {
           "automargin": true,
           "gridcolor": "white",
           "linecolor": "white",
           "ticks": "",
           "title": {
            "standoff": 15
           },
           "zerolinecolor": "white",
           "zerolinewidth": 2
          },
          "yaxis": {
           "automargin": true,
           "gridcolor": "white",
           "linecolor": "white",
           "ticks": "",
           "title": {
            "standoff": 15
           },
           "zerolinecolor": "white",
           "zerolinewidth": 2
          }
         }
        },
        "barmode": "relative"
       },
       "config": {
        "plotlyServerURL": "https://plot.ly"
       }
      },
      "text/html": "<div>                            <div id=\"2de4c7a2-1a22-4b11-878f-151205309015\" class=\"plotly-graph-div\" style=\"height:525px; width:100%;\"></div>            <script type=\"text/javascript\">                require([\"plotly\"], function(Plotly) {                    window.PLOTLYENV=window.PLOTLYENV || {};                                    if (document.getElementById(\"2de4c7a2-1a22-4b11-878f-151205309015\")) {                    Plotly.newPlot(                        \"2de4c7a2-1a22-4b11-878f-151205309015\",                        [{\"error_y\":{\"array\":[1.0,1.0,0.0,0.0,0.0,1.0,1.0,1.0,4.0,3.0,2.0,1.0,2.0,1.0,1.0,1.0,1.0,1.0,2.0,2.0,1.0,1.0,1.0,1.0],\"arrayminus\":[0.0,0.0,0.0,0.0,1.0,0.0,1.0,3.0,11.0,4.0,2.0,1.0,1.0,1.0,1.0,1.0,1.0,2.0,2.0,1.0,2.0,1.0,1.0,0.0],\"type\":\"data\"},\"name\":\"Connection time\",\"x\":[0,1,2,3,4,5,6,7,8,9,10,11,12,13,14,15,16,17,18,19,20,21,22,23],\"y\":[0.6418622854857785,0.43834497545370243,0.1800345434899135,0.17220695464252594,1.0488969055499306,0.5792415747066783,2.903822756162099,7.722767222822527,18.271506725770635,12.409365880220873,5.753150179098636,3.402065802795811,4.6243182765691335,4.5153276101180095,3.2385798031191237,3.6044770404907562,4.484187419703403,5.371682846519701,6.251393225732348,5.068065989977284,3.9470191350514328,2.6002058996196813,1.8450562820654628,0.9264206648345572],\"type\":\"bar\"},{\"error_y\":{\"array\":[1.0,1.0,0.0,0.0,0.0,1.0,1.0,1.0,1.0,1.0,1.0,2.0,1.0,1.0,1.0,1.0,3.0,3.0,2.5,3.0,3.0,1.0,1.0,1.0],\"arrayminus\":[0.0,0.0,0.0,0.0,0.0,0.0,1.0,1.0,1.0,1.0,0.0,1.0,1.0,1.0,1.0,1.0,3.0,5.0,3.5,1.0,1.0,1.0,1.0,0.0],\"type\":\"data\"},\"name\":\"Disconnection time\",\"x\":[0,1,2,3,4,5,6,7,8,9,10,11,12,13,14,15,16,17,18,19,20,21,22,23],\"y\":[-0.849189574571394,-0.475234532558303,-0.3038384716356364,-0.37395504201309093,-0.3272106617614545,-0.5453511029357576,-2.1034971113236365,-1.854193749981576,-1.9087288602751515,-2.6722204043852122,-2.39432295818652,-3.843314521878686,-4.130013387422055,-4.440716123905455,-4.012225971598788,-5.741768040909333,-11.21086053035079,-14.911457300272001,-11.740630173202666,-8.343871874917092,-6.6922371060259405,-4.884787736296,-4.269320062982787,-1.971054700610667],\"type\":\"bar\"}],                        {\"template\":{\"data\":{\"bar\":[{\"error_x\":{\"color\":\"#2a3f5f\"},\"error_y\":{\"color\":\"#2a3f5f\"},\"marker\":{\"line\":{\"color\":\"#E5ECF6\",\"width\":0.5},\"pattern\":{\"fillmode\":\"overlay\",\"size\":10,\"solidity\":0.2}},\"type\":\"bar\"}],\"barpolar\":[{\"marker\":{\"line\":{\"color\":\"#E5ECF6\",\"width\":0.5},\"pattern\":{\"fillmode\":\"overlay\",\"size\":10,\"solidity\":0.2}},\"type\":\"barpolar\"}],\"carpet\":[{\"aaxis\":{\"endlinecolor\":\"#2a3f5f\",\"gridcolor\":\"white\",\"linecolor\":\"white\",\"minorgridcolor\":\"white\",\"startlinecolor\":\"#2a3f5f\"},\"baxis\":{\"endlinecolor\":\"#2a3f5f\",\"gridcolor\":\"white\",\"linecolor\":\"white\",\"minorgridcolor\":\"white\",\"startlinecolor\":\"#2a3f5f\"},\"type\":\"carpet\"}],\"choropleth\":[{\"colorbar\":{\"outlinewidth\":0,\"ticks\":\"\"},\"type\":\"choropleth\"}],\"contour\":[{\"colorbar\":{\"outlinewidth\":0,\"ticks\":\"\"},\"colorscale\":[[0.0,\"#0d0887\"],[0.1111111111111111,\"#46039f\"],[0.2222222222222222,\"#7201a8\"],[0.3333333333333333,\"#9c179e\"],[0.4444444444444444,\"#bd3786\"],[0.5555555555555556,\"#d8576b\"],[0.6666666666666666,\"#ed7953\"],[0.7777777777777778,\"#fb9f3a\"],[0.8888888888888888,\"#fdca26\"],[1.0,\"#f0f921\"]],\"type\":\"contour\"}],\"contourcarpet\":[{\"colorbar\":{\"outlinewidth\":0,\"ticks\":\"\"},\"type\":\"contourcarpet\"}],\"heatmap\":[{\"colorbar\":{\"outlinewidth\":0,\"ticks\":\"\"},\"colorscale\":[[0.0,\"#0d0887\"],[0.1111111111111111,\"#46039f\"],[0.2222222222222222,\"#7201a8\"],[0.3333333333333333,\"#9c179e\"],[0.4444444444444444,\"#bd3786\"],[0.5555555555555556,\"#d8576b\"],[0.6666666666666666,\"#ed7953\"],[0.7777777777777778,\"#fb9f3a\"],[0.8888888888888888,\"#fdca26\"],[1.0,\"#f0f921\"]],\"type\":\"heatmap\"}],\"heatmapgl\":[{\"colorbar\":{\"outlinewidth\":0,\"ticks\":\"\"},\"colorscale\":[[0.0,\"#0d0887\"],[0.1111111111111111,\"#46039f\"],[0.2222222222222222,\"#7201a8\"],[0.3333333333333333,\"#9c179e\"],[0.4444444444444444,\"#bd3786\"],[0.5555555555555556,\"#d8576b\"],[0.6666666666666666,\"#ed7953\"],[0.7777777777777778,\"#fb9f3a\"],[0.8888888888888888,\"#fdca26\"],[1.0,\"#f0f921\"]],\"type\":\"heatmapgl\"}],\"histogram\":[{\"marker\":{\"pattern\":{\"fillmode\":\"overlay\",\"size\":10,\"solidity\":0.2}},\"type\":\"histogram\"}],\"histogram2d\":[{\"colorbar\":{\"outlinewidth\":0,\"ticks\":\"\"},\"colorscale\":[[0.0,\"#0d0887\"],[0.1111111111111111,\"#46039f\"],[0.2222222222222222,\"#7201a8\"],[0.3333333333333333,\"#9c179e\"],[0.4444444444444444,\"#bd3786\"],[0.5555555555555556,\"#d8576b\"],[0.6666666666666666,\"#ed7953\"],[0.7777777777777778,\"#fb9f3a\"],[0.8888888888888888,\"#fdca26\"],[1.0,\"#f0f921\"]],\"type\":\"histogram2d\"}],\"histogram2dcontour\":[{\"colorbar\":{\"outlinewidth\":0,\"ticks\":\"\"},\"colorscale\":[[0.0,\"#0d0887\"],[0.1111111111111111,\"#46039f\"],[0.2222222222222222,\"#7201a8\"],[0.3333333333333333,\"#9c179e\"],[0.4444444444444444,\"#bd3786\"],[0.5555555555555556,\"#d8576b\"],[0.6666666666666666,\"#ed7953\"],[0.7777777777777778,\"#fb9f3a\"],[0.8888888888888888,\"#fdca26\"],[1.0,\"#f0f921\"]],\"type\":\"histogram2dcontour\"}],\"mesh3d\":[{\"colorbar\":{\"outlinewidth\":0,\"ticks\":\"\"},\"type\":\"mesh3d\"}],\"parcoords\":[{\"line\":{\"colorbar\":{\"outlinewidth\":0,\"ticks\":\"\"}},\"type\":\"parcoords\"}],\"pie\":[{\"automargin\":true,\"type\":\"pie\"}],\"scatter\":[{\"marker\":{\"colorbar\":{\"outlinewidth\":0,\"ticks\":\"\"}},\"type\":\"scatter\"}],\"scatter3d\":[{\"line\":{\"colorbar\":{\"outlinewidth\":0,\"ticks\":\"\"}},\"marker\":{\"colorbar\":{\"outlinewidth\":0,\"ticks\":\"\"}},\"type\":\"scatter3d\"}],\"scattercarpet\":[{\"marker\":{\"colorbar\":{\"outlinewidth\":0,\"ticks\":\"\"}},\"type\":\"scattercarpet\"}],\"scattergeo\":[{\"marker\":{\"colorbar\":{\"outlinewidth\":0,\"ticks\":\"\"}},\"type\":\"scattergeo\"}],\"scattergl\":[{\"marker\":{\"colorbar\":{\"outlinewidth\":0,\"ticks\":\"\"}},\"type\":\"scattergl\"}],\"scattermapbox\":[{\"marker\":{\"colorbar\":{\"outlinewidth\":0,\"ticks\":\"\"}},\"type\":\"scattermapbox\"}],\"scatterpolar\":[{\"marker\":{\"colorbar\":{\"outlinewidth\":0,\"ticks\":\"\"}},\"type\":\"scatterpolar\"}],\"scatterpolargl\":[{\"marker\":{\"colorbar\":{\"outlinewidth\":0,\"ticks\":\"\"}},\"type\":\"scatterpolargl\"}],\"scatterternary\":[{\"marker\":{\"colorbar\":{\"outlinewidth\":0,\"ticks\":\"\"}},\"type\":\"scatterternary\"}],\"surface\":[{\"colorbar\":{\"outlinewidth\":0,\"ticks\":\"\"},\"colorscale\":[[0.0,\"#0d0887\"],[0.1111111111111111,\"#46039f\"],[0.2222222222222222,\"#7201a8\"],[0.3333333333333333,\"#9c179e\"],[0.4444444444444444,\"#bd3786\"],[0.5555555555555556,\"#d8576b\"],[0.6666666666666666,\"#ed7953\"],[0.7777777777777778,\"#fb9f3a\"],[0.8888888888888888,\"#fdca26\"],[1.0,\"#f0f921\"]],\"type\":\"surface\"}],\"table\":[{\"cells\":{\"fill\":{\"color\":\"#EBF0F8\"},\"line\":{\"color\":\"white\"}},\"header\":{\"fill\":{\"color\":\"#C8D4E3\"},\"line\":{\"color\":\"white\"}},\"type\":\"table\"}]},\"layout\":{\"annotationdefaults\":{\"arrowcolor\":\"#2a3f5f\",\"arrowhead\":0,\"arrowwidth\":1},\"autotypenumbers\":\"strict\",\"coloraxis\":{\"colorbar\":{\"outlinewidth\":0,\"ticks\":\"\"}},\"colorscale\":{\"diverging\":[[0,\"#8e0152\"],[0.1,\"#c51b7d\"],[0.2,\"#de77ae\"],[0.3,\"#f1b6da\"],[0.4,\"#fde0ef\"],[0.5,\"#f7f7f7\"],[0.6,\"#e6f5d0\"],[0.7,\"#b8e186\"],[0.8,\"#7fbc41\"],[0.9,\"#4d9221\"],[1,\"#276419\"]],\"sequential\":[[0.0,\"#0d0887\"],[0.1111111111111111,\"#46039f\"],[0.2222222222222222,\"#7201a8\"],[0.3333333333333333,\"#9c179e\"],[0.4444444444444444,\"#bd3786\"],[0.5555555555555556,\"#d8576b\"],[0.6666666666666666,\"#ed7953\"],[0.7777777777777778,\"#fb9f3a\"],[0.8888888888888888,\"#fdca26\"],[1.0,\"#f0f921\"]],\"sequentialminus\":[[0.0,\"#0d0887\"],[0.1111111111111111,\"#46039f\"],[0.2222222222222222,\"#7201a8\"],[0.3333333333333333,\"#9c179e\"],[0.4444444444444444,\"#bd3786\"],[0.5555555555555556,\"#d8576b\"],[0.6666666666666666,\"#ed7953\"],[0.7777777777777778,\"#fb9f3a\"],[0.8888888888888888,\"#fdca26\"],[1.0,\"#f0f921\"]]},\"colorway\":[\"#636efa\",\"#EF553B\",\"#00cc96\",\"#ab63fa\",\"#FFA15A\",\"#19d3f3\",\"#FF6692\",\"#B6E880\",\"#FF97FF\",\"#FECB52\"],\"font\":{\"color\":\"#2a3f5f\"},\"geo\":{\"bgcolor\":\"white\",\"lakecolor\":\"white\",\"landcolor\":\"#E5ECF6\",\"showlakes\":true,\"showland\":true,\"subunitcolor\":\"white\"},\"hoverlabel\":{\"align\":\"left\"},\"hovermode\":\"closest\",\"mapbox\":{\"style\":\"light\"},\"paper_bgcolor\":\"white\",\"plot_bgcolor\":\"#E5ECF6\",\"polar\":{\"angularaxis\":{\"gridcolor\":\"white\",\"linecolor\":\"white\",\"ticks\":\"\"},\"bgcolor\":\"#E5ECF6\",\"radialaxis\":{\"gridcolor\":\"white\",\"linecolor\":\"white\",\"ticks\":\"\"}},\"scene\":{\"xaxis\":{\"backgroundcolor\":\"#E5ECF6\",\"gridcolor\":\"white\",\"gridwidth\":2,\"linecolor\":\"white\",\"showbackground\":true,\"ticks\":\"\",\"zerolinecolor\":\"white\"},\"yaxis\":{\"backgroundcolor\":\"#E5ECF6\",\"gridcolor\":\"white\",\"gridwidth\":2,\"linecolor\":\"white\",\"showbackground\":true,\"ticks\":\"\",\"zerolinecolor\":\"white\"},\"zaxis\":{\"backgroundcolor\":\"#E5ECF6\",\"gridcolor\":\"white\",\"gridwidth\":2,\"linecolor\":\"white\",\"showbackground\":true,\"ticks\":\"\",\"zerolinecolor\":\"white\"}},\"shapedefaults\":{\"line\":{\"color\":\"#2a3f5f\"}},\"ternary\":{\"aaxis\":{\"gridcolor\":\"white\",\"linecolor\":\"white\",\"ticks\":\"\"},\"baxis\":{\"gridcolor\":\"white\",\"linecolor\":\"white\",\"ticks\":\"\"},\"bgcolor\":\"#E5ECF6\",\"caxis\":{\"gridcolor\":\"white\",\"linecolor\":\"white\",\"ticks\":\"\"}},\"title\":{\"x\":0.05},\"xaxis\":{\"automargin\":true,\"gridcolor\":\"white\",\"linecolor\":\"white\",\"ticks\":\"\",\"title\":{\"standoff\":15},\"zerolinecolor\":\"white\",\"zerolinewidth\":2},\"yaxis\":{\"automargin\":true,\"gridcolor\":\"white\",\"linecolor\":\"white\",\"ticks\":\"\",\"title\":{\"standoff\":15},\"zerolinecolor\":\"white\",\"zerolinewidth\":2}}},\"barmode\":\"relative\"},                        {\"responsive\": true}                    ).then(function(){\n                            \nvar gd = document.getElementById('2de4c7a2-1a22-4b11-878f-151205309015');\nvar x = new MutationObserver(function (mutations, observer) {{\n        var display = window.getComputedStyle(gd).display;\n        if (!display || display === 'none') {{\n            console.log([gd, 'removed!']);\n            Plotly.purge(gd);\n            observer.disconnect();\n        }}\n}});\n\n// Listen for the removal of the full notebook cells\nvar notebookContainer = gd.closest('#notebook-container');\nif (notebookContainer) {{\n    x.observe(notebookContainer, {childList: true});\n}}\n\n// Listen for the clearing of the current output cell\nvar outputEl = gd.closest('.output');\nif (outputEl) {{\n    x.observe(outputEl, {childList: true});\n}}\n\n                        })                };                });            </script>        </div>"
     },
     "metadata": {},
     "output_type": "display_data"
    }
   ],
   "source": [
    "fig = go.Figure()\n",
    "fig.add_trace(go.Bar(x=ct_mean.index, y=ct_mean, error_y=dict(type='data', array=ct_quartiles.loc[:, 0.75] - ct_quartiles.loc[:, 0.50], arrayminus=ct_quartiles.loc[:, 0.50] - ct_quartiles.loc[:, 0.25]) ,name='Connection time'))\n",
    "fig.add_trace(go.Bar(x=dt_mean.index, y=(-1)*dt_mean, error_y=dict(type='data', array=dt_quartiles.loc[:, 0.75] - dt_quartiles.loc[:, 0.50], arrayminus=dt_quartiles.loc[:, 0.50] - dt_quartiles.loc[:, 0.25]), name='Disconnection time'))\n",
    "\n",
    "fig.update_layout(barmode='relative')\n",
    "fig.show()"
   ],
   "metadata": {
    "collapsed": false,
    "pycharm": {
     "name": "#%%\n"
    }
   }
  },
  {
   "cell_type": "code",
   "execution_count": 9,
   "outputs": [
    {
     "data": {
      "text/plain": "       kWhDelivered               chargingTime\ncount  12843.000000                      12843\nmean       8.987147  0 days 03:15:16.223623763\nstd        6.655527  0 days 03:03:12.666361364\nmin        0.501000          -1 days +23:59:00\n25%        4.177000            0 days 01:16:34\n50%        7.613000            0 days 02:15:41\n75%       13.207000            0 days 04:15:48\nmax       69.373000            3 days 03:23:22",
      "text/html": "<div>\n<style scoped>\n    .dataframe tbody tr th:only-of-type {\n        vertical-align: middle;\n    }\n\n    .dataframe tbody tr th {\n        vertical-align: top;\n    }\n\n    .dataframe thead th {\n        text-align: right;\n    }\n</style>\n<table border=\"1\" class=\"dataframe\">\n  <thead>\n    <tr style=\"text-align: right;\">\n      <th></th>\n      <th>kWhDelivered</th>\n      <th>chargingTime</th>\n    </tr>\n  </thead>\n  <tbody>\n    <tr>\n      <th>count</th>\n      <td>12843.000000</td>\n      <td>12843</td>\n    </tr>\n    <tr>\n      <th>mean</th>\n      <td>8.987147</td>\n      <td>0 days 03:15:16.223623763</td>\n    </tr>\n    <tr>\n      <th>std</th>\n      <td>6.655527</td>\n      <td>0 days 03:03:12.666361364</td>\n    </tr>\n    <tr>\n      <th>min</th>\n      <td>0.501000</td>\n      <td>-1 days +23:59:00</td>\n    </tr>\n    <tr>\n      <th>25%</th>\n      <td>4.177000</td>\n      <td>0 days 01:16:34</td>\n    </tr>\n    <tr>\n      <th>50%</th>\n      <td>7.613000</td>\n      <td>0 days 02:15:41</td>\n    </tr>\n    <tr>\n      <th>75%</th>\n      <td>13.207000</td>\n      <td>0 days 04:15:48</td>\n    </tr>\n    <tr>\n      <th>max</th>\n      <td>69.373000</td>\n      <td>3 days 03:23:22</td>\n    </tr>\n  </tbody>\n</table>\n</div>"
     },
     "execution_count": 9,
     "metadata": {},
     "output_type": "execute_result"
    }
   ],
   "source": [
    "data.describe()"
   ],
   "metadata": {
    "collapsed": false,
    "pycharm": {
     "name": "#%%\n"
    }
   }
  },
  {
   "cell_type": "code",
   "execution_count": 10,
   "outputs": [
    {
     "data": {
      "text/plain": "Timedelta('-1 days +23:59:00')"
     },
     "execution_count": 10,
     "metadata": {},
     "output_type": "execute_result"
    }
   ],
   "source": [
    "min(data[\"chargingTime\"])"
   ],
   "metadata": {
    "collapsed": false,
    "pycharm": {
     "name": "#%%\n"
    }
   }
  },
  {
   "cell_type": "code",
   "execution_count": 12,
   "outputs": [
    {
     "data": {
      "text/plain": "                            _id clusterID            connectionTime  \\\n11555  5be2febbf9af8b2b0edfa2f2        39 2018-10-15 08:42:14+00:00   \n11039  5be2fcd7f9af8b2b0edfa0ee        39 2018-10-08 12:14:32+00:00   \n11279  5be2fdcaf9af8b2b0edfa1de        39 2018-10-11 08:58:47+00:00   \n224    5bc91740f9af8b0dc677b862      0039 2018-05-04 12:23:52+00:00   \n12421  5be634cdf9af8b34ee236867        39 2018-10-26 13:27:53+00:00   \n...                         ...       ...                       ...   \n4481   5bc92ab1f9af8b0dc677c903      0039 2018-07-14 23:28:30+00:00   \n6321   5bc9322ff9af8b0dc677d033      0039 2018-08-09 10:20:00+00:00   \n12310  5be4e347f9af8b3175206d6d        39 2018-10-25 08:43:28+00:00   \n11530  5be2febbf9af8b2b0edfa2d9        39 2018-10-15 07:25:38+00:00   \n12594  5c2e7b31f9af8b13bb1470d3      0039 2018-10-29 08:37:50+00:00   \n\n                 disconnectTime          doneChargingTime  kWhDelivered  \\\n11555 2018-10-15 13:39:47+00:00 2018-10-15 08:41:14+00:00      0.858423   \n11039 2018-10-08 17:54:50+00:00 2018-10-08 12:13:32+00:00      1.104249   \n11279 2018-10-11 13:06:02+00:00 2018-10-11 08:57:47+00:00      0.714337   \n224   2018-05-04 17:04:15+00:00 2018-05-04 12:22:52+00:00      0.912297   \n12421 2018-10-26 17:56:04+00:00 2018-10-26 13:26:53+00:00      0.871274   \n...                         ...                       ...           ...   \n4481  2018-07-16 08:12:19+00:00 2018-07-16 06:32:00+00:00     13.900000   \n6321  2018-08-11 14:52:46+00:00 2018-08-10 17:49:14+00:00     13.990000   \n12310 2018-10-28 15:00:15+00:00 2018-10-26 16:19:39+00:00     13.307000   \n11530 2018-10-17 08:22:15+00:00 2018-10-16 23:48:09+00:00     21.190087   \n12594 2018-11-01 12:58:35+00:00 2018-11-01 12:01:12+00:00     27.460792   \n\n                                     sessionID siteID spaceID     stationID  \\\n11555   2_39_78_360_2018-10-15 15:42:13.677037      2  CA-322   2-39-78-360   \n11039   2_39_78_361_2018-10-08 19:14:31.785466      2  CA-493   2-39-78-361   \n11279   2_39_78_360_2018-10-11 15:58:47.225713      2  CA-322   2-39-78-360   \n224     2_39_78_367_2018-05-04 19:23:51.897392   0002  CA-494   2-39-78-367   \n12421   2_39_78_365_2018-10-26 20:27:53.015524      2  CA-321   2-39-78-365   \n...                                        ...    ...     ...           ...   \n4481    2_39_131_30_2018-07-15 06:28:30.427681   0002  CA-305   2-39-131-30   \n6321   2_39_123_557_2018-08-09 17:20:00.436547   0002  CA-503  2-39-123-557   \n12310   2_39_79_381_2018-10-25 15:43:27.548162      2  CA-490   2-39-79-381   \n11530   2_39_78_367_2018-10-15 14:25:38.224834      2  CA-494   2-39-78-367   \n12594   2_39_78_367_2018-10-29 15:37:49.700159   0002  CA-494   2-39-78-367   \n\n                  timezone userID userInputs      chargingTime  \n11555  America/Los_Angeles   None       None -1 days +23:59:00  \n11039  America/Los_Angeles   None       None -1 days +23:59:00  \n11279  America/Los_Angeles   None       None -1 days +23:59:00  \n224    America/Los_Angeles   None       None -1 days +23:59:00  \n12421  America/Los_Angeles   None       None -1 days +23:59:00  \n...                    ...    ...        ...               ...  \n4481   America/Los_Angeles   None       None   1 days 07:03:30  \n6321   America/Los_Angeles   None       None   1 days 07:29:14  \n12310  America/Los_Angeles   None       None   1 days 07:36:11  \n11530  America/Los_Angeles   None       None   1 days 16:22:31  \n12594  America/Los_Angeles   None       None   3 days 03:23:22  \n\n[12843 rows x 14 columns]",
      "text/html": "<div>\n<style scoped>\n    .dataframe tbody tr th:only-of-type {\n        vertical-align: middle;\n    }\n\n    .dataframe tbody tr th {\n        vertical-align: top;\n    }\n\n    .dataframe thead th {\n        text-align: right;\n    }\n</style>\n<table border=\"1\" class=\"dataframe\">\n  <thead>\n    <tr style=\"text-align: right;\">\n      <th></th>\n      <th>_id</th>\n      <th>clusterID</th>\n      <th>connectionTime</th>\n      <th>disconnectTime</th>\n      <th>doneChargingTime</th>\n      <th>kWhDelivered</th>\n      <th>sessionID</th>\n      <th>siteID</th>\n      <th>spaceID</th>\n      <th>stationID</th>\n      <th>timezone</th>\n      <th>userID</th>\n      <th>userInputs</th>\n      <th>chargingTime</th>\n    </tr>\n  </thead>\n  <tbody>\n    <tr>\n      <th>11555</th>\n      <td>5be2febbf9af8b2b0edfa2f2</td>\n      <td>39</td>\n      <td>2018-10-15 08:42:14+00:00</td>\n      <td>2018-10-15 13:39:47+00:00</td>\n      <td>2018-10-15 08:41:14+00:00</td>\n      <td>0.858423</td>\n      <td>2_39_78_360_2018-10-15 15:42:13.677037</td>\n      <td>2</td>\n      <td>CA-322</td>\n      <td>2-39-78-360</td>\n      <td>America/Los_Angeles</td>\n      <td>None</td>\n      <td>None</td>\n      <td>-1 days +23:59:00</td>\n    </tr>\n    <tr>\n      <th>11039</th>\n      <td>5be2fcd7f9af8b2b0edfa0ee</td>\n      <td>39</td>\n      <td>2018-10-08 12:14:32+00:00</td>\n      <td>2018-10-08 17:54:50+00:00</td>\n      <td>2018-10-08 12:13:32+00:00</td>\n      <td>1.104249</td>\n      <td>2_39_78_361_2018-10-08 19:14:31.785466</td>\n      <td>2</td>\n      <td>CA-493</td>\n      <td>2-39-78-361</td>\n      <td>America/Los_Angeles</td>\n      <td>None</td>\n      <td>None</td>\n      <td>-1 days +23:59:00</td>\n    </tr>\n    <tr>\n      <th>11279</th>\n      <td>5be2fdcaf9af8b2b0edfa1de</td>\n      <td>39</td>\n      <td>2018-10-11 08:58:47+00:00</td>\n      <td>2018-10-11 13:06:02+00:00</td>\n      <td>2018-10-11 08:57:47+00:00</td>\n      <td>0.714337</td>\n      <td>2_39_78_360_2018-10-11 15:58:47.225713</td>\n      <td>2</td>\n      <td>CA-322</td>\n      <td>2-39-78-360</td>\n      <td>America/Los_Angeles</td>\n      <td>None</td>\n      <td>None</td>\n      <td>-1 days +23:59:00</td>\n    </tr>\n    <tr>\n      <th>224</th>\n      <td>5bc91740f9af8b0dc677b862</td>\n      <td>0039</td>\n      <td>2018-05-04 12:23:52+00:00</td>\n      <td>2018-05-04 17:04:15+00:00</td>\n      <td>2018-05-04 12:22:52+00:00</td>\n      <td>0.912297</td>\n      <td>2_39_78_367_2018-05-04 19:23:51.897392</td>\n      <td>0002</td>\n      <td>CA-494</td>\n      <td>2-39-78-367</td>\n      <td>America/Los_Angeles</td>\n      <td>None</td>\n      <td>None</td>\n      <td>-1 days +23:59:00</td>\n    </tr>\n    <tr>\n      <th>12421</th>\n      <td>5be634cdf9af8b34ee236867</td>\n      <td>39</td>\n      <td>2018-10-26 13:27:53+00:00</td>\n      <td>2018-10-26 17:56:04+00:00</td>\n      <td>2018-10-26 13:26:53+00:00</td>\n      <td>0.871274</td>\n      <td>2_39_78_365_2018-10-26 20:27:53.015524</td>\n      <td>2</td>\n      <td>CA-321</td>\n      <td>2-39-78-365</td>\n      <td>America/Los_Angeles</td>\n      <td>None</td>\n      <td>None</td>\n      <td>-1 days +23:59:00</td>\n    </tr>\n    <tr>\n      <th>...</th>\n      <td>...</td>\n      <td>...</td>\n      <td>...</td>\n      <td>...</td>\n      <td>...</td>\n      <td>...</td>\n      <td>...</td>\n      <td>...</td>\n      <td>...</td>\n      <td>...</td>\n      <td>...</td>\n      <td>...</td>\n      <td>...</td>\n      <td>...</td>\n    </tr>\n    <tr>\n      <th>4481</th>\n      <td>5bc92ab1f9af8b0dc677c903</td>\n      <td>0039</td>\n      <td>2018-07-14 23:28:30+00:00</td>\n      <td>2018-07-16 08:12:19+00:00</td>\n      <td>2018-07-16 06:32:00+00:00</td>\n      <td>13.900000</td>\n      <td>2_39_131_30_2018-07-15 06:28:30.427681</td>\n      <td>0002</td>\n      <td>CA-305</td>\n      <td>2-39-131-30</td>\n      <td>America/Los_Angeles</td>\n      <td>None</td>\n      <td>None</td>\n      <td>1 days 07:03:30</td>\n    </tr>\n    <tr>\n      <th>6321</th>\n      <td>5bc9322ff9af8b0dc677d033</td>\n      <td>0039</td>\n      <td>2018-08-09 10:20:00+00:00</td>\n      <td>2018-08-11 14:52:46+00:00</td>\n      <td>2018-08-10 17:49:14+00:00</td>\n      <td>13.990000</td>\n      <td>2_39_123_557_2018-08-09 17:20:00.436547</td>\n      <td>0002</td>\n      <td>CA-503</td>\n      <td>2-39-123-557</td>\n      <td>America/Los_Angeles</td>\n      <td>None</td>\n      <td>None</td>\n      <td>1 days 07:29:14</td>\n    </tr>\n    <tr>\n      <th>12310</th>\n      <td>5be4e347f9af8b3175206d6d</td>\n      <td>39</td>\n      <td>2018-10-25 08:43:28+00:00</td>\n      <td>2018-10-28 15:00:15+00:00</td>\n      <td>2018-10-26 16:19:39+00:00</td>\n      <td>13.307000</td>\n      <td>2_39_79_381_2018-10-25 15:43:27.548162</td>\n      <td>2</td>\n      <td>CA-490</td>\n      <td>2-39-79-381</td>\n      <td>America/Los_Angeles</td>\n      <td>None</td>\n      <td>None</td>\n      <td>1 days 07:36:11</td>\n    </tr>\n    <tr>\n      <th>11530</th>\n      <td>5be2febbf9af8b2b0edfa2d9</td>\n      <td>39</td>\n      <td>2018-10-15 07:25:38+00:00</td>\n      <td>2018-10-17 08:22:15+00:00</td>\n      <td>2018-10-16 23:48:09+00:00</td>\n      <td>21.190087</td>\n      <td>2_39_78_367_2018-10-15 14:25:38.224834</td>\n      <td>2</td>\n      <td>CA-494</td>\n      <td>2-39-78-367</td>\n      <td>America/Los_Angeles</td>\n      <td>None</td>\n      <td>None</td>\n      <td>1 days 16:22:31</td>\n    </tr>\n    <tr>\n      <th>12594</th>\n      <td>5c2e7b31f9af8b13bb1470d3</td>\n      <td>0039</td>\n      <td>2018-10-29 08:37:50+00:00</td>\n      <td>2018-11-01 12:58:35+00:00</td>\n      <td>2018-11-01 12:01:12+00:00</td>\n      <td>27.460792</td>\n      <td>2_39_78_367_2018-10-29 15:37:49.700159</td>\n      <td>0002</td>\n      <td>CA-494</td>\n      <td>2-39-78-367</td>\n      <td>America/Los_Angeles</td>\n      <td>None</td>\n      <td>None</td>\n      <td>3 days 03:23:22</td>\n    </tr>\n  </tbody>\n</table>\n<p>12843 rows × 14 columns</p>\n</div>"
     },
     "execution_count": 12,
     "metadata": {},
     "output_type": "execute_result"
    }
   ],
   "source": [
    "data.sort_values(by=\"chargingTime\")"
   ],
   "metadata": {
    "collapsed": false,
    "pycharm": {
     "name": "#%%\n"
    }
   }
  },
  {
   "cell_type": "code",
   "execution_count": 19,
   "outputs": [
    {
     "name": "stderr",
     "output_type": "stream",
     "text": [
      "C:\\Users\\Daniel\\AppData\\Local\\Temp\\ipykernel_11504\\2169037786.py:1: SettingWithCopyWarning: \n",
      "A value is trying to be set on a copy of a slice from a DataFrame.\n",
      "Try using .loc[row_indexer,col_indexer] = value instead\n",
      "\n",
      "See the caveats in the documentation: https://pandas.pydata.org/pandas-docs/stable/user_guide/indexing.html#returning-a-view-versus-a-copy\n",
      "  data[\"clusterID\"] = len(data)*[39]\n"
     ]
    },
    {
     "data": {
      "text/plain": "39    12843\nName: clusterID, dtype: int64"
     },
     "execution_count": 19,
     "metadata": {},
     "output_type": "execute_result"
    }
   ],
   "source": [
    "data[\"clusterID\"] = len(data)*[39]\n",
    "data[\"clusterID\"].value_counts()"
   ],
   "metadata": {
    "collapsed": false,
    "pycharm": {
     "name": "#%%\n"
    }
   }
  },
  {
   "cell_type": "code",
   "execution_count": 23,
   "outputs": [
    {
     "ename": "ValueError",
     "evalue": "cannot set a row with mismatched columns",
     "output_type": "error",
     "traceback": [
      "\u001B[1;31m---------------------------------------------------------------------------\u001B[0m",
      "\u001B[1;31mValueError\u001B[0m                                Traceback (most recent call last)",
      "\u001B[1;32m~\\AppData\\Local\\Temp\\ipykernel_11504\\1584796156.py\u001B[0m in \u001B[0;36m<module>\u001B[1;34m\u001B[0m\n\u001B[1;32m----> 1\u001B[1;33m \u001B[0mdata\u001B[0m\u001B[1;33m.\u001B[0m\u001B[0mloc\u001B[0m\u001B[1;33m[\u001B[0m\u001B[1;34m\"siteID\"\u001B[0m\u001B[1;33m]\u001B[0m \u001B[1;33m=\u001B[0m \u001B[0mlen\u001B[0m\u001B[1;33m(\u001B[0m\u001B[0mdata\u001B[0m\u001B[1;33m)\u001B[0m \u001B[1;33m*\u001B[0m \u001B[1;33m[\u001B[0m\u001B[1;36m2\u001B[0m\u001B[1;33m]\u001B[0m\u001B[1;33m\u001B[0m\u001B[1;33m\u001B[0m\u001B[0m\n\u001B[0m\u001B[0;32m      2\u001B[0m \u001B[0mdata\u001B[0m\u001B[1;33m[\u001B[0m\u001B[1;34m\"siteID\"\u001B[0m\u001B[1;33m]\u001B[0m\u001B[1;33m.\u001B[0m\u001B[0mvalue_counts\u001B[0m\u001B[1;33m(\u001B[0m\u001B[1;33m)\u001B[0m\u001B[1;33m\u001B[0m\u001B[1;33m\u001B[0m\u001B[0m\n",
      "\u001B[1;32m~\\AppData\\Local\\Programs\\Python\\Python39\\lib\\site-packages\\pandas\\core\\indexing.py\u001B[0m in \u001B[0;36m__setitem__\u001B[1;34m(self, key, value)\u001B[0m\n\u001B[0;32m    714\u001B[0m \u001B[1;33m\u001B[0m\u001B[0m\n\u001B[0;32m    715\u001B[0m         \u001B[0miloc\u001B[0m \u001B[1;33m=\u001B[0m \u001B[0mself\u001B[0m \u001B[1;32mif\u001B[0m \u001B[0mself\u001B[0m\u001B[1;33m.\u001B[0m\u001B[0mname\u001B[0m \u001B[1;33m==\u001B[0m \u001B[1;34m\"iloc\"\u001B[0m \u001B[1;32melse\u001B[0m \u001B[0mself\u001B[0m\u001B[1;33m.\u001B[0m\u001B[0mobj\u001B[0m\u001B[1;33m.\u001B[0m\u001B[0miloc\u001B[0m\u001B[1;33m\u001B[0m\u001B[1;33m\u001B[0m\u001B[0m\n\u001B[1;32m--> 716\u001B[1;33m         \u001B[0miloc\u001B[0m\u001B[1;33m.\u001B[0m\u001B[0m_setitem_with_indexer\u001B[0m\u001B[1;33m(\u001B[0m\u001B[0mindexer\u001B[0m\u001B[1;33m,\u001B[0m \u001B[0mvalue\u001B[0m\u001B[1;33m,\u001B[0m \u001B[0mself\u001B[0m\u001B[1;33m.\u001B[0m\u001B[0mname\u001B[0m\u001B[1;33m)\u001B[0m\u001B[1;33m\u001B[0m\u001B[1;33m\u001B[0m\u001B[0m\n\u001B[0m\u001B[0;32m    717\u001B[0m \u001B[1;33m\u001B[0m\u001B[0m\n\u001B[0;32m    718\u001B[0m     \u001B[1;32mdef\u001B[0m \u001B[0m_validate_key\u001B[0m\u001B[1;33m(\u001B[0m\u001B[0mself\u001B[0m\u001B[1;33m,\u001B[0m \u001B[0mkey\u001B[0m\u001B[1;33m,\u001B[0m \u001B[0maxis\u001B[0m\u001B[1;33m:\u001B[0m \u001B[0mint\u001B[0m\u001B[1;33m)\u001B[0m\u001B[1;33m:\u001B[0m\u001B[1;33m\u001B[0m\u001B[1;33m\u001B[0m\u001B[0m\n",
      "\u001B[1;32m~\\AppData\\Local\\Programs\\Python\\Python39\\lib\\site-packages\\pandas\\core\\indexing.py\u001B[0m in \u001B[0;36m_setitem_with_indexer\u001B[1;34m(self, indexer, value, name)\u001B[0m\n\u001B[0;32m   1680\u001B[0m \u001B[1;33m\u001B[0m\u001B[0m\n\u001B[0;32m   1681\u001B[0m             \u001B[1;32mif\u001B[0m \u001B[0mmissing\u001B[0m\u001B[1;33m:\u001B[0m\u001B[1;33m\u001B[0m\u001B[1;33m\u001B[0m\u001B[0m\n\u001B[1;32m-> 1682\u001B[1;33m                 \u001B[0mself\u001B[0m\u001B[1;33m.\u001B[0m\u001B[0m_setitem_with_indexer_missing\u001B[0m\u001B[1;33m(\u001B[0m\u001B[0mindexer\u001B[0m\u001B[1;33m,\u001B[0m \u001B[0mvalue\u001B[0m\u001B[1;33m)\u001B[0m\u001B[1;33m\u001B[0m\u001B[1;33m\u001B[0m\u001B[0m\n\u001B[0m\u001B[0;32m   1683\u001B[0m                 \u001B[1;32mreturn\u001B[0m\u001B[1;33m\u001B[0m\u001B[1;33m\u001B[0m\u001B[0m\n\u001B[0;32m   1684\u001B[0m \u001B[1;33m\u001B[0m\u001B[0m\n",
      "\u001B[1;32m~\\AppData\\Local\\Programs\\Python\\Python39\\lib\\site-packages\\pandas\\core\\indexing.py\u001B[0m in \u001B[0;36m_setitem_with_indexer_missing\u001B[1;34m(self, indexer, value)\u001B[0m\n\u001B[0;32m   1996\u001B[0m                     \u001B[1;31m# must have conforming columns\u001B[0m\u001B[1;33m\u001B[0m\u001B[1;33m\u001B[0m\u001B[0m\n\u001B[0;32m   1997\u001B[0m                     \u001B[1;32mif\u001B[0m \u001B[0mlen\u001B[0m\u001B[1;33m(\u001B[0m\u001B[0mvalue\u001B[0m\u001B[1;33m)\u001B[0m \u001B[1;33m!=\u001B[0m \u001B[0mlen\u001B[0m\u001B[1;33m(\u001B[0m\u001B[0mself\u001B[0m\u001B[1;33m.\u001B[0m\u001B[0mobj\u001B[0m\u001B[1;33m.\u001B[0m\u001B[0mcolumns\u001B[0m\u001B[1;33m)\u001B[0m\u001B[1;33m:\u001B[0m\u001B[1;33m\u001B[0m\u001B[1;33m\u001B[0m\u001B[0m\n\u001B[1;32m-> 1998\u001B[1;33m                         \u001B[1;32mraise\u001B[0m \u001B[0mValueError\u001B[0m\u001B[1;33m(\u001B[0m\u001B[1;34m\"cannot set a row with mismatched columns\"\u001B[0m\u001B[1;33m)\u001B[0m\u001B[1;33m\u001B[0m\u001B[1;33m\u001B[0m\u001B[0m\n\u001B[0m\u001B[0;32m   1999\u001B[0m \u001B[1;33m\u001B[0m\u001B[0m\n\u001B[0;32m   2000\u001B[0m                 \u001B[0mvalue\u001B[0m \u001B[1;33m=\u001B[0m \u001B[0mSeries\u001B[0m\u001B[1;33m(\u001B[0m\u001B[0mvalue\u001B[0m\u001B[1;33m,\u001B[0m \u001B[0mindex\u001B[0m\u001B[1;33m=\u001B[0m\u001B[0mself\u001B[0m\u001B[1;33m.\u001B[0m\u001B[0mobj\u001B[0m\u001B[1;33m.\u001B[0m\u001B[0mcolumns\u001B[0m\u001B[1;33m,\u001B[0m \u001B[0mname\u001B[0m\u001B[1;33m=\u001B[0m\u001B[0mindexer\u001B[0m\u001B[1;33m)\u001B[0m\u001B[1;33m\u001B[0m\u001B[1;33m\u001B[0m\u001B[0m\n",
      "\u001B[1;31mValueError\u001B[0m: cannot set a row with mismatched columns"
     ]
    }
   ],
   "source": [
    "data.loc[\"siteID\"] = len(data) * [2]\n",
    "data[\"siteID\"].value_counts()"
   ],
   "metadata": {
    "collapsed": false,
    "pycharm": {
     "name": "#%%\n"
    }
   }
  },
  {
   "cell_type": "code",
   "execution_count": 15,
   "outputs": [
    {
     "data": {
      "text/plain": "CA-303    580\nCA-305    486\nCA-307    464\nCA-309    462\nCA-304    443\nCA-311    431\nCA-313    392\nCA-315    390\nCA-306    386\nCA-308    354\nCA-489    347\nCA-321    337\nCA-327    319\nCA-310    316\nCA-317    313\nCA-323    309\nCA-325    307\nCA-312    299\nCA-314    289\nCA-326    278\nCA-319    275\nCA-492    274\nCA-490    269\nCA-320    266\nCA-322    252\nCA-316    231\nCA-324    227\nCA-494    224\nCA-318    221\nCA-491    211\nCA-493    208\nCA-499    204\nCA-498    198\nCA-496    198\nCA-495    194\nCA-500    174\nCA-497    169\nCA-502    168\nCA-503    167\nCA-501    163\nCA-512    140\nCA-510    112\nCA-508     97\nCA-513     86\nCA-511     84\nCA-506     84\nCA-507     81\nCA-504     78\nCA-509     78\nCA-212     76\nCA-505     64\nCA-149     57\nCA-213      7\nCA-148      4\nName: spaceID, dtype: int64"
     },
     "execution_count": 15,
     "metadata": {},
     "output_type": "execute_result"
    }
   ],
   "source": [
    "data[\"spaceID\"].value_counts()"
   ],
   "metadata": {
    "collapsed": false,
    "pycharm": {
     "name": "#%%\n"
    }
   }
  },
  {
   "cell_type": "code",
   "execution_count": 21,
   "outputs": [
    {
     "data": {
      "text/plain": "                            _id  clusterID            connectionTime  \\\n8203   5bc939a0f9af8b0dc677d78d         39 2018-09-03 11:05:27+00:00   \n8363   5bc93a46f9af8b0dc677d82d         39 2018-09-05 11:11:10+00:00   \n8742   5bc93bbff9af8b0dc677d9a8         39 2018-09-10 09:22:56+00:00   \n11813  5be2ff7df9af8b2b0edfa3f4         39 2018-10-18 13:15:37+00:00   \n\n                 disconnectTime          doneChargingTime  kWhDelivered  \\\n8203  2018-09-03 12:37:13+00:00 2018-09-03 12:37:11+00:00        10.184   \n8363  2018-09-05 11:43:05+00:00 2018-09-05 11:43:01+00:00         1.636   \n8742  2018-09-10 14:59:04+00:00 2018-09-10 10:09:37+00:00         1.373   \n11813 2018-10-18 16:53:38+00:00 2018-10-18 15:50:40+00:00         5.450   \n\n                                    sessionID  siteID spaceID    stationID  \\\n8203   2_39_82_385_2018-09-03 18:05:27.243003       2  CA-148  2-39-82-385   \n8363   2_39_82_385_2018-09-05 18:11:09.838845       2  CA-148  2-39-82-385   \n8742   2_39_82_385_2018-09-10 16:22:55.703911       2  CA-148  2-39-82-385   \n11813  2_39_82_385_2018-10-18 20:15:37.592702       2  CA-148  2-39-82-385   \n\n                  timezone userID userInputs    chargingTime  \n8203   America/Los_Angeles   None       None 0 days 01:31:44  \n8363   America/Los_Angeles   None       None 0 days 00:31:51  \n8742   America/Los_Angeles   None       None 0 days 00:46:41  \n11813  America/Los_Angeles   None       None 0 days 02:35:03  ",
      "text/html": "<div>\n<style scoped>\n    .dataframe tbody tr th:only-of-type {\n        vertical-align: middle;\n    }\n\n    .dataframe tbody tr th {\n        vertical-align: top;\n    }\n\n    .dataframe thead th {\n        text-align: right;\n    }\n</style>\n<table border=\"1\" class=\"dataframe\">\n  <thead>\n    <tr style=\"text-align: right;\">\n      <th></th>\n      <th>_id</th>\n      <th>clusterID</th>\n      <th>connectionTime</th>\n      <th>disconnectTime</th>\n      <th>doneChargingTime</th>\n      <th>kWhDelivered</th>\n      <th>sessionID</th>\n      <th>siteID</th>\n      <th>spaceID</th>\n      <th>stationID</th>\n      <th>timezone</th>\n      <th>userID</th>\n      <th>userInputs</th>\n      <th>chargingTime</th>\n    </tr>\n  </thead>\n  <tbody>\n    <tr>\n      <th>8203</th>\n      <td>5bc939a0f9af8b0dc677d78d</td>\n      <td>39</td>\n      <td>2018-09-03 11:05:27+00:00</td>\n      <td>2018-09-03 12:37:13+00:00</td>\n      <td>2018-09-03 12:37:11+00:00</td>\n      <td>10.184</td>\n      <td>2_39_82_385_2018-09-03 18:05:27.243003</td>\n      <td>2</td>\n      <td>CA-148</td>\n      <td>2-39-82-385</td>\n      <td>America/Los_Angeles</td>\n      <td>None</td>\n      <td>None</td>\n      <td>0 days 01:31:44</td>\n    </tr>\n    <tr>\n      <th>8363</th>\n      <td>5bc93a46f9af8b0dc677d82d</td>\n      <td>39</td>\n      <td>2018-09-05 11:11:10+00:00</td>\n      <td>2018-09-05 11:43:05+00:00</td>\n      <td>2018-09-05 11:43:01+00:00</td>\n      <td>1.636</td>\n      <td>2_39_82_385_2018-09-05 18:11:09.838845</td>\n      <td>2</td>\n      <td>CA-148</td>\n      <td>2-39-82-385</td>\n      <td>America/Los_Angeles</td>\n      <td>None</td>\n      <td>None</td>\n      <td>0 days 00:31:51</td>\n    </tr>\n    <tr>\n      <th>8742</th>\n      <td>5bc93bbff9af8b0dc677d9a8</td>\n      <td>39</td>\n      <td>2018-09-10 09:22:56+00:00</td>\n      <td>2018-09-10 14:59:04+00:00</td>\n      <td>2018-09-10 10:09:37+00:00</td>\n      <td>1.373</td>\n      <td>2_39_82_385_2018-09-10 16:22:55.703911</td>\n      <td>2</td>\n      <td>CA-148</td>\n      <td>2-39-82-385</td>\n      <td>America/Los_Angeles</td>\n      <td>None</td>\n      <td>None</td>\n      <td>0 days 00:46:41</td>\n    </tr>\n    <tr>\n      <th>11813</th>\n      <td>5be2ff7df9af8b2b0edfa3f4</td>\n      <td>39</td>\n      <td>2018-10-18 13:15:37+00:00</td>\n      <td>2018-10-18 16:53:38+00:00</td>\n      <td>2018-10-18 15:50:40+00:00</td>\n      <td>5.450</td>\n      <td>2_39_82_385_2018-10-18 20:15:37.592702</td>\n      <td>2</td>\n      <td>CA-148</td>\n      <td>2-39-82-385</td>\n      <td>America/Los_Angeles</td>\n      <td>None</td>\n      <td>None</td>\n      <td>0 days 02:35:03</td>\n    </tr>\n  </tbody>\n</table>\n</div>"
     },
     "execution_count": 21,
     "metadata": {},
     "output_type": "execute_result"
    }
   ],
   "source": [
    "data[data[\"spaceID\"] == 'CA-148']"
   ],
   "metadata": {
    "collapsed": false,
    "pycharm": {
     "name": "#%%\n"
    }
   }
  }
 ],
 "metadata": {
  "kernelspec": {
   "display_name": "Python 3",
   "language": "python",
   "name": "python3"
  },
  "language_info": {
   "codemirror_mode": {
    "name": "ipython",
    "version": 2
   },
   "file_extension": ".py",
   "mimetype": "text/x-python",
   "name": "python",
   "nbconvert_exporter": "python",
   "pygments_lexer": "ipython2",
   "version": "2.7.6"
  }
 },
 "nbformat": 4,
 "nbformat_minor": 0
}