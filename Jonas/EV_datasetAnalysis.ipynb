{
 "cells": [
  {
   "cell_type": "code",
   "execution_count": 36,
   "metadata": {
    "collapsed": true
   },
   "outputs": [],
   "source": [
    "import json\n",
    "import pandas as pd\n",
    "from pathlib import Path\n",
    "import plotly.express as px\n",
    "from datetime import timedelta"
   ]
  },
  {
   "cell_type": "code",
   "execution_count": 37,
   "outputs": [
    {
     "data": {
      "text/plain": "                            _id clusterID            connectionTime  \\\n0      5bc90cb9f9af8b0d7fe77cd2      0039 2018-04-25 04:08:04+00:00   \n1      5bc90cb9f9af8b0d7fe77cd3      0039 2018-04-25 06:45:10+00:00   \n2      5bc90cb9f9af8b0d7fe77cd4      0039 2018-04-25 06:45:50+00:00   \n3      5bc90cb9f9af8b0d7fe77cd5      0039 2018-04-25 07:37:06+00:00   \n4      5bc90cb9f9af8b0d7fe77cd6      0039 2018-04-25 07:40:34+00:00   \n...                         ...       ...                       ...   \n31419  61550519f9af8b76960e169a      0039 2021-09-13 14:12:53+00:00   \n31420  61550519f9af8b76960e169b      0039 2021-09-13 14:17:04+00:00   \n31421  61550519f9af8b76960e169c      0039 2021-09-13 15:33:07+00:00   \n31422  61550519f9af8b76960e169d      0039 2021-09-13 16:11:12+00:00   \n31423  61550519f9af8b76960e169e      0039 2021-09-13 18:52:37+00:00   \n\n                 disconnectTime          doneChargingTime  kWhDelivered  \\\n0     2018-04-25 06:20:10+00:00 2018-04-25 06:21:10+00:00         7.932   \n1     2018-04-25 17:56:16+00:00 2018-04-25 09:44:15+00:00        10.013   \n2     2018-04-25 16:04:45+00:00 2018-04-25 07:51:44+00:00         5.257   \n3     2018-04-25 16:55:34+00:00 2018-04-25 09:05:22+00:00         5.177   \n4     2018-04-25 16:03:12+00:00 2018-04-25 10:40:30+00:00        10.119   \n...                         ...                       ...           ...   \n31419 2021-09-13 17:25:36+00:00 2021-09-13 14:41:31+00:00         2.285   \n31420 2021-09-13 18:01:49+00:00 2021-09-13 16:18:07+00:00         6.715   \n31421 2021-09-13 16:06:55+00:00 2021-09-13 16:06:55+00:00        17.720   \n31422 2021-09-13 18:43:11+00:00 2021-09-13 17:13:35+00:00         2.018   \n31423 2021-09-13 20:05:10+00:00 2021-09-13 20:05:10+00:00        45.064   \n\n                                     sessionID siteID   spaceID     stationID  \\\n0       2_39_78_362_2018-04-25 11:08:04.400812   0002    CA-496   2-39-78-362   \n1        2_39_95_27_2018-04-25 13:45:09.617470   0002    CA-319    2-39-95-27   \n2       2_39_79_380_2018-04-25 13:45:49.962001   0002    CA-489   2-39-79-380   \n3       2_39_79_379_2018-04-25 14:37:06.460772   0002    CA-327   2-39-79-379   \n4       2_39_79_381_2018-04-25 14:40:33.638896   0002    CA-490   2-39-79-381   \n...                                        ...    ...       ...           ...   \n31419    2_39_89_25_2021-09-13 21:12:53.318460   0002    CA-315    2-39-89-25   \n31420   2_39_123_23_2021-09-13 21:16:44.026068   0002    CA-313   2-39-123-23   \n31421  2_39_81_4550_2021-09-13 22:33:04.543952   0002  11900388  2-39-81-4550   \n31422   2_39_91_437_2021-09-13 23:10:59.528292   0002    CA-317   2-39-91-437   \n31423  2_39_81_4550_2021-09-14 01:52:31.129163   0002  11900388  2-39-81-4550   \n\n                  timezone     userID  \\\n0      America/Los_Angeles       None   \n1      America/Los_Angeles       None   \n2      America/Los_Angeles       None   \n3      America/Los_Angeles       None   \n4      America/Los_Angeles       None   \n...                    ...        ...   \n31419  America/Los_Angeles  000000431   \n31420  America/Los_Angeles  000006481   \n31421  America/Los_Angeles  000003905   \n31422  America/Los_Angeles  000001082   \n31423  America/Los_Angeles  000019055   \n\n                                              userInputs  \n0                                                   None  \n1                                                   None  \n2                                                   None  \n3                                                   None  \n4                                                   None  \n...                                                  ...  \n31419  [{'WhPerMile': 286, 'kWhRequested': 28.6, 'mil...  \n31420  [{'WhPerMile': 460, 'kWhRequested': 11.5, 'mil...  \n31421  [{'WhPerMile': 300, 'kWhRequested': 30.0, 'mil...  \n31422  [{'WhPerMile': 290, 'kWhRequested': 5.8, 'mile...  \n31423  [{'WhPerMile': 286, 'kWhRequested': 28.6, 'mil...  \n\n[31424 rows x 13 columns]",
      "text/html": "<div>\n<style scoped>\n    .dataframe tbody tr th:only-of-type {\n        vertical-align: middle;\n    }\n\n    .dataframe tbody tr th {\n        vertical-align: top;\n    }\n\n    .dataframe thead th {\n        text-align: right;\n    }\n</style>\n<table border=\"1\" class=\"dataframe\">\n  <thead>\n    <tr style=\"text-align: right;\">\n      <th></th>\n      <th>_id</th>\n      <th>clusterID</th>\n      <th>connectionTime</th>\n      <th>disconnectTime</th>\n      <th>doneChargingTime</th>\n      <th>kWhDelivered</th>\n      <th>sessionID</th>\n      <th>siteID</th>\n      <th>spaceID</th>\n      <th>stationID</th>\n      <th>timezone</th>\n      <th>userID</th>\n      <th>userInputs</th>\n    </tr>\n  </thead>\n  <tbody>\n    <tr>\n      <th>0</th>\n      <td>5bc90cb9f9af8b0d7fe77cd2</td>\n      <td>0039</td>\n      <td>2018-04-25 04:08:04+00:00</td>\n      <td>2018-04-25 06:20:10+00:00</td>\n      <td>2018-04-25 06:21:10+00:00</td>\n      <td>7.932</td>\n      <td>2_39_78_362_2018-04-25 11:08:04.400812</td>\n      <td>0002</td>\n      <td>CA-496</td>\n      <td>2-39-78-362</td>\n      <td>America/Los_Angeles</td>\n      <td>None</td>\n      <td>None</td>\n    </tr>\n    <tr>\n      <th>1</th>\n      <td>5bc90cb9f9af8b0d7fe77cd3</td>\n      <td>0039</td>\n      <td>2018-04-25 06:45:10+00:00</td>\n      <td>2018-04-25 17:56:16+00:00</td>\n      <td>2018-04-25 09:44:15+00:00</td>\n      <td>10.013</td>\n      <td>2_39_95_27_2018-04-25 13:45:09.617470</td>\n      <td>0002</td>\n      <td>CA-319</td>\n      <td>2-39-95-27</td>\n      <td>America/Los_Angeles</td>\n      <td>None</td>\n      <td>None</td>\n    </tr>\n    <tr>\n      <th>2</th>\n      <td>5bc90cb9f9af8b0d7fe77cd4</td>\n      <td>0039</td>\n      <td>2018-04-25 06:45:50+00:00</td>\n      <td>2018-04-25 16:04:45+00:00</td>\n      <td>2018-04-25 07:51:44+00:00</td>\n      <td>5.257</td>\n      <td>2_39_79_380_2018-04-25 13:45:49.962001</td>\n      <td>0002</td>\n      <td>CA-489</td>\n      <td>2-39-79-380</td>\n      <td>America/Los_Angeles</td>\n      <td>None</td>\n      <td>None</td>\n    </tr>\n    <tr>\n      <th>3</th>\n      <td>5bc90cb9f9af8b0d7fe77cd5</td>\n      <td>0039</td>\n      <td>2018-04-25 07:37:06+00:00</td>\n      <td>2018-04-25 16:55:34+00:00</td>\n      <td>2018-04-25 09:05:22+00:00</td>\n      <td>5.177</td>\n      <td>2_39_79_379_2018-04-25 14:37:06.460772</td>\n      <td>0002</td>\n      <td>CA-327</td>\n      <td>2-39-79-379</td>\n      <td>America/Los_Angeles</td>\n      <td>None</td>\n      <td>None</td>\n    </tr>\n    <tr>\n      <th>4</th>\n      <td>5bc90cb9f9af8b0d7fe77cd6</td>\n      <td>0039</td>\n      <td>2018-04-25 07:40:34+00:00</td>\n      <td>2018-04-25 16:03:12+00:00</td>\n      <td>2018-04-25 10:40:30+00:00</td>\n      <td>10.119</td>\n      <td>2_39_79_381_2018-04-25 14:40:33.638896</td>\n      <td>0002</td>\n      <td>CA-490</td>\n      <td>2-39-79-381</td>\n      <td>America/Los_Angeles</td>\n      <td>None</td>\n      <td>None</td>\n    </tr>\n    <tr>\n      <th>...</th>\n      <td>...</td>\n      <td>...</td>\n      <td>...</td>\n      <td>...</td>\n      <td>...</td>\n      <td>...</td>\n      <td>...</td>\n      <td>...</td>\n      <td>...</td>\n      <td>...</td>\n      <td>...</td>\n      <td>...</td>\n      <td>...</td>\n    </tr>\n    <tr>\n      <th>31419</th>\n      <td>61550519f9af8b76960e169a</td>\n      <td>0039</td>\n      <td>2021-09-13 14:12:53+00:00</td>\n      <td>2021-09-13 17:25:36+00:00</td>\n      <td>2021-09-13 14:41:31+00:00</td>\n      <td>2.285</td>\n      <td>2_39_89_25_2021-09-13 21:12:53.318460</td>\n      <td>0002</td>\n      <td>CA-315</td>\n      <td>2-39-89-25</td>\n      <td>America/Los_Angeles</td>\n      <td>000000431</td>\n      <td>[{'WhPerMile': 286, 'kWhRequested': 28.6, 'mil...</td>\n    </tr>\n    <tr>\n      <th>31420</th>\n      <td>61550519f9af8b76960e169b</td>\n      <td>0039</td>\n      <td>2021-09-13 14:17:04+00:00</td>\n      <td>2021-09-13 18:01:49+00:00</td>\n      <td>2021-09-13 16:18:07+00:00</td>\n      <td>6.715</td>\n      <td>2_39_123_23_2021-09-13 21:16:44.026068</td>\n      <td>0002</td>\n      <td>CA-313</td>\n      <td>2-39-123-23</td>\n      <td>America/Los_Angeles</td>\n      <td>000006481</td>\n      <td>[{'WhPerMile': 460, 'kWhRequested': 11.5, 'mil...</td>\n    </tr>\n    <tr>\n      <th>31421</th>\n      <td>61550519f9af8b76960e169c</td>\n      <td>0039</td>\n      <td>2021-09-13 15:33:07+00:00</td>\n      <td>2021-09-13 16:06:55+00:00</td>\n      <td>2021-09-13 16:06:55+00:00</td>\n      <td>17.720</td>\n      <td>2_39_81_4550_2021-09-13 22:33:04.543952</td>\n      <td>0002</td>\n      <td>11900388</td>\n      <td>2-39-81-4550</td>\n      <td>America/Los_Angeles</td>\n      <td>000003905</td>\n      <td>[{'WhPerMile': 300, 'kWhRequested': 30.0, 'mil...</td>\n    </tr>\n    <tr>\n      <th>31422</th>\n      <td>61550519f9af8b76960e169d</td>\n      <td>0039</td>\n      <td>2021-09-13 16:11:12+00:00</td>\n      <td>2021-09-13 18:43:11+00:00</td>\n      <td>2021-09-13 17:13:35+00:00</td>\n      <td>2.018</td>\n      <td>2_39_91_437_2021-09-13 23:10:59.528292</td>\n      <td>0002</td>\n      <td>CA-317</td>\n      <td>2-39-91-437</td>\n      <td>America/Los_Angeles</td>\n      <td>000001082</td>\n      <td>[{'WhPerMile': 290, 'kWhRequested': 5.8, 'mile...</td>\n    </tr>\n    <tr>\n      <th>31423</th>\n      <td>61550519f9af8b76960e169e</td>\n      <td>0039</td>\n      <td>2021-09-13 18:52:37+00:00</td>\n      <td>2021-09-13 20:05:10+00:00</td>\n      <td>2021-09-13 20:05:10+00:00</td>\n      <td>45.064</td>\n      <td>2_39_81_4550_2021-09-14 01:52:31.129163</td>\n      <td>0002</td>\n      <td>11900388</td>\n      <td>2-39-81-4550</td>\n      <td>America/Los_Angeles</td>\n      <td>000019055</td>\n      <td>[{'WhPerMile': 286, 'kWhRequested': 28.6, 'mil...</td>\n    </tr>\n  </tbody>\n</table>\n<p>31424 rows × 13 columns</p>\n</div>"
     },
     "execution_count": 37,
     "metadata": {},
     "output_type": "execute_result"
    }
   ],
   "source": [
    "data = pd.DataFrame(json.load(open(Path('../Data/acn_caltech.json'), 'r'))['_items'])\n",
    "#Preprocessing doneChargingTime\n",
    "for i in range(len(data[\"doneChargingTime\"])):\n",
    "    if data[\"doneChargingTime\"][i] is None:\n",
    "        data.loc[i, \"doneChargingTime\"] = data[\"disconnectTime\"][i]\n",
    "\n",
    "data[\"connectionTime\"] = pd.to_datetime(data[\"connectionTime\"]) - timedelta(hours=7)\n",
    "data[\"disconnectTime\"] = pd.to_datetime(data[\"disconnectTime\"]) - timedelta(hours=7)\n",
    "data[\"doneChargingTime\"] = pd.to_datetime(data[\"doneChargingTime\"]) - timedelta(hours=7)\n",
    "data"
   ],
   "metadata": {
    "collapsed": false,
    "pycharm": {
     "name": "#%%\n"
    }
   }
  },
  {
   "cell_type": "code",
   "execution_count": 38,
   "outputs": [
    {
     "data": {
      "text/plain": "                            _id clusterID            connectionTime  \\\n0      5bc9160af9af8b0dad3c0690      0039 2018-05-01 06:23:18+00:00   \n1      5bc9160af9af8b0dad3c0691      0039 2018-05-01 06:54:34+00:00   \n2      5bc9160af9af8b0dad3c0692      0039 2018-05-01 07:46:04+00:00   \n3      5bc9160af9af8b0dad3c0693      0039 2018-05-01 07:56:29+00:00   \n4      5bc9160af9af8b0dad3c0694      0039 2018-05-01 08:14:50+00:00   \n...                         ...       ...                       ...   \n12838  5c2e8550f9af8b13dab074d9      0039 2018-10-31 21:53:58+00:00   \n12839  5c2e8550f9af8b13dab074da      0039 2018-10-31 22:32:47+00:00   \n12840  5c2e8550f9af8b13dab074db      0039 2018-10-31 22:40:49+00:00   \n12841  5c2e8550f9af8b13dab074dc      0039 2018-10-31 22:53:48+00:00   \n12842  5c2e8550f9af8b13dab074dd      0039 2018-10-31 23:25:56+00:00   \n\n                 disconnectTime          doneChargingTime  kWhDelivered  \\\n0     2018-05-01 18:53:41+00:00 2018-05-01 10:17:07+00:00     13.410000   \n1     2018-05-01 16:15:35+00:00 2018-05-01 08:35:39+00:00      8.618000   \n2     2018-05-01 17:54:07+00:00 2018-05-01 16:57:02+00:00     13.969000   \n3     2018-05-01 14:52:45+00:00 2018-05-01 09:07:56+00:00      6.914000   \n4     2018-05-01 15:51:30+00:00 2018-05-01 13:18:12+00:00     13.785000   \n...                         ...                       ...           ...   \n12838 2018-10-31 22:32:43+00:00 2018-10-31 22:33:42+00:00      3.372000   \n12839 2018-10-31 22:53:40+00:00 2018-10-31 22:53:00+00:00      1.389000   \n12840 2018-11-01 00:57:28+00:00 2018-11-01 00:27:00+00:00      1.225597   \n12841 2018-10-31 23:24:48+00:00 2018-10-31 23:24:16+00:00      0.962000   \n12842 2018-10-31 23:57:35+00:00 2018-10-31 23:56:24+00:00      0.980000   \n\n                                    sessionID siteID spaceID    stationID  \\\n0       2_39_95_27_2018-05-01 13:23:18.374684   0002  CA-319   2-39-95-27   \n1      2_39_79_380_2018-05-01 13:54:33.599590   0002  CA-489  2-39-79-380   \n2      2_39_139_28_2018-05-01 14:46:04.441389   0002  CA-303  2-39-139-28   \n3      2_39_79_378_2018-05-01 14:56:28.908623   0002  CA-326  2-39-79-378   \n4       2_39_88_24_2018-05-01 15:14:50.443137   0002  CA-314   2-39-88-24   \n...                                       ...    ...     ...          ...   \n12838   2_39_90_26_2018-11-01 04:53:58.292201   0002  CA-316   2-39-90-26   \n12839   2_39_90_26_2018-11-01 05:32:47.339653   0002  CA-316   2-39-90-26   \n12840  2_39_78_365_2018-11-01 05:40:48.678916   0002  CA-321  2-39-78-365   \n12841  2_39_90_440_2018-11-01 05:53:48.467907   0002  CA-500  2-39-90-440   \n12842  2_39_131_30_2018-11-01 06:25:55.685229   0002  CA-305  2-39-131-30   \n\n                  timezone userID userInputs  \n0      America/Los_Angeles   None       None  \n1      America/Los_Angeles   None       None  \n2      America/Los_Angeles   None       None  \n3      America/Los_Angeles   None       None  \n4      America/Los_Angeles   None       None  \n...                    ...    ...        ...  \n12838  America/Los_Angeles   None       None  \n12839  America/Los_Angeles   None       None  \n12840  America/Los_Angeles   None       None  \n12841  America/Los_Angeles   None       None  \n12842  America/Los_Angeles   None       None  \n\n[12843 rows x 13 columns]",
      "text/html": "<div>\n<style scoped>\n    .dataframe tbody tr th:only-of-type {\n        vertical-align: middle;\n    }\n\n    .dataframe tbody tr th {\n        vertical-align: top;\n    }\n\n    .dataframe thead th {\n        text-align: right;\n    }\n</style>\n<table border=\"1\" class=\"dataframe\">\n  <thead>\n    <tr style=\"text-align: right;\">\n      <th></th>\n      <th>_id</th>\n      <th>clusterID</th>\n      <th>connectionTime</th>\n      <th>disconnectTime</th>\n      <th>doneChargingTime</th>\n      <th>kWhDelivered</th>\n      <th>sessionID</th>\n      <th>siteID</th>\n      <th>spaceID</th>\n      <th>stationID</th>\n      <th>timezone</th>\n      <th>userID</th>\n      <th>userInputs</th>\n    </tr>\n  </thead>\n  <tbody>\n    <tr>\n      <th>0</th>\n      <td>5bc9160af9af8b0dad3c0690</td>\n      <td>0039</td>\n      <td>2018-05-01 06:23:18+00:00</td>\n      <td>2018-05-01 18:53:41+00:00</td>\n      <td>2018-05-01 10:17:07+00:00</td>\n      <td>13.410000</td>\n      <td>2_39_95_27_2018-05-01 13:23:18.374684</td>\n      <td>0002</td>\n      <td>CA-319</td>\n      <td>2-39-95-27</td>\n      <td>America/Los_Angeles</td>\n      <td>None</td>\n      <td>None</td>\n    </tr>\n    <tr>\n      <th>1</th>\n      <td>5bc9160af9af8b0dad3c0691</td>\n      <td>0039</td>\n      <td>2018-05-01 06:54:34+00:00</td>\n      <td>2018-05-01 16:15:35+00:00</td>\n      <td>2018-05-01 08:35:39+00:00</td>\n      <td>8.618000</td>\n      <td>2_39_79_380_2018-05-01 13:54:33.599590</td>\n      <td>0002</td>\n      <td>CA-489</td>\n      <td>2-39-79-380</td>\n      <td>America/Los_Angeles</td>\n      <td>None</td>\n      <td>None</td>\n    </tr>\n    <tr>\n      <th>2</th>\n      <td>5bc9160af9af8b0dad3c0692</td>\n      <td>0039</td>\n      <td>2018-05-01 07:46:04+00:00</td>\n      <td>2018-05-01 17:54:07+00:00</td>\n      <td>2018-05-01 16:57:02+00:00</td>\n      <td>13.969000</td>\n      <td>2_39_139_28_2018-05-01 14:46:04.441389</td>\n      <td>0002</td>\n      <td>CA-303</td>\n      <td>2-39-139-28</td>\n      <td>America/Los_Angeles</td>\n      <td>None</td>\n      <td>None</td>\n    </tr>\n    <tr>\n      <th>3</th>\n      <td>5bc9160af9af8b0dad3c0693</td>\n      <td>0039</td>\n      <td>2018-05-01 07:56:29+00:00</td>\n      <td>2018-05-01 14:52:45+00:00</td>\n      <td>2018-05-01 09:07:56+00:00</td>\n      <td>6.914000</td>\n      <td>2_39_79_378_2018-05-01 14:56:28.908623</td>\n      <td>0002</td>\n      <td>CA-326</td>\n      <td>2-39-79-378</td>\n      <td>America/Los_Angeles</td>\n      <td>None</td>\n      <td>None</td>\n    </tr>\n    <tr>\n      <th>4</th>\n      <td>5bc9160af9af8b0dad3c0694</td>\n      <td>0039</td>\n      <td>2018-05-01 08:14:50+00:00</td>\n      <td>2018-05-01 15:51:30+00:00</td>\n      <td>2018-05-01 13:18:12+00:00</td>\n      <td>13.785000</td>\n      <td>2_39_88_24_2018-05-01 15:14:50.443137</td>\n      <td>0002</td>\n      <td>CA-314</td>\n      <td>2-39-88-24</td>\n      <td>America/Los_Angeles</td>\n      <td>None</td>\n      <td>None</td>\n    </tr>\n    <tr>\n      <th>...</th>\n      <td>...</td>\n      <td>...</td>\n      <td>...</td>\n      <td>...</td>\n      <td>...</td>\n      <td>...</td>\n      <td>...</td>\n      <td>...</td>\n      <td>...</td>\n      <td>...</td>\n      <td>...</td>\n      <td>...</td>\n      <td>...</td>\n    </tr>\n    <tr>\n      <th>12838</th>\n      <td>5c2e8550f9af8b13dab074d9</td>\n      <td>0039</td>\n      <td>2018-10-31 21:53:58+00:00</td>\n      <td>2018-10-31 22:32:43+00:00</td>\n      <td>2018-10-31 22:33:42+00:00</td>\n      <td>3.372000</td>\n      <td>2_39_90_26_2018-11-01 04:53:58.292201</td>\n      <td>0002</td>\n      <td>CA-316</td>\n      <td>2-39-90-26</td>\n      <td>America/Los_Angeles</td>\n      <td>None</td>\n      <td>None</td>\n    </tr>\n    <tr>\n      <th>12839</th>\n      <td>5c2e8550f9af8b13dab074da</td>\n      <td>0039</td>\n      <td>2018-10-31 22:32:47+00:00</td>\n      <td>2018-10-31 22:53:40+00:00</td>\n      <td>2018-10-31 22:53:00+00:00</td>\n      <td>1.389000</td>\n      <td>2_39_90_26_2018-11-01 05:32:47.339653</td>\n      <td>0002</td>\n      <td>CA-316</td>\n      <td>2-39-90-26</td>\n      <td>America/Los_Angeles</td>\n      <td>None</td>\n      <td>None</td>\n    </tr>\n    <tr>\n      <th>12840</th>\n      <td>5c2e8550f9af8b13dab074db</td>\n      <td>0039</td>\n      <td>2018-10-31 22:40:49+00:00</td>\n      <td>2018-11-01 00:57:28+00:00</td>\n      <td>2018-11-01 00:27:00+00:00</td>\n      <td>1.225597</td>\n      <td>2_39_78_365_2018-11-01 05:40:48.678916</td>\n      <td>0002</td>\n      <td>CA-321</td>\n      <td>2-39-78-365</td>\n      <td>America/Los_Angeles</td>\n      <td>None</td>\n      <td>None</td>\n    </tr>\n    <tr>\n      <th>12841</th>\n      <td>5c2e8550f9af8b13dab074dc</td>\n      <td>0039</td>\n      <td>2018-10-31 22:53:48+00:00</td>\n      <td>2018-10-31 23:24:48+00:00</td>\n      <td>2018-10-31 23:24:16+00:00</td>\n      <td>0.962000</td>\n      <td>2_39_90_440_2018-11-01 05:53:48.467907</td>\n      <td>0002</td>\n      <td>CA-500</td>\n      <td>2-39-90-440</td>\n      <td>America/Los_Angeles</td>\n      <td>None</td>\n      <td>None</td>\n    </tr>\n    <tr>\n      <th>12842</th>\n      <td>5c2e8550f9af8b13dab074dd</td>\n      <td>0039</td>\n      <td>2018-10-31 23:25:56+00:00</td>\n      <td>2018-10-31 23:57:35+00:00</td>\n      <td>2018-10-31 23:56:24+00:00</td>\n      <td>0.980000</td>\n      <td>2_39_131_30_2018-11-01 06:25:55.685229</td>\n      <td>0002</td>\n      <td>CA-305</td>\n      <td>2-39-131-30</td>\n      <td>America/Los_Angeles</td>\n      <td>None</td>\n      <td>None</td>\n    </tr>\n  </tbody>\n</table>\n<p>12843 rows × 13 columns</p>\n</div>"
     },
     "execution_count": 38,
     "metadata": {},
     "output_type": "execute_result"
    }
   ],
   "source": [
    "data = data[(data.connectionTime > '2018-05-01') & (data.connectionTime < '2018-11-01')]\n",
    "data.reset_index(drop = True, inplace = True)\n",
    "data"
   ],
   "metadata": {
    "collapsed": false,
    "pycharm": {
     "name": "#%%\n"
    }
   }
  },
  {
   "cell_type": "markdown",
   "source": [
    "# Consumer Behavior"
   ],
   "metadata": {
    "collapsed": false
   }
  },
  {
   "cell_type": "code",
   "execution_count": 40,
   "outputs": [
    {
     "data": {
      "text/plain": "connectionTime\n0      0.448087\n1      0.306011\n2      0.125683\n3      0.120219\n4      0.732240\n5      0.404372\n6      2.027174\n7      5.391304\n8     12.755435\n9      8.663043\n10     4.016304\n11     2.375000\n12     3.228261\n13     3.152174\n14     2.260870\n15     2.516304\n16     3.130435\n17     3.750000\n18     4.364130\n19     3.538043\n20     2.755435\n21     1.815217\n22     1.288043\n23     0.646739\ndtype: float64"
     },
     "execution_count": 40,
     "metadata": {},
     "output_type": "execute_result"
    }
   ],
   "source": [
    "ConnectionTime = pd.Series(range(len(data)), index=data[\"connectionTime\"]).resample(\"h\").count()\n",
    "ct_mean = ConnectionTime.groupby(ConnectionTime.index.hour).mean()\n",
    "ct_mean"
   ],
   "metadata": {
    "collapsed": false,
    "pycharm": {
     "name": "#%%\n"
    }
   }
  },
  {
   "cell_type": "code",
   "execution_count": 42,
   "outputs": [
    {
     "data": {
      "text/plain": "disconnectTime\n0      0.592391\n1      0.331522\n2      0.211957\n3      0.260870\n4      0.228261\n5      0.380435\n6      1.467391\n7      1.293478\n8      1.331522\n9      1.864130\n10     1.670270\n11     2.681081\n12     2.881081\n13     3.097826\n14     2.798913\n15     4.005435\n16     7.820652\n17    10.402174\n18     8.190217\n19     5.820652\n20     4.668478\n21     3.407609\n22     2.978261\n23     1.375000\ndtype: float64"
     },
     "execution_count": 42,
     "metadata": {},
     "output_type": "execute_result"
    }
   ],
   "source": [
    "disconnectTime = pd.Series(range(len(data)), index=data[\"disconnectTime\"]).resample(\"h\").count()\n",
    "dt_mean = disconnectTime.groupby(disconnectTime.index.hour).mean()\n",
    "dt_mean"
   ],
   "metadata": {
    "collapsed": false,
    "pycharm": {
     "name": "#%%\n"
    }
   }
  },
  {
   "cell_type": "markdown",
   "source": [
    "# Charging Time Stuff"
   ],
   "metadata": {
    "collapsed": false
   }
  },
  {
   "cell_type": "code",
   "execution_count": 12,
   "outputs": [
    {
     "data": {
      "text/plain": "0       0 days 02:13:06\n1       0 days 02:59:05\n2       0 days 01:05:54\n3       0 days 01:28:16\n4       0 days 02:59:56\n              ...      \n31419   0 days 00:28:38\n31420   0 days 02:01:03\n31421   0 days 00:33:48\n31422   0 days 01:02:23\n31423   0 days 01:12:33\nName: chargingTime, Length: 31424, dtype: timedelta64[ns]"
     },
     "execution_count": 12,
     "metadata": {},
     "output_type": "execute_result"
    }
   ],
   "source": [
    "data[\"chargingTime\"] = data[\"doneChargingTime\"] - data[\"connectionTime\"]\n",
    "data[\"chargingTime\"]"
   ],
   "metadata": {
    "collapsed": false,
    "pycharm": {
     "name": "#%%\n"
    }
   }
  },
  {
   "cell_type": "code",
   "execution_count": 21,
   "outputs": [
    {
     "data": {
      "text/plain": "16388"
     },
     "execution_count": 21,
     "metadata": {},
     "output_type": "execute_result"
    }
   ],
   "source": [
    "#data[\"spaceID\"].unique()\n",
    "data[\"userID\"].count()"
   ],
   "metadata": {
    "collapsed": false,
    "pycharm": {
     "name": "#%%\n"
    }
   }
  },
  {
   "cell_type": "code",
   "execution_count": null,
   "outputs": [],
   "source": [],
   "metadata": {
    "collapsed": false,
    "pycharm": {
     "name": "#%%\n"
    }
   }
  }
 ],
 "metadata": {
  "kernelspec": {
   "display_name": "Python 3",
   "language": "python",
   "name": "python3"
  },
  "language_info": {
   "codemirror_mode": {
    "name": "ipython",
    "version": 2
   },
   "file_extension": ".py",
   "mimetype": "text/x-python",
   "name": "python",
   "nbconvert_exporter": "python",
   "pygments_lexer": "ipython2",
   "version": "2.7.6"
  }
 },
 "nbformat": 4,
 "nbformat_minor": 0
}