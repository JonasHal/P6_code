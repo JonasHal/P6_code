{
 "cells": [
  {
   "cell_type": "code",
   "execution_count": 1,
   "metadata": {
    "collapsed": true
   },
   "outputs": [],
   "source": [
    "import json\n",
    "import pandas as pd\n",
    "from pathlib import Path\n",
    "import plotly.express as px"
   ]
  },
  {
   "cell_type": "code",
   "execution_count": 14,
   "outputs": [
    {
     "data": {
      "text/plain": "                            _id clusterID                 connectionTime  \\\n0      5bc90cb9f9af8b0d7fe77cd2      0039  Wed, 25 Apr 2018 11:08:04 GMT   \n1      5bc90cb9f9af8b0d7fe77cd3      0039  Wed, 25 Apr 2018 13:45:10 GMT   \n2      5bc90cb9f9af8b0d7fe77cd4      0039  Wed, 25 Apr 2018 13:45:50 GMT   \n3      5bc90cb9f9af8b0d7fe77cd5      0039  Wed, 25 Apr 2018 14:37:06 GMT   \n4      5bc90cb9f9af8b0d7fe77cd6      0039  Wed, 25 Apr 2018 14:40:34 GMT   \n...                         ...       ...                            ...   \n31419  61550519f9af8b76960e169a      0039  Mon, 13 Sep 2021 21:12:53 GMT   \n31420  61550519f9af8b76960e169b      0039  Mon, 13 Sep 2021 21:17:04 GMT   \n31421  61550519f9af8b76960e169c      0039  Mon, 13 Sep 2021 22:33:07 GMT   \n31422  61550519f9af8b76960e169d      0039  Mon, 13 Sep 2021 23:11:12 GMT   \n31423  61550519f9af8b76960e169e      0039  Tue, 14 Sep 2021 01:52:37 GMT   \n\n                      disconnectTime               doneChargingTime  \\\n0      Wed, 25 Apr 2018 13:20:10 GMT  Wed, 25 Apr 2018 13:21:10 GMT   \n1      Thu, 26 Apr 2018 00:56:16 GMT  Wed, 25 Apr 2018 16:44:15 GMT   \n2      Wed, 25 Apr 2018 23:04:45 GMT  Wed, 25 Apr 2018 14:51:44 GMT   \n3      Wed, 25 Apr 2018 23:55:34 GMT  Wed, 25 Apr 2018 16:05:22 GMT   \n4      Wed, 25 Apr 2018 23:03:12 GMT  Wed, 25 Apr 2018 17:40:30 GMT   \n...                              ...                            ...   \n31419  Tue, 14 Sep 2021 00:25:36 GMT  Mon, 13 Sep 2021 21:41:31 GMT   \n31420  Tue, 14 Sep 2021 01:01:49 GMT  Mon, 13 Sep 2021 23:18:07 GMT   \n31421  Mon, 13 Sep 2021 23:06:55 GMT  Mon, 13 Sep 2021 23:06:55 GMT   \n31422  Tue, 14 Sep 2021 01:43:11 GMT  Tue, 14 Sep 2021 00:13:35 GMT   \n31423  Tue, 14 Sep 2021 03:05:10 GMT  Tue, 14 Sep 2021 03:05:10 GMT   \n\n       kWhDelivered                                sessionID siteID   spaceID  \\\n0             7.932   2_39_78_362_2018-04-25 11:08:04.400812   0002    CA-496   \n1            10.013    2_39_95_27_2018-04-25 13:45:09.617470   0002    CA-319   \n2             5.257   2_39_79_380_2018-04-25 13:45:49.962001   0002    CA-489   \n3             5.177   2_39_79_379_2018-04-25 14:37:06.460772   0002    CA-327   \n4            10.119   2_39_79_381_2018-04-25 14:40:33.638896   0002    CA-490   \n...             ...                                      ...    ...       ...   \n31419         2.285    2_39_89_25_2021-09-13 21:12:53.318460   0002    CA-315   \n31420         6.715   2_39_123_23_2021-09-13 21:16:44.026068   0002    CA-313   \n31421        17.720  2_39_81_4550_2021-09-13 22:33:04.543952   0002  11900388   \n31422         2.018   2_39_91_437_2021-09-13 23:10:59.528292   0002    CA-317   \n31423        45.064  2_39_81_4550_2021-09-14 01:52:31.129163   0002  11900388   \n\n          stationID             timezone     userID  \\\n0       2-39-78-362  America/Los_Angeles       None   \n1        2-39-95-27  America/Los_Angeles       None   \n2       2-39-79-380  America/Los_Angeles       None   \n3       2-39-79-379  America/Los_Angeles       None   \n4       2-39-79-381  America/Los_Angeles       None   \n...             ...                  ...        ...   \n31419    2-39-89-25  America/Los_Angeles  000000431   \n31420   2-39-123-23  America/Los_Angeles  000006481   \n31421  2-39-81-4550  America/Los_Angeles  000003905   \n31422   2-39-91-437  America/Los_Angeles  000001082   \n31423  2-39-81-4550  America/Los_Angeles  000019055   \n\n                                              userInputs  \n0                                                   None  \n1                                                   None  \n2                                                   None  \n3                                                   None  \n4                                                   None  \n...                                                  ...  \n31419  [{'WhPerMile': 286, 'kWhRequested': 28.6, 'mil...  \n31420  [{'WhPerMile': 460, 'kWhRequested': 11.5, 'mil...  \n31421  [{'WhPerMile': 300, 'kWhRequested': 30.0, 'mil...  \n31422  [{'WhPerMile': 290, 'kWhRequested': 5.8, 'mile...  \n31423  [{'WhPerMile': 286, 'kWhRequested': 28.6, 'mil...  \n\n[31424 rows x 13 columns]",
      "text/html": "<div>\n<style scoped>\n    .dataframe tbody tr th:only-of-type {\n        vertical-align: middle;\n    }\n\n    .dataframe tbody tr th {\n        vertical-align: top;\n    }\n\n    .dataframe thead th {\n        text-align: right;\n    }\n</style>\n<table border=\"1\" class=\"dataframe\">\n  <thead>\n    <tr style=\"text-align: right;\">\n      <th></th>\n      <th>_id</th>\n      <th>clusterID</th>\n      <th>connectionTime</th>\n      <th>disconnectTime</th>\n      <th>doneChargingTime</th>\n      <th>kWhDelivered</th>\n      <th>sessionID</th>\n      <th>siteID</th>\n      <th>spaceID</th>\n      <th>stationID</th>\n      <th>timezone</th>\n      <th>userID</th>\n      <th>userInputs</th>\n    </tr>\n  </thead>\n  <tbody>\n    <tr>\n      <th>0</th>\n      <td>5bc90cb9f9af8b0d7fe77cd2</td>\n      <td>0039</td>\n      <td>Wed, 25 Apr 2018 11:08:04 GMT</td>\n      <td>Wed, 25 Apr 2018 13:20:10 GMT</td>\n      <td>Wed, 25 Apr 2018 13:21:10 GMT</td>\n      <td>7.932</td>\n      <td>2_39_78_362_2018-04-25 11:08:04.400812</td>\n      <td>0002</td>\n      <td>CA-496</td>\n      <td>2-39-78-362</td>\n      <td>America/Los_Angeles</td>\n      <td>None</td>\n      <td>None</td>\n    </tr>\n    <tr>\n      <th>1</th>\n      <td>5bc90cb9f9af8b0d7fe77cd3</td>\n      <td>0039</td>\n      <td>Wed, 25 Apr 2018 13:45:10 GMT</td>\n      <td>Thu, 26 Apr 2018 00:56:16 GMT</td>\n      <td>Wed, 25 Apr 2018 16:44:15 GMT</td>\n      <td>10.013</td>\n      <td>2_39_95_27_2018-04-25 13:45:09.617470</td>\n      <td>0002</td>\n      <td>CA-319</td>\n      <td>2-39-95-27</td>\n      <td>America/Los_Angeles</td>\n      <td>None</td>\n      <td>None</td>\n    </tr>\n    <tr>\n      <th>2</th>\n      <td>5bc90cb9f9af8b0d7fe77cd4</td>\n      <td>0039</td>\n      <td>Wed, 25 Apr 2018 13:45:50 GMT</td>\n      <td>Wed, 25 Apr 2018 23:04:45 GMT</td>\n      <td>Wed, 25 Apr 2018 14:51:44 GMT</td>\n      <td>5.257</td>\n      <td>2_39_79_380_2018-04-25 13:45:49.962001</td>\n      <td>0002</td>\n      <td>CA-489</td>\n      <td>2-39-79-380</td>\n      <td>America/Los_Angeles</td>\n      <td>None</td>\n      <td>None</td>\n    </tr>\n    <tr>\n      <th>3</th>\n      <td>5bc90cb9f9af8b0d7fe77cd5</td>\n      <td>0039</td>\n      <td>Wed, 25 Apr 2018 14:37:06 GMT</td>\n      <td>Wed, 25 Apr 2018 23:55:34 GMT</td>\n      <td>Wed, 25 Apr 2018 16:05:22 GMT</td>\n      <td>5.177</td>\n      <td>2_39_79_379_2018-04-25 14:37:06.460772</td>\n      <td>0002</td>\n      <td>CA-327</td>\n      <td>2-39-79-379</td>\n      <td>America/Los_Angeles</td>\n      <td>None</td>\n      <td>None</td>\n    </tr>\n    <tr>\n      <th>4</th>\n      <td>5bc90cb9f9af8b0d7fe77cd6</td>\n      <td>0039</td>\n      <td>Wed, 25 Apr 2018 14:40:34 GMT</td>\n      <td>Wed, 25 Apr 2018 23:03:12 GMT</td>\n      <td>Wed, 25 Apr 2018 17:40:30 GMT</td>\n      <td>10.119</td>\n      <td>2_39_79_381_2018-04-25 14:40:33.638896</td>\n      <td>0002</td>\n      <td>CA-490</td>\n      <td>2-39-79-381</td>\n      <td>America/Los_Angeles</td>\n      <td>None</td>\n      <td>None</td>\n    </tr>\n    <tr>\n      <th>...</th>\n      <td>...</td>\n      <td>...</td>\n      <td>...</td>\n      <td>...</td>\n      <td>...</td>\n      <td>...</td>\n      <td>...</td>\n      <td>...</td>\n      <td>...</td>\n      <td>...</td>\n      <td>...</td>\n      <td>...</td>\n      <td>...</td>\n    </tr>\n    <tr>\n      <th>31419</th>\n      <td>61550519f9af8b76960e169a</td>\n      <td>0039</td>\n      <td>Mon, 13 Sep 2021 21:12:53 GMT</td>\n      <td>Tue, 14 Sep 2021 00:25:36 GMT</td>\n      <td>Mon, 13 Sep 2021 21:41:31 GMT</td>\n      <td>2.285</td>\n      <td>2_39_89_25_2021-09-13 21:12:53.318460</td>\n      <td>0002</td>\n      <td>CA-315</td>\n      <td>2-39-89-25</td>\n      <td>America/Los_Angeles</td>\n      <td>000000431</td>\n      <td>[{'WhPerMile': 286, 'kWhRequested': 28.6, 'mil...</td>\n    </tr>\n    <tr>\n      <th>31420</th>\n      <td>61550519f9af8b76960e169b</td>\n      <td>0039</td>\n      <td>Mon, 13 Sep 2021 21:17:04 GMT</td>\n      <td>Tue, 14 Sep 2021 01:01:49 GMT</td>\n      <td>Mon, 13 Sep 2021 23:18:07 GMT</td>\n      <td>6.715</td>\n      <td>2_39_123_23_2021-09-13 21:16:44.026068</td>\n      <td>0002</td>\n      <td>CA-313</td>\n      <td>2-39-123-23</td>\n      <td>America/Los_Angeles</td>\n      <td>000006481</td>\n      <td>[{'WhPerMile': 460, 'kWhRequested': 11.5, 'mil...</td>\n    </tr>\n    <tr>\n      <th>31421</th>\n      <td>61550519f9af8b76960e169c</td>\n      <td>0039</td>\n      <td>Mon, 13 Sep 2021 22:33:07 GMT</td>\n      <td>Mon, 13 Sep 2021 23:06:55 GMT</td>\n      <td>Mon, 13 Sep 2021 23:06:55 GMT</td>\n      <td>17.720</td>\n      <td>2_39_81_4550_2021-09-13 22:33:04.543952</td>\n      <td>0002</td>\n      <td>11900388</td>\n      <td>2-39-81-4550</td>\n      <td>America/Los_Angeles</td>\n      <td>000003905</td>\n      <td>[{'WhPerMile': 300, 'kWhRequested': 30.0, 'mil...</td>\n    </tr>\n    <tr>\n      <th>31422</th>\n      <td>61550519f9af8b76960e169d</td>\n      <td>0039</td>\n      <td>Mon, 13 Sep 2021 23:11:12 GMT</td>\n      <td>Tue, 14 Sep 2021 01:43:11 GMT</td>\n      <td>Tue, 14 Sep 2021 00:13:35 GMT</td>\n      <td>2.018</td>\n      <td>2_39_91_437_2021-09-13 23:10:59.528292</td>\n      <td>0002</td>\n      <td>CA-317</td>\n      <td>2-39-91-437</td>\n      <td>America/Los_Angeles</td>\n      <td>000001082</td>\n      <td>[{'WhPerMile': 290, 'kWhRequested': 5.8, 'mile...</td>\n    </tr>\n    <tr>\n      <th>31423</th>\n      <td>61550519f9af8b76960e169e</td>\n      <td>0039</td>\n      <td>Tue, 14 Sep 2021 01:52:37 GMT</td>\n      <td>Tue, 14 Sep 2021 03:05:10 GMT</td>\n      <td>Tue, 14 Sep 2021 03:05:10 GMT</td>\n      <td>45.064</td>\n      <td>2_39_81_4550_2021-09-14 01:52:31.129163</td>\n      <td>0002</td>\n      <td>11900388</td>\n      <td>2-39-81-4550</td>\n      <td>America/Los_Angeles</td>\n      <td>000019055</td>\n      <td>[{'WhPerMile': 286, 'kWhRequested': 28.6, 'mil...</td>\n    </tr>\n  </tbody>\n</table>\n<p>31424 rows × 13 columns</p>\n</div>"
     },
     "execution_count": 14,
     "metadata": {},
     "output_type": "execute_result"
    }
   ],
   "source": [
    "data = pd.DataFrame(json.load(open(Path('../Data/acn_caltech.json'), 'r'))['_items'])\n",
    "#Preprocessing doneChargingTime\n",
    "for i in range(len(data[\"doneChargingTime\"])):\n",
    "    if data[\"doneChargingTime\"][i] is None:\n",
    "        data.loc[i, \"doneChargingTime\"] = data[\"disconnectTime\"][i]\n",
    "data"
   ],
   "metadata": {
    "collapsed": false,
    "pycharm": {
     "name": "#%%\n"
    }
   }
  },
  {
   "cell_type": "markdown",
   "source": [
    "# Consumer Behavior"
   ],
   "metadata": {
    "collapsed": false
   }
  },
  {
   "cell_type": "code",
   "execution_count": 29,
   "outputs": [
    {
     "data": {
      "text/plain": "connectionTime\n0     1.071890\n1     1.247981\n2     1.016168\n3     0.777688\n4     0.540016\n5     0.304770\n6     0.174616\n7     0.100243\n8     0.073565\n9     0.031528\n10    0.022635\n11    0.117124\n12    0.088853\n13    0.533926\n14    1.222132\n15    3.651858\n16    3.945073\n17    2.750404\n18    1.666397\n19    1.412763\n20    1.499192\n21    1.167205\n22    0.953150\n23    1.016155\ndtype: float64"
     },
     "execution_count": 29,
     "metadata": {},
     "output_type": "execute_result"
    }
   ],
   "source": [
    "ConnectionTime = pd.Series(range(len(data)), index=pd.to_datetime(data[\"connectionTime\"])).resample(\"h\").count()\n",
    "test = ConnectionTime.groupby(ConnectionTime.index.hour).mean()\n",
    "test"
   ],
   "metadata": {
    "collapsed": false,
    "pycharm": {
     "name": "#%%\n"
    }
   }
  },
  {
   "cell_type": "code",
   "execution_count": 25,
   "outputs": [
    {
     "data": {
      "text/plain": "disconnectTime\n2018-04-25 13:00:00+00:00    1\n2018-04-25 14:00:00+00:00    0\n2018-04-25 15:00:00+00:00    0\n2018-04-25 16:00:00+00:00    0\n2018-04-25 17:00:00+00:00    0\n                            ..\n2021-09-13 23:00:00+00:00    3\n2021-09-14 00:00:00+00:00    4\n2021-09-14 01:00:00+00:00    6\n2021-09-14 02:00:00+00:00    1\n2021-09-14 03:00:00+00:00    1\nFreq: H, Length: 29703, dtype: int64"
     },
     "execution_count": 25,
     "metadata": {},
     "output_type": "execute_result"
    }
   ],
   "source": [
    "disconnectTime = pd.Series(range(len(data)), index=pd.to_datetime(data[\"disconnectTime\"])).resample(\"h\").count()\n",
    "disconnectTime"
   ],
   "metadata": {
    "collapsed": false,
    "pycharm": {
     "name": "#%%\n"
    }
   }
  },
  {
   "cell_type": "markdown",
   "source": [
    "# Charging Time Stuff"
   ],
   "metadata": {
    "collapsed": false
   }
  },
  {
   "cell_type": "code",
   "execution_count": 15,
   "outputs": [
    {
     "data": {
      "text/plain": "0       0 days 02:13:06\n1       0 days 02:59:05\n2       0 days 01:05:54\n3       0 days 01:28:16\n4       0 days 02:59:56\n              ...      \n31419   0 days 00:28:38\n31420   0 days 02:01:03\n31421   0 days 00:33:48\n31422   0 days 01:02:23\n31423   0 days 01:12:33\nName: chargingTime, Length: 31424, dtype: timedelta64[ns]"
     },
     "execution_count": 15,
     "metadata": {},
     "output_type": "execute_result"
    }
   ],
   "source": [
    "data[\"chargingTime\"] = pd.to_datetime(data[\"doneChargingTime\"]) - pd.to_datetime(data[\"connectionTime\"])\n",
    "data[\"chargingTime\"]"
   ],
   "metadata": {
    "collapsed": false,
    "pycharm": {
     "name": "#%%\n"
    }
   }
  },
  {
   "cell_type": "code",
   "execution_count": 21,
   "outputs": [
    {
     "data": {
      "text/plain": "16388"
     },
     "execution_count": 21,
     "metadata": {},
     "output_type": "execute_result"
    }
   ],
   "source": [
    "#data[\"spaceID\"].unique()\n",
    "data[\"userID\"].count()"
   ],
   "metadata": {
    "collapsed": false,
    "pycharm": {
     "name": "#%%\n"
    }
   }
  },
  {
   "cell_type": "code",
   "execution_count": null,
   "outputs": [],
   "source": [],
   "metadata": {
    "collapsed": false,
    "pycharm": {
     "name": "#%%\n"
    }
   }
  }
 ],
 "metadata": {
  "kernelspec": {
   "display_name": "Python 3",
   "language": "python",
   "name": "python3"
  },
  "language_info": {
   "codemirror_mode": {
    "name": "ipython",
    "version": 2
   },
   "file_extension": ".py",
   "mimetype": "text/x-python",
   "name": "python",
   "nbconvert_exporter": "python",
   "pygments_lexer": "ipython2",
   "version": "2.7.6"
  }
 },
 "nbformat": 4,
 "nbformat_minor": 0
}