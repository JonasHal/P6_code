{
 "cells": [
  {
   "cell_type": "code",
   "execution_count": 1,
   "metadata": {
    "collapsed": true,
    "pycharm": {
     "name": "#%%\n"
    }
   },
   "outputs": [],
   "source": [
    "import pandas as pd\n",
    "from P6_code.FinishedCode.importData import ImportEV\n",
    "from P6_code.FinishedCode.dataTransformation import createUsers\n",
    "import plotly.graph_objects as go"
   ]
  },
  {
   "cell_type": "code",
   "execution_count": 43,
   "outputs": [
    {
     "data": {
      "text/plain": "      clusterID            connectionTime            disconnectTime  \\\n222        0039 2018-04-30 08:07:49+00:00 2018-04-30 17:27:55+00:00   \n583        0039 2018-05-07 07:38:18+00:00 2018-05-07 18:15:01+00:00   \n845        0039 2018-05-11 08:17:01+00:00 2018-05-11 17:18:43+00:00   \n958        0039 2018-05-14 06:50:26+00:00 2018-05-14 16:09:45+00:00   \n1006       0039 2018-05-14 17:06:39+00:00 2018-05-14 18:13:58+00:00   \n...         ...                       ...                       ...   \n66740      0102 2021-09-09 14:11:44+00:00 2021-09-09 20:47:58+00:00   \n66741      0102 2021-09-10 08:33:08+00:00 2021-09-10 16:53:29+00:00   \n66742      0102 2021-09-10 14:12:26+00:00 2021-09-10 21:25:47+00:00   \n66743      0102 2021-09-13 10:35:32+00:00 2021-09-13 17:26:25+00:00   \n66744      0102 2021-09-13 14:21:51+00:00 2021-09-13 20:55:04+00:00   \n\n               doneChargingTime  kWhDelivered siteID spaceID        stationID  \\\n222   2018-04-30 17:27:51+00:00        47.808   0002  CA-314       2-39-88-24   \n583   2018-05-07 18:14:53+00:00        27.683   0002  CA-303      2-39-139-28   \n845   2018-05-11 16:05:56+00:00        17.485   0002  CA-314       2-39-88-24   \n958   2018-05-14 13:43:40+00:00        11.795   0002  CA-489      2-39-79-380   \n1006  2018-05-14 17:39:01+00:00         3.076   0002  CA-303      2-39-139-28   \n...                         ...           ...    ...     ...              ...   \n66740 2021-09-09 20:47:33+00:00        19.342   0019      08  19-102-260-1640   \n66741 2021-09-10 15:49:37+00:00        33.186   0019      03  19-102-260-1634   \n66742 2021-09-10 21:25:34+00:00        19.894   0019      08  19-102-260-1640   \n66743 2021-09-13 17:26:05+00:00        26.688   0019      03  19-102-260-1634   \n66744 2021-09-13 20:54:48+00:00        18.019   0019      08  19-102-260-1640   \n\n          userID                                         userInputs  \n222    000000022  [{'WhPerMile': 350, 'kWhRequested': 59.5, 'mil...  \n583    000000061  [{'WhPerMile': 400, 'kWhRequested': 8.0, 'mile...  \n845    000000022  [{'WhPerMile': 350, 'kWhRequested': 17.5, 'mil...  \n958    000000066  [{'WhPerMile': 400, 'kWhRequested': 8.0, 'mile...  \n1006   000000061  [{'WhPerMile': 250, 'kWhRequested': 5.0, 'mile...  \n...          ...                                                ...  \n66740  000006140  [{'WhPerMile': 258, 'kWhRequested': 72.24, 'mi...  \n66741  000006620  [{'WhPerMile': 1428, 'kWhRequested': 114.24, '...  \n66742  000006140  [{'WhPerMile': 258, 'kWhRequested': 72.24, 'mi...  \n66743  000006620  [{'WhPerMile': 1428, 'kWhRequested': 114.24, '...  \n66744  000006140  [{'WhPerMile': 258, 'kWhRequested': 72.24, 'mi...  \n\n[48432 rows x 10 columns]",
      "text/html": "<div>\n<style scoped>\n    .dataframe tbody tr th:only-of-type {\n        vertical-align: middle;\n    }\n\n    .dataframe tbody tr th {\n        vertical-align: top;\n    }\n\n    .dataframe thead th {\n        text-align: right;\n    }\n</style>\n<table border=\"1\" class=\"dataframe\">\n  <thead>\n    <tr style=\"text-align: right;\">\n      <th></th>\n      <th>clusterID</th>\n      <th>connectionTime</th>\n      <th>disconnectTime</th>\n      <th>doneChargingTime</th>\n      <th>kWhDelivered</th>\n      <th>siteID</th>\n      <th>spaceID</th>\n      <th>stationID</th>\n      <th>userID</th>\n      <th>userInputs</th>\n    </tr>\n  </thead>\n  <tbody>\n    <tr>\n      <th>222</th>\n      <td>0039</td>\n      <td>2018-04-30 08:07:49+00:00</td>\n      <td>2018-04-30 17:27:55+00:00</td>\n      <td>2018-04-30 17:27:51+00:00</td>\n      <td>47.808</td>\n      <td>0002</td>\n      <td>CA-314</td>\n      <td>2-39-88-24</td>\n      <td>000000022</td>\n      <td>[{'WhPerMile': 350, 'kWhRequested': 59.5, 'mil...</td>\n    </tr>\n    <tr>\n      <th>583</th>\n      <td>0039</td>\n      <td>2018-05-07 07:38:18+00:00</td>\n      <td>2018-05-07 18:15:01+00:00</td>\n      <td>2018-05-07 18:14:53+00:00</td>\n      <td>27.683</td>\n      <td>0002</td>\n      <td>CA-303</td>\n      <td>2-39-139-28</td>\n      <td>000000061</td>\n      <td>[{'WhPerMile': 400, 'kWhRequested': 8.0, 'mile...</td>\n    </tr>\n    <tr>\n      <th>845</th>\n      <td>0039</td>\n      <td>2018-05-11 08:17:01+00:00</td>\n      <td>2018-05-11 17:18:43+00:00</td>\n      <td>2018-05-11 16:05:56+00:00</td>\n      <td>17.485</td>\n      <td>0002</td>\n      <td>CA-314</td>\n      <td>2-39-88-24</td>\n      <td>000000022</td>\n      <td>[{'WhPerMile': 350, 'kWhRequested': 17.5, 'mil...</td>\n    </tr>\n    <tr>\n      <th>958</th>\n      <td>0039</td>\n      <td>2018-05-14 06:50:26+00:00</td>\n      <td>2018-05-14 16:09:45+00:00</td>\n      <td>2018-05-14 13:43:40+00:00</td>\n      <td>11.795</td>\n      <td>0002</td>\n      <td>CA-489</td>\n      <td>2-39-79-380</td>\n      <td>000000066</td>\n      <td>[{'WhPerMile': 400, 'kWhRequested': 8.0, 'mile...</td>\n    </tr>\n    <tr>\n      <th>1006</th>\n      <td>0039</td>\n      <td>2018-05-14 17:06:39+00:00</td>\n      <td>2018-05-14 18:13:58+00:00</td>\n      <td>2018-05-14 17:39:01+00:00</td>\n      <td>3.076</td>\n      <td>0002</td>\n      <td>CA-303</td>\n      <td>2-39-139-28</td>\n      <td>000000061</td>\n      <td>[{'WhPerMile': 250, 'kWhRequested': 5.0, 'mile...</td>\n    </tr>\n    <tr>\n      <th>...</th>\n      <td>...</td>\n      <td>...</td>\n      <td>...</td>\n      <td>...</td>\n      <td>...</td>\n      <td>...</td>\n      <td>...</td>\n      <td>...</td>\n      <td>...</td>\n      <td>...</td>\n    </tr>\n    <tr>\n      <th>66740</th>\n      <td>0102</td>\n      <td>2021-09-09 14:11:44+00:00</td>\n      <td>2021-09-09 20:47:58+00:00</td>\n      <td>2021-09-09 20:47:33+00:00</td>\n      <td>19.342</td>\n      <td>0019</td>\n      <td>08</td>\n      <td>19-102-260-1640</td>\n      <td>000006140</td>\n      <td>[{'WhPerMile': 258, 'kWhRequested': 72.24, 'mi...</td>\n    </tr>\n    <tr>\n      <th>66741</th>\n      <td>0102</td>\n      <td>2021-09-10 08:33:08+00:00</td>\n      <td>2021-09-10 16:53:29+00:00</td>\n      <td>2021-09-10 15:49:37+00:00</td>\n      <td>33.186</td>\n      <td>0019</td>\n      <td>03</td>\n      <td>19-102-260-1634</td>\n      <td>000006620</td>\n      <td>[{'WhPerMile': 1428, 'kWhRequested': 114.24, '...</td>\n    </tr>\n    <tr>\n      <th>66742</th>\n      <td>0102</td>\n      <td>2021-09-10 14:12:26+00:00</td>\n      <td>2021-09-10 21:25:47+00:00</td>\n      <td>2021-09-10 21:25:34+00:00</td>\n      <td>19.894</td>\n      <td>0019</td>\n      <td>08</td>\n      <td>19-102-260-1640</td>\n      <td>000006140</td>\n      <td>[{'WhPerMile': 258, 'kWhRequested': 72.24, 'mi...</td>\n    </tr>\n    <tr>\n      <th>66743</th>\n      <td>0102</td>\n      <td>2021-09-13 10:35:32+00:00</td>\n      <td>2021-09-13 17:26:25+00:00</td>\n      <td>2021-09-13 17:26:05+00:00</td>\n      <td>26.688</td>\n      <td>0019</td>\n      <td>03</td>\n      <td>19-102-260-1634</td>\n      <td>000006620</td>\n      <td>[{'WhPerMile': 1428, 'kWhRequested': 114.24, '...</td>\n    </tr>\n    <tr>\n      <th>66744</th>\n      <td>0102</td>\n      <td>2021-09-13 14:21:51+00:00</td>\n      <td>2021-09-13 20:55:04+00:00</td>\n      <td>2021-09-13 20:54:48+00:00</td>\n      <td>18.019</td>\n      <td>0019</td>\n      <td>08</td>\n      <td>19-102-260-1640</td>\n      <td>000006140</td>\n      <td>[{'WhPerMile': 258, 'kWhRequested': 72.24, 'mi...</td>\n    </tr>\n  </tbody>\n</table>\n<p>48432 rows × 10 columns</p>\n</div>"
     },
     "execution_count": 43,
     "metadata": {},
     "output_type": "execute_result"
    }
   ],
   "source": [
    "start, end = '2000-01-01', '2022-12-31'\n",
    "\n",
    "ev_data_caltech = ImportEV().getCaltech(start_date=start, end_date=end, removeUsers=False, userSampleLimit=25)\n",
    "Users_caltech = createUsers(ev_data_caltech, start, end).data\n",
    "ev_data_jpl = ImportEV().getJPL(start_date=start, end_date=end, removeUsers=False, userSampleLimit=25)\n",
    "Users_jpl = createUsers(ev_data_jpl, start, end).data\n",
    "ev_data_office = ImportEV().getOffice(start_date=start, end_date=end, removeUsers=False, userSampleLimit=25)\n",
    "Users_office = createUsers(ev_data_office, start, end).data\n",
    "\n",
    "all_users = pd.concat([ev_data_caltech, ev_data_jpl, ev_data_office], ignore_index=True)\n",
    "all_users.dropna(subset=['userID'], inplace=True)\n",
    "all_users.drop(['_id', 'sessionID', 'timezone'], axis='columns', inplace=True)\n",
    "all_users"
   ],
   "metadata": {
    "collapsed": false,
    "pycharm": {
     "name": "#%%\n"
    }
   }
  },
  {
   "cell_type": "code",
   "execution_count": 23,
   "outputs": [
    {
     "name": "stdout",
     "output_type": "stream",
     "text": [
      "userID                            000003987\n",
      "siteID                                 0002\n",
      "connectionTime    2021-07-18 10:34:30+00:00\n",
      "disconnectTime    2021-07-18 12:12:38+00:00\n",
      "Name: 30316, dtype: object\n",
      "userID                            000003987\n",
      "siteID                                 0001\n",
      "connectionTime    2021-07-16 10:52:18+00:00\n",
      "disconnectTime    2021-07-19 13:41:13+00:00\n",
      "Name: 63492, dtype: object\n",
      "\n",
      "\n",
      "userID                            000001236\n",
      "siteID                                 0001\n",
      "connectionTime    2020-12-16 13:52:32+00:00\n",
      "disconnectTime    2020-12-16 14:52:07+00:00\n",
      "Name: 59076, dtype: object\n",
      "userID                            000001236\n",
      "siteID                                 0001\n",
      "connectionTime    2020-12-16 14:34:39+00:00\n",
      "disconnectTime    2020-12-16 16:23:33+00:00\n",
      "Name: 59078, dtype: object\n",
      "\n",
      "\n",
      "userID                            000001236\n",
      "siteID                                 0001\n",
      "connectionTime    2020-12-16 14:34:39+00:00\n",
      "disconnectTime    2020-12-16 16:23:33+00:00\n",
      "Name: 59078, dtype: object\n",
      "userID                            000001236\n",
      "siteID                                 0001\n",
      "connectionTime    2020-12-16 13:52:32+00:00\n",
      "disconnectTime    2020-12-16 14:52:07+00:00\n",
      "Name: 59076, dtype: object\n",
      "\n",
      "\n",
      "userID                            000003987\n",
      "siteID                                 0001\n",
      "connectionTime    2021-07-16 10:52:18+00:00\n",
      "disconnectTime    2021-07-19 13:41:13+00:00\n",
      "Name: 63492, dtype: object\n",
      "userID                            000003987\n",
      "siteID                                 0002\n",
      "connectionTime    2021-07-18 10:34:30+00:00\n",
      "disconnectTime    2021-07-18 12:12:38+00:00\n",
      "Name: 30316, dtype: object\n",
      "\n",
      "\n",
      "userID                            000000169\n",
      "siteID                                 0001\n",
      "connectionTime    2021-07-21 08:17:47+00:00\n",
      "disconnectTime    2021-07-22 07:36:24+00:00\n",
      "Name: 63540, dtype: object\n",
      "userID                            000000169\n",
      "siteID                                 0001\n",
      "connectionTime    2021-07-21 08:27:24+00:00\n",
      "disconnectTime    2021-07-22 07:35:54+00:00\n",
      "Name: 63550, dtype: object\n",
      "\n",
      "\n",
      "userID                            000000169\n",
      "siteID                                 0001\n",
      "connectionTime    2021-07-21 08:27:24+00:00\n",
      "disconnectTime    2021-07-22 07:35:54+00:00\n",
      "Name: 63550, dtype: object\n",
      "userID                            000000169\n",
      "siteID                                 0001\n",
      "connectionTime    2021-07-21 08:17:47+00:00\n",
      "disconnectTime    2021-07-22 07:36:24+00:00\n",
      "Name: 63540, dtype: object\n",
      "\n",
      "\n",
      "userID                            000000419\n",
      "siteID                                 0001\n",
      "connectionTime    2021-07-21 09:22:11+00:00\n",
      "disconnectTime    2021-07-22 07:35:55+00:00\n",
      "Name: 63564, dtype: object\n",
      "userID                            000000419\n",
      "siteID                                 0001\n",
      "connectionTime    2021-07-21 09:25:07+00:00\n",
      "disconnectTime    2021-07-22 07:35:56+00:00\n",
      "Name: 63566, dtype: object\n",
      "\n",
      "\n",
      "userID                            000000419\n",
      "siteID                                 0001\n",
      "connectionTime    2021-07-21 09:25:07+00:00\n",
      "disconnectTime    2021-07-22 07:35:56+00:00\n",
      "Name: 63566, dtype: object\n",
      "userID                            000000419\n",
      "siteID                                 0001\n",
      "connectionTime    2021-07-21 09:22:11+00:00\n",
      "disconnectTime    2021-07-22 07:35:55+00:00\n",
      "Name: 63564, dtype: object\n",
      "\n",
      "\n"
     ]
    }
   ],
   "source": [
    "overlapping_users_charging_sessions = all_users[(all_users['userID'].isin(Users_caltech['userID'])) & (all_users['userID'].isin(Users_jpl['userID']))][['userID', 'siteID', 'spaceID', 'connectionTime', 'disconnectTime']]\n",
    "\n",
    "#Tjek om et tidspunkt er i to intervaller\n",
    "for i in overlapping_users_charging_sessions.index:\n",
    "    for j in overlapping_users_charging_sessions.index:\n",
    "        if i!=j:\n",
    "            if overlapping_users_charging_sessions['userID'][i] == overlapping_users_charging_sessions['userID'][j]:\n",
    "                if overlapping_users_charging_sessions['disconnectTime'][i] >= overlapping_users_charging_sessions['connectionTime'][j]:\n",
    "                    if overlapping_users_charging_sessions['disconnectTime'][j] > overlapping_users_charging_sessions['connectionTime'][i]:\n",
    "                        print(overlapping_users_charging_sessions.loc[i,])\n",
    "                        print(overlapping_users_charging_sessions.loc[j,])\n",
    "                        print('\\n')"
   ],
   "metadata": {
    "collapsed": false,
    "pycharm": {
     "name": "#%%\n"
    }
   }
  },
  {
   "cell_type": "markdown",
   "source": [
    "JPL er site 0001 og Caltech er site 0002"
   ],
   "metadata": {
    "collapsed": false,
    "pycharm": {
     "name": "#%% md\n"
    }
   }
  },
  {
   "cell_type": "markdown",
   "source": [
    "Tjek om brugere er både i Caltech og JPL:"
   ],
   "metadata": {
    "collapsed": false,
    "pycharm": {
     "name": "#%% md\n"
    }
   }
  },
  {
   "cell_type": "code",
   "execution_count": 5,
   "outputs": [
    {
     "data": {
      "text/plain": "array(['000000076', '000000176', '000000340', '000000364', '000000342',\n       '000000484', '000000171', '000000396', '000001039', '000000190',\n       '000000832', '000000431', '000001011', '000000365', '000000362',\n       '000000724', '000000336', '000000448', '000000423', '000001346',\n       '000000433', '000001236', '000000420', '000000438', '000000313',\n       '000001626', '000000630', '000001564', '000000376', '000001754',\n       '000000444', '000000428', '000000372', '000001864', '000001525',\n       '000000347', '000001025', '000000533', '000002183', '000000440',\n       '000000828', '000000999', '000001797', '000000350', '000000369',\n       '000001055', '000002213', '000000400', '000003176', '000002678',\n       '000003222', '000001397', '000002507', '000000525', '000001725',\n       '000003271', '000000379', '000003711', '000003233', '000000335',\n       '000001162', '000000183', '000000419', '000000358', '000001302',\n       '000003556', '000000346', '000000394', '000000393', '000000459',\n       '000000315', '000003038', '000004861', '000001471', '000001297',\n       '000000537', '000002014', '000002822', '000000363', '000000169',\n       '000002177', '000006156', '000003987', '000015756', '000002643',\n       '000015980', '000011472'], dtype=object)"
     },
     "execution_count": 5,
     "metadata": {},
     "output_type": "execute_result"
    }
   ],
   "source": [
    "Users_caltech['userID'][Users_caltech['userID'].isin(Users_jpl['userID']) & (Users_caltech['userID'].notna())].unique()"
   ],
   "metadata": {
    "collapsed": false,
    "pycharm": {
     "name": "#%%\n"
    }
   }
  },
  {
   "cell_type": "code",
   "execution_count": 64,
   "outputs": [
    {
     "data": {
      "text/plain": "87"
     },
     "execution_count": 64,
     "metadata": {},
     "output_type": "execute_result"
    }
   ],
   "source": [
    "len(Users_caltech['userID'][Users_caltech['userID'].isin(Users_jpl['userID']) & (Users_caltech['userID'].notna())].unique())"
   ],
   "metadata": {
    "collapsed": false,
    "pycharm": {
     "name": "#%%\n"
    }
   }
  },
  {
   "cell_type": "markdown",
   "source": [
    "Caltech og Office1:"
   ],
   "metadata": {
    "collapsed": false,
    "pycharm": {
     "name": "#%% md\n"
    }
   }
  },
  {
   "cell_type": "code",
   "execution_count": 7,
   "outputs": [
    {
     "data": {
      "text/plain": "Empty DataFrame\nColumns: [_id, clusterID, connectionTime, disconnectTime, doneChargingTime, kWhDelivered, sessionID, siteID, spaceID, stationID, timezone, userID, userInputs]\nIndex: []",
      "text/html": "<div>\n<style scoped>\n    .dataframe tbody tr th:only-of-type {\n        vertical-align: middle;\n    }\n\n    .dataframe tbody tr th {\n        vertical-align: top;\n    }\n\n    .dataframe thead th {\n        text-align: right;\n    }\n</style>\n<table border=\"1\" class=\"dataframe\">\n  <thead>\n    <tr style=\"text-align: right;\">\n      <th></th>\n      <th>_id</th>\n      <th>clusterID</th>\n      <th>connectionTime</th>\n      <th>disconnectTime</th>\n      <th>doneChargingTime</th>\n      <th>kWhDelivered</th>\n      <th>sessionID</th>\n      <th>siteID</th>\n      <th>spaceID</th>\n      <th>stationID</th>\n      <th>timezone</th>\n      <th>userID</th>\n      <th>userInputs</th>\n    </tr>\n  </thead>\n  <tbody>\n  </tbody>\n</table>\n</div>"
     },
     "execution_count": 7,
     "metadata": {},
     "output_type": "execute_result"
    }
   ],
   "source": [
    "Users_caltech[Users_caltech['userID'].isin(Users_office['userID']) & (Users_caltech['userID'].notna())]"
   ],
   "metadata": {
    "collapsed": false,
    "pycharm": {
     "name": "#%%\n"
    }
   }
  },
  {
   "cell_type": "markdown",
   "source": [
    "JPL og Office1:"
   ],
   "metadata": {
    "collapsed": false,
    "pycharm": {
     "name": "#%% md\n"
    }
   }
  },
  {
   "cell_type": "code",
   "execution_count": 8,
   "outputs": [
    {
     "data": {
      "text/plain": "Empty DataFrame\nColumns: [_id, clusterID, connectionTime, disconnectTime, doneChargingTime, kWhDelivered, sessionID, siteID, spaceID, stationID, timezone, userID, userInputs]\nIndex: []",
      "text/html": "<div>\n<style scoped>\n    .dataframe tbody tr th:only-of-type {\n        vertical-align: middle;\n    }\n\n    .dataframe tbody tr th {\n        vertical-align: top;\n    }\n\n    .dataframe thead th {\n        text-align: right;\n    }\n</style>\n<table border=\"1\" class=\"dataframe\">\n  <thead>\n    <tr style=\"text-align: right;\">\n      <th></th>\n      <th>_id</th>\n      <th>clusterID</th>\n      <th>connectionTime</th>\n      <th>disconnectTime</th>\n      <th>doneChargingTime</th>\n      <th>kWhDelivered</th>\n      <th>sessionID</th>\n      <th>siteID</th>\n      <th>spaceID</th>\n      <th>stationID</th>\n      <th>timezone</th>\n      <th>userID</th>\n      <th>userInputs</th>\n    </tr>\n  </thead>\n  <tbody>\n  </tbody>\n</table>\n</div>"
     },
     "execution_count": 8,
     "metadata": {},
     "output_type": "execute_result"
    }
   ],
   "source": [
    "Users_jpl[Users_jpl['userID'].isin(Users_office['userID']) & (Users_jpl['userID'].notna())]"
   ],
   "metadata": {
    "collapsed": false,
    "pycharm": {
     "name": "#%%\n"
    }
   }
  },
  {
   "cell_type": "markdown",
   "source": [
    "Vi ser, at der kun er gengangere mellem JPL og Caltech og fokuserer derfor på disse:"
   ],
   "metadata": {
    "collapsed": false,
    "pycharm": {
     "name": "#%% md\n"
    }
   }
  },
  {
   "cell_type": "code",
   "execution_count": 62,
   "outputs": [
    {
     "data": {
      "text/plain": "      clusterID            connectionTime            disconnectTime  \\\n30316      0039 2021-07-18 10:34:30+00:00 2021-07-18 12:12:38+00:00   \n63492      0001 2021-07-16 10:52:18+00:00 2021-07-19 13:41:13+00:00   \n59076      0001 2020-12-16 13:52:32+00:00 2020-12-16 14:52:07+00:00   \n59078      0001 2020-12-16 14:34:39+00:00 2020-12-16 16:23:33+00:00   \n63540      0001 2021-07-21 08:17:47+00:00 2021-07-22 07:36:24+00:00   \n63550      0001 2021-07-21 08:27:24+00:00 2021-07-22 07:35:54+00:00   \n63564      0001 2021-07-21 09:22:11+00:00 2021-07-22 07:35:55+00:00   \n63566      0001 2021-07-21 09:25:07+00:00 2021-07-22 07:35:56+00:00   \n\n               doneChargingTime  kWhDelivered siteID  spaceID    stationID  \\\n30316 2021-07-18 11:44:42+00:00      7.971000   0002   CA-304  2-39-138-29   \n63492 2021-07-19 13:41:07+00:00      8.180000   0001  AG-3F23  1-1-179-797   \n59076 2020-12-16 14:31:26+00:00      1.760849   0001  AG-4F43  1-1-191-778   \n59078 2020-12-16 16:23:16+00:00      5.123000   0001  AG-4F47  1-1-191-807   \n63540 2021-07-21 09:18:15+00:00      8.047000   0001  AG-1F02  1-1-193-827   \n63550 2021-07-21 09:15:08+00:00      1.575000   0001  AG-1F04  1-1-193-820   \n63564 2021-07-21 09:51:15+00:00      1.506000   0001  AG-3F24  1-1-179-796   \n63566 2021-07-21 09:51:14+00:00      2.563000   0001  AG-3F26  1-1-179-791   \n\n          userID                                         userInputs  \n30316  000003987  [{'WhPerMile': 250, 'kWhRequested': 30.0, 'mil...  \n63492  000003987  [{'WhPerMile': 250, 'kWhRequested': 30.0, 'mil...  \n59076  000001236  [{'WhPerMile': 350, 'kWhRequested': 14.0, 'mil...  \n59078  000001236  [{'WhPerMile': 350, 'kWhRequested': 14.0, 'mil...  \n63540  000000169  [{'WhPerMile': 360, 'kWhRequested': 14.4, 'mil...  \n63550  000000169  [{'WhPerMile': 360, 'kWhRequested': 14.4, 'mil...  \n63564  000000419  [{'WhPerMile': 299, 'kWhRequested': 23.92, 'mi...  \n63566  000000419  [{'WhPerMile': 299, 'kWhRequested': 23.92, 'mi...  ",
      "text/html": "<div>\n<style scoped>\n    .dataframe tbody tr th:only-of-type {\n        vertical-align: middle;\n    }\n\n    .dataframe tbody tr th {\n        vertical-align: top;\n    }\n\n    .dataframe thead th {\n        text-align: right;\n    }\n</style>\n<table border=\"1\" class=\"dataframe\">\n  <thead>\n    <tr style=\"text-align: right;\">\n      <th></th>\n      <th>clusterID</th>\n      <th>connectionTime</th>\n      <th>disconnectTime</th>\n      <th>doneChargingTime</th>\n      <th>kWhDelivered</th>\n      <th>siteID</th>\n      <th>spaceID</th>\n      <th>stationID</th>\n      <th>userID</th>\n      <th>userInputs</th>\n    </tr>\n  </thead>\n  <tbody>\n    <tr>\n      <th>30316</th>\n      <td>0039</td>\n      <td>2021-07-18 10:34:30+00:00</td>\n      <td>2021-07-18 12:12:38+00:00</td>\n      <td>2021-07-18 11:44:42+00:00</td>\n      <td>7.971000</td>\n      <td>0002</td>\n      <td>CA-304</td>\n      <td>2-39-138-29</td>\n      <td>000003987</td>\n      <td>[{'WhPerMile': 250, 'kWhRequested': 30.0, 'mil...</td>\n    </tr>\n    <tr>\n      <th>63492</th>\n      <td>0001</td>\n      <td>2021-07-16 10:52:18+00:00</td>\n      <td>2021-07-19 13:41:13+00:00</td>\n      <td>2021-07-19 13:41:07+00:00</td>\n      <td>8.180000</td>\n      <td>0001</td>\n      <td>AG-3F23</td>\n      <td>1-1-179-797</td>\n      <td>000003987</td>\n      <td>[{'WhPerMile': 250, 'kWhRequested': 30.0, 'mil...</td>\n    </tr>\n    <tr>\n      <th>59076</th>\n      <td>0001</td>\n      <td>2020-12-16 13:52:32+00:00</td>\n      <td>2020-12-16 14:52:07+00:00</td>\n      <td>2020-12-16 14:31:26+00:00</td>\n      <td>1.760849</td>\n      <td>0001</td>\n      <td>AG-4F43</td>\n      <td>1-1-191-778</td>\n      <td>000001236</td>\n      <td>[{'WhPerMile': 350, 'kWhRequested': 14.0, 'mil...</td>\n    </tr>\n    <tr>\n      <th>59078</th>\n      <td>0001</td>\n      <td>2020-12-16 14:34:39+00:00</td>\n      <td>2020-12-16 16:23:33+00:00</td>\n      <td>2020-12-16 16:23:16+00:00</td>\n      <td>5.123000</td>\n      <td>0001</td>\n      <td>AG-4F47</td>\n      <td>1-1-191-807</td>\n      <td>000001236</td>\n      <td>[{'WhPerMile': 350, 'kWhRequested': 14.0, 'mil...</td>\n    </tr>\n    <tr>\n      <th>63540</th>\n      <td>0001</td>\n      <td>2021-07-21 08:17:47+00:00</td>\n      <td>2021-07-22 07:36:24+00:00</td>\n      <td>2021-07-21 09:18:15+00:00</td>\n      <td>8.047000</td>\n      <td>0001</td>\n      <td>AG-1F02</td>\n      <td>1-1-193-827</td>\n      <td>000000169</td>\n      <td>[{'WhPerMile': 360, 'kWhRequested': 14.4, 'mil...</td>\n    </tr>\n    <tr>\n      <th>63550</th>\n      <td>0001</td>\n      <td>2021-07-21 08:27:24+00:00</td>\n      <td>2021-07-22 07:35:54+00:00</td>\n      <td>2021-07-21 09:15:08+00:00</td>\n      <td>1.575000</td>\n      <td>0001</td>\n      <td>AG-1F04</td>\n      <td>1-1-193-820</td>\n      <td>000000169</td>\n      <td>[{'WhPerMile': 360, 'kWhRequested': 14.4, 'mil...</td>\n    </tr>\n    <tr>\n      <th>63564</th>\n      <td>0001</td>\n      <td>2021-07-21 09:22:11+00:00</td>\n      <td>2021-07-22 07:35:55+00:00</td>\n      <td>2021-07-21 09:51:15+00:00</td>\n      <td>1.506000</td>\n      <td>0001</td>\n      <td>AG-3F24</td>\n      <td>1-1-179-796</td>\n      <td>000000419</td>\n      <td>[{'WhPerMile': 299, 'kWhRequested': 23.92, 'mi...</td>\n    </tr>\n    <tr>\n      <th>63566</th>\n      <td>0001</td>\n      <td>2021-07-21 09:25:07+00:00</td>\n      <td>2021-07-22 07:35:56+00:00</td>\n      <td>2021-07-21 09:51:14+00:00</td>\n      <td>2.563000</td>\n      <td>0001</td>\n      <td>AG-3F26</td>\n      <td>1-1-179-791</td>\n      <td>000000419</td>\n      <td>[{'WhPerMile': 299, 'kWhRequested': 23.92, 'mi...</td>\n    </tr>\n  </tbody>\n</table>\n</div>"
     },
     "execution_count": 62,
     "metadata": {},
     "output_type": "execute_result"
    }
   ],
   "source": [
    "all_users.loc[[30316, 63492, 59076, 59078, 63540, 63550, 63564, 63566], ]"
   ],
   "metadata": {
    "collapsed": false,
    "pycharm": {
     "name": "#%%\n"
    }
   }
  },
  {
   "cell_type": "code",
   "execution_count": 63,
   "outputs": [
    {
     "name": "stdout",
     "output_type": "stream",
     "text": [
      "{'WhPerMile': 250, 'kWhRequested': 30.0, 'milesRequested': 120, 'minutesAvailable': 346, 'modifiedAt': 'Sun, 18 Jul 2021 17:34:30 GMT', 'paymentRequired': True, 'requestedDeparture': 'Sun, 18 Jul 2021 23:20:30 GMT', 'userID': 3987}\n",
      "{'WhPerMile': 250, 'kWhRequested': 30.0, 'milesRequested': 120, 'minutesAvailable': 346, 'modifiedAt': 'Fri, 16 Jul 2021 17:52:18 GMT', 'paymentRequired': True, 'requestedDeparture': 'Fri, 16 Jul 2021 23:38:18 GMT', 'userID': 3987}\n",
      "{'WhPerMile': 350, 'kWhRequested': 14.0, 'milesRequested': 40, 'minutesAvailable': 480, 'modifiedAt': 'Wed, 16 Dec 2020 20:52:31 GMT', 'paymentRequired': True, 'requestedDeparture': 'Thu, 17 Dec 2020 04:52:32 GMT', 'userID': 1236}\n",
      "{'WhPerMile': 350, 'kWhRequested': 14.0, 'milesRequested': 40, 'minutesAvailable': 480, 'modifiedAt': 'Wed, 16 Dec 2020 21:35:51 GMT', 'paymentRequired': True, 'requestedDeparture': 'Thu, 17 Dec 2020 05:34:39 GMT', 'userID': 1236}\n",
      "{'WhPerMile': 360, 'kWhRequested': 14.4, 'milesRequested': 40, 'minutesAvailable': 480, 'modifiedAt': 'Wed, 21 Jul 2021 15:17:46 GMT', 'paymentRequired': True, 'requestedDeparture': 'Wed, 21 Jul 2021 23:17:47 GMT', 'userID': 169}\n",
      "{'WhPerMile': 360, 'kWhRequested': 14.4, 'milesRequested': 40, 'minutesAvailable': 480, 'modifiedAt': 'Thu, 22 Jul 2021 12:22:32 GMT', 'paymentRequired': True, 'requestedDeparture': 'Wed, 21 Jul 2021 23:27:24 GMT', 'userID': 169}\n",
      "{'WhPerMile': 299, 'kWhRequested': 23.92, 'milesRequested': 80, 'minutesAvailable': 360, 'modifiedAt': 'Thu, 22 Jul 2021 13:23:46 GMT', 'paymentRequired': True, 'requestedDeparture': 'Wed, 21 Jul 2021 22:22:11 GMT', 'userID': 419}\n",
      "{'WhPerMile': 299, 'kWhRequested': 23.92, 'milesRequested': 80, 'minutesAvailable': 360, 'modifiedAt': 'Wed, 21 Jul 2021 16:25:06 GMT', 'paymentRequired': True, 'requestedDeparture': 'Wed, 21 Jul 2021 22:25:07 GMT', 'userID': 419}\n"
     ]
    }
   ],
   "source": [
    "for i in [30316, 63492, 59076, 59078, 63540, 63550, 63564, 63566]:\n",
    "    print(all_users.loc[i, 'userInputs'][0])"
   ],
   "metadata": {
    "collapsed": false,
    "pycharm": {
     "name": "#%%\n"
    }
   }
  }
 ],
 "metadata": {
  "kernelspec": {
   "display_name": "Python 3",
   "language": "python",
   "name": "python3"
  },
  "language_info": {
   "codemirror_mode": {
    "name": "ipython",
    "version": 2
   },
   "file_extension": ".py",
   "mimetype": "text/x-python",
   "name": "python",
   "nbconvert_exporter": "python",
   "pygments_lexer": "ipython2",
   "version": "2.7.6"
  }
 },
 "nbformat": 4,
 "nbformat_minor": 0
}