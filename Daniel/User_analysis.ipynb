{
 "cells": [
  {
   "cell_type": "code",
   "execution_count": 27,
   "metadata": {
    "collapsed": true,
    "pycharm": {
     "name": "#%%\n"
    }
   },
   "outputs": [],
   "source": [
    "import pandas as pd\n",
    "from P6_code.FinishedCode.importData import ImportEV\n",
    "from P6_code.FinishedCode.dataTransformation import createUsers\n",
    "import plotly.graph_objects as go"
   ]
  },
  {
   "cell_type": "code",
   "execution_count": 28,
   "outputs": [
    {
     "data": {
      "text/plain": "      clusterID            connectionTime            disconnectTime  \\\n222        0039 2018-04-30 08:07:49+00:00 2018-04-30 17:27:55+00:00   \n583        0039 2018-05-07 07:38:18+00:00 2018-05-07 18:15:01+00:00   \n845        0039 2018-05-11 08:17:01+00:00 2018-05-11 17:18:43+00:00   \n958        0039 2018-05-14 06:50:26+00:00 2018-05-14 16:09:45+00:00   \n1006       0039 2018-05-14 17:06:39+00:00 2018-05-14 18:13:58+00:00   \n...         ...                       ...                       ...   \n66740      0102 2021-09-09 14:11:44+00:00 2021-09-09 20:47:58+00:00   \n66741      0102 2021-09-10 08:33:08+00:00 2021-09-10 16:53:29+00:00   \n66742      0102 2021-09-10 14:12:26+00:00 2021-09-10 21:25:47+00:00   \n66743      0102 2021-09-13 10:35:32+00:00 2021-09-13 17:26:25+00:00   \n66744      0102 2021-09-13 14:21:51+00:00 2021-09-13 20:55:04+00:00   \n\n               doneChargingTime  kWhDelivered siteID spaceID        stationID  \\\n222   2018-04-30 17:27:51+00:00        47.808   0002  CA-314       2-39-88-24   \n583   2018-05-07 18:14:53+00:00        27.683   0002  CA-303      2-39-139-28   \n845   2018-05-11 16:05:56+00:00        17.485   0002  CA-314       2-39-88-24   \n958   2018-05-14 13:43:40+00:00        11.795   0002  CA-489      2-39-79-380   \n1006  2018-05-14 17:39:01+00:00         3.076   0002  CA-303      2-39-139-28   \n...                         ...           ...    ...     ...              ...   \n66740 2021-09-09 20:47:33+00:00        19.342   0019      08  19-102-260-1640   \n66741 2021-09-10 15:49:37+00:00        33.186   0019      03  19-102-260-1634   \n66742 2021-09-10 21:25:34+00:00        19.894   0019      08  19-102-260-1640   \n66743 2021-09-13 17:26:05+00:00        26.688   0019      03  19-102-260-1634   \n66744 2021-09-13 20:54:48+00:00        18.019   0019      08  19-102-260-1640   \n\n          userID                                         userInputs  \n222    000000022  [{'WhPerMile': 350, 'kWhRequested': 59.5, 'mil...  \n583    000000061  [{'WhPerMile': 400, 'kWhRequested': 8.0, 'mile...  \n845    000000022  [{'WhPerMile': 350, 'kWhRequested': 17.5, 'mil...  \n958    000000066  [{'WhPerMile': 400, 'kWhRequested': 8.0, 'mile...  \n1006   000000061  [{'WhPerMile': 250, 'kWhRequested': 5.0, 'mile...  \n...          ...                                                ...  \n66740  000006140  [{'WhPerMile': 258, 'kWhRequested': 72.24, 'mi...  \n66741  000006620  [{'WhPerMile': 1428, 'kWhRequested': 114.24, '...  \n66742  000006140  [{'WhPerMile': 258, 'kWhRequested': 72.24, 'mi...  \n66743  000006620  [{'WhPerMile': 1428, 'kWhRequested': 114.24, '...  \n66744  000006140  [{'WhPerMile': 258, 'kWhRequested': 72.24, 'mi...  \n\n[48432 rows x 10 columns]",
      "text/html": "<div>\n<style scoped>\n    .dataframe tbody tr th:only-of-type {\n        vertical-align: middle;\n    }\n\n    .dataframe tbody tr th {\n        vertical-align: top;\n    }\n\n    .dataframe thead th {\n        text-align: right;\n    }\n</style>\n<table border=\"1\" class=\"dataframe\">\n  <thead>\n    <tr style=\"text-align: right;\">\n      <th></th>\n      <th>clusterID</th>\n      <th>connectionTime</th>\n      <th>disconnectTime</th>\n      <th>doneChargingTime</th>\n      <th>kWhDelivered</th>\n      <th>siteID</th>\n      <th>spaceID</th>\n      <th>stationID</th>\n      <th>userID</th>\n      <th>userInputs</th>\n    </tr>\n  </thead>\n  <tbody>\n    <tr>\n      <th>222</th>\n      <td>0039</td>\n      <td>2018-04-30 08:07:49+00:00</td>\n      <td>2018-04-30 17:27:55+00:00</td>\n      <td>2018-04-30 17:27:51+00:00</td>\n      <td>47.808</td>\n      <td>0002</td>\n      <td>CA-314</td>\n      <td>2-39-88-24</td>\n      <td>000000022</td>\n      <td>[{'WhPerMile': 350, 'kWhRequested': 59.5, 'mil...</td>\n    </tr>\n    <tr>\n      <th>583</th>\n      <td>0039</td>\n      <td>2018-05-07 07:38:18+00:00</td>\n      <td>2018-05-07 18:15:01+00:00</td>\n      <td>2018-05-07 18:14:53+00:00</td>\n      <td>27.683</td>\n      <td>0002</td>\n      <td>CA-303</td>\n      <td>2-39-139-28</td>\n      <td>000000061</td>\n      <td>[{'WhPerMile': 400, 'kWhRequested': 8.0, 'mile...</td>\n    </tr>\n    <tr>\n      <th>845</th>\n      <td>0039</td>\n      <td>2018-05-11 08:17:01+00:00</td>\n      <td>2018-05-11 17:18:43+00:00</td>\n      <td>2018-05-11 16:05:56+00:00</td>\n      <td>17.485</td>\n      <td>0002</td>\n      <td>CA-314</td>\n      <td>2-39-88-24</td>\n      <td>000000022</td>\n      <td>[{'WhPerMile': 350, 'kWhRequested': 17.5, 'mil...</td>\n    </tr>\n    <tr>\n      <th>958</th>\n      <td>0039</td>\n      <td>2018-05-14 06:50:26+00:00</td>\n      <td>2018-05-14 16:09:45+00:00</td>\n      <td>2018-05-14 13:43:40+00:00</td>\n      <td>11.795</td>\n      <td>0002</td>\n      <td>CA-489</td>\n      <td>2-39-79-380</td>\n      <td>000000066</td>\n      <td>[{'WhPerMile': 400, 'kWhRequested': 8.0, 'mile...</td>\n    </tr>\n    <tr>\n      <th>1006</th>\n      <td>0039</td>\n      <td>2018-05-14 17:06:39+00:00</td>\n      <td>2018-05-14 18:13:58+00:00</td>\n      <td>2018-05-14 17:39:01+00:00</td>\n      <td>3.076</td>\n      <td>0002</td>\n      <td>CA-303</td>\n      <td>2-39-139-28</td>\n      <td>000000061</td>\n      <td>[{'WhPerMile': 250, 'kWhRequested': 5.0, 'mile...</td>\n    </tr>\n    <tr>\n      <th>...</th>\n      <td>...</td>\n      <td>...</td>\n      <td>...</td>\n      <td>...</td>\n      <td>...</td>\n      <td>...</td>\n      <td>...</td>\n      <td>...</td>\n      <td>...</td>\n      <td>...</td>\n    </tr>\n    <tr>\n      <th>66740</th>\n      <td>0102</td>\n      <td>2021-09-09 14:11:44+00:00</td>\n      <td>2021-09-09 20:47:58+00:00</td>\n      <td>2021-09-09 20:47:33+00:00</td>\n      <td>19.342</td>\n      <td>0019</td>\n      <td>08</td>\n      <td>19-102-260-1640</td>\n      <td>000006140</td>\n      <td>[{'WhPerMile': 258, 'kWhRequested': 72.24, 'mi...</td>\n    </tr>\n    <tr>\n      <th>66741</th>\n      <td>0102</td>\n      <td>2021-09-10 08:33:08+00:00</td>\n      <td>2021-09-10 16:53:29+00:00</td>\n      <td>2021-09-10 15:49:37+00:00</td>\n      <td>33.186</td>\n      <td>0019</td>\n      <td>03</td>\n      <td>19-102-260-1634</td>\n      <td>000006620</td>\n      <td>[{'WhPerMile': 1428, 'kWhRequested': 114.24, '...</td>\n    </tr>\n    <tr>\n      <th>66742</th>\n      <td>0102</td>\n      <td>2021-09-10 14:12:26+00:00</td>\n      <td>2021-09-10 21:25:47+00:00</td>\n      <td>2021-09-10 21:25:34+00:00</td>\n      <td>19.894</td>\n      <td>0019</td>\n      <td>08</td>\n      <td>19-102-260-1640</td>\n      <td>000006140</td>\n      <td>[{'WhPerMile': 258, 'kWhRequested': 72.24, 'mi...</td>\n    </tr>\n    <tr>\n      <th>66743</th>\n      <td>0102</td>\n      <td>2021-09-13 10:35:32+00:00</td>\n      <td>2021-09-13 17:26:25+00:00</td>\n      <td>2021-09-13 17:26:05+00:00</td>\n      <td>26.688</td>\n      <td>0019</td>\n      <td>03</td>\n      <td>19-102-260-1634</td>\n      <td>000006620</td>\n      <td>[{'WhPerMile': 1428, 'kWhRequested': 114.24, '...</td>\n    </tr>\n    <tr>\n      <th>66744</th>\n      <td>0102</td>\n      <td>2021-09-13 14:21:51+00:00</td>\n      <td>2021-09-13 20:55:04+00:00</td>\n      <td>2021-09-13 20:54:48+00:00</td>\n      <td>18.019</td>\n      <td>0019</td>\n      <td>08</td>\n      <td>19-102-260-1640</td>\n      <td>000006140</td>\n      <td>[{'WhPerMile': 258, 'kWhRequested': 72.24, 'mi...</td>\n    </tr>\n  </tbody>\n</table>\n<p>48432 rows × 10 columns</p>\n</div>"
     },
     "execution_count": 28,
     "metadata": {},
     "output_type": "execute_result"
    }
   ],
   "source": [
    "start, end = '2000-01-01', '2022-12-31'\n",
    "\n",
    "ev_data_caltech = ImportEV().getCaltech(start_date=start, end_date=end, removeUsers=False, userSampleLimit=25)\n",
    "Users_caltech = createUsers(ev_data_caltech, start, end).data\n",
    "ev_data_jpl = ImportEV().getJPL(start_date=start, end_date=end, removeUsers=False, userSampleLimit=25)\n",
    "Users_jpl = createUsers(ev_data_jpl, start, end).data\n",
    "ev_data_office = ImportEV().getOffice(start_date=start, end_date=end, removeUsers=False, userSampleLimit=25)\n",
    "Users_office = createUsers(ev_data_office, start, end).data\n",
    "\n",
    "all_users = pd.concat([ev_data_caltech, ev_data_jpl, ev_data_office], ignore_index=True)\n",
    "all_users.dropna(subset=['userID'], inplace=True)\n",
    "all_users.drop(['_id', 'sessionID', 'timezone'], axis='columns', inplace=True)\n",
    "all_users"
   ],
   "metadata": {
    "collapsed": false,
    "pycharm": {
     "name": "#%%\n"
    }
   }
  },
  {
   "cell_type": "code",
   "execution_count": 4,
   "outputs": [
    {
     "name": "stdout",
     "output_type": "stream",
     "text": [
      "userID                            000003987\n",
      "siteID                                 0002\n",
      "spaceID                              CA-304\n",
      "connectionTime    2021-07-18 10:34:30+00:00\n",
      "disconnectTime    2021-07-18 12:12:38+00:00\n",
      "Name: 30316, dtype: object\n",
      "userID                            000003987\n",
      "siteID                                 0001\n",
      "spaceID                             AG-3F23\n",
      "connectionTime    2021-07-16 10:52:18+00:00\n",
      "disconnectTime    2021-07-19 13:41:13+00:00\n",
      "Name: 63492, dtype: object\n",
      "\n",
      "\n"
     ]
    },
    {
     "ename": "KeyboardInterrupt",
     "evalue": "",
     "output_type": "error",
     "traceback": [
      "\u001B[1;31m---------------------------------------------------------------------------\u001B[0m",
      "\u001B[1;31mKeyboardInterrupt\u001B[0m                         Traceback (most recent call last)",
      "\u001B[1;32m~\\AppData\\Local\\Temp\\ipykernel_15196\\3266950471.py\u001B[0m in \u001B[0;36m<module>\u001B[1;34m\u001B[0m\n\u001B[0;32m      5\u001B[0m     \u001B[1;32mfor\u001B[0m \u001B[0mj\u001B[0m \u001B[1;32min\u001B[0m \u001B[0moverlapping_users_charging_sessions\u001B[0m\u001B[1;33m.\u001B[0m\u001B[0mindex\u001B[0m\u001B[1;33m:\u001B[0m\u001B[1;33m\u001B[0m\u001B[1;33m\u001B[0m\u001B[0m\n\u001B[0;32m      6\u001B[0m         \u001B[1;32mif\u001B[0m \u001B[0mi\u001B[0m\u001B[1;33m!=\u001B[0m\u001B[0mj\u001B[0m\u001B[1;33m:\u001B[0m\u001B[1;33m\u001B[0m\u001B[1;33m\u001B[0m\u001B[0m\n\u001B[1;32m----> 7\u001B[1;33m             \u001B[1;32mif\u001B[0m \u001B[0moverlapping_users_charging_sessions\u001B[0m\u001B[1;33m[\u001B[0m\u001B[1;34m'userID'\u001B[0m\u001B[1;33m]\u001B[0m\u001B[1;33m[\u001B[0m\u001B[0mi\u001B[0m\u001B[1;33m]\u001B[0m \u001B[1;33m==\u001B[0m \u001B[0moverlapping_users_charging_sessions\u001B[0m\u001B[1;33m[\u001B[0m\u001B[1;34m'userID'\u001B[0m\u001B[1;33m]\u001B[0m\u001B[1;33m[\u001B[0m\u001B[0mj\u001B[0m\u001B[1;33m]\u001B[0m\u001B[1;33m:\u001B[0m\u001B[1;33m\u001B[0m\u001B[1;33m\u001B[0m\u001B[0m\n\u001B[0m\u001B[0;32m      8\u001B[0m                 \u001B[1;32mif\u001B[0m \u001B[0moverlapping_users_charging_sessions\u001B[0m\u001B[1;33m[\u001B[0m\u001B[1;34m'disconnectTime'\u001B[0m\u001B[1;33m]\u001B[0m\u001B[1;33m[\u001B[0m\u001B[0mi\u001B[0m\u001B[1;33m]\u001B[0m \u001B[1;33m>=\u001B[0m \u001B[0moverlapping_users_charging_sessions\u001B[0m\u001B[1;33m[\u001B[0m\u001B[1;34m'connectionTime'\u001B[0m\u001B[1;33m]\u001B[0m\u001B[1;33m[\u001B[0m\u001B[0mj\u001B[0m\u001B[1;33m]\u001B[0m\u001B[1;33m:\u001B[0m\u001B[1;33m\u001B[0m\u001B[1;33m\u001B[0m\u001B[0m\n\u001B[0;32m      9\u001B[0m                     \u001B[1;32mif\u001B[0m \u001B[0moverlapping_users_charging_sessions\u001B[0m\u001B[1;33m[\u001B[0m\u001B[1;34m'disconnectTime'\u001B[0m\u001B[1;33m]\u001B[0m\u001B[1;33m[\u001B[0m\u001B[0mj\u001B[0m\u001B[1;33m]\u001B[0m \u001B[1;33m>\u001B[0m \u001B[0moverlapping_users_charging_sessions\u001B[0m\u001B[1;33m[\u001B[0m\u001B[1;34m'connectionTime'\u001B[0m\u001B[1;33m]\u001B[0m\u001B[1;33m[\u001B[0m\u001B[0mi\u001B[0m\u001B[1;33m]\u001B[0m\u001B[1;33m:\u001B[0m\u001B[1;33m\u001B[0m\u001B[1;33m\u001B[0m\u001B[0m\n",
      "\u001B[1;32m~\\AppData\\Local\\Programs\\Python\\Python39\\lib\\site-packages\\pandas\\core\\frame.py\u001B[0m in \u001B[0;36m__getitem__\u001B[1;34m(self, key)\u001B[0m\n\u001B[0;32m   3470\u001B[0m             \u001B[1;31m# shortcut if the key is in columns\u001B[0m\u001B[1;33m\u001B[0m\u001B[1;33m\u001B[0m\u001B[0m\n\u001B[0;32m   3471\u001B[0m             \u001B[1;32mif\u001B[0m \u001B[0mself\u001B[0m\u001B[1;33m.\u001B[0m\u001B[0mcolumns\u001B[0m\u001B[1;33m.\u001B[0m\u001B[0mis_unique\u001B[0m \u001B[1;32mand\u001B[0m \u001B[0mkey\u001B[0m \u001B[1;32min\u001B[0m \u001B[0mself\u001B[0m\u001B[1;33m.\u001B[0m\u001B[0mcolumns\u001B[0m\u001B[1;33m:\u001B[0m\u001B[1;33m\u001B[0m\u001B[1;33m\u001B[0m\u001B[0m\n\u001B[1;32m-> 3472\u001B[1;33m                 \u001B[1;32mif\u001B[0m \u001B[0misinstance\u001B[0m\u001B[1;33m(\u001B[0m\u001B[0mself\u001B[0m\u001B[1;33m.\u001B[0m\u001B[0mcolumns\u001B[0m\u001B[1;33m,\u001B[0m \u001B[0mMultiIndex\u001B[0m\u001B[1;33m)\u001B[0m\u001B[1;33m:\u001B[0m\u001B[1;33m\u001B[0m\u001B[1;33m\u001B[0m\u001B[0m\n\u001B[0m\u001B[0;32m   3473\u001B[0m                     \u001B[1;32mreturn\u001B[0m \u001B[0mself\u001B[0m\u001B[1;33m.\u001B[0m\u001B[0m_getitem_multilevel\u001B[0m\u001B[1;33m(\u001B[0m\u001B[0mkey\u001B[0m\u001B[1;33m)\u001B[0m\u001B[1;33m\u001B[0m\u001B[1;33m\u001B[0m\u001B[0m\n\u001B[0;32m   3474\u001B[0m                 \u001B[1;32mreturn\u001B[0m \u001B[0mself\u001B[0m\u001B[1;33m.\u001B[0m\u001B[0m_get_item_cache\u001B[0m\u001B[1;33m(\u001B[0m\u001B[0mkey\u001B[0m\u001B[1;33m)\u001B[0m\u001B[1;33m\u001B[0m\u001B[1;33m\u001B[0m\u001B[0m\n",
      "\u001B[1;31mKeyboardInterrupt\u001B[0m: "
     ]
    }
   ],
   "source": [
    "overlapping_users_charging_sessions = all_users[(all_users['userID'].isin(Users_caltech['userID'])) & (all_users['userID'].isin(Users_jpl['userID']))][['userID', 'siteID', 'spaceID', 'connectionTime', 'disconnectTime']]\n",
    "\n",
    "#Tjek om et tidspunkt er i to intervaller\n",
    "for i in overlapping_users_charging_sessions.index:\n",
    "    for j in overlapping_users_charging_sessions.index:\n",
    "        if i!=j:\n",
    "            if overlapping_users_charging_sessions['userID'][i] == overlapping_users_charging_sessions['userID'][j]:\n",
    "                if overlapping_users_charging_sessions['disconnectTime'][i] >= overlapping_users_charging_sessions['connectionTime'][j]:\n",
    "                    if overlapping_users_charging_sessions['disconnectTime'][j] > overlapping_users_charging_sessions['connectionTime'][i]:\n",
    "                        print(overlapping_users_charging_sessions.loc[i,])\n",
    "                        print(overlapping_users_charging_sessions.loc[j,])\n",
    "                        print('\\n')"
   ],
   "metadata": {
    "collapsed": false,
    "pycharm": {
     "name": "#%%\n"
    }
   }
  },
  {
   "cell_type": "markdown",
   "source": [
    "JPL er site 0001 og Caltech er site 0002"
   ],
   "metadata": {
    "collapsed": false,
    "pycharm": {
     "name": "#%% md\n"
    }
   }
  },
  {
   "cell_type": "markdown",
   "source": [
    "Tjek om brugere er både i Caltech og JPL:"
   ],
   "metadata": {
    "collapsed": false,
    "pycharm": {
     "name": "#%% md\n"
    }
   }
  },
  {
   "cell_type": "code",
   "execution_count": 5,
   "outputs": [
    {
     "data": {
      "text/plain": "array(['000000076', '000000176', '000000340', '000000364', '000000342',\n       '000000484', '000000171', '000000396', '000001039', '000000190',\n       '000000832', '000000431', '000001011', '000000365', '000000362',\n       '000000724', '000000336', '000000448', '000000423', '000001346',\n       '000000433', '000001236', '000000420', '000000438', '000000313',\n       '000001626', '000000630', '000001564', '000000376', '000001754',\n       '000000444', '000000428', '000000372', '000001864', '000001525',\n       '000000347', '000001025', '000000533', '000002183', '000000440',\n       '000000828', '000000999', '000001797', '000000350', '000000369',\n       '000001055', '000002213', '000000400', '000003176', '000002678',\n       '000003222', '000001397', '000002507', '000000525', '000001725',\n       '000003271', '000000379', '000003711', '000003233', '000000335',\n       '000001162', '000000183', '000000419', '000000358', '000001302',\n       '000003556', '000000346', '000000394', '000000393', '000000459',\n       '000000315', '000003038', '000004861', '000001471', '000001297',\n       '000000537', '000002014', '000002822', '000000363', '000000169',\n       '000002177', '000006156', '000003987', '000015756', '000002643',\n       '000015980', '000011472'], dtype=object)"
     },
     "execution_count": 5,
     "metadata": {},
     "output_type": "execute_result"
    }
   ],
   "source": [
    "Users_caltech['userID'][Users_caltech['userID'].isin(Users_jpl['userID']) & (Users_caltech['userID'].notna())].unique()"
   ],
   "metadata": {
    "collapsed": false,
    "pycharm": {
     "name": "#%%\n"
    }
   }
  },
  {
   "cell_type": "code",
   "execution_count": 6,
   "outputs": [
    {
     "data": {
      "text/plain": "87"
     },
     "execution_count": 6,
     "metadata": {},
     "output_type": "execute_result"
    }
   ],
   "source": [
    "len(Users_caltech['userID'][Users_caltech['userID'].isin(Users_jpl['userID']) & (Users_caltech['userID'].notna())].unique())"
   ],
   "metadata": {
    "collapsed": false,
    "pycharm": {
     "name": "#%%\n"
    }
   }
  },
  {
   "cell_type": "markdown",
   "source": [
    "Caltech og Office1:"
   ],
   "metadata": {
    "collapsed": false,
    "pycharm": {
     "name": "#%% md\n"
    }
   }
  },
  {
   "cell_type": "code",
   "execution_count": null,
   "outputs": [],
   "source": [
    "Users_caltech[Users_caltech['userID'].isin(Users_office['userID']) & (Users_caltech['userID'].notna())]"
   ],
   "metadata": {
    "collapsed": false,
    "pycharm": {
     "name": "#%%\n"
    }
   }
  },
  {
   "cell_type": "markdown",
   "source": [
    "JPL og Office1:"
   ],
   "metadata": {
    "collapsed": false,
    "pycharm": {
     "name": "#%% md\n"
    }
   }
  },
  {
   "cell_type": "code",
   "execution_count": null,
   "outputs": [],
   "source": [
    "Users_jpl[Users_jpl['userID'].isin(Users_office['userID']) & (Users_jpl['userID'].notna())]"
   ],
   "metadata": {
    "collapsed": false,
    "pycharm": {
     "name": "#%%\n"
    }
   }
  },
  {
   "cell_type": "markdown",
   "source": [
    "Vi ser, at der kun er gengangere mellem JPL og Caltech og fokuserer derfor på disse:"
   ],
   "metadata": {
    "collapsed": false,
    "pycharm": {
     "name": "#%% md\n"
    }
   }
  },
  {
   "cell_type": "code",
   "execution_count": 57,
   "outputs": [
    {
     "data": {
      "text/plain": "                 connectionTime            disconnectTime  \\\n59076 2020-12-16 13:52:32+00:00 2020-12-16 14:52:07+00:00   \n59078 2020-12-16 14:34:39+00:00 2020-12-16 16:23:33+00:00   \n63492 2021-07-16 10:52:18+00:00 2021-07-19 13:41:13+00:00   \n30316 2021-07-18 10:34:30+00:00 2021-07-18 12:12:38+00:00   \n63540 2021-07-21 08:17:47+00:00 2021-07-22 07:36:24+00:00   \n63550 2021-07-21 08:27:24+00:00 2021-07-22 07:35:54+00:00   \n63564 2021-07-21 09:22:11+00:00 2021-07-22 07:35:55+00:00   \n63566 2021-07-21 09:25:07+00:00 2021-07-22 07:35:56+00:00   \n\n               doneChargingTime  kWhDelivered  spaceID     userID  \\\n59076 2020-12-16 14:31:26+00:00      1.760849  AG-4F43  000001236   \n59078 2020-12-16 16:23:16+00:00      5.123000  AG-4F47  000001236   \n63492 2021-07-19 13:41:07+00:00      8.180000  AG-3F23  000003987   \n30316 2021-07-18 11:44:42+00:00      7.971000   CA-304  000003987   \n63540 2021-07-21 09:18:15+00:00      8.047000  AG-1F02  000000169   \n63550 2021-07-21 09:15:08+00:00      1.575000  AG-1F04  000000169   \n63564 2021-07-21 09:51:15+00:00      1.506000  AG-3F24  000000419   \n63566 2021-07-21 09:51:14+00:00      2.563000  AG-3F26  000000419   \n\n                                              userInputs  \n59076  [{'WhPerMile': 350, 'kWhRequested': 14.0, 'mil...  \n59078  [{'WhPerMile': 350, 'kWhRequested': 14.0, 'mil...  \n63492  [{'WhPerMile': 250, 'kWhRequested': 30.0, 'mil...  \n30316  [{'WhPerMile': 250, 'kWhRequested': 30.0, 'mil...  \n63540  [{'WhPerMile': 360, 'kWhRequested': 14.4, 'mil...  \n63550  [{'WhPerMile': 360, 'kWhRequested': 14.4, 'mil...  \n63564  [{'WhPerMile': 299, 'kWhRequested': 23.92, 'mi...  \n63566  [{'WhPerMile': 299, 'kWhRequested': 23.92, 'mi...  ",
      "text/html": "<div>\n<style scoped>\n    .dataframe tbody tr th:only-of-type {\n        vertical-align: middle;\n    }\n\n    .dataframe tbody tr th {\n        vertical-align: top;\n    }\n\n    .dataframe thead th {\n        text-align: right;\n    }\n</style>\n<table border=\"1\" class=\"dataframe\">\n  <thead>\n    <tr style=\"text-align: right;\">\n      <th></th>\n      <th>connectionTime</th>\n      <th>disconnectTime</th>\n      <th>doneChargingTime</th>\n      <th>kWhDelivered</th>\n      <th>spaceID</th>\n      <th>userID</th>\n      <th>userInputs</th>\n    </tr>\n  </thead>\n  <tbody>\n    <tr>\n      <th>59076</th>\n      <td>2020-12-16 13:52:32+00:00</td>\n      <td>2020-12-16 14:52:07+00:00</td>\n      <td>2020-12-16 14:31:26+00:00</td>\n      <td>1.760849</td>\n      <td>AG-4F43</td>\n      <td>000001236</td>\n      <td>[{'WhPerMile': 350, 'kWhRequested': 14.0, 'mil...</td>\n    </tr>\n    <tr>\n      <th>59078</th>\n      <td>2020-12-16 14:34:39+00:00</td>\n      <td>2020-12-16 16:23:33+00:00</td>\n      <td>2020-12-16 16:23:16+00:00</td>\n      <td>5.123000</td>\n      <td>AG-4F47</td>\n      <td>000001236</td>\n      <td>[{'WhPerMile': 350, 'kWhRequested': 14.0, 'mil...</td>\n    </tr>\n    <tr>\n      <th>63492</th>\n      <td>2021-07-16 10:52:18+00:00</td>\n      <td>2021-07-19 13:41:13+00:00</td>\n      <td>2021-07-19 13:41:07+00:00</td>\n      <td>8.180000</td>\n      <td>AG-3F23</td>\n      <td>000003987</td>\n      <td>[{'WhPerMile': 250, 'kWhRequested': 30.0, 'mil...</td>\n    </tr>\n    <tr>\n      <th>30316</th>\n      <td>2021-07-18 10:34:30+00:00</td>\n      <td>2021-07-18 12:12:38+00:00</td>\n      <td>2021-07-18 11:44:42+00:00</td>\n      <td>7.971000</td>\n      <td>CA-304</td>\n      <td>000003987</td>\n      <td>[{'WhPerMile': 250, 'kWhRequested': 30.0, 'mil...</td>\n    </tr>\n    <tr>\n      <th>63540</th>\n      <td>2021-07-21 08:17:47+00:00</td>\n      <td>2021-07-22 07:36:24+00:00</td>\n      <td>2021-07-21 09:18:15+00:00</td>\n      <td>8.047000</td>\n      <td>AG-1F02</td>\n      <td>000000169</td>\n      <td>[{'WhPerMile': 360, 'kWhRequested': 14.4, 'mil...</td>\n    </tr>\n    <tr>\n      <th>63550</th>\n      <td>2021-07-21 08:27:24+00:00</td>\n      <td>2021-07-22 07:35:54+00:00</td>\n      <td>2021-07-21 09:15:08+00:00</td>\n      <td>1.575000</td>\n      <td>AG-1F04</td>\n      <td>000000169</td>\n      <td>[{'WhPerMile': 360, 'kWhRequested': 14.4, 'mil...</td>\n    </tr>\n    <tr>\n      <th>63564</th>\n      <td>2021-07-21 09:22:11+00:00</td>\n      <td>2021-07-22 07:35:55+00:00</td>\n      <td>2021-07-21 09:51:15+00:00</td>\n      <td>1.506000</td>\n      <td>AG-3F24</td>\n      <td>000000419</td>\n      <td>[{'WhPerMile': 299, 'kWhRequested': 23.92, 'mi...</td>\n    </tr>\n    <tr>\n      <th>63566</th>\n      <td>2021-07-21 09:25:07+00:00</td>\n      <td>2021-07-22 07:35:56+00:00</td>\n      <td>2021-07-21 09:51:14+00:00</td>\n      <td>2.563000</td>\n      <td>AG-3F26</td>\n      <td>000000419</td>\n      <td>[{'WhPerMile': 299, 'kWhRequested': 23.92, 'mi...</td>\n    </tr>\n  </tbody>\n</table>\n</div>"
     },
     "execution_count": 57,
     "metadata": {},
     "output_type": "execute_result"
    }
   ],
   "source": [
    "overlapping_sessions = all_users.loc[[30316, 63492, 59076, 59078, 63540, 63550, 63564, 63566], ].sort_values(by='connectionTime').drop(['clusterID', 'stationID', 'siteID'], axis=1)\n",
    "overlapping_sessions"
   ],
   "metadata": {
    "collapsed": false,
    "pycharm": {
     "name": "#%%\n"
    }
   }
  },
  {
   "cell_type": "markdown",
   "source": [
    "Ved første par af sessioner (59076, 59078) ser vi, at doneChargingTime for den første session ligger før connectionTime for den anden session. Der kan derfor være tale om, at disconnectTime er blevet registreret forkert."
   ],
   "metadata": {
    "collapsed": false,
    "pycharm": {
     "name": "#%% md\n"
    }
   }
  },
  {
   "cell_type": "code",
   "execution_count": 46,
   "outputs": [
    {
     "data": {
      "text/plain": "   WhPerMile  kWhRequested  milesRequested  minutesAvailable  \\\n0        350          14.0              40               480   \n0        350          14.0              40               480   \n1        350          14.0              40               480   \n\n                      modifiedAt  paymentRequired  \\\n0  Wed, 16 Dec 2020 20:52:31 GMT             True   \n0  Wed, 16 Dec 2020 21:35:51 GMT             True   \n1  Wed, 16 Dec 2020 23:23:31 GMT             True   \n\n              requestedDeparture  userID  \n0  Thu, 17 Dec 2020 04:52:32 GMT    1236  \n0  Thu, 17 Dec 2020 05:34:39 GMT    1236  \n1  Thu, 17 Dec 2020 05:34:39 GMT    1236  ",
      "text/html": "<div>\n<style scoped>\n    .dataframe tbody tr th:only-of-type {\n        vertical-align: middle;\n    }\n\n    .dataframe tbody tr th {\n        vertical-align: top;\n    }\n\n    .dataframe thead th {\n        text-align: right;\n    }\n</style>\n<table border=\"1\" class=\"dataframe\">\n  <thead>\n    <tr style=\"text-align: right;\">\n      <th></th>\n      <th>WhPerMile</th>\n      <th>kWhRequested</th>\n      <th>milesRequested</th>\n      <th>minutesAvailable</th>\n      <th>modifiedAt</th>\n      <th>paymentRequired</th>\n      <th>requestedDeparture</th>\n      <th>userID</th>\n    </tr>\n  </thead>\n  <tbody>\n    <tr>\n      <th>0</th>\n      <td>350</td>\n      <td>14.0</td>\n      <td>40</td>\n      <td>480</td>\n      <td>Wed, 16 Dec 2020 20:52:31 GMT</td>\n      <td>True</td>\n      <td>Thu, 17 Dec 2020 04:52:32 GMT</td>\n      <td>1236</td>\n    </tr>\n    <tr>\n      <th>0</th>\n      <td>350</td>\n      <td>14.0</td>\n      <td>40</td>\n      <td>480</td>\n      <td>Wed, 16 Dec 2020 21:35:51 GMT</td>\n      <td>True</td>\n      <td>Thu, 17 Dec 2020 05:34:39 GMT</td>\n      <td>1236</td>\n    </tr>\n    <tr>\n      <th>1</th>\n      <td>350</td>\n      <td>14.0</td>\n      <td>40</td>\n      <td>480</td>\n      <td>Wed, 16 Dec 2020 23:23:31 GMT</td>\n      <td>True</td>\n      <td>Thu, 17 Dec 2020 05:34:39 GMT</td>\n      <td>1236</td>\n    </tr>\n  </tbody>\n</table>\n</div>"
     },
     "execution_count": 46,
     "metadata": {},
     "output_type": "execute_result"
    }
   ],
   "source": [
    "pd.concat([pd.DataFrame(overlapping_sessions.loc[59076, 'userInputs']), pd.DataFrame(overlapping_sessions.loc[59078, 'userInputs'])])"
   ],
   "metadata": {
    "collapsed": false,
    "pycharm": {
     "name": "#%%\n"
    }
   }
  },
  {
   "cell_type": "markdown",
   "source": [],
   "metadata": {
    "collapsed": false,
    "pycharm": {
     "name": "#%% md\n"
    }
   }
  },
  {
   "cell_type": "code",
   "execution_count": 31,
   "outputs": [
    {
     "data": {
      "text/plain": "   WhPerMile  kWhRequested  milesRequested  minutesAvailable  \\\n0        250          30.0             120               346   \n0        250          30.0             120               346   \n\n                      modifiedAt  paymentRequired  \\\n0  Fri, 16 Jul 2021 17:52:18 GMT             True   \n0  Sun, 18 Jul 2021 17:34:30 GMT             True   \n\n              requestedDeparture  userID  \n0  Fri, 16 Jul 2021 23:38:18 GMT    3987  \n0  Sun, 18 Jul 2021 23:20:30 GMT    3987  ",
      "text/html": "<div>\n<style scoped>\n    .dataframe tbody tr th:only-of-type {\n        vertical-align: middle;\n    }\n\n    .dataframe tbody tr th {\n        vertical-align: top;\n    }\n\n    .dataframe thead th {\n        text-align: right;\n    }\n</style>\n<table border=\"1\" class=\"dataframe\">\n  <thead>\n    <tr style=\"text-align: right;\">\n      <th></th>\n      <th>WhPerMile</th>\n      <th>kWhRequested</th>\n      <th>milesRequested</th>\n      <th>minutesAvailable</th>\n      <th>modifiedAt</th>\n      <th>paymentRequired</th>\n      <th>requestedDeparture</th>\n      <th>userID</th>\n    </tr>\n  </thead>\n  <tbody>\n    <tr>\n      <th>0</th>\n      <td>250</td>\n      <td>30.0</td>\n      <td>120</td>\n      <td>346</td>\n      <td>Fri, 16 Jul 2021 17:52:18 GMT</td>\n      <td>True</td>\n      <td>Fri, 16 Jul 2021 23:38:18 GMT</td>\n      <td>3987</td>\n    </tr>\n    <tr>\n      <th>0</th>\n      <td>250</td>\n      <td>30.0</td>\n      <td>120</td>\n      <td>346</td>\n      <td>Sun, 18 Jul 2021 17:34:30 GMT</td>\n      <td>True</td>\n      <td>Sun, 18 Jul 2021 23:20:30 GMT</td>\n      <td>3987</td>\n    </tr>\n  </tbody>\n</table>\n</div>"
     },
     "execution_count": 31,
     "metadata": {},
     "output_type": "execute_result"
    }
   ],
   "source": [
    "pd.concat([pd.DataFrame(overlapping_sessions.loc[63492, 'userInputs']), pd.DataFrame(overlapping_sessions.loc[30316, 'userInputs'])])"
   ],
   "metadata": {
    "collapsed": false,
    "pycharm": {
     "name": "#%%\n"
    }
   }
  },
  {
   "cell_type": "code",
   "execution_count": 53,
   "outputs": [
    {
     "data": {
      "text/plain": "   WhPerMile  kWhRequested  milesRequested  minutesAvailable  \\\n0        360          14.4              40               480   \n0        360          14.4              40               480   \n\n                      modifiedAt  paymentRequired  \\\n0  Wed, 21 Jul 2021 15:17:46 GMT             True   \n0  Thu, 22 Jul 2021 12:22:32 GMT             True   \n\n              requestedDeparture  userID  \n0  Wed, 21 Jul 2021 23:17:47 GMT     169  \n0  Wed, 21 Jul 2021 23:27:24 GMT     169  ",
      "text/html": "<div>\n<style scoped>\n    .dataframe tbody tr th:only-of-type {\n        vertical-align: middle;\n    }\n\n    .dataframe tbody tr th {\n        vertical-align: top;\n    }\n\n    .dataframe thead th {\n        text-align: right;\n    }\n</style>\n<table border=\"1\" class=\"dataframe\">\n  <thead>\n    <tr style=\"text-align: right;\">\n      <th></th>\n      <th>WhPerMile</th>\n      <th>kWhRequested</th>\n      <th>milesRequested</th>\n      <th>minutesAvailable</th>\n      <th>modifiedAt</th>\n      <th>paymentRequired</th>\n      <th>requestedDeparture</th>\n      <th>userID</th>\n    </tr>\n  </thead>\n  <tbody>\n    <tr>\n      <th>0</th>\n      <td>360</td>\n      <td>14.4</td>\n      <td>40</td>\n      <td>480</td>\n      <td>Wed, 21 Jul 2021 15:17:46 GMT</td>\n      <td>True</td>\n      <td>Wed, 21 Jul 2021 23:17:47 GMT</td>\n      <td>169</td>\n    </tr>\n    <tr>\n      <th>0</th>\n      <td>360</td>\n      <td>14.4</td>\n      <td>40</td>\n      <td>480</td>\n      <td>Thu, 22 Jul 2021 12:22:32 GMT</td>\n      <td>True</td>\n      <td>Wed, 21 Jul 2021 23:27:24 GMT</td>\n      <td>169</td>\n    </tr>\n  </tbody>\n</table>\n</div>"
     },
     "execution_count": 53,
     "metadata": {},
     "output_type": "execute_result"
    }
   ],
   "source": [
    "pd.concat([pd.DataFrame(overlapping_sessions.loc[63540, 'userInputs']), pd.DataFrame(overlapping_sessions.loc[63550, 'userInputs'])])"
   ],
   "metadata": {
    "collapsed": false,
    "pycharm": {
     "name": "#%%\n"
    }
   }
  },
  {
   "cell_type": "code",
   "execution_count": 33,
   "outputs": [
    {
     "data": {
      "text/plain": "   WhPerMile  kWhRequested  milesRequested  minutesAvailable  \\\n0        299         23.92              80               360   \n0        299         23.92              80               360   \n\n                      modifiedAt  paymentRequired  \\\n0  Thu, 22 Jul 2021 13:23:46 GMT             True   \n0  Wed, 21 Jul 2021 16:25:06 GMT             True   \n\n              requestedDeparture  userID  \n0  Wed, 21 Jul 2021 22:22:11 GMT     419  \n0  Wed, 21 Jul 2021 22:25:07 GMT     419  ",
      "text/html": "<div>\n<style scoped>\n    .dataframe tbody tr th:only-of-type {\n        vertical-align: middle;\n    }\n\n    .dataframe tbody tr th {\n        vertical-align: top;\n    }\n\n    .dataframe thead th {\n        text-align: right;\n    }\n</style>\n<table border=\"1\" class=\"dataframe\">\n  <thead>\n    <tr style=\"text-align: right;\">\n      <th></th>\n      <th>WhPerMile</th>\n      <th>kWhRequested</th>\n      <th>milesRequested</th>\n      <th>minutesAvailable</th>\n      <th>modifiedAt</th>\n      <th>paymentRequired</th>\n      <th>requestedDeparture</th>\n      <th>userID</th>\n    </tr>\n  </thead>\n  <tbody>\n    <tr>\n      <th>0</th>\n      <td>299</td>\n      <td>23.92</td>\n      <td>80</td>\n      <td>360</td>\n      <td>Thu, 22 Jul 2021 13:23:46 GMT</td>\n      <td>True</td>\n      <td>Wed, 21 Jul 2021 22:22:11 GMT</td>\n      <td>419</td>\n    </tr>\n    <tr>\n      <th>0</th>\n      <td>299</td>\n      <td>23.92</td>\n      <td>80</td>\n      <td>360</td>\n      <td>Wed, 21 Jul 2021 16:25:06 GMT</td>\n      <td>True</td>\n      <td>Wed, 21 Jul 2021 22:25:07 GMT</td>\n      <td>419</td>\n    </tr>\n  </tbody>\n</table>\n</div>"
     },
     "execution_count": 33,
     "metadata": {},
     "output_type": "execute_result"
    }
   ],
   "source": [
    "pd.concat([pd.DataFrame(overlapping_sessions.loc[63564, 'userInputs']), pd.DataFrame(overlapping_sessions.loc[63566, 'userInputs'])])"
   ],
   "metadata": {
    "collapsed": false,
    "pycharm": {
     "name": "#%%\n"
    }
   }
  },
  {
   "cell_type": "code",
   "execution_count": 69,
   "outputs": [
    {
     "data": {
      "application/vnd.plotly.v1+json": {
       "data": [
        {
         "x": [
          "2020-12-16T13:52:32+00:00",
          "2020-12-16T14:52:07+00:00"
         ],
         "y": [
          0,
          0,
          0,
          0,
          0,
          0,
          0,
          0
         ],
         "type": "scatter"
        },
        {
         "x": [
          "2020-12-16T14:34:39+00:00",
          "2020-12-16T16:23:33+00:00"
         ],
         "y": [
          1,
          1,
          1,
          1,
          1,
          1,
          1,
          1
         ],
         "type": "scatter"
        }
       ],
       "layout": {
        "template": {
         "data": {
          "bar": [
           {
            "error_x": {
             "color": "#2a3f5f"
            },
            "error_y": {
             "color": "#2a3f5f"
            },
            "marker": {
             "line": {
              "color": "#E5ECF6",
              "width": 0.5
             },
             "pattern": {
              "fillmode": "overlay",
              "size": 10,
              "solidity": 0.2
             }
            },
            "type": "bar"
           }
          ],
          "barpolar": [
           {
            "marker": {
             "line": {
              "color": "#E5ECF6",
              "width": 0.5
             },
             "pattern": {
              "fillmode": "overlay",
              "size": 10,
              "solidity": 0.2
             }
            },
            "type": "barpolar"
           }
          ],
          "carpet": [
           {
            "aaxis": {
             "endlinecolor": "#2a3f5f",
             "gridcolor": "white",
             "linecolor": "white",
             "minorgridcolor": "white",
             "startlinecolor": "#2a3f5f"
            },
            "baxis": {
             "endlinecolor": "#2a3f5f",
             "gridcolor": "white",
             "linecolor": "white",
             "minorgridcolor": "white",
             "startlinecolor": "#2a3f5f"
            },
            "type": "carpet"
           }
          ],
          "choropleth": [
           {
            "colorbar": {
             "outlinewidth": 0,
             "ticks": ""
            },
            "type": "choropleth"
           }
          ],
          "contour": [
           {
            "colorbar": {
             "outlinewidth": 0,
             "ticks": ""
            },
            "colorscale": [
             [
              0.0,
              "#0d0887"
             ],
             [
              0.1111111111111111,
              "#46039f"
             ],
             [
              0.2222222222222222,
              "#7201a8"
             ],
             [
              0.3333333333333333,
              "#9c179e"
             ],
             [
              0.4444444444444444,
              "#bd3786"
             ],
             [
              0.5555555555555556,
              "#d8576b"
             ],
             [
              0.6666666666666666,
              "#ed7953"
             ],
             [
              0.7777777777777778,
              "#fb9f3a"
             ],
             [
              0.8888888888888888,
              "#fdca26"
             ],
             [
              1.0,
              "#f0f921"
             ]
            ],
            "type": "contour"
           }
          ],
          "contourcarpet": [
           {
            "colorbar": {
             "outlinewidth": 0,
             "ticks": ""
            },
            "type": "contourcarpet"
           }
          ],
          "heatmap": [
           {
            "colorbar": {
             "outlinewidth": 0,
             "ticks": ""
            },
            "colorscale": [
             [
              0.0,
              "#0d0887"
             ],
             [
              0.1111111111111111,
              "#46039f"
             ],
             [
              0.2222222222222222,
              "#7201a8"
             ],
             [
              0.3333333333333333,
              "#9c179e"
             ],
             [
              0.4444444444444444,
              "#bd3786"
             ],
             [
              0.5555555555555556,
              "#d8576b"
             ],
             [
              0.6666666666666666,
              "#ed7953"
             ],
             [
              0.7777777777777778,
              "#fb9f3a"
             ],
             [
              0.8888888888888888,
              "#fdca26"
             ],
             [
              1.0,
              "#f0f921"
             ]
            ],
            "type": "heatmap"
           }
          ],
          "heatmapgl": [
           {
            "colorbar": {
             "outlinewidth": 0,
             "ticks": ""
            },
            "colorscale": [
             [
              0.0,
              "#0d0887"
             ],
             [
              0.1111111111111111,
              "#46039f"
             ],
             [
              0.2222222222222222,
              "#7201a8"
             ],
             [
              0.3333333333333333,
              "#9c179e"
             ],
             [
              0.4444444444444444,
              "#bd3786"
             ],
             [
              0.5555555555555556,
              "#d8576b"
             ],
             [
              0.6666666666666666,
              "#ed7953"
             ],
             [
              0.7777777777777778,
              "#fb9f3a"
             ],
             [
              0.8888888888888888,
              "#fdca26"
             ],
             [
              1.0,
              "#f0f921"
             ]
            ],
            "type": "heatmapgl"
           }
          ],
          "histogram": [
           {
            "marker": {
             "pattern": {
              "fillmode": "overlay",
              "size": 10,
              "solidity": 0.2
             }
            },
            "type": "histogram"
           }
          ],
          "histogram2d": [
           {
            "colorbar": {
             "outlinewidth": 0,
             "ticks": ""
            },
            "colorscale": [
             [
              0.0,
              "#0d0887"
             ],
             [
              0.1111111111111111,
              "#46039f"
             ],
             [
              0.2222222222222222,
              "#7201a8"
             ],
             [
              0.3333333333333333,
              "#9c179e"
             ],
             [
              0.4444444444444444,
              "#bd3786"
             ],
             [
              0.5555555555555556,
              "#d8576b"
             ],
             [
              0.6666666666666666,
              "#ed7953"
             ],
             [
              0.7777777777777778,
              "#fb9f3a"
             ],
             [
              0.8888888888888888,
              "#fdca26"
             ],
             [
              1.0,
              "#f0f921"
             ]
            ],
            "type": "histogram2d"
           }
          ],
          "histogram2dcontour": [
           {
            "colorbar": {
             "outlinewidth": 0,
             "ticks": ""
            },
            "colorscale": [
             [
              0.0,
              "#0d0887"
             ],
             [
              0.1111111111111111,
              "#46039f"
             ],
             [
              0.2222222222222222,
              "#7201a8"
             ],
             [
              0.3333333333333333,
              "#9c179e"
             ],
             [
              0.4444444444444444,
              "#bd3786"
             ],
             [
              0.5555555555555556,
              "#d8576b"
             ],
             [
              0.6666666666666666,
              "#ed7953"
             ],
             [
              0.7777777777777778,
              "#fb9f3a"
             ],
             [
              0.8888888888888888,
              "#fdca26"
             ],
             [
              1.0,
              "#f0f921"
             ]
            ],
            "type": "histogram2dcontour"
           }
          ],
          "mesh3d": [
           {
            "colorbar": {
             "outlinewidth": 0,
             "ticks": ""
            },
            "type": "mesh3d"
           }
          ],
          "parcoords": [
           {
            "line": {
             "colorbar": {
              "outlinewidth": 0,
              "ticks": ""
             }
            },
            "type": "parcoords"
           }
          ],
          "pie": [
           {
            "automargin": true,
            "type": "pie"
           }
          ],
          "scatter": [
           {
            "marker": {
             "colorbar": {
              "outlinewidth": 0,
              "ticks": ""
             }
            },
            "type": "scatter"
           }
          ],
          "scatter3d": [
           {
            "line": {
             "colorbar": {
              "outlinewidth": 0,
              "ticks": ""
             }
            },
            "marker": {
             "colorbar": {
              "outlinewidth": 0,
              "ticks": ""
             }
            },
            "type": "scatter3d"
           }
          ],
          "scattercarpet": [
           {
            "marker": {
             "colorbar": {
              "outlinewidth": 0,
              "ticks": ""
             }
            },
            "type": "scattercarpet"
           }
          ],
          "scattergeo": [
           {
            "marker": {
             "colorbar": {
              "outlinewidth": 0,
              "ticks": ""
             }
            },
            "type": "scattergeo"
           }
          ],
          "scattergl": [
           {
            "marker": {
             "colorbar": {
              "outlinewidth": 0,
              "ticks": ""
             }
            },
            "type": "scattergl"
           }
          ],
          "scattermapbox": [
           {
            "marker": {
             "colorbar": {
              "outlinewidth": 0,
              "ticks": ""
             }
            },
            "type": "scattermapbox"
           }
          ],
          "scatterpolar": [
           {
            "marker": {
             "colorbar": {
              "outlinewidth": 0,
              "ticks": ""
             }
            },
            "type": "scatterpolar"
           }
          ],
          "scatterpolargl": [
           {
            "marker": {
             "colorbar": {
              "outlinewidth": 0,
              "ticks": ""
             }
            },
            "type": "scatterpolargl"
           }
          ],
          "scatterternary": [
           {
            "marker": {
             "colorbar": {
              "outlinewidth": 0,
              "ticks": ""
             }
            },
            "type": "scatterternary"
           }
          ],
          "surface": [
           {
            "colorbar": {
             "outlinewidth": 0,
             "ticks": ""
            },
            "colorscale": [
             [
              0.0,
              "#0d0887"
             ],
             [
              0.1111111111111111,
              "#46039f"
             ],
             [
              0.2222222222222222,
              "#7201a8"
             ],
             [
              0.3333333333333333,
              "#9c179e"
             ],
             [
              0.4444444444444444,
              "#bd3786"
             ],
             [
              0.5555555555555556,
              "#d8576b"
             ],
             [
              0.6666666666666666,
              "#ed7953"
             ],
             [
              0.7777777777777778,
              "#fb9f3a"
             ],
             [
              0.8888888888888888,
              "#fdca26"
             ],
             [
              1.0,
              "#f0f921"
             ]
            ],
            "type": "surface"
           }
          ],
          "table": [
           {
            "cells": {
             "fill": {
              "color": "#EBF0F8"
             },
             "line": {
              "color": "white"
             }
            },
            "header": {
             "fill": {
              "color": "#C8D4E3"
             },
             "line": {
              "color": "white"
             }
            },
            "type": "table"
           }
          ]
         },
         "layout": {
          "annotationdefaults": {
           "arrowcolor": "#2a3f5f",
           "arrowhead": 0,
           "arrowwidth": 1
          },
          "autotypenumbers": "strict",
          "coloraxis": {
           "colorbar": {
            "outlinewidth": 0,
            "ticks": ""
           }
          },
          "colorscale": {
           "diverging": [
            [
             0,
             "#8e0152"
            ],
            [
             0.1,
             "#c51b7d"
            ],
            [
             0.2,
             "#de77ae"
            ],
            [
             0.3,
             "#f1b6da"
            ],
            [
             0.4,
             "#fde0ef"
            ],
            [
             0.5,
             "#f7f7f7"
            ],
            [
             0.6,
             "#e6f5d0"
            ],
            [
             0.7,
             "#b8e186"
            ],
            [
             0.8,
             "#7fbc41"
            ],
            [
             0.9,
             "#4d9221"
            ],
            [
             1,
             "#276419"
            ]
           ],
           "sequential": [
            [
             0.0,
             "#0d0887"
            ],
            [
             0.1111111111111111,
             "#46039f"
            ],
            [
             0.2222222222222222,
             "#7201a8"
            ],
            [
             0.3333333333333333,
             "#9c179e"
            ],
            [
             0.4444444444444444,
             "#bd3786"
            ],
            [
             0.5555555555555556,
             "#d8576b"
            ],
            [
             0.6666666666666666,
             "#ed7953"
            ],
            [
             0.7777777777777778,
             "#fb9f3a"
            ],
            [
             0.8888888888888888,
             "#fdca26"
            ],
            [
             1.0,
             "#f0f921"
            ]
           ],
           "sequentialminus": [
            [
             0.0,
             "#0d0887"
            ],
            [
             0.1111111111111111,
             "#46039f"
            ],
            [
             0.2222222222222222,
             "#7201a8"
            ],
            [
             0.3333333333333333,
             "#9c179e"
            ],
            [
             0.4444444444444444,
             "#bd3786"
            ],
            [
             0.5555555555555556,
             "#d8576b"
            ],
            [
             0.6666666666666666,
             "#ed7953"
            ],
            [
             0.7777777777777778,
             "#fb9f3a"
            ],
            [
             0.8888888888888888,
             "#fdca26"
            ],
            [
             1.0,
             "#f0f921"
            ]
           ]
          },
          "colorway": [
           "#636efa",
           "#EF553B",
           "#00cc96",
           "#ab63fa",
           "#FFA15A",
           "#19d3f3",
           "#FF6692",
           "#B6E880",
           "#FF97FF",
           "#FECB52"
          ],
          "font": {
           "color": "#2a3f5f"
          },
          "geo": {
           "bgcolor": "white",
           "lakecolor": "white",
           "landcolor": "#E5ECF6",
           "showlakes": true,
           "showland": true,
           "subunitcolor": "white"
          },
          "hoverlabel": {
           "align": "left"
          },
          "hovermode": "closest",
          "mapbox": {
           "style": "light"
          },
          "paper_bgcolor": "white",
          "plot_bgcolor": "#E5ECF6",
          "polar": {
           "angularaxis": {
            "gridcolor": "white",
            "linecolor": "white",
            "ticks": ""
           },
           "bgcolor": "#E5ECF6",
           "radialaxis": {
            "gridcolor": "white",
            "linecolor": "white",
            "ticks": ""
           }
          },
          "scene": {
           "xaxis": {
            "backgroundcolor": "#E5ECF6",
            "gridcolor": "white",
            "gridwidth": 2,
            "linecolor": "white",
            "showbackground": true,
            "ticks": "",
            "zerolinecolor": "white"
           },
           "yaxis": {
            "backgroundcolor": "#E5ECF6",
            "gridcolor": "white",
            "gridwidth": 2,
            "linecolor": "white",
            "showbackground": true,
            "ticks": "",
            "zerolinecolor": "white"
           },
           "zaxis": {
            "backgroundcolor": "#E5ECF6",
            "gridcolor": "white",
            "gridwidth": 2,
            "linecolor": "white",
            "showbackground": true,
            "ticks": "",
            "zerolinecolor": "white"
           }
          },
          "shapedefaults": {
           "line": {
            "color": "#2a3f5f"
           }
          },
          "ternary": {
           "aaxis": {
            "gridcolor": "white",
            "linecolor": "white",
            "ticks": ""
           },
           "baxis": {
            "gridcolor": "white",
            "linecolor": "white",
            "ticks": ""
           },
           "bgcolor": "#E5ECF6",
           "caxis": {
            "gridcolor": "white",
            "linecolor": "white",
            "ticks": ""
           }
          },
          "title": {
           "x": 0.05
          },
          "xaxis": {
           "automargin": true,
           "gridcolor": "white",
           "linecolor": "white",
           "ticks": "",
           "title": {
            "standoff": 15
           },
           "zerolinecolor": "white",
           "zerolinewidth": 2
          },
          "yaxis": {
           "automargin": true,
           "gridcolor": "white",
           "linecolor": "white",
           "ticks": "",
           "title": {
            "standoff": 15
           },
           "zerolinecolor": "white",
           "zerolinewidth": 2
          }
         }
        }
       },
       "config": {
        "plotlyServerURL": "https://plot.ly"
       }
      },
      "text/html": "<div>                            <div id=\"cc72bf30-48cd-4bce-b9ce-e5a8bfc85fae\" class=\"plotly-graph-div\" style=\"height:525px; width:100%;\"></div>            <script type=\"text/javascript\">                require([\"plotly\"], function(Plotly) {                    window.PLOTLYENV=window.PLOTLYENV || {};                                    if (document.getElementById(\"cc72bf30-48cd-4bce-b9ce-e5a8bfc85fae\")) {                    Plotly.newPlot(                        \"cc72bf30-48cd-4bce-b9ce-e5a8bfc85fae\",                        [{\"x\":[\"2020-12-16T13:52:32+00:00\",\"2020-12-16T14:52:07+00:00\"],\"y\":[0,0,0,0,0,0,0,0],\"type\":\"scatter\"},{\"x\":[\"2020-12-16T14:34:39+00:00\",\"2020-12-16T16:23:33+00:00\"],\"y\":[1,1,1,1,1,1,1,1],\"type\":\"scatter\"}],                        {\"template\":{\"data\":{\"bar\":[{\"error_x\":{\"color\":\"#2a3f5f\"},\"error_y\":{\"color\":\"#2a3f5f\"},\"marker\":{\"line\":{\"color\":\"#E5ECF6\",\"width\":0.5},\"pattern\":{\"fillmode\":\"overlay\",\"size\":10,\"solidity\":0.2}},\"type\":\"bar\"}],\"barpolar\":[{\"marker\":{\"line\":{\"color\":\"#E5ECF6\",\"width\":0.5},\"pattern\":{\"fillmode\":\"overlay\",\"size\":10,\"solidity\":0.2}},\"type\":\"barpolar\"}],\"carpet\":[{\"aaxis\":{\"endlinecolor\":\"#2a3f5f\",\"gridcolor\":\"white\",\"linecolor\":\"white\",\"minorgridcolor\":\"white\",\"startlinecolor\":\"#2a3f5f\"},\"baxis\":{\"endlinecolor\":\"#2a3f5f\",\"gridcolor\":\"white\",\"linecolor\":\"white\",\"minorgridcolor\":\"white\",\"startlinecolor\":\"#2a3f5f\"},\"type\":\"carpet\"}],\"choropleth\":[{\"colorbar\":{\"outlinewidth\":0,\"ticks\":\"\"},\"type\":\"choropleth\"}],\"contour\":[{\"colorbar\":{\"outlinewidth\":0,\"ticks\":\"\"},\"colorscale\":[[0.0,\"#0d0887\"],[0.1111111111111111,\"#46039f\"],[0.2222222222222222,\"#7201a8\"],[0.3333333333333333,\"#9c179e\"],[0.4444444444444444,\"#bd3786\"],[0.5555555555555556,\"#d8576b\"],[0.6666666666666666,\"#ed7953\"],[0.7777777777777778,\"#fb9f3a\"],[0.8888888888888888,\"#fdca26\"],[1.0,\"#f0f921\"]],\"type\":\"contour\"}],\"contourcarpet\":[{\"colorbar\":{\"outlinewidth\":0,\"ticks\":\"\"},\"type\":\"contourcarpet\"}],\"heatmap\":[{\"colorbar\":{\"outlinewidth\":0,\"ticks\":\"\"},\"colorscale\":[[0.0,\"#0d0887\"],[0.1111111111111111,\"#46039f\"],[0.2222222222222222,\"#7201a8\"],[0.3333333333333333,\"#9c179e\"],[0.4444444444444444,\"#bd3786\"],[0.5555555555555556,\"#d8576b\"],[0.6666666666666666,\"#ed7953\"],[0.7777777777777778,\"#fb9f3a\"],[0.8888888888888888,\"#fdca26\"],[1.0,\"#f0f921\"]],\"type\":\"heatmap\"}],\"heatmapgl\":[{\"colorbar\":{\"outlinewidth\":0,\"ticks\":\"\"},\"colorscale\":[[0.0,\"#0d0887\"],[0.1111111111111111,\"#46039f\"],[0.2222222222222222,\"#7201a8\"],[0.3333333333333333,\"#9c179e\"],[0.4444444444444444,\"#bd3786\"],[0.5555555555555556,\"#d8576b\"],[0.6666666666666666,\"#ed7953\"],[0.7777777777777778,\"#fb9f3a\"],[0.8888888888888888,\"#fdca26\"],[1.0,\"#f0f921\"]],\"type\":\"heatmapgl\"}],\"histogram\":[{\"marker\":{\"pattern\":{\"fillmode\":\"overlay\",\"size\":10,\"solidity\":0.2}},\"type\":\"histogram\"}],\"histogram2d\":[{\"colorbar\":{\"outlinewidth\":0,\"ticks\":\"\"},\"colorscale\":[[0.0,\"#0d0887\"],[0.1111111111111111,\"#46039f\"],[0.2222222222222222,\"#7201a8\"],[0.3333333333333333,\"#9c179e\"],[0.4444444444444444,\"#bd3786\"],[0.5555555555555556,\"#d8576b\"],[0.6666666666666666,\"#ed7953\"],[0.7777777777777778,\"#fb9f3a\"],[0.8888888888888888,\"#fdca26\"],[1.0,\"#f0f921\"]],\"type\":\"histogram2d\"}],\"histogram2dcontour\":[{\"colorbar\":{\"outlinewidth\":0,\"ticks\":\"\"},\"colorscale\":[[0.0,\"#0d0887\"],[0.1111111111111111,\"#46039f\"],[0.2222222222222222,\"#7201a8\"],[0.3333333333333333,\"#9c179e\"],[0.4444444444444444,\"#bd3786\"],[0.5555555555555556,\"#d8576b\"],[0.6666666666666666,\"#ed7953\"],[0.7777777777777778,\"#fb9f3a\"],[0.8888888888888888,\"#fdca26\"],[1.0,\"#f0f921\"]],\"type\":\"histogram2dcontour\"}],\"mesh3d\":[{\"colorbar\":{\"outlinewidth\":0,\"ticks\":\"\"},\"type\":\"mesh3d\"}],\"parcoords\":[{\"line\":{\"colorbar\":{\"outlinewidth\":0,\"ticks\":\"\"}},\"type\":\"parcoords\"}],\"pie\":[{\"automargin\":true,\"type\":\"pie\"}],\"scatter\":[{\"marker\":{\"colorbar\":{\"outlinewidth\":0,\"ticks\":\"\"}},\"type\":\"scatter\"}],\"scatter3d\":[{\"line\":{\"colorbar\":{\"outlinewidth\":0,\"ticks\":\"\"}},\"marker\":{\"colorbar\":{\"outlinewidth\":0,\"ticks\":\"\"}},\"type\":\"scatter3d\"}],\"scattercarpet\":[{\"marker\":{\"colorbar\":{\"outlinewidth\":0,\"ticks\":\"\"}},\"type\":\"scattercarpet\"}],\"scattergeo\":[{\"marker\":{\"colorbar\":{\"outlinewidth\":0,\"ticks\":\"\"}},\"type\":\"scattergeo\"}],\"scattergl\":[{\"marker\":{\"colorbar\":{\"outlinewidth\":0,\"ticks\":\"\"}},\"type\":\"scattergl\"}],\"scattermapbox\":[{\"marker\":{\"colorbar\":{\"outlinewidth\":0,\"ticks\":\"\"}},\"type\":\"scattermapbox\"}],\"scatterpolar\":[{\"marker\":{\"colorbar\":{\"outlinewidth\":0,\"ticks\":\"\"}},\"type\":\"scatterpolar\"}],\"scatterpolargl\":[{\"marker\":{\"colorbar\":{\"outlinewidth\":0,\"ticks\":\"\"}},\"type\":\"scatterpolargl\"}],\"scatterternary\":[{\"marker\":{\"colorbar\":{\"outlinewidth\":0,\"ticks\":\"\"}},\"type\":\"scatterternary\"}],\"surface\":[{\"colorbar\":{\"outlinewidth\":0,\"ticks\":\"\"},\"colorscale\":[[0.0,\"#0d0887\"],[0.1111111111111111,\"#46039f\"],[0.2222222222222222,\"#7201a8\"],[0.3333333333333333,\"#9c179e\"],[0.4444444444444444,\"#bd3786\"],[0.5555555555555556,\"#d8576b\"],[0.6666666666666666,\"#ed7953\"],[0.7777777777777778,\"#fb9f3a\"],[0.8888888888888888,\"#fdca26\"],[1.0,\"#f0f921\"]],\"type\":\"surface\"}],\"table\":[{\"cells\":{\"fill\":{\"color\":\"#EBF0F8\"},\"line\":{\"color\":\"white\"}},\"header\":{\"fill\":{\"color\":\"#C8D4E3\"},\"line\":{\"color\":\"white\"}},\"type\":\"table\"}]},\"layout\":{\"annotationdefaults\":{\"arrowcolor\":\"#2a3f5f\",\"arrowhead\":0,\"arrowwidth\":1},\"autotypenumbers\":\"strict\",\"coloraxis\":{\"colorbar\":{\"outlinewidth\":0,\"ticks\":\"\"}},\"colorscale\":{\"diverging\":[[0,\"#8e0152\"],[0.1,\"#c51b7d\"],[0.2,\"#de77ae\"],[0.3,\"#f1b6da\"],[0.4,\"#fde0ef\"],[0.5,\"#f7f7f7\"],[0.6,\"#e6f5d0\"],[0.7,\"#b8e186\"],[0.8,\"#7fbc41\"],[0.9,\"#4d9221\"],[1,\"#276419\"]],\"sequential\":[[0.0,\"#0d0887\"],[0.1111111111111111,\"#46039f\"],[0.2222222222222222,\"#7201a8\"],[0.3333333333333333,\"#9c179e\"],[0.4444444444444444,\"#bd3786\"],[0.5555555555555556,\"#d8576b\"],[0.6666666666666666,\"#ed7953\"],[0.7777777777777778,\"#fb9f3a\"],[0.8888888888888888,\"#fdca26\"],[1.0,\"#f0f921\"]],\"sequentialminus\":[[0.0,\"#0d0887\"],[0.1111111111111111,\"#46039f\"],[0.2222222222222222,\"#7201a8\"],[0.3333333333333333,\"#9c179e\"],[0.4444444444444444,\"#bd3786\"],[0.5555555555555556,\"#d8576b\"],[0.6666666666666666,\"#ed7953\"],[0.7777777777777778,\"#fb9f3a\"],[0.8888888888888888,\"#fdca26\"],[1.0,\"#f0f921\"]]},\"colorway\":[\"#636efa\",\"#EF553B\",\"#00cc96\",\"#ab63fa\",\"#FFA15A\",\"#19d3f3\",\"#FF6692\",\"#B6E880\",\"#FF97FF\",\"#FECB52\"],\"font\":{\"color\":\"#2a3f5f\"},\"geo\":{\"bgcolor\":\"white\",\"lakecolor\":\"white\",\"landcolor\":\"#E5ECF6\",\"showlakes\":true,\"showland\":true,\"subunitcolor\":\"white\"},\"hoverlabel\":{\"align\":\"left\"},\"hovermode\":\"closest\",\"mapbox\":{\"style\":\"light\"},\"paper_bgcolor\":\"white\",\"plot_bgcolor\":\"#E5ECF6\",\"polar\":{\"angularaxis\":{\"gridcolor\":\"white\",\"linecolor\":\"white\",\"ticks\":\"\"},\"bgcolor\":\"#E5ECF6\",\"radialaxis\":{\"gridcolor\":\"white\",\"linecolor\":\"white\",\"ticks\":\"\"}},\"scene\":{\"xaxis\":{\"backgroundcolor\":\"#E5ECF6\",\"gridcolor\":\"white\",\"gridwidth\":2,\"linecolor\":\"white\",\"showbackground\":true,\"ticks\":\"\",\"zerolinecolor\":\"white\"},\"yaxis\":{\"backgroundcolor\":\"#E5ECF6\",\"gridcolor\":\"white\",\"gridwidth\":2,\"linecolor\":\"white\",\"showbackground\":true,\"ticks\":\"\",\"zerolinecolor\":\"white\"},\"zaxis\":{\"backgroundcolor\":\"#E5ECF6\",\"gridcolor\":\"white\",\"gridwidth\":2,\"linecolor\":\"white\",\"showbackground\":true,\"ticks\":\"\",\"zerolinecolor\":\"white\"}},\"shapedefaults\":{\"line\":{\"color\":\"#2a3f5f\"}},\"ternary\":{\"aaxis\":{\"gridcolor\":\"white\",\"linecolor\":\"white\",\"ticks\":\"\"},\"baxis\":{\"gridcolor\":\"white\",\"linecolor\":\"white\",\"ticks\":\"\"},\"bgcolor\":\"#E5ECF6\",\"caxis\":{\"gridcolor\":\"white\",\"linecolor\":\"white\",\"ticks\":\"\"}},\"title\":{\"x\":0.05},\"xaxis\":{\"automargin\":true,\"gridcolor\":\"white\",\"linecolor\":\"white\",\"ticks\":\"\",\"title\":{\"standoff\":15},\"zerolinecolor\":\"white\",\"zerolinewidth\":2},\"yaxis\":{\"automargin\":true,\"gridcolor\":\"white\",\"linecolor\":\"white\",\"ticks\":\"\",\"title\":{\"standoff\":15},\"zerolinecolor\":\"white\",\"zerolinewidth\":2}}}},                        {\"responsive\": true}                    ).then(function(){\n                            \nvar gd = document.getElementById('cc72bf30-48cd-4bce-b9ce-e5a8bfc85fae');\nvar x = new MutationObserver(function (mutations, observer) {{\n        var display = window.getComputedStyle(gd).display;\n        if (!display || display === 'none') {{\n            console.log([gd, 'removed!']);\n            Plotly.purge(gd);\n            observer.disconnect();\n        }}\n}});\n\n// Listen for the removal of the full notebook cells\nvar notebookContainer = gd.closest('#notebook-container');\nif (notebookContainer) {{\n    x.observe(notebookContainer, {childList: true});\n}}\n\n// Listen for the clearing of the current output cell\nvar outputEl = gd.closest('.output');\nif (outputEl) {{\n    x.observe(outputEl, {childList: true});\n}}\n\n                        })                };                });            </script>        </div>"
     },
     "metadata": {},
     "output_type": "display_data"
    }
   ],
   "source": [
    "fig = go.Figure()\n",
    "fig.add_trace(go.Scatter(x=[overlapping_sessions.loc[59076, 'connectionTime'], overlapping_sessions.loc[59076, 'disconnectTime']], y=len(overlapping_sessions)*[0]))\n",
    "fig.add_trace(go.Scatter(x=[overlapping_sessions.loc[59078, 'connectionTime'], overlapping_sessions.loc[59078, 'disconnectTime']], y=len(overlapping_sessions)*[1]))\n",
    "fig.show()"
   ],
   "metadata": {
    "collapsed": false,
    "pycharm": {
     "name": "#%%\n"
    }
   }
  }
 ],
 "metadata": {
  "kernelspec": {
   "display_name": "Python 3",
   "language": "python",
   "name": "python3"
  },
  "language_info": {
   "codemirror_mode": {
    "name": "ipython",
    "version": 2
   },
   "file_extension": ".py",
   "mimetype": "text/x-python",
   "name": "python",
   "nbconvert_exporter": "python",
   "pygments_lexer": "ipython2",
   "version": "2.7.6"
  }
 },
 "nbformat": 4,
 "nbformat_minor": 0
}