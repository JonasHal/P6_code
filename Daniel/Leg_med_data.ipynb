{
 "cells": [
  {
   "cell_type": "code",
   "execution_count": 1,
   "metadata": {
    "collapsed": true
   },
   "outputs": [],
   "source": [
    "from pathlib import Path\n",
    "import pandas as pd\n",
    "import numpy as np"
   ]
  },
  {
   "cell_type": "code",
   "execution_count": 4,
   "outputs": [
    {
     "name": "stdout",
     "output_type": "stream",
     "text": [
      "False\n",
      "False\n"
     ]
    }
   ],
   "source": [
    "data_1hour = pd.read_csv(Path(\"../Data/electricitybalancenonv_2_1_2022.csv\"), sep=',', decimal='.', encoding='utf-8', index_col='HourUTC', parse_dates=True)\n",
    "#data_1hour = data_1hour.drop('HourDK', axis=1)\n",
    "data_dk1 = data_1hour[data_1hour['PriceArea'] == 'DK1']\n",
    "data_dk2 = data_1hour[data_1hour['PriceArea'] == 'DK2']\n",
    "print(data_dk1.index.has_duplicates)\n",
    "print(data_dk2.index.has_duplicates)"
   ],
   "metadata": {
    "collapsed": false,
    "pycharm": {
     "name": "#%%\n"
    }
   }
  },
  {
   "cell_type": "code",
   "execution_count": null,
   "outputs": [],
   "source": [
    "data_dk1"
   ],
   "metadata": {
    "collapsed": false,
    "pycharm": {
     "name": "#%%\n"
    }
   }
  },
  {
   "cell_type": "code",
   "execution_count": null,
   "outputs": [],
   "source": [
    "data_dk1 = data_dk1.asfreq('1H')\n",
    "data_dk1[data_dk1.TotalLoad.isna()]"
   ],
   "metadata": {
    "collapsed": false,
    "pycharm": {
     "name": "#%%\n"
    }
   }
  },
  {
   "cell_type": "code",
   "execution_count": null,
   "outputs": [],
   "source": [
    "data_dk1['2020-07-25 16:00:00+00:00':'2020-10-26 22:00:00+00:00']"
   ],
   "metadata": {
    "collapsed": false,
    "pycharm": {
     "name": "#%%\n"
    }
   }
  },
  {
   "cell_type": "code",
   "execution_count": null,
   "outputs": [],
   "source": [
    "np.mean(data_dk1.loc['2020-07-22 22:00:00+00:00','TotalLoad'], data_dk1.loc['2020-07-22 22:00:00+00:00','TotalLoad'])"
   ],
   "metadata": {
    "collapsed": false,
    "pycharm": {
     "name": "#%%\n"
    }
   }
  },
  {
   "cell_type": "code",
   "execution_count": null,
   "outputs": [],
   "source": [
    "for i in range(len(data_dk1)):\n",
    "    if pd.isna(data_dk1.TotalLoad[i]):\n",
    "        for i in np.arange(-3, 3):\n",
    "\n",
    "        lower = data_dk1.TotalLoad[data_dk1.index[i] - pd.Timedelta(3, 'd')]\n",
    "        upper = data_dk1.TotalLoad[data_dk1.index[i] + pd.Timedelta(3, 'd')]\n",
    "\n",
    "print(lower, upper)"
   ],
   "metadata": {
    "collapsed": false,
    "pycharm": {
     "name": "#%%\n"
    }
   }
  },
  {
   "cell_type": "code",
   "execution_count": null,
   "outputs": [],
   "source": [
    "data_dk2"
   ],
   "metadata": {
    "collapsed": false,
    "pycharm": {
     "name": "#%%\n"
    }
   }
  },
  {
   "cell_type": "code",
   "execution_count": null,
   "outputs": [],
   "source": [
    "X, y = data_dk1.drop(columns=['TotalLoad']), data_dk1.TotalLoad"
   ],
   "metadata": {
    "collapsed": false,
    "pycharm": {
     "name": "#%%\n"
    }
   }
  }
 ],
 "metadata": {
  "kernelspec": {
   "display_name": "Python 3",
   "language": "python",
   "name": "python3"
  },
  "language_info": {
   "codemirror_mode": {
    "name": "ipython",
    "version": 2
   },
   "file_extension": ".py",
   "mimetype": "text/x-python",
   "name": "python",
   "nbconvert_exporter": "python",
   "pygments_lexer": "ipython2",
   "version": "2.7.6"
  }
 },
 "nbformat": 4,
 "nbformat_minor": 0
}