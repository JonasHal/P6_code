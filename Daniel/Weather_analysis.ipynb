{
 "cells": [
  {
   "cell_type": "code",
   "execution_count": 79,
   "metadata": {
    "collapsed": true,
    "pycharm": {
     "name": "#%%\n"
    }
   },
   "outputs": [],
   "source": [
    "import pandas as pd\n",
    "from pathlib import Path\n",
    "import plotly.express as px\n",
    "import plotly.graph_objs as go"
   ]
  },
  {
   "cell_type": "code",
   "execution_count": 81,
   "outputs": [
    {
     "data": {
      "text/plain": "      Stn Id  Stn Name       CIMIS Region        Date  Hour (PST)  Jul  \\\n0        159  Monrovia  Los Angeles Basin    2/2/2018         100   33   \n1        159  Monrovia  Los Angeles Basin    2/2/2018         200   33   \n2        159  Monrovia  Los Angeles Basin    2/2/2018         300   33   \n3        159  Monrovia  Los Angeles Basin    2/2/2018         400   33   \n4        159  Monrovia  Los Angeles Basin    2/2/2018         500   33   \n...      ...       ...                ...         ...         ...  ...   \n7987     159  Monrovia  Los Angeles Basin  12/31/2018        2000  365   \n7988     159  Monrovia  Los Angeles Basin  12/31/2018        2100  365   \n7989     159  Monrovia  Los Angeles Basin  12/31/2018        2200  365   \n7990     159  Monrovia  Los Angeles Basin  12/31/2018        2300  365   \n7991     159  Monrovia  Los Angeles Basin  12/31/2018        2400  365   \n\n      ETo (mm) qc  Precip (mm) qc.1  ...  Rel Hum (%) qc.5  Dew Point (C)  \\\n0         0.00             0.0       ...         43.0                 0.6   \n1         0.00             0.0       ...         44.0                 0.2   \n2         0.00             0.0       ...         43.0                -0.2   \n3         0.00             0.0       ...         43.0                -0.5   \n4         0.00             0.0       ...         43.0                -0.6   \n...        ... ..          ...  ...  ...          ...  ...            ...   \n7987      0.15             0.0       ...         11.0               -16.9   \n7988      0.15             0.0       ...         11.0               -16.7   \n7989      0.11             0.0       ...         12.0               -15.7   \n7990      0.10             0.0       ...         14.0               -15.2   \n7991      0.09             0.0       ...         15.0               -14.5   \n\n     qc.6  Wind Speed (m/s) qc.7  Wind Dir (0-360) qc.8  Soil Temp (C) qc.9  \n0                       1.2                  350.0                16.5       \n1                       1.3                  348.0                16.4       \n2                       1.4                  345.0                16.3       \n3                       1.3                  347.0                16.2       \n4                       1.2                  349.0                16.1       \n...   ...               ...  ...               ...  ...            ...  ...  \n7987                    4.7                  334.0                12.5       \n7988                    4.6                  332.0                12.6       \n7989                    3.2                  334.0                12.6       \n7990                    2.9                  334.0                12.6       \n7991                    2.7                  333.0                12.6       \n\n[7992 rows x 26 columns]",
      "text/html": "<div>\n<style scoped>\n    .dataframe tbody tr th:only-of-type {\n        vertical-align: middle;\n    }\n\n    .dataframe tbody tr th {\n        vertical-align: top;\n    }\n\n    .dataframe thead th {\n        text-align: right;\n    }\n</style>\n<table border=\"1\" class=\"dataframe\">\n  <thead>\n    <tr style=\"text-align: right;\">\n      <th></th>\n      <th>Stn Id</th>\n      <th>Stn Name</th>\n      <th>CIMIS Region</th>\n      <th>Date</th>\n      <th>Hour (PST)</th>\n      <th>Jul</th>\n      <th>ETo (mm)</th>\n      <th>qc</th>\n      <th>Precip (mm)</th>\n      <th>qc.1</th>\n      <th>...</th>\n      <th>Rel Hum (%)</th>\n      <th>qc.5</th>\n      <th>Dew Point (C)</th>\n      <th>qc.6</th>\n      <th>Wind Speed (m/s)</th>\n      <th>qc.7</th>\n      <th>Wind Dir (0-360)</th>\n      <th>qc.8</th>\n      <th>Soil Temp (C)</th>\n      <th>qc.9</th>\n    </tr>\n  </thead>\n  <tbody>\n    <tr>\n      <th>0</th>\n      <td>159</td>\n      <td>Monrovia</td>\n      <td>Los Angeles Basin</td>\n      <td>2/2/2018</td>\n      <td>100</td>\n      <td>33</td>\n      <td>0.00</td>\n      <td></td>\n      <td>0.0</td>\n      <td></td>\n      <td>...</td>\n      <td>43.0</td>\n      <td></td>\n      <td>0.6</td>\n      <td></td>\n      <td>1.2</td>\n      <td></td>\n      <td>350.0</td>\n      <td></td>\n      <td>16.5</td>\n      <td></td>\n    </tr>\n    <tr>\n      <th>1</th>\n      <td>159</td>\n      <td>Monrovia</td>\n      <td>Los Angeles Basin</td>\n      <td>2/2/2018</td>\n      <td>200</td>\n      <td>33</td>\n      <td>0.00</td>\n      <td></td>\n      <td>0.0</td>\n      <td></td>\n      <td>...</td>\n      <td>44.0</td>\n      <td></td>\n      <td>0.2</td>\n      <td></td>\n      <td>1.3</td>\n      <td></td>\n      <td>348.0</td>\n      <td></td>\n      <td>16.4</td>\n      <td></td>\n    </tr>\n    <tr>\n      <th>2</th>\n      <td>159</td>\n      <td>Monrovia</td>\n      <td>Los Angeles Basin</td>\n      <td>2/2/2018</td>\n      <td>300</td>\n      <td>33</td>\n      <td>0.00</td>\n      <td></td>\n      <td>0.0</td>\n      <td></td>\n      <td>...</td>\n      <td>43.0</td>\n      <td></td>\n      <td>-0.2</td>\n      <td></td>\n      <td>1.4</td>\n      <td></td>\n      <td>345.0</td>\n      <td></td>\n      <td>16.3</td>\n      <td></td>\n    </tr>\n    <tr>\n      <th>3</th>\n      <td>159</td>\n      <td>Monrovia</td>\n      <td>Los Angeles Basin</td>\n      <td>2/2/2018</td>\n      <td>400</td>\n      <td>33</td>\n      <td>0.00</td>\n      <td></td>\n      <td>0.0</td>\n      <td></td>\n      <td>...</td>\n      <td>43.0</td>\n      <td></td>\n      <td>-0.5</td>\n      <td></td>\n      <td>1.3</td>\n      <td></td>\n      <td>347.0</td>\n      <td></td>\n      <td>16.2</td>\n      <td></td>\n    </tr>\n    <tr>\n      <th>4</th>\n      <td>159</td>\n      <td>Monrovia</td>\n      <td>Los Angeles Basin</td>\n      <td>2/2/2018</td>\n      <td>500</td>\n      <td>33</td>\n      <td>0.00</td>\n      <td></td>\n      <td>0.0</td>\n      <td></td>\n      <td>...</td>\n      <td>43.0</td>\n      <td></td>\n      <td>-0.6</td>\n      <td></td>\n      <td>1.2</td>\n      <td></td>\n      <td>349.0</td>\n      <td></td>\n      <td>16.1</td>\n      <td></td>\n    </tr>\n    <tr>\n      <th>...</th>\n      <td>...</td>\n      <td>...</td>\n      <td>...</td>\n      <td>...</td>\n      <td>...</td>\n      <td>...</td>\n      <td>...</td>\n      <td>...</td>\n      <td>...</td>\n      <td>...</td>\n      <td>...</td>\n      <td>...</td>\n      <td>...</td>\n      <td>...</td>\n      <td>...</td>\n      <td>...</td>\n      <td>...</td>\n      <td>...</td>\n      <td>...</td>\n      <td>...</td>\n      <td>...</td>\n    </tr>\n    <tr>\n      <th>7987</th>\n      <td>159</td>\n      <td>Monrovia</td>\n      <td>Los Angeles Basin</td>\n      <td>12/31/2018</td>\n      <td>2000</td>\n      <td>365</td>\n      <td>0.15</td>\n      <td></td>\n      <td>0.0</td>\n      <td></td>\n      <td>...</td>\n      <td>11.0</td>\n      <td></td>\n      <td>-16.9</td>\n      <td></td>\n      <td>4.7</td>\n      <td></td>\n      <td>334.0</td>\n      <td></td>\n      <td>12.5</td>\n      <td></td>\n    </tr>\n    <tr>\n      <th>7988</th>\n      <td>159</td>\n      <td>Monrovia</td>\n      <td>Los Angeles Basin</td>\n      <td>12/31/2018</td>\n      <td>2100</td>\n      <td>365</td>\n      <td>0.15</td>\n      <td></td>\n      <td>0.0</td>\n      <td></td>\n      <td>...</td>\n      <td>11.0</td>\n      <td></td>\n      <td>-16.7</td>\n      <td></td>\n      <td>4.6</td>\n      <td></td>\n      <td>332.0</td>\n      <td></td>\n      <td>12.6</td>\n      <td></td>\n    </tr>\n    <tr>\n      <th>7989</th>\n      <td>159</td>\n      <td>Monrovia</td>\n      <td>Los Angeles Basin</td>\n      <td>12/31/2018</td>\n      <td>2200</td>\n      <td>365</td>\n      <td>0.11</td>\n      <td></td>\n      <td>0.0</td>\n      <td></td>\n      <td>...</td>\n      <td>12.0</td>\n      <td></td>\n      <td>-15.7</td>\n      <td></td>\n      <td>3.2</td>\n      <td></td>\n      <td>334.0</td>\n      <td></td>\n      <td>12.6</td>\n      <td></td>\n    </tr>\n    <tr>\n      <th>7990</th>\n      <td>159</td>\n      <td>Monrovia</td>\n      <td>Los Angeles Basin</td>\n      <td>12/31/2018</td>\n      <td>2300</td>\n      <td>365</td>\n      <td>0.10</td>\n      <td></td>\n      <td>0.0</td>\n      <td></td>\n      <td>...</td>\n      <td>14.0</td>\n      <td></td>\n      <td>-15.2</td>\n      <td></td>\n      <td>2.9</td>\n      <td></td>\n      <td>334.0</td>\n      <td></td>\n      <td>12.6</td>\n      <td></td>\n    </tr>\n    <tr>\n      <th>7991</th>\n      <td>159</td>\n      <td>Monrovia</td>\n      <td>Los Angeles Basin</td>\n      <td>12/31/2018</td>\n      <td>2400</td>\n      <td>365</td>\n      <td>0.09</td>\n      <td></td>\n      <td>0.0</td>\n      <td></td>\n      <td>...</td>\n      <td>15.0</td>\n      <td></td>\n      <td>-14.5</td>\n      <td></td>\n      <td>2.7</td>\n      <td></td>\n      <td>333.0</td>\n      <td></td>\n      <td>12.6</td>\n      <td></td>\n    </tr>\n  </tbody>\n</table>\n<p>7992 rows × 26 columns</p>\n</div>"
     },
     "execution_count": 81,
     "metadata": {},
     "output_type": "execute_result"
    }
   ],
   "source": [
    "weather_pasadena = pd.read_csv(Path('../Data/weather_Pasadena_hourly.csv'))\n",
    "weather_pasadena"
   ],
   "metadata": {
    "collapsed": false,
    "pycharm": {
     "name": "#%%\n"
    }
   }
  },
  {
   "cell_type": "code",
   "execution_count": 82,
   "outputs": [
    {
     "data": {
      "text/plain": "           Date  Hour (PST)  Jul  ETo (mm)  Precip (mm)  Sol Rad (W/sq.m)  \\\n0    2018-02-02         100   33      0.00          0.0               0.0   \n1    2018-02-02         200   33      0.00          0.0               0.0   \n2    2018-02-02         300   33      0.00          0.0               0.0   \n3    2018-02-02         400   33      0.00          0.0               0.0   \n4    2018-02-02         500   33      0.00          0.0               0.0   \n...         ...         ...  ...       ...          ...               ...   \n7987 2018-12-31        2000  365      0.15          0.0               0.0   \n7988 2018-12-31        2100  365      0.15          0.0               0.0   \n7989 2018-12-31        2200  365      0.11          0.0               0.0   \n7990 2018-12-31        2300  365      0.10          0.0               0.0   \n7991 2018-12-31        2400  365      0.09          0.0               0.0   \n\n      Vap Pres (kPa)  Air Temp (C)  Rel Hum (%)  Dew Point (C)  \\\n0                0.6          12.7         43.0            0.6   \n1                0.6          12.0         44.0            0.2   \n2                0.6          12.0         43.0           -0.2   \n3                0.6          11.7         43.0           -0.5   \n4                0.6          11.7         43.0           -0.6   \n...              ...           ...          ...            ...   \n7987             0.2          12.9         11.0          -16.9   \n7988             0.2          12.8         11.0          -16.7   \n7989             0.2          12.4         12.0          -15.7   \n7990             0.2          11.8         14.0          -15.2   \n7991             0.2          11.0         15.0          -14.5   \n\n      Wind Speed (m/s)  Wind Dir (0-360)  Soil Temp (C)                Time  \n0                  1.2             350.0           16.5 2018-02-02 00:00:00  \n1                  1.3             348.0           16.4 2018-02-02 01:00:00  \n2                  1.4             345.0           16.3 2018-02-02 02:00:00  \n3                  1.3             347.0           16.2 2018-02-02 03:00:00  \n4                  1.2             349.0           16.1 2018-02-02 04:00:00  \n...                ...               ...            ...                 ...  \n7987               4.7             334.0           12.5 2018-12-31 19:00:00  \n7988               4.6             332.0           12.6 2018-12-31 20:00:00  \n7989               3.2             334.0           12.6 2018-12-31 21:00:00  \n7990               2.9             334.0           12.6 2018-12-31 22:00:00  \n7991               2.7             333.0           12.6 2018-12-31 23:00:00  \n\n[7992 rows x 14 columns]",
      "text/html": "<div>\n<style scoped>\n    .dataframe tbody tr th:only-of-type {\n        vertical-align: middle;\n    }\n\n    .dataframe tbody tr th {\n        vertical-align: top;\n    }\n\n    .dataframe thead th {\n        text-align: right;\n    }\n</style>\n<table border=\"1\" class=\"dataframe\">\n  <thead>\n    <tr style=\"text-align: right;\">\n      <th></th>\n      <th>Date</th>\n      <th>Hour (PST)</th>\n      <th>Jul</th>\n      <th>ETo (mm)</th>\n      <th>Precip (mm)</th>\n      <th>Sol Rad (W/sq.m)</th>\n      <th>Vap Pres (kPa)</th>\n      <th>Air Temp (C)</th>\n      <th>Rel Hum (%)</th>\n      <th>Dew Point (C)</th>\n      <th>Wind Speed (m/s)</th>\n      <th>Wind Dir (0-360)</th>\n      <th>Soil Temp (C)</th>\n      <th>Time</th>\n    </tr>\n  </thead>\n  <tbody>\n    <tr>\n      <th>0</th>\n      <td>2018-02-02</td>\n      <td>100</td>\n      <td>33</td>\n      <td>0.00</td>\n      <td>0.0</td>\n      <td>0.0</td>\n      <td>0.6</td>\n      <td>12.7</td>\n      <td>43.0</td>\n      <td>0.6</td>\n      <td>1.2</td>\n      <td>350.0</td>\n      <td>16.5</td>\n      <td>2018-02-02 00:00:00</td>\n    </tr>\n    <tr>\n      <th>1</th>\n      <td>2018-02-02</td>\n      <td>200</td>\n      <td>33</td>\n      <td>0.00</td>\n      <td>0.0</td>\n      <td>0.0</td>\n      <td>0.6</td>\n      <td>12.0</td>\n      <td>44.0</td>\n      <td>0.2</td>\n      <td>1.3</td>\n      <td>348.0</td>\n      <td>16.4</td>\n      <td>2018-02-02 01:00:00</td>\n    </tr>\n    <tr>\n      <th>2</th>\n      <td>2018-02-02</td>\n      <td>300</td>\n      <td>33</td>\n      <td>0.00</td>\n      <td>0.0</td>\n      <td>0.0</td>\n      <td>0.6</td>\n      <td>12.0</td>\n      <td>43.0</td>\n      <td>-0.2</td>\n      <td>1.4</td>\n      <td>345.0</td>\n      <td>16.3</td>\n      <td>2018-02-02 02:00:00</td>\n    </tr>\n    <tr>\n      <th>3</th>\n      <td>2018-02-02</td>\n      <td>400</td>\n      <td>33</td>\n      <td>0.00</td>\n      <td>0.0</td>\n      <td>0.0</td>\n      <td>0.6</td>\n      <td>11.7</td>\n      <td>43.0</td>\n      <td>-0.5</td>\n      <td>1.3</td>\n      <td>347.0</td>\n      <td>16.2</td>\n      <td>2018-02-02 03:00:00</td>\n    </tr>\n    <tr>\n      <th>4</th>\n      <td>2018-02-02</td>\n      <td>500</td>\n      <td>33</td>\n      <td>0.00</td>\n      <td>0.0</td>\n      <td>0.0</td>\n      <td>0.6</td>\n      <td>11.7</td>\n      <td>43.0</td>\n      <td>-0.6</td>\n      <td>1.2</td>\n      <td>349.0</td>\n      <td>16.1</td>\n      <td>2018-02-02 04:00:00</td>\n    </tr>\n    <tr>\n      <th>...</th>\n      <td>...</td>\n      <td>...</td>\n      <td>...</td>\n      <td>...</td>\n      <td>...</td>\n      <td>...</td>\n      <td>...</td>\n      <td>...</td>\n      <td>...</td>\n      <td>...</td>\n      <td>...</td>\n      <td>...</td>\n      <td>...</td>\n      <td>...</td>\n    </tr>\n    <tr>\n      <th>7987</th>\n      <td>2018-12-31</td>\n      <td>2000</td>\n      <td>365</td>\n      <td>0.15</td>\n      <td>0.0</td>\n      <td>0.0</td>\n      <td>0.2</td>\n      <td>12.9</td>\n      <td>11.0</td>\n      <td>-16.9</td>\n      <td>4.7</td>\n      <td>334.0</td>\n      <td>12.5</td>\n      <td>2018-12-31 19:00:00</td>\n    </tr>\n    <tr>\n      <th>7988</th>\n      <td>2018-12-31</td>\n      <td>2100</td>\n      <td>365</td>\n      <td>0.15</td>\n      <td>0.0</td>\n      <td>0.0</td>\n      <td>0.2</td>\n      <td>12.8</td>\n      <td>11.0</td>\n      <td>-16.7</td>\n      <td>4.6</td>\n      <td>332.0</td>\n      <td>12.6</td>\n      <td>2018-12-31 20:00:00</td>\n    </tr>\n    <tr>\n      <th>7989</th>\n      <td>2018-12-31</td>\n      <td>2200</td>\n      <td>365</td>\n      <td>0.11</td>\n      <td>0.0</td>\n      <td>0.0</td>\n      <td>0.2</td>\n      <td>12.4</td>\n      <td>12.0</td>\n      <td>-15.7</td>\n      <td>3.2</td>\n      <td>334.0</td>\n      <td>12.6</td>\n      <td>2018-12-31 21:00:00</td>\n    </tr>\n    <tr>\n      <th>7990</th>\n      <td>2018-12-31</td>\n      <td>2300</td>\n      <td>365</td>\n      <td>0.10</td>\n      <td>0.0</td>\n      <td>0.0</td>\n      <td>0.2</td>\n      <td>11.8</td>\n      <td>14.0</td>\n      <td>-15.2</td>\n      <td>2.9</td>\n      <td>334.0</td>\n      <td>12.6</td>\n      <td>2018-12-31 22:00:00</td>\n    </tr>\n    <tr>\n      <th>7991</th>\n      <td>2018-12-31</td>\n      <td>2400</td>\n      <td>365</td>\n      <td>0.09</td>\n      <td>0.0</td>\n      <td>0.0</td>\n      <td>0.2</td>\n      <td>11.0</td>\n      <td>15.0</td>\n      <td>-14.5</td>\n      <td>2.7</td>\n      <td>333.0</td>\n      <td>12.6</td>\n      <td>2018-12-31 23:00:00</td>\n    </tr>\n  </tbody>\n</table>\n<p>7992 rows × 14 columns</p>\n</div>"
     },
     "execution_count": 82,
     "metadata": {},
     "output_type": "execute_result"
    }
   ],
   "source": [
    "weather_pasadena = pd.read_csv(Path('../Data/weather_Pasadena_hourly.csv'))\n",
    "weather_pasadena.drop([col for col in weather_pasadena.columns if 'qc' in col], axis = 1, inplace=True)\n",
    "weather_pasadena.drop(['Stn Id', 'Stn Name', 'CIMIS Region'], axis = 1, inplace=True)\n",
    "weather_pasadena['Date'] = pd.to_datetime(weather_pasadena['Date'])\n",
    "weather_pasadena['Time'] = weather_pasadena['Date'] + pd.to_timedelta((weather_pasadena['Hour (PST)']/100 - 1), unit='h')\n",
    "weather_pasadena"
   ],
   "metadata": {
    "collapsed": false,
    "pycharm": {
     "name": "#%%\n"
    }
   }
  }
 ],
 "metadata": {
  "kernelspec": {
   "display_name": "Python 3",
   "language": "python",
   "name": "python3"
  },
  "language_info": {
   "codemirror_mode": {
    "name": "ipython",
    "version": 2
   },
   "file_extension": ".py",
   "mimetype": "text/x-python",
   "name": "python",
   "nbconvert_exporter": "python",
   "pygments_lexer": "ipython2",
   "version": "2.7.6"
  }
 },
 "nbformat": 4,
 "nbformat_minor": 0
}