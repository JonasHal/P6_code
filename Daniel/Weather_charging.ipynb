{
 "cells": [
  {
   "cell_type": "code",
   "execution_count": 1,
   "metadata": {
    "collapsed": true
   },
   "outputs": [],
   "source": [
    "import pandas as pd\n",
    "import numpy as np\n",
    "from P6_code.FinishedCode.importData import ImportEV, ImportWeather\n",
    "from P6_code.FinishedCode.dataTransformation import createUsers\n",
    "import plotly.express as px\n",
    "import plotly.graph_objects as go"
   ]
  },
  {
   "cell_type": "code",
   "execution_count": 2,
   "outputs": [],
   "source": [
    "start, end = \"2018-05-01\", \"2018-11-01\""
   ],
   "metadata": {
    "collapsed": false,
    "pycharm": {
     "name": "#%%\n"
    }
   }
  },
  {
   "cell_type": "code",
   "execution_count": 15,
   "outputs": [
    {
     "data": {
      "text/plain": "           Date  Hour  Precip (mm)  Air Temp (C)  Wind Speed (m/s)\n0    2018-02-02   0.0          0.0          12.7               1.2\n1    2018-02-02   1.0          0.0          12.0               1.3\n2    2018-02-02   2.0          0.0          12.0               1.4\n3    2018-02-02   3.0          0.0          11.7               1.3\n4    2018-02-02   4.0          0.0          11.7               1.2\n...         ...   ...          ...           ...               ...\n7987 2018-12-31  19.0          0.0          12.9               4.7\n7988 2018-12-31  20.0          0.0          12.8               4.6\n7989 2018-12-31  21.0          0.0          12.4               3.2\n7990 2018-12-31  22.0          0.0          11.8               2.9\n7991 2018-12-31  23.0          0.0          11.0               2.7\n\n[7992 rows x 5 columns]",
      "text/html": "<div>\n<style scoped>\n    .dataframe tbody tr th:only-of-type {\n        vertical-align: middle;\n    }\n\n    .dataframe tbody tr th {\n        vertical-align: top;\n    }\n\n    .dataframe thead th {\n        text-align: right;\n    }\n</style>\n<table border=\"1\" class=\"dataframe\">\n  <thead>\n    <tr style=\"text-align: right;\">\n      <th></th>\n      <th>Date</th>\n      <th>Hour</th>\n      <th>Precip (mm)</th>\n      <th>Air Temp (C)</th>\n      <th>Wind Speed (m/s)</th>\n    </tr>\n  </thead>\n  <tbody>\n    <tr>\n      <th>0</th>\n      <td>2018-02-02</td>\n      <td>0.0</td>\n      <td>0.0</td>\n      <td>12.7</td>\n      <td>1.2</td>\n    </tr>\n    <tr>\n      <th>1</th>\n      <td>2018-02-02</td>\n      <td>1.0</td>\n      <td>0.0</td>\n      <td>12.0</td>\n      <td>1.3</td>\n    </tr>\n    <tr>\n      <th>2</th>\n      <td>2018-02-02</td>\n      <td>2.0</td>\n      <td>0.0</td>\n      <td>12.0</td>\n      <td>1.4</td>\n    </tr>\n    <tr>\n      <th>3</th>\n      <td>2018-02-02</td>\n      <td>3.0</td>\n      <td>0.0</td>\n      <td>11.7</td>\n      <td>1.3</td>\n    </tr>\n    <tr>\n      <th>4</th>\n      <td>2018-02-02</td>\n      <td>4.0</td>\n      <td>0.0</td>\n      <td>11.7</td>\n      <td>1.2</td>\n    </tr>\n    <tr>\n      <th>...</th>\n      <td>...</td>\n      <td>...</td>\n      <td>...</td>\n      <td>...</td>\n      <td>...</td>\n    </tr>\n    <tr>\n      <th>7987</th>\n      <td>2018-12-31</td>\n      <td>19.0</td>\n      <td>0.0</td>\n      <td>12.9</td>\n      <td>4.7</td>\n    </tr>\n    <tr>\n      <th>7988</th>\n      <td>2018-12-31</td>\n      <td>20.0</td>\n      <td>0.0</td>\n      <td>12.8</td>\n      <td>4.6</td>\n    </tr>\n    <tr>\n      <th>7989</th>\n      <td>2018-12-31</td>\n      <td>21.0</td>\n      <td>0.0</td>\n      <td>12.4</td>\n      <td>3.2</td>\n    </tr>\n    <tr>\n      <th>7990</th>\n      <td>2018-12-31</td>\n      <td>22.0</td>\n      <td>0.0</td>\n      <td>11.8</td>\n      <td>2.9</td>\n    </tr>\n    <tr>\n      <th>7991</th>\n      <td>2018-12-31</td>\n      <td>23.0</td>\n      <td>0.0</td>\n      <td>11.0</td>\n      <td>2.7</td>\n    </tr>\n  </tbody>\n</table>\n<p>7992 rows × 5 columns</p>\n</div>"
     },
     "execution_count": 15,
     "metadata": {},
     "output_type": "execute_result"
    }
   ],
   "source": [
    "weather = ImportWeather().getPasadena(agg='hour')\n",
    "weather.rename(columns={'Hour (PST)' : 'Hour'}, inplace=True)\n",
    "weather['Hour'] = weather['Hour']/100 -1\n",
    "#weather = weather.loc[(weather.index.date >= start) & (weather.index.date < end)]\n",
    "weather.drop(['Jul', 'ETo (mm)', 'Sol Rad (W/sq.m)', 'Vap Pres (kPa)', 'Rel Hum (%)', 'Dew Point (C)', 'Wind Dir (0-360)', 'Soil Temp (C)'], axis='columns', inplace=True)\n",
    "weather"
   ],
   "metadata": {
    "collapsed": false,
    "pycharm": {
     "name": "#%%\n"
    }
   }
  },
  {
   "cell_type": "code",
   "execution_count": 4,
   "outputs": [
    {
     "data": {
      "text/plain": "                            _id clusterID            connectionTime  \\\n270    5bc9160af9af8b0dad3c0690      0039 2018-05-01 06:23:18+00:00   \n271    5bc9160af9af8b0dad3c0691      0039 2018-05-01 06:54:34+00:00   \n272    5bc9160af9af8b0dad3c0692      0039 2018-05-01 07:46:04+00:00   \n273    5bc9160af9af8b0dad3c0693      0039 2018-05-01 07:56:29+00:00   \n274    5bc9160af9af8b0dad3c0694      0039 2018-05-01 08:14:50+00:00   \n...                         ...       ...                       ...   \n13108  5c2e8550f9af8b13dab074d9      0039 2018-10-31 21:53:58+00:00   \n13109  5c2e8550f9af8b13dab074da      0039 2018-10-31 22:32:47+00:00   \n13110  5c2e8550f9af8b13dab074db      0039 2018-10-31 22:40:49+00:00   \n13111  5c2e8550f9af8b13dab074dc      0039 2018-10-31 22:53:48+00:00   \n13112  5c2e8550f9af8b13dab074dd      0039 2018-10-31 23:25:56+00:00   \n\n                 disconnectTime          doneChargingTime  kWhDelivered  \\\n270   2018-05-01 18:53:41+00:00 2018-05-01 10:17:07+00:00     13.410000   \n271   2018-05-01 16:15:35+00:00 2018-05-01 08:35:39+00:00      8.618000   \n272   2018-05-01 17:54:07+00:00 2018-05-01 16:57:02+00:00     13.969000   \n273   2018-05-01 14:52:45+00:00 2018-05-01 09:07:56+00:00      6.914000   \n274   2018-05-01 15:51:30+00:00 2018-05-01 13:18:12+00:00     13.785000   \n...                         ...                       ...           ...   \n13108 2018-10-31 22:32:43+00:00 2018-10-31 22:33:42+00:00      3.372000   \n13109 2018-10-31 22:53:40+00:00 2018-10-31 22:53:00+00:00      1.389000   \n13110 2018-11-01 00:57:28+00:00 2018-11-01 00:27:00+00:00      1.225597   \n13111 2018-10-31 23:24:48+00:00 2018-10-31 23:24:16+00:00      0.962000   \n13112 2018-10-31 23:57:35+00:00 2018-10-31 23:56:24+00:00      0.980000   \n\n                                    sessionID siteID spaceID    stationID  \\\n270     2_39_95_27_2018-05-01 13:23:18.374684   0002  CA-319   2-39-95-27   \n271    2_39_79_380_2018-05-01 13:54:33.599590   0002  CA-489  2-39-79-380   \n272    2_39_139_28_2018-05-01 14:46:04.441389   0002  CA-303  2-39-139-28   \n273    2_39_79_378_2018-05-01 14:56:28.908623   0002  CA-326  2-39-79-378   \n274     2_39_88_24_2018-05-01 15:14:50.443137   0002  CA-314   2-39-88-24   \n...                                       ...    ...     ...          ...   \n13108   2_39_90_26_2018-11-01 04:53:58.292201   0002  CA-316   2-39-90-26   \n13109   2_39_90_26_2018-11-01 05:32:47.339653   0002  CA-316   2-39-90-26   \n13110  2_39_78_365_2018-11-01 05:40:48.678916   0002  CA-321  2-39-78-365   \n13111  2_39_90_440_2018-11-01 05:53:48.467907   0002  CA-500  2-39-90-440   \n13112  2_39_131_30_2018-11-01 06:25:55.685229   0002  CA-305  2-39-131-30   \n\n                  timezone userID userInputs  chargingTime       Date  Hour  \n270    America/Los_Angeles   None       None       14029.0 2018-05-01   6.0  \n271    America/Los_Angeles   None       None        6065.0 2018-05-01   6.0  \n272    America/Los_Angeles   None       None       33058.0 2018-05-01   7.0  \n273    America/Los_Angeles   None       None        4287.0 2018-05-01   7.0  \n274    America/Los_Angeles   None       None       18202.0 2018-05-01   8.0  \n...                    ...    ...        ...           ...        ...   ...  \n13108  America/Los_Angeles   None       None        2384.0 2018-10-31  21.0  \n13109  America/Los_Angeles   None       None        1213.0 2018-10-31  22.0  \n13110  America/Los_Angeles   None       None        6371.0 2018-10-31  22.0  \n13111  America/Los_Angeles   None       None        1828.0 2018-10-31  22.0  \n13112  America/Los_Angeles   None       None        1828.0 2018-10-31  23.0  \n\n[12843 rows x 16 columns]",
      "text/html": "<div>\n<style scoped>\n    .dataframe tbody tr th:only-of-type {\n        vertical-align: middle;\n    }\n\n    .dataframe tbody tr th {\n        vertical-align: top;\n    }\n\n    .dataframe thead th {\n        text-align: right;\n    }\n</style>\n<table border=\"1\" class=\"dataframe\">\n  <thead>\n    <tr style=\"text-align: right;\">\n      <th></th>\n      <th>_id</th>\n      <th>clusterID</th>\n      <th>connectionTime</th>\n      <th>disconnectTime</th>\n      <th>doneChargingTime</th>\n      <th>kWhDelivered</th>\n      <th>sessionID</th>\n      <th>siteID</th>\n      <th>spaceID</th>\n      <th>stationID</th>\n      <th>timezone</th>\n      <th>userID</th>\n      <th>userInputs</th>\n      <th>chargingTime</th>\n      <th>Date</th>\n      <th>Hour</th>\n    </tr>\n  </thead>\n  <tbody>\n    <tr>\n      <th>270</th>\n      <td>5bc9160af9af8b0dad3c0690</td>\n      <td>0039</td>\n      <td>2018-05-01 06:23:18+00:00</td>\n      <td>2018-05-01 18:53:41+00:00</td>\n      <td>2018-05-01 10:17:07+00:00</td>\n      <td>13.410000</td>\n      <td>2_39_95_27_2018-05-01 13:23:18.374684</td>\n      <td>0002</td>\n      <td>CA-319</td>\n      <td>2-39-95-27</td>\n      <td>America/Los_Angeles</td>\n      <td>None</td>\n      <td>None</td>\n      <td>14029.0</td>\n      <td>2018-05-01</td>\n      <td>6.0</td>\n    </tr>\n    <tr>\n      <th>271</th>\n      <td>5bc9160af9af8b0dad3c0691</td>\n      <td>0039</td>\n      <td>2018-05-01 06:54:34+00:00</td>\n      <td>2018-05-01 16:15:35+00:00</td>\n      <td>2018-05-01 08:35:39+00:00</td>\n      <td>8.618000</td>\n      <td>2_39_79_380_2018-05-01 13:54:33.599590</td>\n      <td>0002</td>\n      <td>CA-489</td>\n      <td>2-39-79-380</td>\n      <td>America/Los_Angeles</td>\n      <td>None</td>\n      <td>None</td>\n      <td>6065.0</td>\n      <td>2018-05-01</td>\n      <td>6.0</td>\n    </tr>\n    <tr>\n      <th>272</th>\n      <td>5bc9160af9af8b0dad3c0692</td>\n      <td>0039</td>\n      <td>2018-05-01 07:46:04+00:00</td>\n      <td>2018-05-01 17:54:07+00:00</td>\n      <td>2018-05-01 16:57:02+00:00</td>\n      <td>13.969000</td>\n      <td>2_39_139_28_2018-05-01 14:46:04.441389</td>\n      <td>0002</td>\n      <td>CA-303</td>\n      <td>2-39-139-28</td>\n      <td>America/Los_Angeles</td>\n      <td>None</td>\n      <td>None</td>\n      <td>33058.0</td>\n      <td>2018-05-01</td>\n      <td>7.0</td>\n    </tr>\n    <tr>\n      <th>273</th>\n      <td>5bc9160af9af8b0dad3c0693</td>\n      <td>0039</td>\n      <td>2018-05-01 07:56:29+00:00</td>\n      <td>2018-05-01 14:52:45+00:00</td>\n      <td>2018-05-01 09:07:56+00:00</td>\n      <td>6.914000</td>\n      <td>2_39_79_378_2018-05-01 14:56:28.908623</td>\n      <td>0002</td>\n      <td>CA-326</td>\n      <td>2-39-79-378</td>\n      <td>America/Los_Angeles</td>\n      <td>None</td>\n      <td>None</td>\n      <td>4287.0</td>\n      <td>2018-05-01</td>\n      <td>7.0</td>\n    </tr>\n    <tr>\n      <th>274</th>\n      <td>5bc9160af9af8b0dad3c0694</td>\n      <td>0039</td>\n      <td>2018-05-01 08:14:50+00:00</td>\n      <td>2018-05-01 15:51:30+00:00</td>\n      <td>2018-05-01 13:18:12+00:00</td>\n      <td>13.785000</td>\n      <td>2_39_88_24_2018-05-01 15:14:50.443137</td>\n      <td>0002</td>\n      <td>CA-314</td>\n      <td>2-39-88-24</td>\n      <td>America/Los_Angeles</td>\n      <td>None</td>\n      <td>None</td>\n      <td>18202.0</td>\n      <td>2018-05-01</td>\n      <td>8.0</td>\n    </tr>\n    <tr>\n      <th>...</th>\n      <td>...</td>\n      <td>...</td>\n      <td>...</td>\n      <td>...</td>\n      <td>...</td>\n      <td>...</td>\n      <td>...</td>\n      <td>...</td>\n      <td>...</td>\n      <td>...</td>\n      <td>...</td>\n      <td>...</td>\n      <td>...</td>\n      <td>...</td>\n      <td>...</td>\n      <td>...</td>\n    </tr>\n    <tr>\n      <th>13108</th>\n      <td>5c2e8550f9af8b13dab074d9</td>\n      <td>0039</td>\n      <td>2018-10-31 21:53:58+00:00</td>\n      <td>2018-10-31 22:32:43+00:00</td>\n      <td>2018-10-31 22:33:42+00:00</td>\n      <td>3.372000</td>\n      <td>2_39_90_26_2018-11-01 04:53:58.292201</td>\n      <td>0002</td>\n      <td>CA-316</td>\n      <td>2-39-90-26</td>\n      <td>America/Los_Angeles</td>\n      <td>None</td>\n      <td>None</td>\n      <td>2384.0</td>\n      <td>2018-10-31</td>\n      <td>21.0</td>\n    </tr>\n    <tr>\n      <th>13109</th>\n      <td>5c2e8550f9af8b13dab074da</td>\n      <td>0039</td>\n      <td>2018-10-31 22:32:47+00:00</td>\n      <td>2018-10-31 22:53:40+00:00</td>\n      <td>2018-10-31 22:53:00+00:00</td>\n      <td>1.389000</td>\n      <td>2_39_90_26_2018-11-01 05:32:47.339653</td>\n      <td>0002</td>\n      <td>CA-316</td>\n      <td>2-39-90-26</td>\n      <td>America/Los_Angeles</td>\n      <td>None</td>\n      <td>None</td>\n      <td>1213.0</td>\n      <td>2018-10-31</td>\n      <td>22.0</td>\n    </tr>\n    <tr>\n      <th>13110</th>\n      <td>5c2e8550f9af8b13dab074db</td>\n      <td>0039</td>\n      <td>2018-10-31 22:40:49+00:00</td>\n      <td>2018-11-01 00:57:28+00:00</td>\n      <td>2018-11-01 00:27:00+00:00</td>\n      <td>1.225597</td>\n      <td>2_39_78_365_2018-11-01 05:40:48.678916</td>\n      <td>0002</td>\n      <td>CA-321</td>\n      <td>2-39-78-365</td>\n      <td>America/Los_Angeles</td>\n      <td>None</td>\n      <td>None</td>\n      <td>6371.0</td>\n      <td>2018-10-31</td>\n      <td>22.0</td>\n    </tr>\n    <tr>\n      <th>13111</th>\n      <td>5c2e8550f9af8b13dab074dc</td>\n      <td>0039</td>\n      <td>2018-10-31 22:53:48+00:00</td>\n      <td>2018-10-31 23:24:48+00:00</td>\n      <td>2018-10-31 23:24:16+00:00</td>\n      <td>0.962000</td>\n      <td>2_39_90_440_2018-11-01 05:53:48.467907</td>\n      <td>0002</td>\n      <td>CA-500</td>\n      <td>2-39-90-440</td>\n      <td>America/Los_Angeles</td>\n      <td>None</td>\n      <td>None</td>\n      <td>1828.0</td>\n      <td>2018-10-31</td>\n      <td>22.0</td>\n    </tr>\n    <tr>\n      <th>13112</th>\n      <td>5c2e8550f9af8b13dab074dd</td>\n      <td>0039</td>\n      <td>2018-10-31 23:25:56+00:00</td>\n      <td>2018-10-31 23:57:35+00:00</td>\n      <td>2018-10-31 23:56:24+00:00</td>\n      <td>0.980000</td>\n      <td>2_39_131_30_2018-11-01 06:25:55.685229</td>\n      <td>0002</td>\n      <td>CA-305</td>\n      <td>2-39-131-30</td>\n      <td>America/Los_Angeles</td>\n      <td>None</td>\n      <td>None</td>\n      <td>1828.0</td>\n      <td>2018-10-31</td>\n      <td>23.0</td>\n    </tr>\n  </tbody>\n</table>\n<p>12843 rows × 16 columns</p>\n</div>"
     },
     "execution_count": 4,
     "metadata": {},
     "output_type": "execute_result"
    }
   ],
   "source": [
    "ev_data = ImportEV().getCaltech(start_date=start, end_date=end, removeUsers=False, userSampleLimit=25)\n",
    "Users = createUsers(ev_data, start, end).data\n",
    "#Users['dailyPrecip'] = [weather['Precip (mm)'][i] for i in Users['connectionTime'].dt.strftime('%Y-%m-%d')]\n",
    "#Users['dailyTemp'] = [weather['Air Temp (C)'][i] for i in Users['connectionTime'].dt.strftime('%Y-%m-%d')]\n",
    "#Users['dailyWind'] = [weather['Wind Speed (m/s)'][i] for i in Users['connectionTime'].dt.strftime('%Y-%m-%d')]\n",
    "Users['chargingTime'] = (pd.to_datetime(Users[\"doneChargingTime\"]) - pd.to_datetime(Users[\"connectionTime\"])) / np.timedelta64(1, 's')\n",
    "Users.loc[:, (\"Date\")] = pd.to_datetime(Users.connectionTime.dt.strftime('%Y-%m-%d'))\n",
    "Users.loc[:, (\"Hour\")] = Users.connectionTime.dt.hour.astype(float)\n",
    "\n",
    "#User_61 = Users.getUserData(user=\"000000061\")\n",
    "#User_61['Date'] = pd.to_datetime([f\"{User_61['Year'][i]}-{User_61['Month'][i]}-{User_61['Day'][i]}\" for i in User_61.index])\n",
    "\n",
    "Users"
   ],
   "metadata": {
    "collapsed": false,
    "pycharm": {
     "name": "#%%\n"
    }
   }
  },
  {
   "cell_type": "code",
   "execution_count": 16,
   "outputs": [
    {
     "data": {
      "text/plain": "            Date  Hour  Precip (mm)  Air Temp (C)  Wind Speed (m/s)  \\\n0     2018-05-01   6.0          0.1          10.9               1.2   \n1     2018-05-01   6.0          0.1          10.9               1.2   \n2     2018-05-01   7.0          0.0          11.2               1.1   \n3     2018-05-01   7.0          0.0          11.2               1.1   \n4     2018-05-01   8.0          0.0          11.7               1.3   \n...          ...   ...          ...           ...               ...   \n12838 2018-10-31  21.0          0.0          15.3               1.1   \n12839 2018-10-31  22.0          0.0          14.4               1.2   \n12840 2018-10-31  22.0          0.0          14.4               1.2   \n12841 2018-10-31  22.0          0.0          14.4               1.2   \n12842 2018-10-31  23.0          0.0          14.1               1.2   \n\n                            _id clusterID            connectionTime  \\\n0      5bc9160af9af8b0dad3c0690      0039 2018-05-01 06:23:18+00:00   \n1      5bc9160af9af8b0dad3c0691      0039 2018-05-01 06:54:34+00:00   \n2      5bc9160af9af8b0dad3c0692      0039 2018-05-01 07:46:04+00:00   \n3      5bc9160af9af8b0dad3c0693      0039 2018-05-01 07:56:29+00:00   \n4      5bc9160af9af8b0dad3c0694      0039 2018-05-01 08:14:50+00:00   \n...                         ...       ...                       ...   \n12838  5c2e8550f9af8b13dab074d9      0039 2018-10-31 21:53:58+00:00   \n12839  5c2e8550f9af8b13dab074da      0039 2018-10-31 22:32:47+00:00   \n12840  5c2e8550f9af8b13dab074db      0039 2018-10-31 22:40:49+00:00   \n12841  5c2e8550f9af8b13dab074dc      0039 2018-10-31 22:53:48+00:00   \n12842  5c2e8550f9af8b13dab074dd      0039 2018-10-31 23:25:56+00:00   \n\n                 disconnectTime          doneChargingTime  kWhDelivered  \\\n0     2018-05-01 18:53:41+00:00 2018-05-01 10:17:07+00:00     13.410000   \n1     2018-05-01 16:15:35+00:00 2018-05-01 08:35:39+00:00      8.618000   \n2     2018-05-01 17:54:07+00:00 2018-05-01 16:57:02+00:00     13.969000   \n3     2018-05-01 14:52:45+00:00 2018-05-01 09:07:56+00:00      6.914000   \n4     2018-05-01 15:51:30+00:00 2018-05-01 13:18:12+00:00     13.785000   \n...                         ...                       ...           ...   \n12838 2018-10-31 22:32:43+00:00 2018-10-31 22:33:42+00:00      3.372000   \n12839 2018-10-31 22:53:40+00:00 2018-10-31 22:53:00+00:00      1.389000   \n12840 2018-11-01 00:57:28+00:00 2018-11-01 00:27:00+00:00      1.225597   \n12841 2018-10-31 23:24:48+00:00 2018-10-31 23:24:16+00:00      0.962000   \n12842 2018-10-31 23:57:35+00:00 2018-10-31 23:56:24+00:00      0.980000   \n\n                                    sessionID siteID spaceID    stationID  \\\n0       2_39_95_27_2018-05-01 13:23:18.374684   0002  CA-319   2-39-95-27   \n1      2_39_79_380_2018-05-01 13:54:33.599590   0002  CA-489  2-39-79-380   \n2      2_39_139_28_2018-05-01 14:46:04.441389   0002  CA-303  2-39-139-28   \n3      2_39_79_378_2018-05-01 14:56:28.908623   0002  CA-326  2-39-79-378   \n4       2_39_88_24_2018-05-01 15:14:50.443137   0002  CA-314   2-39-88-24   \n...                                       ...    ...     ...          ...   \n12838   2_39_90_26_2018-11-01 04:53:58.292201   0002  CA-316   2-39-90-26   \n12839   2_39_90_26_2018-11-01 05:32:47.339653   0002  CA-316   2-39-90-26   \n12840  2_39_78_365_2018-11-01 05:40:48.678916   0002  CA-321  2-39-78-365   \n12841  2_39_90_440_2018-11-01 05:53:48.467907   0002  CA-500  2-39-90-440   \n12842  2_39_131_30_2018-11-01 06:25:55.685229   0002  CA-305  2-39-131-30   \n\n                  timezone userID userInputs  chargingTime  \n0      America/Los_Angeles   None       None       14029.0  \n1      America/Los_Angeles   None       None        6065.0  \n2      America/Los_Angeles   None       None       33058.0  \n3      America/Los_Angeles   None       None        4287.0  \n4      America/Los_Angeles   None       None       18202.0  \n...                    ...    ...        ...           ...  \n12838  America/Los_Angeles   None       None        2384.0  \n12839  America/Los_Angeles   None       None        1213.0  \n12840  America/Los_Angeles   None       None        6371.0  \n12841  America/Los_Angeles   None       None        1828.0  \n12842  America/Los_Angeles   None       None        1828.0  \n\n[12843 rows x 19 columns]",
      "text/html": "<div>\n<style scoped>\n    .dataframe tbody tr th:only-of-type {\n        vertical-align: middle;\n    }\n\n    .dataframe tbody tr th {\n        vertical-align: top;\n    }\n\n    .dataframe thead th {\n        text-align: right;\n    }\n</style>\n<table border=\"1\" class=\"dataframe\">\n  <thead>\n    <tr style=\"text-align: right;\">\n      <th></th>\n      <th>Date</th>\n      <th>Hour</th>\n      <th>Precip (mm)</th>\n      <th>Air Temp (C)</th>\n      <th>Wind Speed (m/s)</th>\n      <th>_id</th>\n      <th>clusterID</th>\n      <th>connectionTime</th>\n      <th>disconnectTime</th>\n      <th>doneChargingTime</th>\n      <th>kWhDelivered</th>\n      <th>sessionID</th>\n      <th>siteID</th>\n      <th>spaceID</th>\n      <th>stationID</th>\n      <th>timezone</th>\n      <th>userID</th>\n      <th>userInputs</th>\n      <th>chargingTime</th>\n    </tr>\n  </thead>\n  <tbody>\n    <tr>\n      <th>0</th>\n      <td>2018-05-01</td>\n      <td>6.0</td>\n      <td>0.1</td>\n      <td>10.9</td>\n      <td>1.2</td>\n      <td>5bc9160af9af8b0dad3c0690</td>\n      <td>0039</td>\n      <td>2018-05-01 06:23:18+00:00</td>\n      <td>2018-05-01 18:53:41+00:00</td>\n      <td>2018-05-01 10:17:07+00:00</td>\n      <td>13.410000</td>\n      <td>2_39_95_27_2018-05-01 13:23:18.374684</td>\n      <td>0002</td>\n      <td>CA-319</td>\n      <td>2-39-95-27</td>\n      <td>America/Los_Angeles</td>\n      <td>None</td>\n      <td>None</td>\n      <td>14029.0</td>\n    </tr>\n    <tr>\n      <th>1</th>\n      <td>2018-05-01</td>\n      <td>6.0</td>\n      <td>0.1</td>\n      <td>10.9</td>\n      <td>1.2</td>\n      <td>5bc9160af9af8b0dad3c0691</td>\n      <td>0039</td>\n      <td>2018-05-01 06:54:34+00:00</td>\n      <td>2018-05-01 16:15:35+00:00</td>\n      <td>2018-05-01 08:35:39+00:00</td>\n      <td>8.618000</td>\n      <td>2_39_79_380_2018-05-01 13:54:33.599590</td>\n      <td>0002</td>\n      <td>CA-489</td>\n      <td>2-39-79-380</td>\n      <td>America/Los_Angeles</td>\n      <td>None</td>\n      <td>None</td>\n      <td>6065.0</td>\n    </tr>\n    <tr>\n      <th>2</th>\n      <td>2018-05-01</td>\n      <td>7.0</td>\n      <td>0.0</td>\n      <td>11.2</td>\n      <td>1.1</td>\n      <td>5bc9160af9af8b0dad3c0692</td>\n      <td>0039</td>\n      <td>2018-05-01 07:46:04+00:00</td>\n      <td>2018-05-01 17:54:07+00:00</td>\n      <td>2018-05-01 16:57:02+00:00</td>\n      <td>13.969000</td>\n      <td>2_39_139_28_2018-05-01 14:46:04.441389</td>\n      <td>0002</td>\n      <td>CA-303</td>\n      <td>2-39-139-28</td>\n      <td>America/Los_Angeles</td>\n      <td>None</td>\n      <td>None</td>\n      <td>33058.0</td>\n    </tr>\n    <tr>\n      <th>3</th>\n      <td>2018-05-01</td>\n      <td>7.0</td>\n      <td>0.0</td>\n      <td>11.2</td>\n      <td>1.1</td>\n      <td>5bc9160af9af8b0dad3c0693</td>\n      <td>0039</td>\n      <td>2018-05-01 07:56:29+00:00</td>\n      <td>2018-05-01 14:52:45+00:00</td>\n      <td>2018-05-01 09:07:56+00:00</td>\n      <td>6.914000</td>\n      <td>2_39_79_378_2018-05-01 14:56:28.908623</td>\n      <td>0002</td>\n      <td>CA-326</td>\n      <td>2-39-79-378</td>\n      <td>America/Los_Angeles</td>\n      <td>None</td>\n      <td>None</td>\n      <td>4287.0</td>\n    </tr>\n    <tr>\n      <th>4</th>\n      <td>2018-05-01</td>\n      <td>8.0</td>\n      <td>0.0</td>\n      <td>11.7</td>\n      <td>1.3</td>\n      <td>5bc9160af9af8b0dad3c0694</td>\n      <td>0039</td>\n      <td>2018-05-01 08:14:50+00:00</td>\n      <td>2018-05-01 15:51:30+00:00</td>\n      <td>2018-05-01 13:18:12+00:00</td>\n      <td>13.785000</td>\n      <td>2_39_88_24_2018-05-01 15:14:50.443137</td>\n      <td>0002</td>\n      <td>CA-314</td>\n      <td>2-39-88-24</td>\n      <td>America/Los_Angeles</td>\n      <td>None</td>\n      <td>None</td>\n      <td>18202.0</td>\n    </tr>\n    <tr>\n      <th>...</th>\n      <td>...</td>\n      <td>...</td>\n      <td>...</td>\n      <td>...</td>\n      <td>...</td>\n      <td>...</td>\n      <td>...</td>\n      <td>...</td>\n      <td>...</td>\n      <td>...</td>\n      <td>...</td>\n      <td>...</td>\n      <td>...</td>\n      <td>...</td>\n      <td>...</td>\n      <td>...</td>\n      <td>...</td>\n      <td>...</td>\n      <td>...</td>\n    </tr>\n    <tr>\n      <th>12838</th>\n      <td>2018-10-31</td>\n      <td>21.0</td>\n      <td>0.0</td>\n      <td>15.3</td>\n      <td>1.1</td>\n      <td>5c2e8550f9af8b13dab074d9</td>\n      <td>0039</td>\n      <td>2018-10-31 21:53:58+00:00</td>\n      <td>2018-10-31 22:32:43+00:00</td>\n      <td>2018-10-31 22:33:42+00:00</td>\n      <td>3.372000</td>\n      <td>2_39_90_26_2018-11-01 04:53:58.292201</td>\n      <td>0002</td>\n      <td>CA-316</td>\n      <td>2-39-90-26</td>\n      <td>America/Los_Angeles</td>\n      <td>None</td>\n      <td>None</td>\n      <td>2384.0</td>\n    </tr>\n    <tr>\n      <th>12839</th>\n      <td>2018-10-31</td>\n      <td>22.0</td>\n      <td>0.0</td>\n      <td>14.4</td>\n      <td>1.2</td>\n      <td>5c2e8550f9af8b13dab074da</td>\n      <td>0039</td>\n      <td>2018-10-31 22:32:47+00:00</td>\n      <td>2018-10-31 22:53:40+00:00</td>\n      <td>2018-10-31 22:53:00+00:00</td>\n      <td>1.389000</td>\n      <td>2_39_90_26_2018-11-01 05:32:47.339653</td>\n      <td>0002</td>\n      <td>CA-316</td>\n      <td>2-39-90-26</td>\n      <td>America/Los_Angeles</td>\n      <td>None</td>\n      <td>None</td>\n      <td>1213.0</td>\n    </tr>\n    <tr>\n      <th>12840</th>\n      <td>2018-10-31</td>\n      <td>22.0</td>\n      <td>0.0</td>\n      <td>14.4</td>\n      <td>1.2</td>\n      <td>5c2e8550f9af8b13dab074db</td>\n      <td>0039</td>\n      <td>2018-10-31 22:40:49+00:00</td>\n      <td>2018-11-01 00:57:28+00:00</td>\n      <td>2018-11-01 00:27:00+00:00</td>\n      <td>1.225597</td>\n      <td>2_39_78_365_2018-11-01 05:40:48.678916</td>\n      <td>0002</td>\n      <td>CA-321</td>\n      <td>2-39-78-365</td>\n      <td>America/Los_Angeles</td>\n      <td>None</td>\n      <td>None</td>\n      <td>6371.0</td>\n    </tr>\n    <tr>\n      <th>12841</th>\n      <td>2018-10-31</td>\n      <td>22.0</td>\n      <td>0.0</td>\n      <td>14.4</td>\n      <td>1.2</td>\n      <td>5c2e8550f9af8b13dab074dc</td>\n      <td>0039</td>\n      <td>2018-10-31 22:53:48+00:00</td>\n      <td>2018-10-31 23:24:48+00:00</td>\n      <td>2018-10-31 23:24:16+00:00</td>\n      <td>0.962000</td>\n      <td>2_39_90_440_2018-11-01 05:53:48.467907</td>\n      <td>0002</td>\n      <td>CA-500</td>\n      <td>2-39-90-440</td>\n      <td>America/Los_Angeles</td>\n      <td>None</td>\n      <td>None</td>\n      <td>1828.0</td>\n    </tr>\n    <tr>\n      <th>12842</th>\n      <td>2018-10-31</td>\n      <td>23.0</td>\n      <td>0.0</td>\n      <td>14.1</td>\n      <td>1.2</td>\n      <td>5c2e8550f9af8b13dab074dd</td>\n      <td>0039</td>\n      <td>2018-10-31 23:25:56+00:00</td>\n      <td>2018-10-31 23:57:35+00:00</td>\n      <td>2018-10-31 23:56:24+00:00</td>\n      <td>0.980000</td>\n      <td>2_39_131_30_2018-11-01 06:25:55.685229</td>\n      <td>0002</td>\n      <td>CA-305</td>\n      <td>2-39-131-30</td>\n      <td>America/Los_Angeles</td>\n      <td>None</td>\n      <td>None</td>\n      <td>1828.0</td>\n    </tr>\n  </tbody>\n</table>\n<p>12843 rows × 19 columns</p>\n</div>"
     },
     "execution_count": 16,
     "metadata": {},
     "output_type": "execute_result"
    }
   ],
   "source": [
    "df = pd.merge(weather, Users, on=['Date', 'Hour'])\n",
    "df"
   ],
   "metadata": {
    "collapsed": false,
    "pycharm": {
     "name": "#%%\n"
    }
   }
  },
  {
   "cell_type": "code",
   "execution_count": 17,
   "outputs": [
    {
     "data": {
      "text/plain": "                      Hour  Precip (mm)  Air Temp (C)  Wind Speed (m/s)  \\\nHour              1.000000    -0.020271      0.156022          0.080018   \nPrecip (mm)      -0.020271     1.000000     -0.103839         -0.012659   \nAir Temp (C)      0.156022    -0.103839      1.000000          0.056726   \nWind Speed (m/s)  0.080018    -0.012659      0.056726          1.000000   \nkWhDelivered     -0.008798     0.014448     -0.045926         -0.002874   \nchargingTime     -0.192444     0.030761     -0.082434         -0.030622   \n\n                  kWhDelivered  chargingTime  \nHour                 -0.008798     -0.192444  \nPrecip (mm)           0.014448      0.030761  \nAir Temp (C)         -0.045926     -0.082434  \nWind Speed (m/s)     -0.002874     -0.030622  \nkWhDelivered          1.000000      0.542397  \nchargingTime          0.542397      1.000000  ",
      "text/html": "<div>\n<style scoped>\n    .dataframe tbody tr th:only-of-type {\n        vertical-align: middle;\n    }\n\n    .dataframe tbody tr th {\n        vertical-align: top;\n    }\n\n    .dataframe thead th {\n        text-align: right;\n    }\n</style>\n<table border=\"1\" class=\"dataframe\">\n  <thead>\n    <tr style=\"text-align: right;\">\n      <th></th>\n      <th>Hour</th>\n      <th>Precip (mm)</th>\n      <th>Air Temp (C)</th>\n      <th>Wind Speed (m/s)</th>\n      <th>kWhDelivered</th>\n      <th>chargingTime</th>\n    </tr>\n  </thead>\n  <tbody>\n    <tr>\n      <th>Hour</th>\n      <td>1.000000</td>\n      <td>-0.020271</td>\n      <td>0.156022</td>\n      <td>0.080018</td>\n      <td>-0.008798</td>\n      <td>-0.192444</td>\n    </tr>\n    <tr>\n      <th>Precip (mm)</th>\n      <td>-0.020271</td>\n      <td>1.000000</td>\n      <td>-0.103839</td>\n      <td>-0.012659</td>\n      <td>0.014448</td>\n      <td>0.030761</td>\n    </tr>\n    <tr>\n      <th>Air Temp (C)</th>\n      <td>0.156022</td>\n      <td>-0.103839</td>\n      <td>1.000000</td>\n      <td>0.056726</td>\n      <td>-0.045926</td>\n      <td>-0.082434</td>\n    </tr>\n    <tr>\n      <th>Wind Speed (m/s)</th>\n      <td>0.080018</td>\n      <td>-0.012659</td>\n      <td>0.056726</td>\n      <td>1.000000</td>\n      <td>-0.002874</td>\n      <td>-0.030622</td>\n    </tr>\n    <tr>\n      <th>kWhDelivered</th>\n      <td>-0.008798</td>\n      <td>0.014448</td>\n      <td>-0.045926</td>\n      <td>-0.002874</td>\n      <td>1.000000</td>\n      <td>0.542397</td>\n    </tr>\n    <tr>\n      <th>chargingTime</th>\n      <td>-0.192444</td>\n      <td>0.030761</td>\n      <td>-0.082434</td>\n      <td>-0.030622</td>\n      <td>0.542397</td>\n      <td>1.000000</td>\n    </tr>\n  </tbody>\n</table>\n</div>"
     },
     "execution_count": 17,
     "metadata": {},
     "output_type": "execute_result"
    }
   ],
   "source": [
    "df.corr()"
   ],
   "metadata": {
    "collapsed": false,
    "pycharm": {
     "name": "#%%\n"
    }
   }
  },
  {
   "cell_type": "code",
   "execution_count": 18,
   "outputs": [
    {
     "data": {
      "application/vnd.plotly.v1+json": {
       "data": [
        {
         "coloraxis": "coloraxis",
         "name": "0",
         "x": [
          "Hour",
          "Precip (mm)",
          "Air Temp (C)",
          "Wind Speed (m/s)",
          "kWhDelivered",
          "chargingTime"
         ],
         "y": [
          "Hour",
          "Precip (mm)",
          "Air Temp (C)",
          "Wind Speed (m/s)",
          "kWhDelivered",
          "chargingTime"
         ],
         "z": [
          [
           1.0,
           -0.020270563837068708,
           0.15602194687989765,
           0.0800178029959575,
           -0.008798184613957798,
           -0.19244443212247922
          ],
          [
           -0.020270563837068708,
           1.0,
           -0.10383861062920521,
           -0.012659421203744057,
           0.014448011143474151,
           0.030760848926857102
          ],
          [
           0.15602194687989765,
           -0.10383861062920521,
           1.0,
           0.05672647956062887,
           -0.045926054303073484,
           -0.08243372154806852
          ],
          [
           0.0800178029959575,
           -0.012659421203744057,
           0.05672647956062887,
           1.0,
           -0.00287354793867253,
           -0.030621876376747917
          ],
          [
           -0.008798184613957798,
           0.014448011143474151,
           -0.045926054303073484,
           -0.00287354793867253,
           1.0,
           0.5423971036399322
          ],
          [
           -0.19244443212247922,
           0.030760848926857102,
           -0.08243372154806852,
           -0.030621876376747917,
           0.5423971036399322,
           1.0
          ]
         ],
         "type": "heatmap",
         "xaxis": "x",
         "yaxis": "y",
         "hovertemplate": "x: %{x}<br>y: %{y}<br>color: %{z}<extra></extra>"
        }
       ],
       "layout": {
        "template": {
         "data": {
          "bar": [
           {
            "error_x": {
             "color": "#2a3f5f"
            },
            "error_y": {
             "color": "#2a3f5f"
            },
            "marker": {
             "line": {
              "color": "#E5ECF6",
              "width": 0.5
             },
             "pattern": {
              "fillmode": "overlay",
              "size": 10,
              "solidity": 0.2
             }
            },
            "type": "bar"
           }
          ],
          "barpolar": [
           {
            "marker": {
             "line": {
              "color": "#E5ECF6",
              "width": 0.5
             },
             "pattern": {
              "fillmode": "overlay",
              "size": 10,
              "solidity": 0.2
             }
            },
            "type": "barpolar"
           }
          ],
          "carpet": [
           {
            "aaxis": {
             "endlinecolor": "#2a3f5f",
             "gridcolor": "white",
             "linecolor": "white",
             "minorgridcolor": "white",
             "startlinecolor": "#2a3f5f"
            },
            "baxis": {
             "endlinecolor": "#2a3f5f",
             "gridcolor": "white",
             "linecolor": "white",
             "minorgridcolor": "white",
             "startlinecolor": "#2a3f5f"
            },
            "type": "carpet"
           }
          ],
          "choropleth": [
           {
            "colorbar": {
             "outlinewidth": 0,
             "ticks": ""
            },
            "type": "choropleth"
           }
          ],
          "contour": [
           {
            "colorbar": {
             "outlinewidth": 0,
             "ticks": ""
            },
            "colorscale": [
             [
              0.0,
              "#0d0887"
             ],
             [
              0.1111111111111111,
              "#46039f"
             ],
             [
              0.2222222222222222,
              "#7201a8"
             ],
             [
              0.3333333333333333,
              "#9c179e"
             ],
             [
              0.4444444444444444,
              "#bd3786"
             ],
             [
              0.5555555555555556,
              "#d8576b"
             ],
             [
              0.6666666666666666,
              "#ed7953"
             ],
             [
              0.7777777777777778,
              "#fb9f3a"
             ],
             [
              0.8888888888888888,
              "#fdca26"
             ],
             [
              1.0,
              "#f0f921"
             ]
            ],
            "type": "contour"
           }
          ],
          "contourcarpet": [
           {
            "colorbar": {
             "outlinewidth": 0,
             "ticks": ""
            },
            "type": "contourcarpet"
           }
          ],
          "heatmap": [
           {
            "colorbar": {
             "outlinewidth": 0,
             "ticks": ""
            },
            "colorscale": [
             [
              0.0,
              "#0d0887"
             ],
             [
              0.1111111111111111,
              "#46039f"
             ],
             [
              0.2222222222222222,
              "#7201a8"
             ],
             [
              0.3333333333333333,
              "#9c179e"
             ],
             [
              0.4444444444444444,
              "#bd3786"
             ],
             [
              0.5555555555555556,
              "#d8576b"
             ],
             [
              0.6666666666666666,
              "#ed7953"
             ],
             [
              0.7777777777777778,
              "#fb9f3a"
             ],
             [
              0.8888888888888888,
              "#fdca26"
             ],
             [
              1.0,
              "#f0f921"
             ]
            ],
            "type": "heatmap"
           }
          ],
          "heatmapgl": [
           {
            "colorbar": {
             "outlinewidth": 0,
             "ticks": ""
            },
            "colorscale": [
             [
              0.0,
              "#0d0887"
             ],
             [
              0.1111111111111111,
              "#46039f"
             ],
             [
              0.2222222222222222,
              "#7201a8"
             ],
             [
              0.3333333333333333,
              "#9c179e"
             ],
             [
              0.4444444444444444,
              "#bd3786"
             ],
             [
              0.5555555555555556,
              "#d8576b"
             ],
             [
              0.6666666666666666,
              "#ed7953"
             ],
             [
              0.7777777777777778,
              "#fb9f3a"
             ],
             [
              0.8888888888888888,
              "#fdca26"
             ],
             [
              1.0,
              "#f0f921"
             ]
            ],
            "type": "heatmapgl"
           }
          ],
          "histogram": [
           {
            "marker": {
             "pattern": {
              "fillmode": "overlay",
              "size": 10,
              "solidity": 0.2
             }
            },
            "type": "histogram"
           }
          ],
          "histogram2d": [
           {
            "colorbar": {
             "outlinewidth": 0,
             "ticks": ""
            },
            "colorscale": [
             [
              0.0,
              "#0d0887"
             ],
             [
              0.1111111111111111,
              "#46039f"
             ],
             [
              0.2222222222222222,
              "#7201a8"
             ],
             [
              0.3333333333333333,
              "#9c179e"
             ],
             [
              0.4444444444444444,
              "#bd3786"
             ],
             [
              0.5555555555555556,
              "#d8576b"
             ],
             [
              0.6666666666666666,
              "#ed7953"
             ],
             [
              0.7777777777777778,
              "#fb9f3a"
             ],
             [
              0.8888888888888888,
              "#fdca26"
             ],
             [
              1.0,
              "#f0f921"
             ]
            ],
            "type": "histogram2d"
           }
          ],
          "histogram2dcontour": [
           {
            "colorbar": {
             "outlinewidth": 0,
             "ticks": ""
            },
            "colorscale": [
             [
              0.0,
              "#0d0887"
             ],
             [
              0.1111111111111111,
              "#46039f"
             ],
             [
              0.2222222222222222,
              "#7201a8"
             ],
             [
              0.3333333333333333,
              "#9c179e"
             ],
             [
              0.4444444444444444,
              "#bd3786"
             ],
             [
              0.5555555555555556,
              "#d8576b"
             ],
             [
              0.6666666666666666,
              "#ed7953"
             ],
             [
              0.7777777777777778,
              "#fb9f3a"
             ],
             [
              0.8888888888888888,
              "#fdca26"
             ],
             [
              1.0,
              "#f0f921"
             ]
            ],
            "type": "histogram2dcontour"
           }
          ],
          "mesh3d": [
           {
            "colorbar": {
             "outlinewidth": 0,
             "ticks": ""
            },
            "type": "mesh3d"
           }
          ],
          "parcoords": [
           {
            "line": {
             "colorbar": {
              "outlinewidth": 0,
              "ticks": ""
             }
            },
            "type": "parcoords"
           }
          ],
          "pie": [
           {
            "automargin": true,
            "type": "pie"
           }
          ],
          "scatter": [
           {
            "marker": {
             "colorbar": {
              "outlinewidth": 0,
              "ticks": ""
             }
            },
            "type": "scatter"
           }
          ],
          "scatter3d": [
           {
            "line": {
             "colorbar": {
              "outlinewidth": 0,
              "ticks": ""
             }
            },
            "marker": {
             "colorbar": {
              "outlinewidth": 0,
              "ticks": ""
             }
            },
            "type": "scatter3d"
           }
          ],
          "scattercarpet": [
           {
            "marker": {
             "colorbar": {
              "outlinewidth": 0,
              "ticks": ""
             }
            },
            "type": "scattercarpet"
           }
          ],
          "scattergeo": [
           {
            "marker": {
             "colorbar": {
              "outlinewidth": 0,
              "ticks": ""
             }
            },
            "type": "scattergeo"
           }
          ],
          "scattergl": [
           {
            "marker": {
             "colorbar": {
              "outlinewidth": 0,
              "ticks": ""
             }
            },
            "type": "scattergl"
           }
          ],
          "scattermapbox": [
           {
            "marker": {
             "colorbar": {
              "outlinewidth": 0,
              "ticks": ""
             }
            },
            "type": "scattermapbox"
           }
          ],
          "scatterpolar": [
           {
            "marker": {
             "colorbar": {
              "outlinewidth": 0,
              "ticks": ""
             }
            },
            "type": "scatterpolar"
           }
          ],
          "scatterpolargl": [
           {
            "marker": {
             "colorbar": {
              "outlinewidth": 0,
              "ticks": ""
             }
            },
            "type": "scatterpolargl"
           }
          ],
          "scatterternary": [
           {
            "marker": {
             "colorbar": {
              "outlinewidth": 0,
              "ticks": ""
             }
            },
            "type": "scatterternary"
           }
          ],
          "surface": [
           {
            "colorbar": {
             "outlinewidth": 0,
             "ticks": ""
            },
            "colorscale": [
             [
              0.0,
              "#0d0887"
             ],
             [
              0.1111111111111111,
              "#46039f"
             ],
             [
              0.2222222222222222,
              "#7201a8"
             ],
             [
              0.3333333333333333,
              "#9c179e"
             ],
             [
              0.4444444444444444,
              "#bd3786"
             ],
             [
              0.5555555555555556,
              "#d8576b"
             ],
             [
              0.6666666666666666,
              "#ed7953"
             ],
             [
              0.7777777777777778,
              "#fb9f3a"
             ],
             [
              0.8888888888888888,
              "#fdca26"
             ],
             [
              1.0,
              "#f0f921"
             ]
            ],
            "type": "surface"
           }
          ],
          "table": [
           {
            "cells": {
             "fill": {
              "color": "#EBF0F8"
             },
             "line": {
              "color": "white"
             }
            },
            "header": {
             "fill": {
              "color": "#C8D4E3"
             },
             "line": {
              "color": "white"
             }
            },
            "type": "table"
           }
          ]
         },
         "layout": {
          "annotationdefaults": {
           "arrowcolor": "#2a3f5f",
           "arrowhead": 0,
           "arrowwidth": 1
          },
          "autotypenumbers": "strict",
          "coloraxis": {
           "colorbar": {
            "outlinewidth": 0,
            "ticks": ""
           }
          },
          "colorscale": {
           "diverging": [
            [
             0,
             "#8e0152"
            ],
            [
             0.1,
             "#c51b7d"
            ],
            [
             0.2,
             "#de77ae"
            ],
            [
             0.3,
             "#f1b6da"
            ],
            [
             0.4,
             "#fde0ef"
            ],
            [
             0.5,
             "#f7f7f7"
            ],
            [
             0.6,
             "#e6f5d0"
            ],
            [
             0.7,
             "#b8e186"
            ],
            [
             0.8,
             "#7fbc41"
            ],
            [
             0.9,
             "#4d9221"
            ],
            [
             1,
             "#276419"
            ]
           ],
           "sequential": [
            [
             0.0,
             "#0d0887"
            ],
            [
             0.1111111111111111,
             "#46039f"
            ],
            [
             0.2222222222222222,
             "#7201a8"
            ],
            [
             0.3333333333333333,
             "#9c179e"
            ],
            [
             0.4444444444444444,
             "#bd3786"
            ],
            [
             0.5555555555555556,
             "#d8576b"
            ],
            [
             0.6666666666666666,
             "#ed7953"
            ],
            [
             0.7777777777777778,
             "#fb9f3a"
            ],
            [
             0.8888888888888888,
             "#fdca26"
            ],
            [
             1.0,
             "#f0f921"
            ]
           ],
           "sequentialminus": [
            [
             0.0,
             "#0d0887"
            ],
            [
             0.1111111111111111,
             "#46039f"
            ],
            [
             0.2222222222222222,
             "#7201a8"
            ],
            [
             0.3333333333333333,
             "#9c179e"
            ],
            [
             0.4444444444444444,
             "#bd3786"
            ],
            [
             0.5555555555555556,
             "#d8576b"
            ],
            [
             0.6666666666666666,
             "#ed7953"
            ],
            [
             0.7777777777777778,
             "#fb9f3a"
            ],
            [
             0.8888888888888888,
             "#fdca26"
            ],
            [
             1.0,
             "#f0f921"
            ]
           ]
          },
          "colorway": [
           "#636efa",
           "#EF553B",
           "#00cc96",
           "#ab63fa",
           "#FFA15A",
           "#19d3f3",
           "#FF6692",
           "#B6E880",
           "#FF97FF",
           "#FECB52"
          ],
          "font": {
           "color": "#2a3f5f"
          },
          "geo": {
           "bgcolor": "white",
           "lakecolor": "white",
           "landcolor": "#E5ECF6",
           "showlakes": true,
           "showland": true,
           "subunitcolor": "white"
          },
          "hoverlabel": {
           "align": "left"
          },
          "hovermode": "closest",
          "mapbox": {
           "style": "light"
          },
          "paper_bgcolor": "white",
          "plot_bgcolor": "#E5ECF6",
          "polar": {
           "angularaxis": {
            "gridcolor": "white",
            "linecolor": "white",
            "ticks": ""
           },
           "bgcolor": "#E5ECF6",
           "radialaxis": {
            "gridcolor": "white",
            "linecolor": "white",
            "ticks": ""
           }
          },
          "scene": {
           "xaxis": {
            "backgroundcolor": "#E5ECF6",
            "gridcolor": "white",
            "gridwidth": 2,
            "linecolor": "white",
            "showbackground": true,
            "ticks": "",
            "zerolinecolor": "white"
           },
           "yaxis": {
            "backgroundcolor": "#E5ECF6",
            "gridcolor": "white",
            "gridwidth": 2,
            "linecolor": "white",
            "showbackground": true,
            "ticks": "",
            "zerolinecolor": "white"
           },
           "zaxis": {
            "backgroundcolor": "#E5ECF6",
            "gridcolor": "white",
            "gridwidth": 2,
            "linecolor": "white",
            "showbackground": true,
            "ticks": "",
            "zerolinecolor": "white"
           }
          },
          "shapedefaults": {
           "line": {
            "color": "#2a3f5f"
           }
          },
          "ternary": {
           "aaxis": {
            "gridcolor": "white",
            "linecolor": "white",
            "ticks": ""
           },
           "baxis": {
            "gridcolor": "white",
            "linecolor": "white",
            "ticks": ""
           },
           "bgcolor": "#E5ECF6",
           "caxis": {
            "gridcolor": "white",
            "linecolor": "white",
            "ticks": ""
           }
          },
          "title": {
           "x": 0.05
          },
          "xaxis": {
           "automargin": true,
           "gridcolor": "white",
           "linecolor": "white",
           "ticks": "",
           "title": {
            "standoff": 15
           },
           "zerolinecolor": "white",
           "zerolinewidth": 2
          },
          "yaxis": {
           "automargin": true,
           "gridcolor": "white",
           "linecolor": "white",
           "ticks": "",
           "title": {
            "standoff": 15
           },
           "zerolinecolor": "white",
           "zerolinewidth": 2
          }
         }
        },
        "xaxis": {
         "anchor": "y",
         "domain": [
          0.0,
          1.0
         ],
         "scaleanchor": "y",
         "constrain": "domain"
        },
        "yaxis": {
         "anchor": "x",
         "domain": [
          0.0,
          1.0
         ],
         "autorange": "reversed",
         "constrain": "domain"
        },
        "coloraxis": {
         "colorscale": [
          [
           0.0,
           "rgb(103,0,31)"
          ],
          [
           0.1,
           "rgb(178,24,43)"
          ],
          [
           0.2,
           "rgb(214,96,77)"
          ],
          [
           0.3,
           "rgb(244,165,130)"
          ],
          [
           0.4,
           "rgb(253,219,199)"
          ],
          [
           0.5,
           "rgb(247,247,247)"
          ],
          [
           0.6,
           "rgb(209,229,240)"
          ],
          [
           0.7,
           "rgb(146,197,222)"
          ],
          [
           0.8,
           "rgb(67,147,195)"
          ],
          [
           0.9,
           "rgb(33,102,172)"
          ],
          [
           1.0,
           "rgb(5,48,97)"
          ]
         ],
         "cmid": 0
        },
        "margin": {
         "t": 60
        }
       },
       "config": {
        "plotlyServerURL": "https://plot.ly"
       }
      },
      "text/html": "<div>                            <div id=\"8d620518-9445-47c5-9878-717be87d0af6\" class=\"plotly-graph-div\" style=\"height:525px; width:100%;\"></div>            <script type=\"text/javascript\">                require([\"plotly\"], function(Plotly) {                    window.PLOTLYENV=window.PLOTLYENV || {};                                    if (document.getElementById(\"8d620518-9445-47c5-9878-717be87d0af6\")) {                    Plotly.newPlot(                        \"8d620518-9445-47c5-9878-717be87d0af6\",                        [{\"coloraxis\":\"coloraxis\",\"name\":\"0\",\"x\":[\"Hour\",\"Precip (mm)\",\"Air Temp (C)\",\"Wind Speed (m/s)\",\"kWhDelivered\",\"chargingTime\"],\"y\":[\"Hour\",\"Precip (mm)\",\"Air Temp (C)\",\"Wind Speed (m/s)\",\"kWhDelivered\",\"chargingTime\"],\"z\":[[1.0,-0.020270563837068708,0.15602194687989765,0.0800178029959575,-0.008798184613957798,-0.19244443212247922],[-0.020270563837068708,1.0,-0.10383861062920521,-0.012659421203744057,0.014448011143474151,0.030760848926857102],[0.15602194687989765,-0.10383861062920521,1.0,0.05672647956062887,-0.045926054303073484,-0.08243372154806852],[0.0800178029959575,-0.012659421203744057,0.05672647956062887,1.0,-0.00287354793867253,-0.030621876376747917],[-0.008798184613957798,0.014448011143474151,-0.045926054303073484,-0.00287354793867253,1.0,0.5423971036399322],[-0.19244443212247922,0.030760848926857102,-0.08243372154806852,-0.030621876376747917,0.5423971036399322,1.0]],\"type\":\"heatmap\",\"xaxis\":\"x\",\"yaxis\":\"y\",\"hovertemplate\":\"x: %{x}<br>y: %{y}<br>color: %{z}<extra></extra>\"}],                        {\"template\":{\"data\":{\"bar\":[{\"error_x\":{\"color\":\"#2a3f5f\"},\"error_y\":{\"color\":\"#2a3f5f\"},\"marker\":{\"line\":{\"color\":\"#E5ECF6\",\"width\":0.5},\"pattern\":{\"fillmode\":\"overlay\",\"size\":10,\"solidity\":0.2}},\"type\":\"bar\"}],\"barpolar\":[{\"marker\":{\"line\":{\"color\":\"#E5ECF6\",\"width\":0.5},\"pattern\":{\"fillmode\":\"overlay\",\"size\":10,\"solidity\":0.2}},\"type\":\"barpolar\"}],\"carpet\":[{\"aaxis\":{\"endlinecolor\":\"#2a3f5f\",\"gridcolor\":\"white\",\"linecolor\":\"white\",\"minorgridcolor\":\"white\",\"startlinecolor\":\"#2a3f5f\"},\"baxis\":{\"endlinecolor\":\"#2a3f5f\",\"gridcolor\":\"white\",\"linecolor\":\"white\",\"minorgridcolor\":\"white\",\"startlinecolor\":\"#2a3f5f\"},\"type\":\"carpet\"}],\"choropleth\":[{\"colorbar\":{\"outlinewidth\":0,\"ticks\":\"\"},\"type\":\"choropleth\"}],\"contour\":[{\"colorbar\":{\"outlinewidth\":0,\"ticks\":\"\"},\"colorscale\":[[0.0,\"#0d0887\"],[0.1111111111111111,\"#46039f\"],[0.2222222222222222,\"#7201a8\"],[0.3333333333333333,\"#9c179e\"],[0.4444444444444444,\"#bd3786\"],[0.5555555555555556,\"#d8576b\"],[0.6666666666666666,\"#ed7953\"],[0.7777777777777778,\"#fb9f3a\"],[0.8888888888888888,\"#fdca26\"],[1.0,\"#f0f921\"]],\"type\":\"contour\"}],\"contourcarpet\":[{\"colorbar\":{\"outlinewidth\":0,\"ticks\":\"\"},\"type\":\"contourcarpet\"}],\"heatmap\":[{\"colorbar\":{\"outlinewidth\":0,\"ticks\":\"\"},\"colorscale\":[[0.0,\"#0d0887\"],[0.1111111111111111,\"#46039f\"],[0.2222222222222222,\"#7201a8\"],[0.3333333333333333,\"#9c179e\"],[0.4444444444444444,\"#bd3786\"],[0.5555555555555556,\"#d8576b\"],[0.6666666666666666,\"#ed7953\"],[0.7777777777777778,\"#fb9f3a\"],[0.8888888888888888,\"#fdca26\"],[1.0,\"#f0f921\"]],\"type\":\"heatmap\"}],\"heatmapgl\":[{\"colorbar\":{\"outlinewidth\":0,\"ticks\":\"\"},\"colorscale\":[[0.0,\"#0d0887\"],[0.1111111111111111,\"#46039f\"],[0.2222222222222222,\"#7201a8\"],[0.3333333333333333,\"#9c179e\"],[0.4444444444444444,\"#bd3786\"],[0.5555555555555556,\"#d8576b\"],[0.6666666666666666,\"#ed7953\"],[0.7777777777777778,\"#fb9f3a\"],[0.8888888888888888,\"#fdca26\"],[1.0,\"#f0f921\"]],\"type\":\"heatmapgl\"}],\"histogram\":[{\"marker\":{\"pattern\":{\"fillmode\":\"overlay\",\"size\":10,\"solidity\":0.2}},\"type\":\"histogram\"}],\"histogram2d\":[{\"colorbar\":{\"outlinewidth\":0,\"ticks\":\"\"},\"colorscale\":[[0.0,\"#0d0887\"],[0.1111111111111111,\"#46039f\"],[0.2222222222222222,\"#7201a8\"],[0.3333333333333333,\"#9c179e\"],[0.4444444444444444,\"#bd3786\"],[0.5555555555555556,\"#d8576b\"],[0.6666666666666666,\"#ed7953\"],[0.7777777777777778,\"#fb9f3a\"],[0.8888888888888888,\"#fdca26\"],[1.0,\"#f0f921\"]],\"type\":\"histogram2d\"}],\"histogram2dcontour\":[{\"colorbar\":{\"outlinewidth\":0,\"ticks\":\"\"},\"colorscale\":[[0.0,\"#0d0887\"],[0.1111111111111111,\"#46039f\"],[0.2222222222222222,\"#7201a8\"],[0.3333333333333333,\"#9c179e\"],[0.4444444444444444,\"#bd3786\"],[0.5555555555555556,\"#d8576b\"],[0.6666666666666666,\"#ed7953\"],[0.7777777777777778,\"#fb9f3a\"],[0.8888888888888888,\"#fdca26\"],[1.0,\"#f0f921\"]],\"type\":\"histogram2dcontour\"}],\"mesh3d\":[{\"colorbar\":{\"outlinewidth\":0,\"ticks\":\"\"},\"type\":\"mesh3d\"}],\"parcoords\":[{\"line\":{\"colorbar\":{\"outlinewidth\":0,\"ticks\":\"\"}},\"type\":\"parcoords\"}],\"pie\":[{\"automargin\":true,\"type\":\"pie\"}],\"scatter\":[{\"marker\":{\"colorbar\":{\"outlinewidth\":0,\"ticks\":\"\"}},\"type\":\"scatter\"}],\"scatter3d\":[{\"line\":{\"colorbar\":{\"outlinewidth\":0,\"ticks\":\"\"}},\"marker\":{\"colorbar\":{\"outlinewidth\":0,\"ticks\":\"\"}},\"type\":\"scatter3d\"}],\"scattercarpet\":[{\"marker\":{\"colorbar\":{\"outlinewidth\":0,\"ticks\":\"\"}},\"type\":\"scattercarpet\"}],\"scattergeo\":[{\"marker\":{\"colorbar\":{\"outlinewidth\":0,\"ticks\":\"\"}},\"type\":\"scattergeo\"}],\"scattergl\":[{\"marker\":{\"colorbar\":{\"outlinewidth\":0,\"ticks\":\"\"}},\"type\":\"scattergl\"}],\"scattermapbox\":[{\"marker\":{\"colorbar\":{\"outlinewidth\":0,\"ticks\":\"\"}},\"type\":\"scattermapbox\"}],\"scatterpolar\":[{\"marker\":{\"colorbar\":{\"outlinewidth\":0,\"ticks\":\"\"}},\"type\":\"scatterpolar\"}],\"scatterpolargl\":[{\"marker\":{\"colorbar\":{\"outlinewidth\":0,\"ticks\":\"\"}},\"type\":\"scatterpolargl\"}],\"scatterternary\":[{\"marker\":{\"colorbar\":{\"outlinewidth\":0,\"ticks\":\"\"}},\"type\":\"scatterternary\"}],\"surface\":[{\"colorbar\":{\"outlinewidth\":0,\"ticks\":\"\"},\"colorscale\":[[0.0,\"#0d0887\"],[0.1111111111111111,\"#46039f\"],[0.2222222222222222,\"#7201a8\"],[0.3333333333333333,\"#9c179e\"],[0.4444444444444444,\"#bd3786\"],[0.5555555555555556,\"#d8576b\"],[0.6666666666666666,\"#ed7953\"],[0.7777777777777778,\"#fb9f3a\"],[0.8888888888888888,\"#fdca26\"],[1.0,\"#f0f921\"]],\"type\":\"surface\"}],\"table\":[{\"cells\":{\"fill\":{\"color\":\"#EBF0F8\"},\"line\":{\"color\":\"white\"}},\"header\":{\"fill\":{\"color\":\"#C8D4E3\"},\"line\":{\"color\":\"white\"}},\"type\":\"table\"}]},\"layout\":{\"annotationdefaults\":{\"arrowcolor\":\"#2a3f5f\",\"arrowhead\":0,\"arrowwidth\":1},\"autotypenumbers\":\"strict\",\"coloraxis\":{\"colorbar\":{\"outlinewidth\":0,\"ticks\":\"\"}},\"colorscale\":{\"diverging\":[[0,\"#8e0152\"],[0.1,\"#c51b7d\"],[0.2,\"#de77ae\"],[0.3,\"#f1b6da\"],[0.4,\"#fde0ef\"],[0.5,\"#f7f7f7\"],[0.6,\"#e6f5d0\"],[0.7,\"#b8e186\"],[0.8,\"#7fbc41\"],[0.9,\"#4d9221\"],[1,\"#276419\"]],\"sequential\":[[0.0,\"#0d0887\"],[0.1111111111111111,\"#46039f\"],[0.2222222222222222,\"#7201a8\"],[0.3333333333333333,\"#9c179e\"],[0.4444444444444444,\"#bd3786\"],[0.5555555555555556,\"#d8576b\"],[0.6666666666666666,\"#ed7953\"],[0.7777777777777778,\"#fb9f3a\"],[0.8888888888888888,\"#fdca26\"],[1.0,\"#f0f921\"]],\"sequentialminus\":[[0.0,\"#0d0887\"],[0.1111111111111111,\"#46039f\"],[0.2222222222222222,\"#7201a8\"],[0.3333333333333333,\"#9c179e\"],[0.4444444444444444,\"#bd3786\"],[0.5555555555555556,\"#d8576b\"],[0.6666666666666666,\"#ed7953\"],[0.7777777777777778,\"#fb9f3a\"],[0.8888888888888888,\"#fdca26\"],[1.0,\"#f0f921\"]]},\"colorway\":[\"#636efa\",\"#EF553B\",\"#00cc96\",\"#ab63fa\",\"#FFA15A\",\"#19d3f3\",\"#FF6692\",\"#B6E880\",\"#FF97FF\",\"#FECB52\"],\"font\":{\"color\":\"#2a3f5f\"},\"geo\":{\"bgcolor\":\"white\",\"lakecolor\":\"white\",\"landcolor\":\"#E5ECF6\",\"showlakes\":true,\"showland\":true,\"subunitcolor\":\"white\"},\"hoverlabel\":{\"align\":\"left\"},\"hovermode\":\"closest\",\"mapbox\":{\"style\":\"light\"},\"paper_bgcolor\":\"white\",\"plot_bgcolor\":\"#E5ECF6\",\"polar\":{\"angularaxis\":{\"gridcolor\":\"white\",\"linecolor\":\"white\",\"ticks\":\"\"},\"bgcolor\":\"#E5ECF6\",\"radialaxis\":{\"gridcolor\":\"white\",\"linecolor\":\"white\",\"ticks\":\"\"}},\"scene\":{\"xaxis\":{\"backgroundcolor\":\"#E5ECF6\",\"gridcolor\":\"white\",\"gridwidth\":2,\"linecolor\":\"white\",\"showbackground\":true,\"ticks\":\"\",\"zerolinecolor\":\"white\"},\"yaxis\":{\"backgroundcolor\":\"#E5ECF6\",\"gridcolor\":\"white\",\"gridwidth\":2,\"linecolor\":\"white\",\"showbackground\":true,\"ticks\":\"\",\"zerolinecolor\":\"white\"},\"zaxis\":{\"backgroundcolor\":\"#E5ECF6\",\"gridcolor\":\"white\",\"gridwidth\":2,\"linecolor\":\"white\",\"showbackground\":true,\"ticks\":\"\",\"zerolinecolor\":\"white\"}},\"shapedefaults\":{\"line\":{\"color\":\"#2a3f5f\"}},\"ternary\":{\"aaxis\":{\"gridcolor\":\"white\",\"linecolor\":\"white\",\"ticks\":\"\"},\"baxis\":{\"gridcolor\":\"white\",\"linecolor\":\"white\",\"ticks\":\"\"},\"bgcolor\":\"#E5ECF6\",\"caxis\":{\"gridcolor\":\"white\",\"linecolor\":\"white\",\"ticks\":\"\"}},\"title\":{\"x\":0.05},\"xaxis\":{\"automargin\":true,\"gridcolor\":\"white\",\"linecolor\":\"white\",\"ticks\":\"\",\"title\":{\"standoff\":15},\"zerolinecolor\":\"white\",\"zerolinewidth\":2},\"yaxis\":{\"automargin\":true,\"gridcolor\":\"white\",\"linecolor\":\"white\",\"ticks\":\"\",\"title\":{\"standoff\":15},\"zerolinecolor\":\"white\",\"zerolinewidth\":2}}},\"xaxis\":{\"anchor\":\"y\",\"domain\":[0.0,1.0],\"scaleanchor\":\"y\",\"constrain\":\"domain\"},\"yaxis\":{\"anchor\":\"x\",\"domain\":[0.0,1.0],\"autorange\":\"reversed\",\"constrain\":\"domain\"},\"coloraxis\":{\"colorscale\":[[0.0,\"rgb(103,0,31)\"],[0.1,\"rgb(178,24,43)\"],[0.2,\"rgb(214,96,77)\"],[0.3,\"rgb(244,165,130)\"],[0.4,\"rgb(253,219,199)\"],[0.5,\"rgb(247,247,247)\"],[0.6,\"rgb(209,229,240)\"],[0.7,\"rgb(146,197,222)\"],[0.8,\"rgb(67,147,195)\"],[0.9,\"rgb(33,102,172)\"],[1.0,\"rgb(5,48,97)\"]],\"cmid\":0},\"margin\":{\"t\":60}},                        {\"responsive\": true}                    ).then(function(){\n                            \nvar gd = document.getElementById('8d620518-9445-47c5-9878-717be87d0af6');\nvar x = new MutationObserver(function (mutations, observer) {{\n        var display = window.getComputedStyle(gd).display;\n        if (!display || display === 'none') {{\n            console.log([gd, 'removed!']);\n            Plotly.purge(gd);\n            observer.disconnect();\n        }}\n}});\n\n// Listen for the removal of the full notebook cells\nvar notebookContainer = gd.closest('#notebook-container');\nif (notebookContainer) {{\n    x.observe(notebookContainer, {childList: true});\n}}\n\n// Listen for the clearing of the current output cell\nvar outputEl = gd.closest('.output');\nif (outputEl) {{\n    x.observe(outputEl, {childList: true});\n}}\n\n                        })                };                });            </script>        </div>"
     },
     "metadata": {},
     "output_type": "display_data"
    }
   ],
   "source": [
    "px.imshow(df.corr(), color_continuous_scale='RdBu', color_continuous_midpoint=0)"
   ],
   "metadata": {
    "collapsed": false,
    "pycharm": {
     "name": "#%%\n"
    }
   }
  }
 ],
 "metadata": {
  "kernelspec": {
   "display_name": "Python 3",
   "language": "python",
   "name": "python3"
  },
  "language_info": {
   "codemirror_mode": {
    "name": "ipython",
    "version": 2
   },
   "file_extension": ".py",
   "mimetype": "text/x-python",
   "name": "python",
   "nbconvert_exporter": "python",
   "pygments_lexer": "ipython2",
   "version": "2.7.6"
  }
 },
 "nbformat": 4,
 "nbformat_minor": 0
}